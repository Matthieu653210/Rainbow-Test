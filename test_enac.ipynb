{
 "cells": [
  {
   "cell_type": "markdown",
   "metadata": {},
   "source": [
    "# Flight Passenger Prediction\n",
    "\n",
    "This notebook demonstrates loading flight passenger data, training an XGBoost model to predict passenger numbers, and visualizing the results."
   ]
  },
  {
   "cell_type": "code",
   "execution_count": null,
   "metadata": {},
   "outputs": [],
   "source": [
    "import matplotlib.pyplot as plt\n",
    "import numpy as np\n",
    "import pandas as pd\n",
    "import seaborn as sns\n",
    "import xgboost as xgb\n",
    "from sklearn.metrics import mean_squared_error\n",
    "from sklearn.model_selection import train_test_split\n",
    "\n",
    "# Set up visualization style\n",
    "sns.set(style=\"whitegrid\")"
   ]
  },
  {
   "cell_type": "code",
   "execution_count": null,
   "metadata": {},
   "outputs": [],
   "source": [
    "def load_flight_data(file_path: str) -> pd.DataFrame:\n",
    "    \"\"\"Load flight passenger data from CSV file.\n",
    "    \n",
    "    Args:\n",
    "        file_path: Path to CSV file containing flight data\n",
    "    \n",
    "    Returns:\n",
    "        DataFrame with flight passenger data\n",
    "    \"\"\"\n",
    "    df = pd.read_csv(file_path)\n",
    "    # Add any necessary data cleaning/preprocessing here\n",
    "    return df"
   ]
  },
  {
   "cell_type": "code",
   "execution_count": null,
   "metadata": {},
   "outputs": [],
   "source": [
    "def preprocess_data(df: pd.DataFrame) -> tuple[pd.DataFrame, pd.Series]:\n",
    "    \"\"\"Prepare data for modeling.\n",
    "    \n",
    "    Args:\n",
    "        df: Raw flight data DataFrame\n",
    "    \n",
    "    Returns:\n",
    "        Tuple of (features, target) for modeling\n",
    "    \"\"\"\n",
    "    # Example preprocessing - adapt to your data\n",
    "    df['date'] = pd.to_datetime(df['date'])\n",
    "    df['year'] = df['date'].dt.year\n",
    "    df['month'] = df['date'].dt.month\n",
    "    \n",
    "    features = df[['origin', 'destination', 'year', 'month']]\n",
    "    target = df['passengers']\n",
    "    \n",
    "    # Convert categoricals to numerical\n",
    "    features = pd.get_dummies(features, columns=['origin', 'destination'])\n",
    "    \n",
    "    return features, target"
   ]
  },
  {
   "cell_type": "code",
   "execution_count": null,
   "metadata": {},
   "outputs": [],
   "source": [
    "def train_xgboost_model(X: pd.DataFrame, y: pd.Series) -> xgb.XGBRegressor:\n",
    "    \"\"\"Train XGBoost model on flight data.\n",
    "    \n",
    "    Args:\n",
    "        X: Features DataFrame\n",
    "        y: Target Series\n",
    "    \n",
    "    Returns:\n",
    "        Trained XGBoost model\n",
    "    \"\"\"\n",
    "    X_train, X_test, y_train, y_test = train_test_split(X, y, test_size=0.2, random_state=42)\n",
    "    \n",
    "    model = xgb.XGBRegressor(\n",
    "        objective='reg:squarederror',\n",
    "        n_estimators=100,\n",
    "        max_depth=5,\n",
    "        learning_rate=0.1\n",
    "    )\n",
    "    \n",
    "    model.fit(X_train, y_train)\n",
    "    \n",
    "    # Evaluate model\n",
    "    preds = model.predict(X_test)\n",
    "    rmse = np.sqrt(mean_squared_error(y_test, preds))\n",
    "    print(f\"Model RMSE: {rmse:.2f}\")\n",
    "    \n",
    "    return model"
   ]
  },
  {
   "cell_type": "code",
   "execution_count": null,
   "metadata": {},
   "outputs": [],
   "source": [
    "def visualize_results(df: pd.DataFrame, model: xgb.XGBRegressor):\n",
    "    \"\"\"Create visualizations of model results.\n",
    "    \n",
    "    Args:\n",
    "        df: Original flight data\n",
    "        model: Trained XGBoost model\n",
    "    \"\"\"\n",
    "    # Example visualizations - adapt to your data\n",
    "    plt.figure(figsize=(12, 6))\n",
    "    \n",
    "    # 1. Actual vs Predicted\n",
    "    plt.subplot(1, 2, 1)\n",
    "    sns.scatterplot(x=df['passengers'], y=model.predict(df))\n",
    "    plt.title('Actual vs Predicted Passengers')\n",
    "    plt.xlabel('Actual')\n",
    "    plt.ylabel('Predicted')\n",
    "    \n",
    "    # 2. Feature Importance\n",
    "    plt.subplot(1, 2, 2)\n",
    "    xgb.plot_importance(model)\n",
    "    plt.title('Feature Importance')\n",
    "    \n",
    "    plt.tight_layout()\n",
    "    plt.show()"
   ]
  },
  {
   "cell_type": "code",
   "execution_count": null,
   "metadata": {},
   "outputs": [],
   "source": [
    "# Main execution\n",
    "if __name__ == \"__main__\":\n",
    "    # Load data\n",
    "    df = load_flight_data(\"flight_data.csv\")\n",
    "    \n",
    "    # Preprocess\n",
    "    X, y = preprocess_data(df)\n",
    "    \n",
    "    # Train model\n",
    "    model = train_xgboost_model(X, y)\n",
    "    \n",
    "    # Visualize results\n",
    "    visualize_results(df, model)"
   ]
  },
  {
   "cell_type": "code",
   "execution_count": null,
   "metadata": {},
   "outputs": [],
   "source": [
    "# Export notebook to HTML\n",
    "!jupyter nbconvert --to html test_enac.ipynb"
   ]
  }
 ],
 "metadata": {
  "kernelspec": {
   "display_name": "Python 3",
   "language": "python",
   "name": "python3"
  },
  "language_info": {
   "codemirror_mode": {
    "name": "ipython",
    "version": 3
   },
   "file_extension": ".py",
   "mimetype": "text/x-python",
   "name": "python",
   "nbconvert_exporter": "python",
   "pygments_lexer": "ipython3",
   "version": "3.12.0"
  }
 },
 "nbformat": 4,
 "nbformat_minor": 2
}
