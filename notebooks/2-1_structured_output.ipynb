{
 "cells": [
  {
   "cell_type": "markdown",
   "metadata": {},
   "source": [
    "# LLM Joke (First LLM calls)"
   ]
  },
  {
   "cell_type": "code",
   "execution_count": 4,
   "metadata": {},
   "outputs": [],
   "source": [
    "from devtools import debug\n",
    "\n",
    "!export PYTHONPATH=\":./python\""
   ]
  },
  {
   "cell_type": "code",
   "execution_count": 1,
   "metadata": {},
   "outputs": [
    {
     "name": "stderr",
     "output_type": "stream",
     "text": [
      "\u001b[32m2024-06-27 00:23:52.756\u001b[0m | \u001b[1mINFO    \u001b[0m | \u001b[36mpython.ai_core.llm\u001b[0m:\u001b[36mget_llm\u001b[0m:\u001b[36m395\u001b[0m - \u001b[1mget LLM : gpt_35_edenai - configurable: True\u001b[0m\n",
      "\u001b[32m2024-06-27 00:23:55.213\u001b[0m | \u001b[1mINFO    \u001b[0m | \u001b[36mpython.ai_core.llm\u001b[0m:\u001b[36mget_configurable\u001b[0m:\u001b[36m351\u001b[0m - \u001b[1mCannot load gemini_pro_google: No module named 'langchain_google_vertexai'\u001b[0m\n"
     ]
    }
   ],
   "source": [
    "\"\"\"\n",
    "The usual \"tell me a joke\" LLM call.\n",
    "\"\"\"\n",
    "\n",
    "from langchain.output_parsers import PydanticOutputParser\n",
    "from langchain_core.output_parsers import StrOutputParser\n",
    "from langchain_core.runnables import RunnablePassthrough\n",
    "from pydantic import BaseModel, Field\n",
    "\n",
    "from python.ai_core.llm import get_llm\n",
    "from python.ai_core.prompts import def_prompt\n",
    "\n",
    "\n",
    "class Joke(BaseModel):\n",
    "    the_joke: str = Field(description=\"a good joke\")\n",
    "    explanation: str = Field(description=\"explain why it's funny\")\n",
    "    rate: float = Field(description=\"rate how the joke is funny between 0 and 5\")\n",
    "\n",
    "\n",
    "parser = PydanticOutputParser(pydantic_object=Joke)\n",
    "\n",
    "prompt_with_format = \"\"\"\n",
    "tell me  a joke on {topic};     \n",
    "--- \n",
    "    {format_instructions}\n",
    "\"\"\"\n",
    "\n",
    "structured_prompt = def_prompt(user=prompt_with_format).partial(\n",
    "    format_instructions=parser.get_format_instructions(),\n",
    ")\n",
    "\n",
    "parser = PydanticOutputParser(pydantic_object=Joke)\n",
    "structured_joke = structured_prompt | get_llm() | parser"
   ]
  },
  {
   "cell_type": "code",
   "execution_count": null,
   "metadata": {},
   "outputs": [],
   "source": [
    "\n",
    "structured_prompt = def_prompt(user=prompt_with_format).partial(\n",
    "    format_instructions=parser.get_format_instructions(),\n",
    ")\n",
    "\n",
    "parser = PydanticOutputParser(pydantic_object=Joke)\n",
    "structured_joke = structured_prompt | get_llm() | parser\n"
   ]
  }
 ],
 "metadata": {
  "kernelspec": {
   "display_name": "genai-training-2X6HL8i2-py3.10",
   "language": "python",
   "name": "python3"
  },
  "language_info": {
   "codemirror_mode": {
    "name": "ipython",
    "version": 3
   },
   "file_extension": ".py",
   "mimetype": "text/x-python",
   "name": "python",
   "nbconvert_exporter": "python",
   "pygments_lexer": "ipython3",
   "version": "3.10.12"
  }
 },
 "nbformat": 4,
 "nbformat_minor": 2
}
