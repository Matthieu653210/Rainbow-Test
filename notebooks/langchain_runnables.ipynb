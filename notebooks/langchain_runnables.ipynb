{
 "cells": [
  {
   "cell_type": "markdown",
   "metadata": {},
   "source": [
    "# Experiments with Runnables"
   ]
  },
  {
   "cell_type": "markdown",
   "metadata": {},
   "source": [
    "Create a few RunnableLambda, and compose them in sequence and in parralel"
   ]
  },
  {
   "cell_type": "code",
   "execution_count": null,
   "metadata": {},
   "outputs": [],
   "source": [
    "from langchain_core.runnables import RunnablePassthrough, chain,  RunnableParallel, RunnableLambda\n",
    "from devtools import debug\n",
    "from asyncio import wait\n",
    "\n",
    "add_1 = RunnableLambda(lambda x : x+1) \n",
    "add_3 = RunnableLambda(lambda x : x+3) \n",
    "\n",
    "@chain\n",
    "def mult_2(x:int):\n",
    "    return x*2\n",
    "\n",
    "sequence = mult_2 | add_1\n",
    "parallel = mult_2 | {\"add_1\": add_1, \"add_3\": add_3}\n",
    "\n",
    "# same as above:\n",
    "parallel1 = RunnableParallel(\n",
    "    add_1=add_1,\n",
    "    add_3=add_3\n",
    ")\n"
   ]
  },
  {
   "cell_type": "code",
   "execution_count": null,
   "metadata": {},
   "outputs": [],
   "source": [
    "parallel.invoke(1)"
   ]
  },
  {
   "cell_type": "markdown",
   "metadata": {},
   "source": [
    "Run the runnable directly, batched, in parallel, ... "
   ]
  },
  {
   "cell_type": "code",
   "execution_count": null,
   "metadata": {},
   "outputs": [],
   "source": [
    "sequence.invoke(1) # 3\n",
    "sequence.batch([1, 2, 3]) # [3,5,7]\n",
    "parallel.invoke(1) # {'add_1': 3, 'add_2': 4}\n",
    "\n",
    "await sequence.abatch([1,2,3,4,5])\n"
   ]
  },
  {
   "cell_type": "markdown",
   "metadata": {},
   "source": [
    "Print the graph and various type information"
   ]
  },
  {
   "cell_type": "code",
   "execution_count": null,
   "metadata": {},
   "outputs": [],
   "source": [
    "parallel.get_graph().print_ascii()\n",
    "\n",
    "print(\"input type:\",sequence.InputType)\n",
    "print(\"output type:\", sequence.OutputType)\n",
    "\n",
    "print(\"input schema: \", sequence.input_schema().schema())\n",
    "print(\"output schema: \",sequence.output_schema().schema())"
   ]
  },
  {
   "cell_type": "markdown",
   "metadata": {},
   "source": [
    "Use RunnablePassthrough"
   ]
  },
  {
   "cell_type": "code",
   "execution_count": null,
   "metadata": {},
   "outputs": [],
   "source": [
    "runnable = RunnableParallel(\n",
    "    origin=RunnablePassthrough(),\n",
    "    modified=add_1\n",
    ")\n",
    "\n",
    "runnable.invoke(1) # {'origin': 1, 'modified': 2}\n",
    "\n"
   ]
  },
  {
   "cell_type": "markdown",
   "metadata": {},
   "source": [
    "Demo 'bind' and 'RunnableConfig' "
   ]
  },
  {
   "cell_type": "code",
   "execution_count": null,
   "metadata": {},
   "outputs": [],
   "source": [
    "from langchain_core.runnables import RunnableConfig\n",
    "from loguru import logger\n",
    "\n",
    "@chain\n",
    "def max(x:int, max:int, config: RunnableConfig) -> int:\n",
    "    if log := (config[\"logger\"]):\n",
    "        log.info(f\"check {x} < {max}\")\n",
    "    return max if x >= max else x\n",
    "\n",
    "a = sequence | max.bind(max=3)\n",
    "a.batch([1,2,3,4,5], {\"logger\": logger})"
   ]
  },
  {
   "cell_type": "markdown",
   "metadata": {},
   "source": [
    "Demo 'assign\""
   ]
  },
  {
   "cell_type": "code",
   "execution_count": null,
   "metadata": {},
   "outputs": [],
   "source": [
    "from langchain_core.runnables import RunnableParallel, RunnablePassthrough\n",
    "\n",
    "runnable = RunnableParallel(\n",
    "    extra=RunnablePassthrough.assign(mult=lambda x: x[\"num\"] * 3),\n",
    "    modified=lambda x: x[\"num\"] + 1,\n",
    ")\n",
    "\n",
    "runnable.invoke({\"num\": 1})"
   ]
  }
 ],
 "metadata": {
  "kernelspec": {
   "display_name": "di-maintenance-agent-demo-DCv9_gKb-py3.10",
   "language": "python",
   "name": "python3"
  },
  "language_info": {
   "codemirror_mode": {
    "name": "ipython",
    "version": 3
   },
   "file_extension": ".py",
   "mimetype": "text/x-python",
   "name": "python",
   "nbconvert_exporter": "python",
   "pygments_lexer": "ipython3",
   "version": "3.10.12"
  }
 },
 "nbformat": 4,
 "nbformat_minor": 2
}
