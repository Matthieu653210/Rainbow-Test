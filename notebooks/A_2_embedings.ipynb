{
 "cells": [
  {
   "cell_type": "markdown",
   "metadata": {},
   "source": [
    "# Embeddings"
   ]
  },
  {
   "cell_type": "code",
   "execution_count": 1,
   "metadata": {},
   "outputs": [],
   "source": [
    "from devtools import debug\n",
    "from dotenv import load_dotenv\n",
    "\n",
    "load_dotenv(verbose=True)\n",
    "\n",
    "%load_ext autoreload\n",
    "%autoreload 2\n",
    "\n",
    "!export PYTHONPATH=\":./python\""
   ]
  },
  {
   "cell_type": "code",
   "execution_count": 2,
   "metadata": {},
   "outputs": [],
   "source": [
    "SENTENCE_1 = \"Tokenization is the process of breaking down a text into individual units.\"\n",
    "SENTENCE_2 = \"Tokens can be words, phrases, or even individual characters.\"\n",
    "SENTENCE_3 = \"LangChain Provide a standardized way to load and process various types of documents\""
   ]
  },
  {
   "cell_type": "markdown",
   "metadata": {},
   "source": [
    "We have hard coded creation of sentence embedders in a factory.  \n",
    "See [embeddings.py](../python/ai_core/embeddings.py)  <br>\n",
    "Here the list : "
   ]
  },
  {
   "cell_type": "code",
   "execution_count": 3,
   "metadata": {},
   "outputs": [
    {
     "name": "stderr",
     "output_type": "stream",
     "text": [
      "\u001b[32m2025-01-13 00:27:29.110\u001b[0m | \u001b[1mINFO    \u001b[0m | \u001b[36mpython.config\u001b[0m:\u001b[36msingleton\u001b[0m:\u001b[36m74\u001b[0m - \u001b[1mload /home/tcl/prj/genai-blueprint/app_conf.yaml\u001b[0m\n",
      "\u001b[32m2025-01-13 00:27:29.114\u001b[0m | \u001b[1mINFO    \u001b[0m | \u001b[36mpython.config\u001b[0m:\u001b[36msingleton\u001b[0m:\u001b[36m80\u001b[0m - \u001b[1mLoading configuration with active section: edc_local\u001b[0m\n",
      "\u001b[32m2025-01-13 00:27:29.114\u001b[0m | \u001b[33m\u001b[1mWARNING \u001b[0m | \u001b[36mpython.config\u001b[0m:\u001b[36moverridden_config\u001b[0m:\u001b[36m97\u001b[0m - \u001b[33m\u001b[1mno known configuration 'edc_local'. Use default\u001b[0m\n"
     ]
    },
    {
     "name": "stdout",
     "output_type": "stream",
     "text": [
      "['ada_002_openai', 'embedding_001_google', 'multilingual_MiniLM_local', 'MiniLM_local', 'camembert_large_local', 'solon-large', 'gte15_large', 'gte15_base', 'stella_400', 'ember_v1', 'bge15_large', 'ada_002_edenai', 'mistral_1024_edenai', 'ada_002_azure', 'artic_22_ollama']\n"
     ]
    }
   ],
   "source": [
    "from python.ai_core.embeddings import EmbeddingsFactory, get_embeddings\n",
    "\n",
    "print(EmbeddingsFactory.known_items())"
   ]
  },
  {
   "cell_type": "markdown",
   "metadata": {},
   "source": [
    "Encode some sentences and calculate cosine similarity"
   ]
  },
  {
   "cell_type": "code",
   "execution_count": 4,
   "metadata": {},
   "outputs": [
    {
     "ename": "ValueError",
     "evalue": "EdenAI received an invalid payload: {\"detail\":\"Your token has expired, change the token expire date time or generate a new one.\"}",
     "output_type": "error",
     "traceback": [
      "\u001b[0;31m---------------------------------------------------------------------------\u001b[0m",
      "\u001b[0;31mValueError\u001b[0m                                Traceback (most recent call last)",
      "Cell \u001b[0;32mIn[4], line 12\u001b[0m\n\u001b[1;32m      3\u001b[0m embedder \u001b[38;5;241m=\u001b[39m get_embeddings(embeddings_id\u001b[38;5;241m=\u001b[39m\u001b[38;5;124m\"\u001b[39m\u001b[38;5;124mada_002_edenai\u001b[39m\u001b[38;5;124m\"\u001b[39m)\n\u001b[1;32m      6\u001b[0m \u001b[38;5;66;03m# Other choices :\u001b[39;00m\n\u001b[1;32m      7\u001b[0m \u001b[38;5;66;03m# embedder = get_embeddings(embeddings_id=None)  # default embedding\u001b[39;00m\n\u001b[1;32m      8\u001b[0m \u001b[38;5;66;03m# embedder = get_embeddings(embeddings_id=\"multilingual_MiniLM_local\")\u001b[39;00m\n\u001b[1;32m      9\u001b[0m \u001b[38;5;66;03m# embedder = get_embeddings(embeddings_id=\"artic_22_ollama\")\u001b[39;00m\n\u001b[0;32m---> 12\u001b[0m vector_1 \u001b[38;5;241m=\u001b[39m \u001b[43membedder\u001b[49m\u001b[38;5;241;43m.\u001b[39;49m\u001b[43membed_documents\u001b[49m\u001b[43m(\u001b[49m\u001b[43m[\u001b[49m\u001b[43mSENTENCE_1\u001b[49m\u001b[43m]\u001b[49m\u001b[43m)\u001b[49m\n\u001b[1;32m     13\u001b[0m other_vectors \u001b[38;5;241m=\u001b[39m embedder\u001b[38;5;241m.\u001b[39membed_documents([SENTENCE_2, SENTENCE_3])\n\u001b[1;32m     15\u001b[0m result \u001b[38;5;241m=\u001b[39m cosine_similarity(vector_1, other_vectors)\n",
      "File \u001b[0;32m~/.cache/pypoetry/virtualenvs/genai-blueprint-2X6HL8i2-py3.12/lib/python3.12/site-packages/langchain_community/embeddings/edenai.py:103\u001b[0m, in \u001b[0;36mEdenAiEmbeddings.embed_documents\u001b[0;34m(self, texts)\u001b[0m\n\u001b[1;32m     93\u001b[0m \u001b[38;5;28;01mdef\u001b[39;00m\u001b[38;5;250m \u001b[39m\u001b[38;5;21membed_documents\u001b[39m(\u001b[38;5;28mself\u001b[39m, texts: List[\u001b[38;5;28mstr\u001b[39m]) \u001b[38;5;241m-\u001b[39m\u001b[38;5;241m>\u001b[39m List[List[\u001b[38;5;28mfloat\u001b[39m]]:\n\u001b[1;32m     94\u001b[0m \u001b[38;5;250m    \u001b[39m\u001b[38;5;124;03m\"\"\"Embed a list of documents using EdenAI.\u001b[39;00m\n\u001b[1;32m     95\u001b[0m \n\u001b[1;32m     96\u001b[0m \u001b[38;5;124;03m    Args:\u001b[39;00m\n\u001b[0;32m   (...)\u001b[0m\n\u001b[1;32m    100\u001b[0m \u001b[38;5;124;03m        List of embeddings, one for each text.\u001b[39;00m\n\u001b[1;32m    101\u001b[0m \u001b[38;5;124;03m    \"\"\"\u001b[39;00m\n\u001b[0;32m--> 103\u001b[0m     \u001b[38;5;28;01mreturn\u001b[39;00m \u001b[38;5;28;43mself\u001b[39;49m\u001b[38;5;241;43m.\u001b[39;49m\u001b[43m_generate_embeddings\u001b[49m\u001b[43m(\u001b[49m\u001b[43mtexts\u001b[49m\u001b[43m)\u001b[49m\n",
      "File \u001b[0;32m~/.cache/pypoetry/virtualenvs/genai-blueprint-2X6HL8i2-py3.12/lib/python3.12/site-packages/langchain_community/embeddings/edenai.py:71\u001b[0m, in \u001b[0;36mEdenAiEmbeddings._generate_embeddings\u001b[0;34m(self, texts)\u001b[0m\n\u001b[1;32m     69\u001b[0m     \u001b[38;5;28;01mraise\u001b[39;00m \u001b[38;5;167;01mException\u001b[39;00m(\u001b[38;5;124mf\u001b[39m\u001b[38;5;124m\"\u001b[39m\u001b[38;5;124mEdenAI Server: Error \u001b[39m\u001b[38;5;132;01m{\u001b[39;00mresponse\u001b[38;5;241m.\u001b[39mstatus_code\u001b[38;5;132;01m}\u001b[39;00m\u001b[38;5;124m\"\u001b[39m)\n\u001b[1;32m     70\u001b[0m \u001b[38;5;28;01melif\u001b[39;00m response\u001b[38;5;241m.\u001b[39mstatus_code \u001b[38;5;241m>\u001b[39m\u001b[38;5;241m=\u001b[39m \u001b[38;5;241m400\u001b[39m:\n\u001b[0;32m---> 71\u001b[0m     \u001b[38;5;28;01mraise\u001b[39;00m \u001b[38;5;167;01mValueError\u001b[39;00m(\u001b[38;5;124mf\u001b[39m\u001b[38;5;124m\"\u001b[39m\u001b[38;5;124mEdenAI received an invalid payload: \u001b[39m\u001b[38;5;132;01m{\u001b[39;00mresponse\u001b[38;5;241m.\u001b[39mtext\u001b[38;5;132;01m}\u001b[39;00m\u001b[38;5;124m\"\u001b[39m)\n\u001b[1;32m     72\u001b[0m \u001b[38;5;28;01melif\u001b[39;00m response\u001b[38;5;241m.\u001b[39mstatus_code \u001b[38;5;241m!=\u001b[39m \u001b[38;5;241m200\u001b[39m:\n\u001b[1;32m     73\u001b[0m     \u001b[38;5;28;01mraise\u001b[39;00m \u001b[38;5;167;01mException\u001b[39;00m(\n\u001b[1;32m     74\u001b[0m         \u001b[38;5;124mf\u001b[39m\u001b[38;5;124m\"\u001b[39m\u001b[38;5;124mEdenAI returned an unexpected response with status \u001b[39m\u001b[38;5;124m\"\u001b[39m\n\u001b[1;32m     75\u001b[0m         \u001b[38;5;124mf\u001b[39m\u001b[38;5;124m\"\u001b[39m\u001b[38;5;132;01m{\u001b[39;00mresponse\u001b[38;5;241m.\u001b[39mstatus_code\u001b[38;5;132;01m}\u001b[39;00m\u001b[38;5;124m: \u001b[39m\u001b[38;5;132;01m{\u001b[39;00mresponse\u001b[38;5;241m.\u001b[39mtext\u001b[38;5;132;01m}\u001b[39;00m\u001b[38;5;124m\"\u001b[39m\n\u001b[1;32m     76\u001b[0m     )\n",
      "\u001b[0;31mValueError\u001b[0m: EdenAI received an invalid payload: {\"detail\":\"Your token has expired, change the token expire date time or generate a new one.\"}"
     ]
    }
   ],
   "source": [
    "from langchain_community.utils.math import cosine_similarity\n",
    "\n",
    "embedder = get_embeddings()\n",
    "\n",
    "\n",
    "# Other choices :\n",
    "# embedder = get_embeddings(embeddings_id=None)  # default embedding\n",
    "# embedder = get_embeddings(embeddings_id=\"multilingual_MiniLM_local\")\n",
    "# embedder = get_embeddings(embeddings_id=\"artic_22_ollama\")\n",
    "\n",
    "\n",
    "vector_1 = embedder.embed_documents([SENTENCE_1])\n",
    "other_vectors = embedder.embed_documents([SENTENCE_2, SENTENCE_3])\n",
    "\n",
    "result = cosine_similarity(vector_1, other_vectors)\n",
    "print(result)"
   ]
  },
  {
   "cell_type": "code",
   "execution_count": null,
   "metadata": {},
   "outputs": [],
   "source": [
    "print(vector_1)"
   ]
  },
  {
   "cell_type": "code",
   "execution_count": null,
   "metadata": {},
   "outputs": [],
   "source": [
    "len(vector_1[0])"
   ]
  },
  {
   "cell_type": "markdown",
   "metadata": {},
   "source": [
    "### Assignement \n",
    "\n",
    "- Test with other sentences, and other embeddings models\n",
    "- Have a look at https://huggingface.co/spaces/mteb/leaderboard "
   ]
  }
 ],
 "metadata": {
  "kernelspec": {
   "display_name": "genai-blueprint-2X6HL8i2-py3.12",
   "language": "python",
   "name": "python3"
  },
  "language_info": {
   "codemirror_mode": {
    "name": "ipython",
    "version": 3
   },
   "file_extension": ".py",
   "mimetype": "text/x-python",
   "name": "python",
   "nbconvert_exporter": "python",
   "pygments_lexer": "ipython3",
   "version": "3.12.3"
  }
 },
 "nbformat": 4,
 "nbformat_minor": 2
}
