{
 "cells": [
  {
   "cell_type": "markdown",
   "metadata": {},
   "source": [
    "# Image to Text"
   ]
  },
  {
   "cell_type": "code",
   "execution_count": 1,
   "metadata": {},
   "outputs": [],
   "source": [
    "!export PYTHONPATH=\":./python\"\n",
    "\n",
    "from devtools import debug  # noqa: E402"
   ]
  },
  {
   "cell_type": "code",
   "execution_count": 9,
   "metadata": {},
   "outputs": [
    {
     "name": "stderr",
     "output_type": "stream",
     "text": [
      "\u001b[32m2024-06-27 23:38:26.386\u001b[0m | \u001b[1mINFO    \u001b[0m | \u001b[36mpython.ai_core.llm\u001b[0m:\u001b[36mget_llm\u001b[0m:\u001b[36m395\u001b[0m - \u001b[1mget LLM : gpt_4o_openai - configurable: True\u001b[0m\n",
      "\u001b[32m2024-06-27 23:38:26.831\u001b[0m | \u001b[1mINFO    \u001b[0m | \u001b[36mpython.ai_core.llm\u001b[0m:\u001b[36mget_configurable\u001b[0m:\u001b[36m351\u001b[0m - \u001b[1mCannot load gemini_pro_google: No module named 'langchain_google_vertexai'\u001b[0m\n"
     ]
    }
   ],
   "source": [
    "from python.ai_core.llm import get_llm\n",
    "from python.ai_core.prompts import def_prompt\n",
    "\n",
    "llm = get_llm(llm_id=\"gpt_4o_openai\")  # Select an LLM that supports Vision\n",
    "# llm = get_llm(llm_id=\"gpt_4_edenai\")  # Select an LLM that supports Vision"
   ]
  },
  {
   "cell_type": "code",
   "execution_count": 10,
   "metadata": {},
   "outputs": [
    {
     "name": "stdout",
     "output_type": "stream",
     "text": [
      "content='```markdown\\nA schematic diagram of Doncaster Junction railway signaling layout. The diagram shows various tracks, signals, and points with labels indicating distances from the signal box. Key elements include:\\n\\n- Multiple tracks labeled \"Down Main\" and \"Up Main.\"\\n- Signals numbered 1, 2, 3, 5, 6, 12, 13, 23, 24, 25, 26, 27, 28, 31, 34, 35, and 36.\\n- Points and crossings labeled with numbers corresponding to the signals.\\n- Distances from the signal box are marked, such as \"1203 YDS. FROM BOX,\" \"300 YDS. FROM BOX,\" \"171 YDS. FROM BOX,\" and so on.\\n- A note indicating \"7 ELECTRIC RELEASE TO 2 LEVER GROUND FRAME.\"\\n- A section labeled \"PIPERING LANE CROSSING.\"\\n- A list of spare levers numbered 1, 4, 8, 14, 15, 16, 17, 18, 19, 20, 21, 22, 29, 32, and 33.\\n- The diagram is bordered and titled \"DONCASTER JUNCTION\" at the top.\\n```\\n' response_metadata={'token_usage': {'completion_tokens': 263, 'prompt_tokens': 1473, 'total_tokens': 1736}, 'model_name': 'gpt-4o-2024-05-13', 'system_fingerprint': 'fp_4008e3b719', 'finish_reason': 'stop', 'logprobs': None} id='run-0e150860-92a3-4f12-8952-c749dd8fbcab-0' usage_metadata={'input_tokens': 1473, 'output_tokens': 263, 'total_tokens': 1736}\n"
     ]
    }
   ],
   "source": [
    "import base64\n",
    "\n",
    "IMAGE_PATH = \"use_case_data/railway/network rail.png\"\n",
    "\n",
    "\n",
    "# Open the image file and encode it as a base64 string\n",
    "def encode_image(image_path):\n",
    "    with open(image_path, \"rb\") as image_file:\n",
    "        return base64.b64encode(image_file.read()).decode(\"utf-8\")\n",
    "\n",
    "\n",
    "base64_image = encode_image(IMAGE_PATH)\n",
    "\n",
    "messages = [\n",
    "    {\n",
    "        \"role\": \"system\",\n",
    "        \"content\": \"You are a helpful assistant that responds in Markdown.\",\n",
    "    },\n",
    "    {\n",
    "        \"role\": \"user\",\n",
    "        \"content\": [\n",
    "            {\"type\": \"text\", \"text\": \"Describe the images as an alternative text\"},\n",
    "            {\n",
    "                \"type\": \"image_url\",\n",
    "                \"image_url\": {\"url\": f\"data:image/png;base64,{base64_image}\"},\n",
    "            },\n",
    "        ],\n",
    "    },\n",
    "]\n",
    "\n",
    "r = llm.invoke(messages)\n",
    "print(r)"
   ]
  }
 ],
 "metadata": {
  "kernelspec": {
   "display_name": "genai-training-2X6HL8i2-py3.10",
   "language": "python",
   "name": "python3"
  },
  "language_info": {
   "codemirror_mode": {
    "name": "ipython",
    "version": 3
   },
   "file_extension": ".py",
   "mimetype": "text/x-python",
   "name": "python",
   "nbconvert_exporter": "python",
   "pygments_lexer": "ipython3",
   "version": "3.10.12"
  }
 },
 "nbformat": 4,
 "nbformat_minor": 2
}
