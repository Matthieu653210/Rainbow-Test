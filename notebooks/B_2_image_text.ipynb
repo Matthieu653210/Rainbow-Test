{
 "cells": [
  {
   "cell_type": "markdown",
   "metadata": {},
   "source": [
    "# Image to Text with LCEL\n",
    "### (with GPT-4o and maybe others)\n",
    "\n",
    "Inspired by: https://tykimos.github.io/2024/05/15/image_descriptions_with_gpt_4o_and_lcel/"
   ]
  },
  {
   "cell_type": "code",
   "execution_count": 1,
   "metadata": {},
   "outputs": [],
   "source": [
    "import base64\n",
    "\n",
    "from devtools import debug\n",
    "from dotenv import load_dotenv\n",
    "from langchain_core.messages import HumanMessage, SystemMessage\n",
    "from langchain_core.messages.base import BaseMessage\n",
    "from langchain_core.output_parsers import StrOutputParser\n",
    "\n",
    "from python.ai_core.llm import get_llm\n",
    "\n",
    "load_dotenv(verbose=True)\n",
    "\n",
    "!export PYTHONPATH=\":./python\""
   ]
  },
  {
   "cell_type": "markdown",
   "metadata": {},
   "source": [
    "###  Chain to query an image "
   ]
  },
  {
   "cell_type": "code",
   "execution_count": 2,
   "metadata": {},
   "outputs": [
    {
     "name": "stderr",
     "output_type": "stream",
     "text": [
      "\u001b[32m2024-09-30 22:22:17.476\u001b[0m | \u001b[1mINFO    \u001b[0m | \u001b[36mpython.config\u001b[0m:\u001b[36myaml_file_config\u001b[0m:\u001b[36m43\u001b[0m - \u001b[1mload /home/tcl/prj/genai-blueprint/app_conf.yaml\u001b[0m\n",
      "\u001b[32m2024-09-30 22:22:17.491\u001b[0m | \u001b[1mINFO    \u001b[0m | \u001b[36mpython.ai_core.llm\u001b[0m:\u001b[36mget_llm\u001b[0m:\u001b[36m319\u001b[0m - \u001b[1mget LLM:'gpt_4o_openai' -configurable: False - streaming: False\u001b[0m\n"
     ]
    }
   ],
   "source": [
    "def gen_prompt(param_dict: dict) -> list[BaseMessage]:\n",
    "    # Function to generate a prompt based on given parameters\n",
    "    system_message = \"You are a helpful assistant that kindly explains images and answers questions provided by the user.\"\n",
    "    human_messages = [\n",
    "        {\n",
    "            \"type\": \"text\",\n",
    "            \"text\": f\"{param_dict['question']}\",\n",
    "        },\n",
    "        {\n",
    "            \"type\": \"image_url\",\n",
    "            \"image_url\": {\n",
    "                \"url\": f\"{param_dict['image_url']}\",\n",
    "            },\n",
    "        },\n",
    "    ]\n",
    "    return [SystemMessage(content=system_message), HumanMessage(content=human_messages)]\n",
    "\n",
    "\n",
    "llm = get_llm(llm_id=\"gpt_4o_openai\")\n",
    "# Does not work;\n",
    "#llm = get_llm(llm_id=\"gpt_4o_edenai\")\n",
    "#llm = get_llm(llm_id=\"gpt_4_azure\")\n",
    "\n",
    "chain = gen_prompt | llm | StrOutputParser()"
   ]
  },
  {
   "cell_type": "markdown",
   "metadata": {},
   "source": [
    "### Send an URL to analyse"
   ]
  },
  {
   "cell_type": "code",
   "execution_count": 3,
   "metadata": {},
   "outputs": [
    {
     "name": "stdout",
     "output_type": "stream",
     "text": [
      "The image depicts an animated character with a cheerful and vibrant appearance. The character has long, flowing blonde hair and is wearing sunglasses on top of her head. She has large, expressive eyes and is smiling warmly. Her outfit is a light, floral dress with a white lace collar and green and pink flower patterns. She is also wearing earrings and a necklace, adding to her stylish look. The background features a scenic outdoor setting with blooming cherry blossoms and a group of people in the distance, suggesting a pleasant, springtime atmosphere.\n"
     ]
    }
   ],
   "source": [
    "# Invoke the chain with the provided question and image URL\n",
    "response = chain.invoke(\n",
    "    {\n",
    "        \"question\": \"Please describe this person.\",\n",
    "        \"image_url\": \"http://tyritarot.github.io/warehouse/2024/2024-4-7-shining_in_the_cherry_blossoms_and_just_me_title.jpg\",\n",
    "    }\n",
    ")\n",
    "\n",
    "print(response)"
   ]
  },
  {
   "cell_type": "markdown",
   "metadata": {},
   "source": [
    "### Embed the image in the message"
   ]
  },
  {
   "cell_type": "code",
   "execution_count": 4,
   "metadata": {},
   "outputs": [
    {
     "name": "stdout",
     "output_type": "stream",
     "text": [
      "The diagram represents the layout of Doncaster Junction, a railway junction. Here is a detailed description of the junction:\n",
      "\n",
      "1. **Tracks and Directions**:\n",
      "   - The diagram shows multiple tracks converging and diverging at the junction.\n",
      "   - The main tracks are labeled as \"Down Main\" and \"Up Main,\" indicating the direction of travel.\n",
      "   - There are additional tracks branching off from the main lines, including connections to Braithwell Junction and Bullcroft Junction.\n",
      "\n",
      "2. **Signals**:\n",
      "   - Various signals are marked with red rectangles and numbers, such as 1, 2, 3, 5, 6, 12, 13, 23, 24, 25, 26, 27, 28, 31, 34, 35, and 36.\n",
      "   - These signals control the movement of trains through the junction, ensuring safe passage and preventing collisions.\n",
      "\n",
      "3. **Points (Switches)**:\n",
      "   - Points (or switches) are indicated by the curved lines connecting different tracks. These allow trains to move from one track to another.\n",
      "   - Points are controlled by levers, which are numbered and listed at the bottom of the diagram.\n",
      "\n",
      "4. **Fixed Signals**:\n",
      "   - Fixed signals are marked with yellow symbols and labeled as \"FIXED.\" These signals are permanently set and do not change.\n",
      "\n",
      "5. **Distances**:\n",
      "   - Distances from the signal box are indicated in yards, such as \"1203 YDS. FROM BOX,\" \"300 YDS. FROM BOX,\" \"171 YDS. FROM BOX,\" etc.\n",
      "   - These measurements help in identifying the location of signals and points relative to the signal box.\n",
      "\n",
      "6. **Ground Frame**:\n",
      "   - An electric release to a 2-lever ground frame is indicated near the Bullcroft Junction connection. This allows for manual control of points and signals in that area.\n",
      "\n",
      "7. **Spare Levers**:\n",
      "   - The diagram lists spare levers (1, 4, 8, 14, 15, 16, 17, 18, 19, 20, 21, 22, 29, 32, 33) which are not currently in use.\n",
      "\n",
      "8. **Additional Features**:\n",
      "   - There is a reference to \"PIPERING LANE CROSSING,\" indicating a level crossing at the junction.\n",
      "   - The diagram includes a red box, which could represent a signal box or control center.\n",
      "\n",
      "Overall, the diagram provides a detailed layout of Doncaster Junction, showing the arrangement of tracks, signals, points, and other key features necessary for the operation and control of train movements through the junction.\n"
     ]
    }
   ],
   "source": [
    "IMAGE_PATH = \"use_case_data/railway/network rail.png\"\n",
    "\n",
    "\n",
    "def encode_image(image_path):\n",
    "    # Open the image file and encode it as a base64 string\n",
    "    with open(image_path, \"rb\") as image_file:\n",
    "        return base64.b64encode(image_file.read()).decode(\"utf-8\")\n",
    "\n",
    "\n",
    "base64_image = encode_image(IMAGE_PATH)\n",
    "\n",
    "response = chain.invoke(\n",
    "    {\n",
    "        \"question\": \"Please describe this junction.\",\n",
    "        \"image_url\": f\"data:image/jpeg;base64,{base64_image}\",\n",
    "    }\n",
    ")\n",
    "print(response)"
   ]
  },
  {
   "cell_type": "code",
   "execution_count": 5,
   "metadata": {},
   "outputs": [
    {
     "name": "stdout",
     "output_type": "stream",
     "text": [
      "This image is a schematic diagram of the Doncaster Junction railway signaling layout. It shows the arrangement of tracks, signals, and points (switches) at the junction. Here are some key features:\n",
      "\n",
      "1. **Title**: The top of the diagram is labeled \"DONCASTER JUNCTION.\"\n",
      "2. **Tracks**: The diagram includes multiple parallel tracks labeled \"DOWN MAIN\" and \"UP MAIN,\" indicating the direction of travel.\n",
      "3. **Signals**: Various signals are marked with numbers and symbols. For example, signals labeled \"1,\" \"2,\" \"3,\" etc., are shown along the tracks.\n",
      "4. **Points/Switches**: Points or switches are indicated by numbers and symbols, such as \"12,\" \"13,\" \"23,\" etc., showing where trains can switch tracks.\n",
      "5. **Distances**: Distances from the signal box are marked in yards, such as \"1203 YDS. FROM BOX,\" \"300 YDS. FROM BOX,\" etc.\n",
      "6. **Fixed Signals**: Some signals are marked as \"FIXED,\" indicating they are permanently set.\n",
      "7. **Electric Release**: There is a note about \"7 ELECTRIC RELEASE TO 2 LEVER GROUND FRAME.\"\n",
      "8. **Spare Levers**: At the bottom of the diagram, there is a list of \"SPARE LEVERS\" numbered 1, 4, 8, 14, 15, 16, 17, 18, 19, 20, 21, 22, 29, 32, 33.\n",
      "9. **Additional Labels**: Other labels include \"FROM BRAITHWELL JCN.,\" \"FROM YORK ROAD,\" and \"TO BULLCROFT JCN.\"\n",
      "\n",
      "The diagram is a technical representation used for railway signaling and operations at Doncaster Junction.\n"
     ]
    }
   ],
   "source": [
    "import base64\n",
    "import os\n",
    "\n",
    "import requests\n",
    "\n",
    "headers = {\"Authorization\": f\"Bearer {os.environ['EDENAI_API_KEY']}\"}\n",
    "url = \"https://api.edenai.run/v2/multimodal/chat\"\n",
    "\n",
    "\n",
    "# Function to read the image file and convert it to base64\n",
    "with open(IMAGE_PATH, \"rb\") as image_file:\n",
    "    base64_image = base64.b64encode(image_file.read()).decode(\"utf-8\")\n",
    "payload = {\n",
    "    \"providers\": \"openai, google\",\n",
    "    \"messages\": [\n",
    "        {\n",
    "            \"role\": \"user\",\n",
    "            \"content\": [\n",
    "                {\n",
    "                    \"type\": \"text\",\n",
    "                    \"content\": {\"text\": \"Describe this image please!\"},\n",
    "                },\n",
    "                {\n",
    "                    \"type\": \"media_base64\",\n",
    "                    \"content\": {\n",
    "                        \"media_base64\": base64_image,\n",
    "                        \"media_type\": \"image/png\",\n",
    "                    },\n",
    "                },\n",
    "            ],\n",
    "        }\n",
    "    ],\n",
    "    \"chatbot_global_action\": \"\",\n",
    "}\n",
    "\n",
    "response = requests.post(url, json=payload, headers=headers)\n",
    "result = response.json()\n",
    "print(result[\"openai\"][\"generated_text\"])"
   ]
  },
  {
   "cell_type": "code",
   "execution_count": 6,
   "metadata": {},
   "outputs": [
    {
     "name": "stdout",
     "output_type": "stream",
     "text": [
      "The image is a diagram of a railway junction called Doncaster Junction. It shows the layout of the tracks and the locations of various signals and switches. The diagram is labeled with numbers and distances from a signal box. There are also labels for the direction of the tracks, such as \"Down Main\" and \"Up Main\". The diagram also shows the location of a \"piping lane crossing\" and a \"lever ground frame\". The diagram is likely used by railway workers to understand the layout of the junction and to operate the signals and switches.\n"
     ]
    }
   ],
   "source": [
    "print(result[\"google\"][\"generated_text\"])"
   ]
  }
 ],
 "metadata": {
  "kernelspec": {
   "display_name": "genai-training-2X6HL8i2-py3.10",
   "language": "python",
   "name": "python3"
  },
  "language_info": {
   "codemirror_mode": {
    "name": "ipython",
    "version": 3
   },
   "file_extension": ".py",
   "mimetype": "text/x-python",
   "name": "python",
   "nbconvert_exporter": "python",
   "pygments_lexer": "ipython3",
   "version": "3.10.12"
  }
 },
 "nbformat": 4,
 "nbformat_minor": 2
}
