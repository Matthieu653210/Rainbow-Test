{
 "cells": [
  {
   "cell_type": "code",
   "execution_count": null,
   "metadata": {},
   "outputs": [],
   "source": [
    "from langgraph.checkpoint.memory import MemorySaver\n",
    "from langgraph.func import entrypoint, task\n",
    "from langgraph.types import interrupt\n"
   ]
  },
  {
   "cell_type": "code",
   "execution_count": null,
   "metadata": {},
   "outputs": [],
   "source": [
    "@task\n",
    "def write_essay(topic: str) -> str:\n",
    "    \"\"\"Write an essay about the given topic.\"\"\"\n",
    "    time.sleep(1)  # A placeholder for a long-running task.\n",
    "    return f\"An essay about topic: {topic}\"\n",
    "\n",
    "\n",
    "@entrypoint(checkpointer=MemorySaver())\n",
    "def workflow(topic: str) -> dict:\n",
    "    \"\"\"A simple workflow that writes an essay and asks for a review.\"\"\"\n",
    "    essay = write_essay(\"cat\").result()\n",
    "    is_approved = interrupt(\n",
    "        {\n",
    "            \"essay\": essay,  # The essay we want reviewed.\n",
    "            \"action\": \"Please approve/reject the essay\",\n",
    "        }\n",
    "    )\n",
    "\n",
    "    return {\n",
    "        \"essay\": essay,  # The essay that was generated\n",
    "        \"is_approved\": is_approved,  # Response from HIL\n",
    "    }"
   ]
  }
 ],
 "metadata": {
  "kernelspec": {
   "display_name": ".venv",
   "language": "python",
   "name": "python3"
  },
  "language_info": {
   "codemirror_mode": {
    "name": "ipython",
    "version": 3
   },
   "file_extension": ".py",
   "mimetype": "text/x-python",
   "name": "python",
   "nbconvert_exporter": "python",
   "pygments_lexer": "ipython3",
   "version": "3.12.3"
  }
 },
 "nbformat": 4,
 "nbformat_minor": 2
}
