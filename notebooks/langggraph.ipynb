{
 "cells": [
  {
   "cell_type": "markdown",
   "metadata": {},
   "source": [
    "\n",
    "```\n",
    "States (Nodes):\n",
    "Initial State (Start): The starting state before any calculation begins.\n",
    "currentState = Start\n",
    "a = 0\n",
    "b = 1\n",
    "counter = 0\n",
    "\n",
    "while (currentState != End) {\n",
    "    if (currentState == Start) {\n",
    "        currentState = Calculate\n",
    "    } else if (currentState == Calculate) {\n",
    "        display a\n",
    "        nextTerm = a + b\n",
    "        if (counter >= n) {\n",
    "            currentState = End\n",
    "        } else {\n",
    "            currentState = Update\n",
    "        }\n",
    "    } else if (currentState == Update) {\n",
    "        a = b\n",
    "        b = nextTerm\n",
    "        counter = counter + 1\n",
    "        currentState = Calculate\n",
    "    }\n",
    "}\n",
    "```"
   ]
  },
  {
   "cell_type": "code",
   "execution_count": null,
   "metadata": {},
   "outputs": [],
   "source": [
    "from langgraph.graph import END, StateGraph\n",
    "from langgraph.graph.graph import CompiledGraph\n",
    "from loguru import logger  # noqa: F401\n",
    "from typing_extensions import TypedDict\n",
    "\n",
    "workflow = StateGraph(GraphState)\n",
    "\n",
    "# Define the nodes\n",
    "workflow.add_node(\"websearch\", web_search)  # web search\n",
    "workflow.add_node(\"retrieve\", retrieve)  # retrieve\n",
    "workflow.add_node(\"grade_documents\", grade_documents)  # grade documents\n",
    "workflow.add_node(\"generate\", generate)  # generate"
   ]
  }
 ],
 "metadata": {
  "language_info": {
   "name": "python"
  }
 },
 "nbformat": 4,
 "nbformat_minor": 2
}
