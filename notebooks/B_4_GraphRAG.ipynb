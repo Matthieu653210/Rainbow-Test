{
 "cells": [
  {
   "cell_type": "markdown",
   "metadata": {},
   "source": [
    "#  Graph RAG using LangChain and Kuzu \n",
    "\n",
    "Taken  from https://pypi.org/project/langchain-kuzu/ "
   ]
  },
  {
   "cell_type": "code",
   "execution_count": 10,
   "metadata": {},
   "outputs": [
    {
     "name": "stdout",
     "output_type": "stream",
     "text": [
      "The autoreload extension is already loaded. To reload it, use:\n",
      "  %reload_ext autoreload\n"
     ]
    }
   ],
   "source": [
    "# A default setup cell.\n",
    "# It imports environment variables, define 'devtools.debug\" as a buildins, set PYTHONPATH, and code auto-reload\n",
    "# Copy it in other Notebooks\n",
    "\n",
    "import builtins\n",
    "\n",
    "from devtools import debug\n",
    "from dotenv import load_dotenv\n",
    "\n",
    "setattr(builtins, \"debug\", debug)\n",
    "load_dotenv(verbose=True)\n",
    "%load_ext autoreload\n",
    "%autoreload 2\n",
    "%reset -f\n",
    "!export PYTHONPATH=\":./python\"\n",
    "# cSpell: disable"
   ]
  },
  {
   "cell_type": "code",
   "execution_count": null,
   "metadata": {},
   "outputs": [],
   "source": [
    "from langchain_experimental.graph_transformers import LLMGraphTransformer\n",
    "from langchain_openai import ChatOpenAI\n",
    "from langchain_core.documents import Document\n",
    "\n",
    "import kuzu\n",
    "from langchain_kuzu.graphs.kuzu_graph import KuzuGraph\n",
    "import kuzu\n",
    "from langchain_kuzu.graphs.kuzu_graph import KuzuGraph\n",
    "from langchain_kuzu.chains.graph_qa.kuzu import KuzuQAChain\n"
   ]
  },
  {
   "cell_type": "code",
   "execution_count": 8,
   "metadata": {},
   "outputs": [],
   "source": [
    "text = \"Tim Cook is the CEO of Apple. Apple has its headquarters in California.\"\n",
    "\n",
    "# Define schema\n",
    "allowed_nodes = [\"Person\", \"Company\", \"Location\"]\n",
    "allowed_relationships = [\n",
    "    (\"Person\", \"IS_CEO_OF\", \"Company\"),\n",
    "    (\"Company\", \"HAS_HEADQUARTERS_IN\", \"Location\"),\n",
    "]\n",
    "\n",
    "\n",
    "# Define the LLMGraphTransformer\n",
    "llm_transformer = LLMGraphTransformer(\n",
    "    llm=ChatOpenAI(model=\"gpt-4o-mini\", temperature=0),\n",
    "    allowed_nodes=allowed_nodes,\n",
    "    allowed_relationships=allowed_relationships,\n",
    ")\n",
    "\n",
    "\n",
    "# Convert the given text into graph documents\n",
    "documents = [Document(page_content=text)]\n",
    "graph_documents = llm_transformer.convert_to_graph_documents(documents)\n",
    "\n",
    "\n",
    "db = kuzu.Database(\"test_db\")\n",
    "\n",
    "# Create a graph object\n",
    "graph = KuzuGraph(db, allow_dangerous_requests=True)\n",
    "\n",
    "# Add the graph document to the graph\n",
    "graph.add_graph_documents(\n",
    "    graph_documents,\n",
    "    include_source=True,\n",
    ")\n"
   ]
  },
  {
   "cell_type": "code",
   "execution_count": 9,
   "metadata": {},
   "outputs": [
    {
     "name": "stdout",
     "output_type": "stream",
     "text": [
      "\n",
      "\n",
      "\u001b[1m> Entering new KuzuQAChain chain...\u001b[0m\n",
      "Generated Cypher:\n",
      "\u001b[32;1m\u001b[1;3mMATCH (p:Person)-[:IS_CEO_OF]->(c:Company) WHERE LOWER(c.id) = 'apple' RETURN p\u001b[0m\n",
      "Full Context:\n",
      "\u001b[32;1m\u001b[1;3m[{'p': {'_id': {'offset': 0, 'table': 3}, '_label': 'Person', 'id': 'Tim Cook', 'type': 'entity'}}]\u001b[0m\n",
      "\n",
      "\u001b[1m> Finished chain.\u001b[0m\n",
      "Query: Who is the CEO of Apple?\n",
      "Result: {'query': 'Who is the CEO of Apple?', 'result': 'Tim Cook is the CEO of Apple.'}\n",
      "\n",
      "\n",
      "\n",
      "\u001b[1m> Entering new KuzuQAChain chain...\u001b[0m\n",
      "Generated Cypher:\n",
      "\u001b[32;1m\u001b[1;3mMATCH (c:Company) WHERE LOWER(c.id) = 'apple' MATCH (c)-[:HAS_HEADQUARTERS_IN]->(l:Location) RETURN l\u001b[0m\n",
      "Full Context:\n",
      "\u001b[32;1m\u001b[1;3m[{'l': {'_id': {'offset': 0, 'table': 2}, '_label': 'Location', 'id': 'California', 'type': 'entity'}}]\u001b[0m\n",
      "\n",
      "\u001b[1m> Finished chain.\u001b[0m\n",
      "Query: Where is Apple headquartered?\n",
      "Result: {'query': 'Where is Apple headquartered?', 'result': 'Apple is headquartered in California.'}\n",
      "\n"
     ]
    }
   ],
   "source": [
    "db = kuzu.Database(\"test_db\")\n",
    "graph = KuzuGraph(db, allow_dangerous_requests=True)\n",
    "\n",
    "# Create the KuzuQAChain with verbosity enabled to see the generated Cypher queries\n",
    "chain = KuzuQAChain.from_llm(\n",
    "    llm=ChatOpenAI(model=\"gpt-4o-mini\", temperature=0.3),\n",
    "    graph=graph,\n",
    "    verbose=True,\n",
    "    allow_dangerous_requests=True,\n",
    ")\n",
    "\n",
    "# Query the graph\n",
    "queries = [\n",
    "    \"Who is the CEO of Apple?\",\n",
    "    \"Where is Apple headquartered?\",\n",
    "]\n",
    "\n",
    "for query in queries:\n",
    "    result = chain.invoke(query)\n",
    "    print(f\"Query: {query}\\nResult: {result}\\n\")"
   ]
  },
  {
   "cell_type": "code",
   "execution_count": null,
   "metadata": {},
   "outputs": [],
   "source": [
    "# Display the graph using ipycytoscape AI!"
   ]
  }
 ],
 "metadata": {
  "kernelspec": {
   "display_name": "genai-blueprint-2X6HL8i2-py3.12",
   "language": "python",
   "name": "python3"
  },
  "language_info": {
   "codemirror_mode": {
    "name": "ipython",
    "version": 3
   },
   "file_extension": ".py",
   "mimetype": "text/x-python",
   "name": "python",
   "nbconvert_exporter": "python",
   "pygments_lexer": "ipython3",
   "version": "3.12.3"
  }
 },
 "nbformat": 4,
 "nbformat_minor": 2
}
