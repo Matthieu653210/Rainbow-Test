{
 "cells": [
  {
   "cell_type": "code",
   "execution_count": 1,
   "metadata": {},
   "outputs": [],
   "source": [
    "from langchain.agents.agent_types import AgentType\n",
    "from langchain_community.chat_models import ChatOpenAI\n",
    "from langchain_experimental.agents.agent_toolkits import create_python_agent\n",
    "from langchain_experimental.tools import PythonREPLTool"
   ]
  },
  {
   "cell_type": "code",
   "execution_count": 2,
   "metadata": {},
   "outputs": [
    {
     "name": "stderr",
     "output_type": "stream",
     "text": [
      "/home/tcl/.cache/pypoetry/virtualenvs/genai-training-2X6HL8i2-py3.10/lib/python3.10/site-packages/langchain_core/_api/deprecation.py:119: LangChainDeprecationWarning: The class `ChatOpenAI` was deprecated in LangChain 0.0.10 and will be removed in 0.3.0. An updated version of the class exists in the langchain-openai package and should be used instead. To use it run `pip install -U langchain-openai` and import as `from langchain_openai import ChatOpenAI`.\n",
      "  warn_deprecated(\n"
     ]
    }
   ],
   "source": [
    "agent_executor = create_python_agent(\n",
    "    llm=ChatOpenAI(temperature=0, model=\"gpt-3.5-turbo-0613\"),\n",
    "    tool=PythonREPLTool(),\n",
    "    verbose=True,\n",
    "    agent_type=AgentType.OPENAI_FUNCTIONS,\n",
    "    agent_executor_kwargs={\"handle_parsing_errors\": True},\n",
    ")"
   ]
  },
  {
   "cell_type": "code",
   "execution_count": 3,
   "metadata": {},
   "outputs": [
    {
     "name": "stderr",
     "output_type": "stream",
     "text": [
      "/home/tcl/.cache/pypoetry/virtualenvs/genai-training-2X6HL8i2-py3.10/lib/python3.10/site-packages/langchain_core/_api/deprecation.py:119: LangChainDeprecationWarning: The method `Chain.run` was deprecated in langchain 0.1.0 and will be removed in 0.3.0. Use invoke instead.\n",
      "  warn_deprecated(\n"
     ]
    },
    {
     "name": "stdout",
     "output_type": "stream",
     "text": [
      "\n",
      "\n",
      "\u001b[1m> Entering new AgentExecutor chain...\u001b[0m\n",
      "\u001b[32;1m\u001b[1;3mTo generate a plot with time on the x-axis and random values on the y-axis using Streamlit, you can use the `streamlit` library in Python. Here's an example code snippet that generates the plot:\n",
      "\n",
      "```python\n",
      "import streamlit as st\n",
      "import numpy as np\n",
      "import matplotlib.pyplot as plt\n",
      "\n",
      "# Generate random values\n",
      "np.random.seed(0)\n",
      "time = np.arange(0, 10, 0.1)\n",
      "values = np.random.uniform(-10, 10, len(time))\n",
      "\n",
      "# Create the plot\n",
      "fig, ax = plt.subplots()\n",
      "ax.plot(time, values)\n",
      "ax.set_xlabel('Time')\n",
      "ax.set_ylabel('Random Values')\n",
      "\n",
      "# Display the plot using Streamlit\n",
      "st.pyplot(fig)\n",
      "```\n",
      "\n",
      "You can save this code in a Python file, for example, `plot.py`, and run it using Streamlit by executing the following command in your terminal:\n",
      "\n",
      "```\n",
      "streamlit run plot.py\n",
      "```\n",
      "\n",
      "This will start a Streamlit server and open a web browser with the plot displayed.\n",
      "\n",
      "Note: Make sure you have Streamlit and the required dependencies installed in your Python environment before running the code. You can install Streamlit using `pip install streamlit`.\u001b[0m\n",
      "\n",
      "\u001b[1m> Finished chain.\u001b[0m\n"
     ]
    },
    {
     "data": {
      "text/plain": [
       "\"To generate a plot with time on the x-axis and random values on the y-axis using Streamlit, you can use the `streamlit` library in Python. Here's an example code snippet that generates the plot:\\n\\n```python\\nimport streamlit as st\\nimport numpy as np\\nimport matplotlib.pyplot as plt\\n\\n# Generate random values\\nnp.random.seed(0)\\ntime = np.arange(0, 10, 0.1)\\nvalues = np.random.uniform(-10, 10, len(time))\\n\\n# Create the plot\\nfig, ax = plt.subplots()\\nax.plot(time, values)\\nax.set_xlabel('Time')\\nax.set_ylabel('Random Values')\\n\\n# Display the plot using Streamlit\\nst.pyplot(fig)\\n```\\n\\nYou can save this code in a Python file, for example, `plot.py`, and run it using Streamlit by executing the following command in your terminal:\\n\\n```\\nstreamlit run plot.py\\n```\\n\\nThis will start a Streamlit server and open a web browser with the plot displayed.\\n\\nNote: Make sure you have Streamlit and the required dependencies installed in your Python environment before running the code. You can install Streamlit using `pip install streamlit`.\""
      ]
     },
     "execution_count": 3,
     "metadata": {},
     "output_type": "execute_result"
    }
   ],
   "source": [
    "prompt = \"\"\"\n",
    "Create a plot with time in X and random values between 10 et  10 in Y.\n",
    "Generate Streamlit code. \n",
    "\"\"\"\n",
    "agent_executor.run(prompt)"
   ]
  },
  {
   "cell_type": "code",
   "execution_count": null,
   "metadata": {},
   "outputs": [],
   "source": []
  }
 ],
 "metadata": {
  "kernelspec": {
   "display_name": "di-maintenance-agent-demo-DCv9_gKb-py3.10",
   "language": "python",
   "name": "python3"
  },
  "language_info": {
   "codemirror_mode": {
    "name": "ipython",
    "version": 3
   },
   "file_extension": ".py",
   "mimetype": "text/x-python",
   "name": "python",
   "nbconvert_exporter": "python",
   "pygments_lexer": "ipython3",
   "version": "3.10.12"
  }
 },
 "nbformat": 4,
 "nbformat_minor": 2
}
