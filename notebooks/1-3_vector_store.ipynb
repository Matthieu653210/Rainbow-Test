{
 "cells": [
  {
   "cell_type": "markdown",
   "metadata": {},
   "source": [
    "# Vector Store"
   ]
  },
  {
   "cell_type": "code",
   "execution_count": null,
   "metadata": {},
   "outputs": [],
   "source": [
    "from devtools import debug\n",
    "\n",
    "!export PYTHONPATH=\":./python\""
   ]
  },
  {
   "cell_type": "markdown",
   "metadata": {},
   "source": [
    "### Split the text into chunks"
   ]
  },
  {
   "cell_type": "code",
   "execution_count": null,
   "metadata": {},
   "outputs": [],
   "source": [
    "from langchain_community.document_loaders import TextLoader\n",
    "from langchain_text_splitters import RecursiveCharacterTextSplitter\n",
    "\n",
    "from python.ai_core.embeddings import EmbeddingsFactory\n",
    "from python.ai_core.vector_store import VectorStoreFactory\n",
    "\n",
    "loader = TextLoader(\"use_case_data/other/state_of_the_union.txt\")\n",
    "documents = loader.load()\n",
    "text_splitter = RecursiveCharacterTextSplitter(chunk_size=1000, chunk_overlap=0)\n",
    "texts = text_splitter.split_documents(documents)\n",
    "debug(texts)"
   ]
  },
  {
   "cell_type": "markdown",
   "metadata": {},
   "source": [
    "### Calculate embeddings and oyt them in a vector database .\n",
    "\n",
    "This is a adaptation of https://python.langchain.com/v0.1/docs/modules/data_connection/vectorstores/ <br><br>\n",
    "We have a factory to facilitate Vector Store configuration and selection. <br>\n",
    "One benefit if that it's easy to change vector store type and embedding model, just by configuration."
   ]
  },
  {
   "cell_type": "code",
   "execution_count": 13,
   "metadata": {},
   "outputs": [
    {
     "name": "stderr",
     "output_type": "stream",
     "text": [
      "\u001b[32m2024-06-26 17:48:30.597\u001b[0m | \u001b[1mINFO    \u001b[0m | \u001b[36mpython.ai_core.vector_store\u001b[0m:\u001b[36mvector_store\u001b[0m:\u001b[36m113\u001b[0m - \u001b[1mget vector store  : Chroma_in_memory/maintenance_procedure_ada_002_edenai\u001b[0m\n"
     ]
    },
    {
     "name": "stdout",
     "output_type": "stream",
     "text": [
      "/tmp/ipykernel_312843/4177014484.py:10 <module>\n",
      "    vs_factory: VectorStoreFactory(\n",
      "        id='Chroma_in_memory',\n",
      "        embeddings_factory=EmbeddingsFactory(\n",
      "            embeddings_id='ada_002_edenai',\n",
      "            encoding_str=None,\n",
      "            retrieving_str=None,\n",
      "            info=EMBEDDINGS_INFO(\n",
      "                id='ada_002_edenai',\n",
      "                cls='EdenAiEmbeddings',\n",
      "                model='openai/1536__text-embedding-ada-002',\n",
      "                key='EDENAI_API_KEY',\n",
      "                prefix='',\n",
      "            ),\n",
      "        ),\n",
      "        collection_name='maintenance_procedure',\n",
      "        index_document=False,\n",
      "        collection_metadata=None,\n",
      "        collection_full_name='maintenance_procedure_ada_002_edenai',\n",
      "        description='Chroma_in_memory/maintenance_procedure_ada_002_edenai',\n",
      "        vector_store=<langchain_community.vectorstores.chroma.Chroma object at 0x7f65859f57e0>,\n",
      "    ) (VectorStoreFactory)\n"
     ]
    }
   ],
   "source": [
    "vs_factory = VectorStoreFactory(\n",
    "    id=\"Chroma_in_memory\",\n",
    "    collection_name=\"maintenance_procedure\",\n",
    "    embeddings_factory=EmbeddingsFactory(),\n",
    ")\n",
    "\n",
    "debug(vs_factory)\n",
    "\n",
    "db = vs_factory.vector_store\n",
    "db.add_documents(texts)"
   ]
  },
  {
   "cell_type": "markdown",
   "metadata": {},
   "source": [
    "### Test a query"
   ]
  },
  {
   "cell_type": "code",
   "execution_count": 16,
   "metadata": {},
   "outputs": [
    {
     "name": "stdout",
     "output_type": "stream",
     "text": [
      "/tmp/ipykernel_312843/3766655050.py:3 <module>\n",
      "    docs: [\n",
      "        Document(\n",
      "            page_content=(\n",
      "                'Tonight. I call on the Senate to: Pass the Freedom to Vote Act. Pass the John Lewis Voting Rights Act'\n",
      "                '. And while you’re at it, pass the Disclose Act so Americans can know who is funding our elections. \\n'\n",
      "                '\\n'\n",
      "                'Tonight, I’d like to honor someone who has dedicated his life to serve this country: Justice Stephen '\n",
      "                'Breyer—an Army veteran, Constitutional scholar, and retiring Justice of the United States Supreme Cou'\n",
      "                'rt. Justice Breyer, thank you for your service. \\n'\n",
      "                '\\n'\n",
      "                'One of the most serious constitutional responsibilities a President has is nominating someone to serv'\n",
      "                'e on the United States Supreme Court. \\n'\n",
      "                '\\n'\n",
      "                'And I did that 4 days ago, when I nominated Circuit Court of Appeals Judge Ketanji Brown Jackson. One'\n",
      "                ' of our nation’s top legal minds, who will continue Justice Breyer’s legacy of excellence.'\n",
      "            ),\n",
      "            metadata={\n",
      "                'source': 'use_case_data/other/state_of_the_union.txt',\n",
      "            },\n",
      "        ),\n",
      "        Document(\n",
      "            page_content=(\n",
      "                'Tonight. I call on the Senate to: Pass the Freedom to Vote Act. Pass the John Lewis Voting Rights Act'\n",
      "                '. And while you’re at it, pass the Disclose Act so Americans can know who is funding our elections. \\n'\n",
      "                '\\n'\n",
      "                'Tonight, I’d like to honor someone who has dedicated his life to serve this country: Justice Stephen '\n",
      "                'Breyer—an Army veteran, Constitutional scholar, and retiring Justice of the United States Supreme Cou'\n",
      "                'rt. Justice Breyer, thank you for your service. \\n'\n",
      "                '\\n'\n",
      "                'One of the most serious constitutional responsibilities a President has is nominating someone to serv'\n",
      "                'e on the United States Supreme Court. \\n'\n",
      "                '\\n'\n",
      "                'And I did that 4 days ago, when I nominated Circuit Court of Appeals Judge Ketanji Brown Jackson. One'\n",
      "                ' of our nation’s top legal minds, who will continue Justice Breyer’s legacy of excellence.'\n",
      "            ),\n",
      "            metadata={\n",
      "                'source': 'use_case_data/other/state_of_the_union.txt',\n",
      "            },\n",
      "        ),\n",
      "        Document(\n",
      "            page_content=(\n",
      "                'Tonight. I call on the Senate to: Pass the Freedom to Vote Act. Pass the John Lewis Voting Rights Act'\n",
      "                '. And while you’re at it, pass the Disclose Act so Americans can know who is funding our elections. \\n'\n",
      "                '\\n'\n",
      "                'Tonight, I’d like to honor someone who has dedicated his life to serve this country: Justice Stephen '\n",
      "                'Breyer—an Army veteran, Constitutional scholar, and retiring Justice of the United States Supreme Cou'\n",
      "                'rt. Justice Breyer, thank you for your service. \\n'\n",
      "                '\\n'\n",
      "                'One of the most serious constitutional responsibilities a President has is nominating someone to serv'\n",
      "                'e on the United States Supreme Court. \\n'\n",
      "                '\\n'\n",
      "                'And I did that 4 days ago, when I nominated Circuit Court of Appeals Judge Ketanji Brown Jackson. One'\n",
      "                ' of our nation’s top legal minds, who will continue Justice Breyer’s legacy of excellence.'\n",
      "            ),\n",
      "            metadata={\n",
      "                'source': 'use_case_data/other/state_of_the_union.txt',\n",
      "            },\n",
      "        ),\n",
      "    ] (list) len=3\n"
     ]
    },
    {
     "data": {
      "text/plain": [
       "[Document(page_content='Tonight. I call on the Senate to: Pass the Freedom to Vote Act. Pass the John Lewis Voting Rights Act. And while you’re at it, pass the Disclose Act so Americans can know who is funding our elections. \\n\\nTonight, I’d like to honor someone who has dedicated his life to serve this country: Justice Stephen Breyer—an Army veteran, Constitutional scholar, and retiring Justice of the United States Supreme Court. Justice Breyer, thank you for your service. \\n\\nOne of the most serious constitutional responsibilities a President has is nominating someone to serve on the United States Supreme Court. \\n\\nAnd I did that 4 days ago, when I nominated Circuit Court of Appeals Judge Ketanji Brown Jackson. One of our nation’s top legal minds, who will continue Justice Breyer’s legacy of excellence.', metadata={'source': 'use_case_data/other/state_of_the_union.txt'}),\n",
       " Document(page_content='Tonight. I call on the Senate to: Pass the Freedom to Vote Act. Pass the John Lewis Voting Rights Act. And while you’re at it, pass the Disclose Act so Americans can know who is funding our elections. \\n\\nTonight, I’d like to honor someone who has dedicated his life to serve this country: Justice Stephen Breyer—an Army veteran, Constitutional scholar, and retiring Justice of the United States Supreme Court. Justice Breyer, thank you for your service. \\n\\nOne of the most serious constitutional responsibilities a President has is nominating someone to serve on the United States Supreme Court. \\n\\nAnd I did that 4 days ago, when I nominated Circuit Court of Appeals Judge Ketanji Brown Jackson. One of our nation’s top legal minds, who will continue Justice Breyer’s legacy of excellence.', metadata={'source': 'use_case_data/other/state_of_the_union.txt'}),\n",
       " Document(page_content='Tonight. I call on the Senate to: Pass the Freedom to Vote Act. Pass the John Lewis Voting Rights Act. And while you’re at it, pass the Disclose Act so Americans can know who is funding our elections. \\n\\nTonight, I’d like to honor someone who has dedicated his life to serve this country: Justice Stephen Breyer—an Army veteran, Constitutional scholar, and retiring Justice of the United States Supreme Court. Justice Breyer, thank you for your service. \\n\\nOne of the most serious constitutional responsibilities a President has is nominating someone to serve on the United States Supreme Court. \\n\\nAnd I did that 4 days ago, when I nominated Circuit Court of Appeals Judge Ketanji Brown Jackson. One of our nation’s top legal minds, who will continue Justice Breyer’s legacy of excellence.', metadata={'source': 'use_case_data/other/state_of_the_union.txt'})]"
      ]
     },
     "execution_count": 16,
     "metadata": {},
     "output_type": "execute_result"
    }
   ],
   "source": [
    "query = \"What did the president say about Ketanji Brown Jackson\"\n",
    "docs = db.similarity_search(query, k=3)\n",
    "debug(docs)"
   ]
  },
  {
   "cell_type": "markdown",
   "metadata": {},
   "source": [
    "### Vector Store as Runnable"
   ]
  },
  {
   "cell_type": "code",
   "execution_count": 15,
   "metadata": {},
   "outputs": [
    {
     "data": {
      "text/plain": [
       "[Document(page_content='Tonight. I call on the Senate to: Pass the Freedom to Vote Act. Pass the John Lewis Voting Rights Act. And while you’re at it, pass the Disclose Act so Americans can know who is funding our elections. \\n\\nTonight, I’d like to honor someone who has dedicated his life to serve this country: Justice Stephen Breyer—an Army veteran, Constitutional scholar, and retiring Justice of the United States Supreme Court. Justice Breyer, thank you for your service. \\n\\nOne of the most serious constitutional responsibilities a President has is nominating someone to serve on the United States Supreme Court. \\n\\nAnd I did that 4 days ago, when I nominated Circuit Court of Appeals Judge Ketanji Brown Jackson. One of our nation’s top legal minds, who will continue Justice Breyer’s legacy of excellence.', metadata={'source': 'use_case_data/other/state_of_the_union.txt'}),\n",
       " Document(page_content='Tonight. I call on the Senate to: Pass the Freedom to Vote Act. Pass the John Lewis Voting Rights Act. And while you’re at it, pass the Disclose Act so Americans can know who is funding our elections. \\n\\nTonight, I’d like to honor someone who has dedicated his life to serve this country: Justice Stephen Breyer—an Army veteran, Constitutional scholar, and retiring Justice of the United States Supreme Court. Justice Breyer, thank you for your service. \\n\\nOne of the most serious constitutional responsibilities a President has is nominating someone to serve on the United States Supreme Court. \\n\\nAnd I did that 4 days ago, when I nominated Circuit Court of Appeals Judge Ketanji Brown Jackson. One of our nation’s top legal minds, who will continue Justice Breyer’s legacy of excellence.', metadata={'source': 'use_case_data/other/state_of_the_union.txt'}),\n",
       " Document(page_content='Tonight. I call on the Senate to: Pass the Freedom to Vote Act. Pass the John Lewis Voting Rights Act. And while you’re at it, pass the Disclose Act so Americans can know who is funding our elections. \\n\\nTonight, I’d like to honor someone who has dedicated his life to serve this country: Justice Stephen Breyer—an Army veteran, Constitutional scholar, and retiring Justice of the United States Supreme Court. Justice Breyer, thank you for your service. \\n\\nOne of the most serious constitutional responsibilities a President has is nominating someone to serve on the United States Supreme Court. \\n\\nAnd I did that 4 days ago, when I nominated Circuit Court of Appeals Judge Ketanji Brown Jackson. One of our nation’s top legal minds, who will continue Justice Breyer’s legacy of excellence.', metadata={'source': 'use_case_data/other/state_of_the_union.txt'}),\n",
       " Document(page_content='Tonight. I call on the Senate to: Pass the Freedom to Vote Act. Pass the John Lewis Voting Rights Act. And while you’re at it, pass the Disclose Act so Americans can know who is funding our elections. \\n\\nTonight, I’d like to honor someone who has dedicated his life to serve this country: Justice Stephen Breyer—an Army veteran, Constitutional scholar, and retiring Justice of the United States Supreme Court. Justice Breyer, thank you for your service. \\n\\nOne of the most serious constitutional responsibilities a President has is nominating someone to serve on the United States Supreme Court. \\n\\nAnd I did that 4 days ago, when I nominated Circuit Court of Appeals Judge Ketanji Brown Jackson. One of our nation’s top legal minds, who will continue Justice Breyer’s legacy of excellence.', metadata={'source': 'use_case_data/other/state_of_the_union.txt'})]"
      ]
     },
     "execution_count": 15,
     "metadata": {},
     "output_type": "execute_result"
    }
   ],
   "source": [
    "retriever = db.as_retriever()\n",
    "\n",
    "retriever.invoke(query)"
   ]
  },
  {
   "cell_type": "markdown",
   "metadata": {},
   "source": [
    "### Configurable Retriever Runnable \n",
    "\n",
    "It's a little bit tricky, so there is a small wrapper in the Factory: "
   ]
  },
  {
   "cell_type": "code",
   "execution_count": 20,
   "metadata": {},
   "outputs": [
    {
     "data": {
      "text/plain": [
       "[Document(page_content='Tonight. I call on the Senate to: Pass the Freedom to Vote Act. Pass the John Lewis Voting Rights Act. And while you’re at it, pass the Disclose Act so Americans can know who is funding our elections. \\n\\nTonight, I’d like to honor someone who has dedicated his life to serve this country: Justice Stephen Breyer—an Army veteran, Constitutional scholar, and retiring Justice of the United States Supreme Court. Justice Breyer, thank you for your service. \\n\\nOne of the most serious constitutional responsibilities a President has is nominating someone to serve on the United States Supreme Court. \\n\\nAnd I did that 4 days ago, when I nominated Circuit Court of Appeals Judge Ketanji Brown Jackson. One of our nation’s top legal minds, who will continue Justice Breyer’s legacy of excellence.', metadata={'source': 'use_case_data/other/state_of_the_union.txt'})]"
      ]
     },
     "execution_count": 20,
     "metadata": {},
     "output_type": "execute_result"
    }
   ],
   "source": [
    "retriever = vs_factory.get_configurable_retriever(default_k=20)\n",
    "\n",
    "config = {\"configurable\": {\"search_kwargs\": {\"k\": 1}}}\n",
    "result = retriever.invoke(query, config=config)\n",
    "result  # return 1 result"
   ]
  }
 ],
 "metadata": {
  "kernelspec": {
   "display_name": "genai-training-2X6HL8i2-py3.10",
   "language": "python",
   "name": "python3"
  },
  "language_info": {
   "codemirror_mode": {
    "name": "ipython",
    "version": 3
   },
   "file_extension": ".py",
   "mimetype": "text/x-python",
   "name": "python",
   "nbconvert_exporter": "python",
   "pygments_lexer": "ipython3",
   "version": "3.10.12"
  }
 },
 "nbformat": 4,
 "nbformat_minor": 2
}
