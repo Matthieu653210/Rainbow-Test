{
 "cells": [
  {
   "cell_type": "code",
   "execution_count": 2,
   "metadata": {},
   "outputs": [
    {
     "data": {
      "text/plain": [
       "[None, None]"
      ]
     },
     "execution_count": 2,
     "metadata": {},
     "output_type": "execute_result"
    }
   ],
   "source": [
    "%load_ext autoreload\n",
    "%autoreload 2\n",
    "import sys\n",
    "from pathlib import Path\n",
    "\n",
    "[\n",
    "    sys.path.append(str(path))\n",
    "    for path in [Path.cwd(), Path.cwd().parent, Path.cwd().parent / \"python\"]\n",
    "    if str(path) not in sys.path\n",
    "]"
   ]
  },
  {
   "cell_type": "code",
   "execution_count": 4,
   "metadata": {},
   "outputs": [
    {
     "data": {
      "text/plain": [
       "Foo(llm=OpenAI(client=<openai.resources.completions.Completions object at 0x7f8addf1f9d0>, async_client=<openai.resources.completions.AsyncCompletions object at 0x7f8ade7ef2b0>, openai_api_key='foo', openai_proxy=''))"
      ]
     },
     "execution_count": 4,
     "metadata": {},
     "output_type": "execute_result"
    }
   ],
   "source": [
    "import os\n",
    "\n",
    "os.environ[\"OPENAI_API_KEY\"] = \"foo\"\n",
    "from langchain.base_language import BaseLanguageModel\n",
    "from langchain.llms import OpenAI\n",
    "from pydantic.v1 import BaseModel\n",
    "\n",
    "\n",
    "class Foo(BaseModel):\n",
    "    llm: BaseLanguageModel | None = None\n",
    "\n",
    "\n",
    "llm = OpenAI()\n",
    "# Works\n",
    "Foo()\n",
    "# Fails\n",
    "Foo(llm=llm)"
   ]
  },
  {
   "cell_type": "code",
   "execution_count": 9,
   "metadata": {},
   "outputs": [
    {
     "name": "stdout",
     "output_type": "stream",
     "text": [
      "2022\n"
     ]
    }
   ],
   "source": [
    "class Car:\n",
    "    def __init__(self, brand, model):\n",
    "        self.brand = brand\n",
    "        self.model = model\n",
    "\n",
    "# Create a Car object\n",
    "my_car = Car(\"Toyota\", \"Camry\")\n",
    "\n",
    "# Dynamically add a new attribute\n",
    "\n",
    "my_car.year = 2022\n",
    "\n",
    "\n",
    "print(my_car.year)   # Output: 2022"
   ]
  },
  {
   "cell_type": "code",
   "execution_count": 13,
   "metadata": {},
   "outputs": [
    {
     "data": {
      "text/plain": [
       "True"
      ]
     },
     "execution_count": 13,
     "metadata": {},
     "output_type": "execute_result"
    }
   ],
   "source": [
    "hasattr(my_car,\"year\")\n"
   ]
  }
 ],
 "metadata": {
  "kernelspec": {
   "display_name": "di-maintenance-agent-demo-DCv9_gKb-py3.10",
   "language": "python",
   "name": "python3"
  },
  "language_info": {
   "codemirror_mode": {
    "name": "ipython",
    "version": 3
   },
   "file_extension": ".py",
   "mimetype": "text/x-python",
   "name": "python",
   "nbconvert_exporter": "python",
   "pygments_lexer": "ipython3",
   "version": "3.10.12"
  }
 },
 "nbformat": 4,
 "nbformat_minor": 2
}
