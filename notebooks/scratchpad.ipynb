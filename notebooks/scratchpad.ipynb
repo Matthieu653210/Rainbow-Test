{
 "cells": [
  {
   "cell_type": "code",
   "execution_count": null,
   "metadata": {},
   "outputs": [],
   "source": [
    "from devtools import debug\n",
    "\n",
    "%load_ext autoreload\n",
    "%autoreload 2\n",
    "\n",
    "!export PYTHONPATH=\":./python\""
   ]
  },
  {
   "cell_type": "code",
   "execution_count": 2,
   "metadata": {},
   "outputs": [],
   "source": [
    "from langchain_core.output_parsers import StrOutputParser\n",
    "\n",
    "from python.ai_core.llm import get_llm\n",
    "from python.ai_core.prompts import def_prompt\n",
    "import pandas as pd"
   ]
  },
  {
   "cell_type": "code",
   "execution_count": 3,
   "metadata": {},
   "outputs": [],
   "source": []
  },
  {
   "cell_type": "code",
   "execution_count": 18,
   "metadata": {},
   "outputs": [
    {
     "name": "stderr",
     "output_type": "stream",
     "text": [
      "\u001b[32m2024-06-20 19:17:24.197\u001b[0m | \u001b[1mINFO    \u001b[0m | \u001b[36mpython.ai_core.llm\u001b[0m:\u001b[36mget_llm\u001b[0m:\u001b[36m395\u001b[0m - \u001b[1mget LLM : mistral_large_edenai - configurable: True\u001b[0m\n"
     ]
    },
    {
     "name": "stderr",
     "output_type": "stream",
     "text": [
      "\u001b[32m2024-06-20 19:17:24.587\u001b[0m | \u001b[1mINFO    \u001b[0m | \u001b[36mpython.ai_core.llm\u001b[0m:\u001b[36mget_configurable\u001b[0m:\u001b[36m351\u001b[0m - \u001b[1mCannot load gemini_pro_google: No module named 'langchain_google_vertexai'\u001b[0m\n"
     ]
    }
   ],
   "source": [
    "df = pd.read_excel(\"abbreviations.xlsx\", index_col=0)\n",
    "unknown = df[df.iloc[:, 0].isnull()]\n",
    "unknown_list = \"\\n\".join(unknown.index.tolist()[0:10])\n",
    "first = unknown.index.to_list()[0]\n",
    "\n",
    "\n",
    "system = \"\"\" \n",
    "Vous êtes expert du domaine de la formation et de l'enseignement supérieur.\n",
    "Repondez uniquement en Francais.\n",
    "Pour chacune des abréviations suivantes, completez par la signification si vous la connaissez.\n",
    "Si vous ne savez pas, afficher \"?\".\n",
    "N'ajoutez pas de commentaires et autres information.\n",
    "\"\"\"\n",
    "\n",
    "user = \"\"\"\n",
    "###  ABBREVIATIONS ###\n",
    "{abrev}\n",
    "### REPONSE: ###\n",
    "- {first_one}: ...\n",
    "- ...\n",
    "\"\"\"\n",
    "\n",
    "llm_mistral = get_llm(\"mistral_large_edenai\")\n",
    "\n",
    "prompt = def_prompt(system, user)\n",
    "chain = prompt | llm_mistral | StrOutputParser()\n",
    "\n",
    "# answer_mistral = chain.invoke({})"
   ]
  },
  {
   "cell_type": "code",
   "execution_count": 36,
   "metadata": {},
   "outputs": [
    {
     "name": "stderr",
     "output_type": "stream",
     "text": [
      "\u001b[32m2024-06-20 21:16:11.348\u001b[0m | \u001b[1mINFO    \u001b[0m | \u001b[36mpython.ai_core.llm\u001b[0m:\u001b[36mget_llm\u001b[0m:\u001b[36m395\u001b[0m - \u001b[1mget LLM : gpt_4o_edenai - configurable: True\u001b[0m\n",
      "\u001b[32m2024-06-20 21:16:11.798\u001b[0m | \u001b[1mINFO    \u001b[0m | \u001b[36mpython.ai_core.llm\u001b[0m:\u001b[36mget_configurable\u001b[0m:\u001b[36m351\u001b[0m - \u001b[1mCannot load gemini_pro_google: No module named 'langchain_google_vertexai'\u001b[0m\n"
     ]
    }
   ],
   "source": [
    "llm_gpt4 = get_llm(\"gpt_4o_edenai\")\n",
    "chain = prompt | llm_gpt4 | StrOutputParser()"
   ]
  },
  {
   "cell_type": "code",
   "execution_count": 37,
   "metadata": {},
   "outputs": [
    {
     "name": "stdout",
     "output_type": "stream",
     "text": [
      "- CAPPEI: Certificat d'Aptitude Professionnelle aux Pratiques de l'Éducation Inclusive\n",
      "- MPPM: ?\n",
      "- BIOGET: ?\n",
      "- MTS: ?\n",
      "- SIIA: ?\n",
      "- EIFFALE: ?\n",
      "- TROPIMUNDO: ?\n",
      "- TALN: Traitement Automatique du Langage Naturel\n",
      "- ESDD: ?\n",
      "- ORMS: ?\n"
     ]
    }
   ],
   "source": [
    "rep = chain.invoke({\"abrev\": unknown_list, \"first_one\": first})\n",
    "print(rep)"
   ]
  },
  {
   "cell_type": "code",
   "execution_count": 24,
   "metadata": {},
   "outputs": [
    {
     "data": {
      "text/plain": [
       "'ESDD: Education au Développement Durable'"
      ]
     },
     "execution_count": 24,
     "metadata": {},
     "output_type": "execute_result"
    }
   ],
   "source": [
    "line = \"- ESDD: Education au Développement Durable\"\n",
    "\n",
    "a = line.strip(\"- \")\n",
    "a"
   ]
  },
  {
   "cell_type": "code",
   "execution_count": 35,
   "metadata": {},
   "outputs": [
    {
     "name": "stdout",
     "output_type": "stream",
     "text": [
      "- CAPPEI: Certificat d'Aptitude Professionnelle aux Pratiques de l'Education Inclusive\n",
      "- MPPM: ?\n",
      "- BIOGET: ?\n",
      "- MTS: Mastère Spécialisé\n",
      "- SIIA: Systèmes d'Information et d'Ingénierie Avancée\n",
      "- EIFFALE: ?\n",
      "- TROPIMUNDO: ?\n",
      "- TALN: Traitement Automatique des Langues Naturelles\n",
      "- ESDD: Education au Développement Durable\n",
      "- ORMS: ?\n"
     ]
    }
   ],
   "source": [
    "lines = rep.split(\"\\n\")\n",
    "\n",
    "d = dict()\n",
    "for line in lines:\n",
    "    print(line)\n",
    "    k, _, v = line.partition(\":\")\n",
    "    d |= {k.strip(\"- \"): v.strip()}\n",
    "\n",
    "\n",
    "df = pd.DataFrame.from_dict(d, orient=\"index\")\n",
    "df.to_excel(\"abbreviations2.xlsx\", sheet_name=\"llm\")"
   ]
  },
  {
   "cell_type": "code",
   "execution_count": 31,
   "metadata": {},
   "outputs": [
    {
     "data": {
      "text/plain": [
       "{'abbrev': 'ORMS', 'desc': '?'}"
      ]
     },
     "execution_count": 31,
     "metadata": {},
     "output_type": "execute_result"
    }
   ],
   "source": [
    "d"
   ]
  },
  {
   "cell_type": "code",
   "execution_count": 45,
   "metadata": {},
   "outputs": [
    {
     "name": "stdout",
     "output_type": "stream",
     "text": [
      "1\n",
      "1\n"
     ]
    }
   ],
   "source": [
    "l = [1,1]\n",
    "for x in l or []:\n",
    "    print(x)"
   ]
  },
  {
   "cell_type": "code",
   "execution_count": 46,
   "metadata": {},
   "outputs": [
    {
     "data": {
      "text/plain": [
       "[1, 1, 2, 2]"
      ]
     },
     "execution_count": 46,
     "metadata": {},
     "output_type": "execute_result"
    }
   ],
   "source": [
    "l += [2,2]\n",
    "l"
   ]
  }
 ],
 "metadata": {
  "kernelspec": {
   "display_name": "di-maintenance-agent-demo-DCv9_gKb-py3.10",
   "language": "python",
   "name": "python3"
  },
  "language_info": {
   "codemirror_mode": {
    "name": "ipython",
    "version": 3
   },
   "file_extension": ".py",
   "mimetype": "text/x-python",
   "name": "python",
   "nbconvert_exporter": "python",
   "pygments_lexer": "ipython3",
   "version": "3.10.12"
  }
 },
 "nbformat": 4,
 "nbformat_minor": 2
}
