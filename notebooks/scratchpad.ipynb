{
 "cells": [
  {
   "cell_type": "code",
   "execution_count": 2,
   "metadata": {},
   "outputs": [
    {
     "data": {
      "text/plain": [
       "[None, None]"
      ]
     },
     "execution_count": 2,
     "metadata": {},
     "output_type": "execute_result"
    }
   ],
   "source": [
    "%load_ext autoreload\n",
    "%autoreload 2\n",
    "from pathlib import Path\n",
    "import sys\n",
    "from devtools import debug\n",
    "\n",
    "[\n",
    "    sys.path.append(str(path))\n",
    "    for path in [Path.cwd(), Path.cwd().parent, Path.cwd().parent / \"python\"]\n",
    "    if str(path) not in sys.path\n",
    "]"
   ]
  },
  {
   "cell_type": "code",
   "execution_count": null,
   "metadata": {},
   "outputs": [],
   "source": [
    "def def_prompt(system_prompt: str | None, user_prompt: str) -> BasePromptTemplate:\n",
    "    messages: list[BaseMessage] = []\n",
    "    if system_prompt:\n",
    "        messages.append(SystemMessage(content=dedent(system_prompt)))\n",
    "    messages.append(HumanMessage(content=dedent(user_prompt)))\n",
    "    prompt = ChatPromptTemplate.from_messages(messages)\n",
    "    return prompt\n",
    "\n",
    "\n",
    "system_prompt = \"\"\"\n",
    "    You are a grader assessing relevance  of a retrieved document to a user question. \n",
    "    If the document contains keywords related to the user question, grade it as relevant. \n",
    "    It does not need to be a stringent test. The goal is to filter out erroneous retrievals. \\n\n",
    "    Give a binary score 'yes' or 'no' score to indicate whether the document is relevant to the question. \\n\n",
    "    \"\"\"\n",
    "\n",
    "user_prompt = \"\"\"\n",
    "    Here is the retrieved document: \\n\\n {document} \\n\\n\n",
    "    Here is the user question: {question} \\n,\n",
    "    Instructions: {instructions}\n",
    "    \"\"\"\n",
    "\n",
    "prompt = def_prompt(system_prompt, user_prompt).partial(\n",
    "    instructions=yesno_enum_parser.get_format_instructions()\n",
    "    )"
   ]
  }
 ],
 "metadata": {
  "kernelspec": {
   "display_name": "di-maintenance-agent-demo-DCv9_gKb-py3.10",
   "language": "python",
   "name": "python3"
  },
  "language_info": {
   "codemirror_mode": {
    "name": "ipython",
    "version": 3
   },
   "file_extension": ".py",
   "mimetype": "text/x-python",
   "name": "python",
   "nbconvert_exporter": "python",
   "pygments_lexer": "ipython3",
   "version": "3.10.12"
  }
 },
 "nbformat": 4,
 "nbformat_minor": 2
}
