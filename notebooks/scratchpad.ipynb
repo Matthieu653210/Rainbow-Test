{
 "cells": [
  {
   "cell_type": "code",
   "execution_count": null,
   "metadata": {},
   "outputs": [],
   "source": [
    "from dotenv import load_dotenv\n",
    "\n",
    "load_dotenv(verbose=True)\n",
    "\n",
    "%load_ext autoreload\n",
    "%autoreload 2\n",
    "\n",
    "!export PYTHONPATH=\":./python\""
   ]
  },
  {
   "cell_type": "code",
   "execution_count": null,
   "metadata": {},
   "outputs": [],
   "source": [
    "import urllib.request\n",
    "from html.parser import HTMLParser\n",
    "from urllib.parse import urljoin\n",
    "\n",
    "\n",
    "class DirectoryParser(HTMLParser):\n",
    "    def __init__(self, base_url):\n",
    "        super().__init__()\n",
    "        self.base_url = base_url\n",
    "        self.directories = []\n",
    "\n",
    "    def handle_starttag(self, tag, attrs):\n",
    "        if tag == \"a\":\n",
    "            for attr in attrs:\n",
    "                if attr[0] == \"href\":\n",
    "                    full_url = urljoin(self.base_url, attr[1])\n",
    "                    if full_url.startswith(self.base_url) and full_url.endswith(\"/\"):\n",
    "                        self.directories.append(full_url)\n",
    "\n",
    "\n",
    "def get_directory_list(url):\n",
    "    try:\n",
    "        with urllib.request.urlopen(url) as response:\n",
    "            html_content = response.read().decode(\"utf-8\")\n",
    "\n",
    "        parser = DirectoryParser(url)\n",
    "        parser.feed(html_content)\n",
    "\n",
    "        debug(parser, html_content)\n",
    "\n",
    "        return parser.directories\n",
    "\n",
    "    except urllib.error.URLError as e:\n",
    "        print(f\"Error accessing the URL: {e}\")\n",
    "        return []\n",
    "\n",
    "\n",
    "# Example usage\n",
    "FABRIC_PATTERNS_URL = \"https://github.com/danielmiessler/fabric/tree/main/patterns\"\n",
    "\n",
    "url = FABRIC_PATTERNS_URL\n",
    "directories = get_directory_list(url)\n",
    "\n",
    "for directory in directories:\n",
    "    print(directory)"
   ]
  },
  {
   "cell_type": "code",
   "execution_count": null,
   "metadata": {},
   "outputs": [],
   "source": [
    "directories"
   ]
  },
  {
   "cell_type": "code",
   "execution_count": 12,
   "metadata": {},
   "outputs": [
    {
     "name": "stdout",
     "output_type": "stream",
     "text": [
      "Directories found:\n",
      "/\n",
      "https://www.githubstatus.com/\n",
      "https://docs.github.com/\n"
     ]
    }
   ],
   "source": [
    "import urllib.request\n",
    "\n",
    "from bs4 import BeautifulSoup\n",
    "\n",
    "\n",
    "def get_directories(url):\n",
    "    try:\n",
    "        response = urllib.request.urlopen(url)\n",
    "        html_content = response.read().decode(\"utf-8\")\n",
    "\n",
    "        soup = BeautifulSoup(html_content, \"html.parser\")\n",
    "\n",
    "        directories = []\n",
    "        for link in soup.find_all(\"a\"):\n",
    "            href = link.get(\"href\")\n",
    "            if href and href.endswith(\"/\"):\n",
    "                directories.append(href)\n",
    "\n",
    "        return directories\n",
    "    except Exception as e:\n",
    "        print(f\"An error occurred: {e}\")\n",
    "        return []\n",
    "\n",
    "\n",
    "# Example usage\n",
    "url = \"https://github.com/danielmiessler/fabric/tree/main/patterns\"\n",
    "directories = get_directories(url)\n",
    "\n",
    "print(\"Directories found:\")\n",
    "for directory in directories:\n",
    "    print(directory)"
   ]
  }
 ],
 "metadata": {
  "kernelspec": {
   "display_name": "di-maintenance-agent-demo-DCv9_gKb-py3.10",
   "language": "python",
   "name": "python3"
  },
  "language_info": {
   "codemirror_mode": {
    "name": "ipython",
    "version": 3
   },
   "file_extension": ".py",
   "mimetype": "text/x-python",
   "name": "python",
   "nbconvert_exporter": "python",
   "pygments_lexer": "ipython3",
   "version": "3.10.12"
  }
 },
 "nbformat": 4,
 "nbformat_minor": 2
}
