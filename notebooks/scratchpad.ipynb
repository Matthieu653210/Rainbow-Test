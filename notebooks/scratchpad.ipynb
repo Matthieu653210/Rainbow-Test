{
 "cells": [
  {
   "cell_type": "code",
   "execution_count": 2,
   "metadata": {},
   "outputs": [
    {
     "data": {
      "text/plain": [
       "[None, None]"
      ]
     },
     "execution_count": 2,
     "metadata": {},
     "output_type": "execute_result"
    }
   ],
   "source": [
    "%load_ext autoreload\n",
    "%autoreload 2\n",
    "import sys\n",
    "from pathlib import Path\n",
    "\n",
    "[\n",
    "    sys.path.append(str(path))\n",
    "    for path in [Path.cwd(), Path.cwd().parent, Path.cwd().parent / \"python\"]\n",
    "    if str(path) not in sys.path\n",
    "]"
   ]
  },
  {
   "cell_type": "code",
   "execution_count": 4,
   "metadata": {},
   "outputs": [
    {
     "data": {
      "text/plain": [
       "Foo(llm=OpenAI(client=<openai.resources.completions.Completions object at 0x7f8addf1f9d0>, async_client=<openai.resources.completions.AsyncCompletions object at 0x7f8ade7ef2b0>, openai_api_key='foo', openai_proxy=''))"
      ]
     },
     "execution_count": 4,
     "metadata": {},
     "output_type": "execute_result"
    }
   ],
   "source": [
    "import os\n",
    "\n",
    "os.environ[\"OPENAI_API_KEY\"] = \"foo\"\n",
    "from langchain.base_language import BaseLanguageModel\n",
    "from langchain.llms import OpenAI\n",
    "from pydantic.v1 import BaseModel\n",
    "\n",
    "\n",
    "class Foo(BaseModel):\n",
    "    llm: BaseLanguageModel | None = None\n",
    "\n",
    "\n",
    "llm = OpenAI()\n",
    "# Works\n",
    "Foo()\n",
    "# Fails\n",
    "Foo(llm=llm)"
   ]
  },
  {
   "cell_type": "code",
   "execution_count": 9,
   "metadata": {},
   "outputs": [
    {
     "name": "stdout",
     "output_type": "stream",
     "text": [
      "2022\n"
     ]
    }
   ],
   "source": [
    "class Car:\n",
    "    def __init__(self, brand, model):\n",
    "        self.brand = brand\n",
    "        self.model = model\n",
    "\n",
    "\n",
    "# Create a Car object\n",
    "my_car = Car(\"Toyota\", \"Camry\")\n",
    "\n",
    "# Dynamically add a new attribute\n",
    "\n",
    "my_car.year = 2022\n",
    "\n",
    "\n",
    "print(my_car.year)  # Output: 2022"
   ]
  },
  {
   "cell_type": "code",
   "execution_count": 13,
   "metadata": {},
   "outputs": [
    {
     "data": {
      "text/plain": [
       "True"
      ]
     },
     "execution_count": 13,
     "metadata": {},
     "output_type": "execute_result"
    }
   ],
   "source": [
    "hasattr(my_car, \"year\")"
   ]
  },
  {
   "cell_type": "code",
   "execution_count": 5,
   "metadata": {},
   "outputs": [],
   "source": [
    "from typing import Type, TypeVar\n",
    "\n",
    "from pydantic import BaseModel, create_model\n",
    "\n",
    "T = TypeVar(\"T\", bound=BaseModel)\n",
    "\n",
    "\n",
    "def add_field_to_class(\n",
    "    base_class: Type[T], field_name: str, field_type: Type, required: bool = False\n",
    ") -> Type[T]:\n",
    "    \"\"\"\n",
    "    Creates a new Pydantic class by inheriting from the provided base class\n",
    "    and adding a new field with the specified name and type.\n",
    "\n",
    "    Args:\n",
    "        base_class (Type[T]): The base Pydantic class to inherit from.\n",
    "        field_name (str): The name of the new field to add.\n",
    "        field_type (Type): The type of the new field.\n",
    "        required (bool, optional): Whether the new field should be required or not. Defaults to False.\n",
    "\n",
    "    Returns:\n",
    "        Type[T]: A new Pydantic class with the additional field.\n",
    "    \"\"\"\n",
    "    field_definition = (field_type, ...) if required else (field_type, None)\n",
    "    new_class_name = f\"{base_class.__name__}With{field_name.capitalize()}\"\n",
    "\n",
    "    return create_model(\n",
    "        new_class_name,\n",
    "        **{field_name: field_definition},\n",
    "        __base__=base_class,\n",
    "    )\n",
    "\n",
    "\n",
    "class Car(BaseModel):\n",
    "    brand: str\n",
    "    model: str\n",
    "    year: int\n",
    "\n",
    "\n",
    "car1 = Car(brand=\"Toyota\", model=\"Camry\", year=2022)\n",
    "CarWithColor = add_field_to_class(Car, \"color\", str, required=True)\n",
    "my_car = CarWithColor(brand=\"Toyota\", model=\"Camry\", year=2022, color=\"Red\")"
   ]
  },
  {
   "cell_type": "code",
   "execution_count": 23,
   "metadata": {},
   "outputs": [
    {
     "data": {
      "text/plain": [
       "CarWithColorWithLlm_id(brand='Toyota', model='Camry', year=2022, color='Red', llm_id='LLMID')"
      ]
     },
     "execution_count": 23,
     "metadata": {},
     "output_type": "execute_result"
    }
   ],
   "source": [
    "from typing import Any\n",
    "\n",
    "\n",
    "def add_field_to_obj(obj: BaseModel, field_name: str,  value: Any) -> BaseModel:\n",
    "    new_cls = add_field_to_class(type(obj), field_name, type(value), True)\n",
    "    new_obj = new_cls.model_validate(my_car.model_dump() | {field_name: value})\n",
    "    return new_obj\n",
    "\n",
    "\n",
    "new_car = add_field_to_obj(my_car, \"llm_id\", \"LLMID\")\n",
    "new_car"
   ]
  },
  {
   "cell_type": "code",
   "execution_count": null,
   "metadata": {},
   "outputs": [],
   "source": []
  },
  {
   "cell_type": "code",
   "execution_count": 9,
   "metadata": {},
   "outputs": [
    {
     "ename": "TypeError",
     "evalue": "BaseModel.__init__() takes 1 positional argument but 2 were given",
     "output_type": "error",
     "traceback": [
      "\u001b[0;31m---------------------------------------------------------------------------\u001b[0m",
      "\u001b[0;31mTypeError\u001b[0m                                 Traceback (most recent call last)",
      "Cell \u001b[0;32mIn[9], line 1\u001b[0m\n\u001b[0;32m----> 1\u001b[0m \u001b[43mext_car\u001b[49m\u001b[43m \u001b[49m\u001b[43m(\u001b[49m\u001b[43mcar1\u001b[49m\u001b[43m)\u001b[49m\n",
      "Cell \u001b[0;32mIn[8], line 5\u001b[0m, in \u001b[0;36mext_car\u001b[0;34m(obj)\u001b[0m\n\u001b[1;32m      1\u001b[0m \u001b[38;5;28;01mdef\u001b[39;00m \u001b[38;5;21mext_car\u001b[39m(\n\u001b[1;32m      2\u001b[0m     obj: Car\n\u001b[1;32m      3\u001b[0m ) \u001b[38;5;241m-\u001b[39m\u001b[38;5;241m>\u001b[39m Car:\n\u001b[1;32m      4\u001b[0m     new_cls \u001b[38;5;241m=\u001b[39m add_field_to_class(\u001b[38;5;28mtype\u001b[39m(obj), \u001b[38;5;124m\"\u001b[39m\u001b[38;5;124mllm_id\u001b[39m\u001b[38;5;124m\"\u001b[39m, \u001b[38;5;28mstr\u001b[39m, \u001b[38;5;28;01mTrue\u001b[39;00m)\n\u001b[0;32m----> 5\u001b[0m     \u001b[38;5;28;01mreturn\u001b[39;00m \u001b[43mnew_cls\u001b[49m\u001b[43m(\u001b[49m\u001b[43mobj\u001b[49m\u001b[43m)\u001b[49m\n",
      "\u001b[0;31mTypeError\u001b[0m: BaseModel.__init__() takes 1 positional argument but 2 were given"
     ]
    }
   ],
   "source": []
  }
 ],
 "metadata": {
  "kernelspec": {
   "display_name": "di-maintenance-agent-demo-DCv9_gKb-py3.10",
   "language": "python",
   "name": "python3"
  },
  "language_info": {
   "codemirror_mode": {
    "name": "ipython",
    "version": 3
   },
   "file_extension": ".py",
   "mimetype": "text/x-python",
   "name": "python",
   "nbconvert_exporter": "python",
   "pygments_lexer": "ipython3",
   "version": "3.10.12"
  }
 },
 "nbformat": 4,
 "nbformat_minor": 2
}
