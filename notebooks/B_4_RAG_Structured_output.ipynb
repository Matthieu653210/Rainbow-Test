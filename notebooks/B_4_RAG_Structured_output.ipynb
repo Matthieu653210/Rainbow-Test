{
 "cells": [
  {
   "cell_type": "code",
   "execution_count": 1,
   "metadata": {},
   "outputs": [
    {
     "data": {
      "text/plain": [
       "True"
      ]
     },
     "execution_count": 1,
     "metadata": {},
     "output_type": "execute_result"
    }
   ],
   "source": [
    "from dotenv import load_dotenv\n",
    "from rich import print\n",
    "\n",
    "%load_ext autoreload\n",
    "%autoreload 2\n",
    "\n",
    "load_dotenv(verbose=True)\n"
   ]
  },
  {
   "cell_type": "code",
   "execution_count": 2,
   "metadata": {},
   "outputs": [
    {
     "name": "stderr",
     "output_type": "stream",
     "text": [
      "USER_AGENT environment variable not set, consider setting it to identify your requests.\n"
     ]
    }
   ],
   "source": [
    "# cSpell:disable\n",
    "\n",
    "import re\n",
    "\n",
    "from langchain.output_parsers import PydanticOutputParser\n",
    "from langchain_community.document_loaders.web_base import WebBaseLoader\n",
    "from pydantic import BaseModel, Field\n",
    "\n",
    "URL = \"https://www.agroparistech.fr/formations-ingenieur/mention-biodiversite-ecologie-evolution-montpellier-parcours-m1-biodiversite-vegetale-gestion-ecosystemes-tropicaux-montpellier\"\n",
    "\n",
    "loader = WebBaseLoader(URL)\n",
    "doc = loader.load()\n",
    "page = doc[0].page_content.strip()\n",
    "page_cleaned = re.sub(r\"[\\t ]+\", \" \", page)\n",
    "page_cleaned = re.sub(r\"\\n{3,}\", \"\\n\\n\", page_cleaned)"
   ]
  },
  {
   "cell_type": "code",
   "execution_count": 3,
   "metadata": {},
   "outputs": [
    {
     "name": "stderr",
     "output_type": "stream",
     "text": [
      "\u001b[32m2025-04-02 15:15:59.690\u001b[0m | \u001b[1mINFO    \u001b[0m | \u001b[36msrc.utils.config_mngr\u001b[0m:\u001b[36msingleton\u001b[0m:\u001b[36m99\u001b[0m - \u001b[1mselected config=training_edenai\u001b[0m\n",
      "\u001b[32m2025-04-02 15:15:59.699\u001b[0m | \u001b[1mINFO    \u001b[0m | \u001b[36msrc.ai_core.cache\u001b[0m:\u001b[36mset_method\u001b[0m:\u001b[36m89\u001b[0m - \u001b[1mLLM cache : InMemoryCache\u001b[0m\n",
      "\u001b[32m2025-04-02 15:15:59.776\u001b[0m | \u001b[1mINFO    \u001b[0m | \u001b[36msrc.ai_core.llm\u001b[0m:\u001b[36mget_llm\u001b[0m:\u001b[36m497\u001b[0m - \u001b[1mget LLM:'gpt_4omini_edenai' -extra: {'temperature': 0.0}\u001b[0m\n"
     ]
    },
    {
     "data": {
      "text/html": [
       "<pre style=\"white-space:pre;overflow-x:auto;line-height:normal;font-family:Menlo,'DejaVu Sans Mono',consolas,'Courier New',monospace\"><span style=\"font-weight: bold\">[</span>\n",
       "    <span style=\"color: #800080; text-decoration-color: #800080; font-weight: bold\">Parcours</span><span style=\"font-weight: bold\">(</span>\n",
       "        <span style=\"color: #808000; text-decoration-color: #808000\">metiers</span>=<span style=\"font-weight: bold\">[</span>\n",
       "            <span style=\"color: #008000; text-decoration-color: #008000\">'Chercheur en biodiversité'</span>,\n",
       "            <span style=\"color: #008000; text-decoration-color: #008000\">\"Gestionnaire d'écosystèmes\"</span>,\n",
       "            <span style=\"color: #008000; text-decoration-color: #008000\">'Consultant en environnement'</span>,\n",
       "            <span style=\"color: #008000; text-decoration-color: #008000\">'Chargé de mission en conservation'</span>,\n",
       "            <span style=\"color: #008000; text-decoration-color: #008000\">'Enseignant-chercheur'</span>\n",
       "        <span style=\"font-weight: bold\">]</span>,\n",
       "        <span style=\"color: #808000; text-decoration-color: #808000\">domaines</span>=<span style=\"font-weight: bold\">[</span>\n",
       "            <span style=\"color: #008000; text-decoration-color: #008000\">'Biodiversité végétale'</span>,\n",
       "            <span style=\"color: #008000; text-decoration-color: #008000\">'Écologie'</span>,\n",
       "            <span style=\"color: #008000; text-decoration-color: #008000\">'Gestion environnementale'</span>,\n",
       "            <span style=\"color: #008000; text-decoration-color: #008000\">'Sciences biologiques'</span>,\n",
       "            <span style=\"color: #008000; text-decoration-color: #008000\">'Sciences sociales'</span>\n",
       "        <span style=\"font-weight: bold\">]</span>\n",
       "    <span style=\"font-weight: bold\">)</span>\n",
       "<span style=\"font-weight: bold\">]</span>\n",
       "</pre>\n"
      ],
      "text/plain": [
       "\u001b[1m[\u001b[0m\n",
       "    \u001b[1;35mParcours\u001b[0m\u001b[1m(\u001b[0m\n",
       "        \u001b[33mmetiers\u001b[0m=\u001b[1m[\u001b[0m\n",
       "            \u001b[32m'Chercheur en biodiversité'\u001b[0m,\n",
       "            \u001b[32m\"Gestionnaire d'écosystèmes\"\u001b[0m,\n",
       "            \u001b[32m'Consultant en environnement'\u001b[0m,\n",
       "            \u001b[32m'Chargé de mission en conservation'\u001b[0m,\n",
       "            \u001b[32m'Enseignant-chercheur'\u001b[0m\n",
       "        \u001b[1m]\u001b[0m,\n",
       "        \u001b[33mdomaines\u001b[0m=\u001b[1m[\u001b[0m\n",
       "            \u001b[32m'Biodiversité végétale'\u001b[0m,\n",
       "            \u001b[32m'Écologie'\u001b[0m,\n",
       "            \u001b[32m'Gestion environnementale'\u001b[0m,\n",
       "            \u001b[32m'Sciences biologiques'\u001b[0m,\n",
       "            \u001b[32m'Sciences sociales'\u001b[0m\n",
       "        \u001b[1m]\u001b[0m\n",
       "    \u001b[1m)\u001b[0m\n",
       "\u001b[1m]\u001b[0m\n"
      ]
     },
     "metadata": {},
     "output_type": "display_data"
    }
   ],
   "source": [
    "from src.ai_core.llm import get_llm\n",
    "from src.ai_core.prompts import def_prompt\n",
    "\n",
    "\n",
    "class Parcours(BaseModel):\n",
    "    metiers: list[str] = Field(description=\"liste de metiers auquels peut conduire la formation\")\n",
    "    domaines: list[str] = Field(description=\"domaines auquels s'applique cette formation\")\n",
    "\n",
    "\n",
    "system = \"\"\"\n",
    "    Extraire les metiers et les domaines d'une fiche de description de formation récupérée sur internet.\n",
    "    Repondre seulement avec les informations disponibles dans la description.\n",
    "    \\n\n",
    "    \"\"\"\n",
    "user = \"\"\"\n",
    "    fiche de desctiption de formation:\n",
    "    ---\n",
    "    {fiche}\n",
    "    ---\n",
    "    {format_instructions}\"\"\"\n",
    "\n",
    "parser = PydanticOutputParser(pydantic_object=Parcours)\n",
    "\n",
    "prompt = def_prompt(system=system, user=user).partial(format_instructions=parser.get_format_instructions())\n",
    "\n",
    "llm = get_llm(temperature=0.0)\n",
    "chain = prompt | llm | parser\n",
    "summaries = chain.batch([{\"fiche\": page_cleaned}], {\"max_concurrency\": 5})\n",
    "\n",
    "print(summaries)"
   ]
  },
  {
   "cell_type": "code",
   "execution_count": null,
   "metadata": {},
   "outputs": [],
   "source": []
  }
 ],
 "metadata": {
  "kernelspec": {
   "display_name": ".venv",
   "language": "python",
   "name": "python3"
  },
  "language_info": {
   "codemirror_mode": {
    "name": "ipython",
    "version": 3
   },
   "file_extension": ".py",
   "mimetype": "text/x-python",
   "name": "python",
   "nbconvert_exporter": "python",
   "pygments_lexer": "ipython3",
   "version": "3.12.3"
  }
 },
 "nbformat": 4,
 "nbformat_minor": 2
}
