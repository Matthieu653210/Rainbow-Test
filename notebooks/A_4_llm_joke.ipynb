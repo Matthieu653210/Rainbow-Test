{
 "cells": [
  {
   "cell_type": "markdown",
   "metadata": {},
   "source": [
    "# LLM Joke (First LLM calls)"
   ]
  },
  {
   "cell_type": "code",
   "execution_count": 2,
   "metadata": {},
   "outputs": [],
   "source": [
    "# Default Setup Cell.\n",
    "# It imports environment variables, define 'devtools.debug\" as a buildin, set PYTHONPATH and autorelaod\n",
    "# Copy it in other Notebooks\n",
    "\n",
    "import builtins\n",
    "\n",
    "from devtools import debug\n",
    "from dotenv import load_dotenv\n",
    "\n",
    "setattr(builtins, \"debug\", debug)\n",
    "load_dotenv(verbose=True)\n",
    "\n",
    "%load_ext autoreload\n",
    "%autoreload 2\n",
    "%reset -f\n",
    "\n",
    "!export PYTHONPATH=\":./python\""
   ]
  },
  {
   "cell_type": "markdown",
   "metadata": {},
   "source": [
    "### LLM Factory\n",
    "\n",
    "To facilitate the selection and configuration of LLM and their provider, we have an \"LLM Factory'. <br> <br>\n",
    "See [llm.py](../python/ai_core/llm.py)  <br>\n",
    "\n",
    "List of hard-coded LLM configuration is:"
   ]
  },
  {
   "cell_type": "code",
   "execution_count": 4,
   "metadata": {},
   "outputs": [
    {
     "name": "stderr",
     "output_type": "stream",
     "text": [
      "\u001b[32m2025-01-06 11:55:22.483\u001b[0m | \u001b[1mINFO    \u001b[0m | \u001b[36mpython.config\u001b[0m:\u001b[36myaml_file_config\u001b[0m:\u001b[36m47\u001b[0m - \u001b[1mload /home/tcl/prj/genai-blueprint/app_conf.yaml\u001b[0m\n",
      "\u001b[32m2025-01-06 11:55:22.486\u001b[0m | \u001b[1mINFO    \u001b[0m | \u001b[36mpython.config\u001b[0m:\u001b[36myaml_file_config\u001b[0m:\u001b[36m56\u001b[0m - \u001b[1mOverride config from env. variable: edc_local\u001b[0m\n"
     ]
    },
    {
     "data": {
      "text/plain": [
       "['claude_haiku35_openrouter',\n",
       " 'claude_sonnet35_openrouter',\n",
       " 'deepseek_v3_openrouter',\n",
       " 'gemma2_2_ollama',\n",
       " 'google_gemini15flash_edenai',\n",
       " 'google_gemini15flash_openrouter',\n",
       " 'google_gemini15pro_openrouter',\n",
       " 'gpt_35_azure',\n",
       " 'gpt_35_openai',\n",
       " 'gpt_4_edenai',\n",
       " 'gpt_4o_azure',\n",
       " 'gpt_4o_edenai',\n",
       " 'gpt_4o_openai',\n",
       " 'gpt_4omini_edenai',\n",
       " 'gpt_4omini_openai',\n",
       " 'gpt_4t_azure',\n",
       " 'liquid_lfm40_openrouter',\n",
       " 'llama31_405_deepinfra',\n",
       " 'llama31_8_deepinfra',\n",
       " 'llama31_8_groq',\n",
       " 'llama32_3_ollama',\n",
       " 'llama32_90V_deepinfra',\n",
       " 'llama32_90V_openrouter',\n",
       " 'llama33_70_deepinfra',\n",
       " 'llama33_70_groq',\n",
       " 'llama33_70_openrouter',\n",
       " 'llava_phi3_ollama',\n",
       " 'mistral_large_edenai',\n",
       " 'mistral_nemo_openrouter',\n",
       " 'mixtral_7x8_deepinfra',\n",
       " 'mixtral_7x8_groq',\n",
       " 'nova_lite10_openrouter',\n",
       " 'nova_pro10_openrouter',\n",
       " 'nvidia_nemotrom70_deepinfra',\n",
       " 'nvidia_nemotrom70_openrouter',\n",
       " 'qwen25_72_openrouter',\n",
       " 'qwen25_coder32_openrouter',\n",
       " 'qwen2_70_deepinfra',\n",
       " 'qwen2_vl72_openrouter',\n",
       " 'wizard2_8x22_deepinfra']"
      ]
     },
     "execution_count": 4,
     "metadata": {},
     "output_type": "execute_result"
    }
   ],
   "source": [
    "from python.ai_core.llm import LlmFactory, get_llm\n",
    "\n",
    "LlmFactory().known_items()"
   ]
  },
  {
   "cell_type": "markdown",
   "metadata": {},
   "source": [
    "### Selection of an LLM and LLM provider"
   ]
  },
  {
   "cell_type": "code",
   "execution_count": null,
   "metadata": {},
   "outputs": [],
   "source": [
    "# Get the default LLM. We can configure the temperature, cache, max_token, ...\n",
    "\n",
    "\n",
    "llm_default = get_llm()\n",
    "debug(llm_default)\n",
    "\n",
    "# or get a given LLM;\n",
    "gpt4 = LlmFactory(llm_id=\"gpt_4o_azure\").get()  # Might NOT work if you din't have the API key"
   ]
  },
  {
   "cell_type": "code",
   "execution_count": null,
   "metadata": {},
   "outputs": [],
   "source": [
    "from python.ai_core.llm import get_configurable_llm, llm_config\n",
    "\n",
    "configurable_llm = get_configurable_llm()"
   ]
  },
  {
   "cell_type": "markdown",
   "metadata": {},
   "source": [
    "### Send a prompt to the LLM"
   ]
  },
  {
   "cell_type": "markdown",
   "metadata": {},
   "source": []
  },
  {
   "cell_type": "code",
   "execution_count": null,
   "metadata": {},
   "outputs": [],
   "source": [
    "joke1 = llm_default.invoke(\"tell me a sad joke\")\n",
    "debug(joke1)\n",
    "# Analyse the outcome\n",
    "\n",
    "joke2 = configurable_llm.with_config(llm_config(\"gpt_4omini_edenai\")).invoke(\"tell me a joke on data computers\")\n",
    "debug(joke2)"
   ]
  },
  {
   "cell_type": "markdown",
   "metadata": {},
   "source": [
    "### Call LLM ; Change dynamically.\n",
    "\n",
    "To be updated with available LLM."
   ]
  },
  {
   "cell_type": "code",
   "execution_count": null,
   "metadata": {},
   "outputs": [],
   "source": [
    "from langchain_core.prompts import PromptTemplate\n",
    "\n",
    "llm_dyn = get_llm()\n",
    "prompt = PromptTemplate.from_template(\"Tell me a joke about {topic}\")\n",
    "chain = prompt | llm_dyn\n",
    "c1 = chain.with_config(configurable={\"llm\": \"llama3_70_groq\"})\n",
    "r1 = c1.invoke({\"topic\": \"bears\"})\n",
    "debug(r1)\n",
    "c2 = chain.with_config(configurable={\"llm\": \"gpt_35_openai\"})\n",
    "r2 = c2.invoke({\"topic\": \"bears\"})\n",
    "debug(r2)"
   ]
  },
  {
   "cell_type": "code",
   "execution_count": 11,
   "metadata": {},
   "outputs": [
    {
     "name": "stderr",
     "output_type": "stream",
     "text": [
      "\u001b[32m2025-01-06 12:01:28.781\u001b[0m | \u001b[33m\u001b[1mWARNING \u001b[0m | \u001b[36mpython.ai_core.llm\u001b[0m:\u001b[36mget_llm\u001b[0m:\u001b[36m415\u001b[0m - \u001b[33m\u001b[1mllm_type and llm_id both  defined whaeras they are normally exclusive.  llm_id has the preference\u001b[0m\n",
      "\u001b[32m2025-01-06 12:01:28.784\u001b[0m | \u001b[1mINFO    \u001b[0m | \u001b[36mpython.ai_core.llm\u001b[0m:\u001b[36mget_llm\u001b[0m:\u001b[36m431\u001b[0m - \u001b[1mget LLM:'gpt_4omini_openai'\u001b[0m\n"
     ]
    }
   ],
   "source": [
    "fast_llm = get_llm(llm_type=\"fast_model\", llm_id=\"gpt_4omini_openai\")"
   ]
  }
 ],
 "metadata": {
  "kernelspec": {
   "display_name": "genai-blueprint-2X6HL8i2-py3.12",
   "language": "python",
   "name": "python3"
  },
  "language_info": {
   "codemirror_mode": {
    "name": "ipython",
    "version": 3
   },
   "file_extension": ".py",
   "mimetype": "text/x-python",
   "name": "python",
   "nbconvert_exporter": "python",
   "pygments_lexer": "ipython3",
   "version": "3.12.3"
  }
 },
 "nbformat": 4,
 "nbformat_minor": 2
}
