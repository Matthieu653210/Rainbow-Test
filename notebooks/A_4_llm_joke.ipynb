{
 "cells": [
  {
   "cell_type": "markdown",
   "metadata": {},
   "source": [
    "# LLM Joke (First LLM calls)"
   ]
  },
  {
   "cell_type": "code",
   "execution_count": 1,
   "metadata": {},
   "outputs": [],
   "source": [
    "from devtools import debug\n",
    "from dotenv import load_dotenv\n",
    "\n",
    "load_dotenv(verbose=True)\n",
    "\n",
    "!export PYTHONPATH=\":./python\""
   ]
  },
  {
   "cell_type": "markdown",
   "metadata": {},
   "source": [
    "### LLM Factory\n",
    "\n",
    "To facilitate the selection and configuration of LLM and their provider, we have an \"LLM Factory'. <br> <br>\n",
    "See [llm.py](../python/ai_core/llm.py)  <br>\n",
    "\n",
    "List of hard-coded LLM configuration is:"
   ]
  },
  {
   "cell_type": "code",
   "execution_count": 2,
   "metadata": {},
   "outputs": [
    {
     "data": {
      "text/plain": [
       "['gpt_35_openai',\n",
       " 'gpt_4o_openai',\n",
       " 'llama3_70_deepinfra',\n",
       " 'llama3_8_deepinfra',\n",
       " 'mixtral_7x8_deepinfra',\n",
       " 'llama3_70_deepinfra_lite',\n",
       " 'llama3_70_groq',\n",
       " 'llama3_8_groq',\n",
       " 'mixtral_7x8_groq',\n",
       " 'gemini_pro_google',\n",
       " 'llama3_8_local',\n",
       " 'gpt_4o_edenai',\n",
       " 'gpt_4_edenai',\n",
       " 'gpt_35_edenai',\n",
       " 'mistral_large_edenai',\n",
       " 'gpt_4_azure',\n",
       " 'gpt_35_azure',\n",
       " 'gpt_4o_azure']"
      ]
     },
     "execution_count": 2,
     "metadata": {},
     "output_type": "execute_result"
    }
   ],
   "source": [
    "from python.ai_core.llm import LlmFactory, get_llm\n",
    "\n",
    "LlmFactory().known_items()"
   ]
  },
  {
   "cell_type": "markdown",
   "metadata": {},
   "source": [
    "### Selection of an LLM and LLM provider"
   ]
  },
  {
   "cell_type": "code",
   "execution_count": 4,
   "metadata": {},
   "outputs": [
    {
     "name": "stderr",
     "output_type": "stream",
     "text": [
      "\u001b[32m2024-07-16 16:01:05.012\u001b[0m | \u001b[1mINFO    \u001b[0m | \u001b[36mpython.ai_core.llm\u001b[0m:\u001b[36mget_llm\u001b[0m:\u001b[36m411\u001b[0m - \u001b[1mget LLM : gpt_35_edenai - configurable: False\u001b[0m\n"
     ]
    },
    {
     "name": "stdout",
     "output_type": "stream",
     "text": [
      "/tmp/ipykernel_462870/3821042422.py:5 <module>\n",
      "    llm_default: ChatEdenAI(\n",
      "        model='gpt-3.5-turbo-0125',\n",
      "        max_tokens=2048,\n",
      "        edenai_api_key=SecretStr('**********'),\n",
      "    ) (ChatEdenAI)\n"
     ]
    }
   ],
   "source": [
    "# Get the default LLM. We can configure the temperature, cache, max_token, ...\n",
    "\n",
    "\n",
    "llm_default = get_llm()\n",
    "debug(llm_default)\n",
    "\n",
    "# Note that the LLM is configurable, ie we can change the LLM at run time\n",
    "# See https://python.langchain.com/v0.1/docs/expression_language/primitives/configure/#with-llms-1\n",
    "# (not necessary for the training)\n",
    "\n",
    "# or get a given LLM;\n",
    "gpt4 = LlmFactory(\n",
    "    llm_id=\"gpt_4o_azure\"\n",
    ").get()  # Might NOT work if you din't have the API key"
   ]
  },
  {
   "cell_type": "markdown",
   "metadata": {},
   "source": [
    "### Send a prompt to the LLM"
   ]
  },
  {
   "cell_type": "markdown",
   "metadata": {},
   "source": []
  },
  {
   "cell_type": "code",
   "execution_count": 5,
   "metadata": {},
   "outputs": [
    {
     "name": "stdout",
     "output_type": "stream",
     "text": [
      "/tmp/ipykernel_462870/3475873083.py:2 <module>\n",
      "    a: AIMessage(\n",
      "        content=(\n",
      "            \"Why couldn't the bicycle stand up by itself?\\n\"\n",
      "            '\\n'\n",
      "            'Because it was two tired!'\n",
      "        ),\n",
      "        response_metadata={\n",
      "            'openai': {\n",
      "                'generated_text': (\n",
      "                    \"Why couldn't the bicycle stand up by itself?\\n\"\n",
      "                    '\\n'\n",
      "                    'Because it was two tired!'\n",
      "                ),\n",
      "                'message': [\n",
      "                    {\n",
      "                        'role': 'user',\n",
      "                        'message': 'tell me a joke',\n",
      "                        'tools': None,\n",
      "                        'tool_calls': None,\n",
      "                    },\n",
      "                    {\n",
      "                        'role': 'assistant',\n",
      "                        'message': (\n",
      "                            \"Why couldn't the bicycle stand up by itself?\\n\"\n",
      "                            '\\n'\n",
      "                            'Because it was two tired!'\n",
      "                        ),\n",
      "                        'tools': None,\n",
      "                        'tool_calls': [],\n",
      "                    },\n",
      "                ],\n",
      "                'status': 'success',\n",
      "                'cost': 4.05e-05,\n",
      "            },\n",
      "        },\n",
      "        id='run-21b66731-0202-4777-92fe-068b2a5737e3-0',\n",
      "    ) (AIMessage)\n"
     ]
    },
    {
     "data": {
      "text/plain": [
       "AIMessage(content=\"Why couldn't the bicycle stand up by itself?\\n\\nBecause it was two tired!\", response_metadata={'openai': {'generated_text': \"Why couldn't the bicycle stand up by itself?\\n\\nBecause it was two tired!\", 'message': [{'role': 'user', 'message': 'tell me a joke', 'tools': None, 'tool_calls': None}, {'role': 'assistant', 'message': \"Why couldn't the bicycle stand up by itself?\\n\\nBecause it was two tired!\", 'tools': None, 'tool_calls': []}], 'status': 'success', 'cost': 4.05e-05}}, id='run-21b66731-0202-4777-92fe-068b2a5737e3-0')"
      ]
     },
     "execution_count": 5,
     "metadata": {},
     "output_type": "execute_result"
    }
   ],
   "source": [
    "a = llm_default.invoke(\"tell me a joke\")\n",
    "debug(a)\n",
    "# Analyse the outcome"
   ]
  },
  {
   "cell_type": "markdown",
   "metadata": {},
   "source": [
    "### Call LLM ; Change dynamically.\n",
    "\n",
    "To be updated with available LLM."
   ]
  },
  {
   "cell_type": "code",
   "execution_count": 6,
   "metadata": {},
   "outputs": [
    {
     "name": "stderr",
     "output_type": "stream",
     "text": [
      "\u001b[32m2024-07-16 16:02:49.345\u001b[0m | \u001b[1mINFO    \u001b[0m | \u001b[36mpython.ai_core.llm\u001b[0m:\u001b[36mget_llm\u001b[0m:\u001b[36m411\u001b[0m - \u001b[1mget LLM : gpt_35_edenai - configurable: False\u001b[0m\n"
     ]
    },
    {
     "name": "stdout",
     "output_type": "stream",
     "text": [
      "/tmp/ipykernel_462870/1179150227.py:8 <module>\n",
      "    r1: AIMessage(\n",
      "        content=(\n",
      "            'Why did the bear break up with his girlfriend? \\n'\n",
      "            '\\n'\n",
      "            \"Because he couldn't bear the relationship any longer!\"\n",
      "        ),\n",
      "        response_metadata={\n",
      "            'openai': {\n",
      "                'generated_text': (\n",
      "                    'Why did the bear break up with his girlfriend? \\n'\n",
      "                    '\\n'\n",
      "                    \"Because he couldn't bear the relationship any longer!\"\n",
      "                ),\n",
      "                'message': [\n",
      "                    {\n",
      "                        'role': 'user',\n",
      "                        'message': 'Tell me a joke about bears',\n",
      "                        'tools': None,\n",
      "                        'tool_calls': None,\n",
      "                    },\n",
      "                    {\n",
      "                        'role': 'assistant',\n",
      "                        'message': (\n",
      "                            'Why did the bear break up with his girlfriend? \\n'\n",
      "                            '\\n'\n",
      "                            \"Because he couldn't bear the relationship any longer!\"\n",
      "                        ),\n",
      "                        'tools': None,\n",
      "                        'tool_calls': [],\n",
      "                    },\n",
      "                ],\n",
      "                'status': 'success',\n",
      "                'cost': 5.1e-05,\n",
      "            },\n",
      "        },\n",
      "        id='run-e36886b4-1859-4cce-a3a2-de81ce7aa46c-0',\n",
      "    ) (AIMessage)\n",
      "/tmp/ipykernel_462870/1179150227.py:11 <module>\n",
      "    r2: AIMessage(\n",
      "        content=(\n",
      "            'Why did the bear break up with his girlfriend? \\n'\n",
      "            '\\n'\n",
      "            \"Because he couldn't bear the relationship any longer!\"\n",
      "        ),\n",
      "        response_metadata={\n",
      "            'openai': {\n",
      "                'generated_text': (\n",
      "                    'Why did the bear break up with his girlfriend? \\n'\n",
      "                    '\\n'\n",
      "                    \"Because he couldn't bear the relationship any longer!\"\n",
      "                ),\n",
      "                'message': [\n",
      "                    {\n",
      "                        'role': 'user',\n",
      "                        'message': 'Tell me a joke about bears',\n",
      "                        'tools': None,\n",
      "                        'tool_calls': None,\n",
      "                    },\n",
      "                    {\n",
      "                        'role': 'assistant',\n",
      "                        'message': (\n",
      "                            'Why did the bear break up with his girlfriend? \\n'\n",
      "                            '\\n'\n",
      "                            \"Because he couldn't bear the relationship any longer!\"\n",
      "                        ),\n",
      "                        'tools': None,\n",
      "                        'tool_calls': [],\n",
      "                    },\n",
      "                ],\n",
      "                'status': 'success',\n",
      "                'cost': 5.1e-05,\n",
      "            },\n",
      "        },\n",
      "        id='run-e36886b4-1859-4cce-a3a2-de81ce7aa46c-0',\n",
      "    ) (AIMessage)\n"
     ]
    },
    {
     "data": {
      "text/plain": [
       "AIMessage(content=\"Why did the bear break up with his girlfriend? \\n\\nBecause he couldn't bear the relationship any longer!\", response_metadata={'openai': {'generated_text': \"Why did the bear break up with his girlfriend? \\n\\nBecause he couldn't bear the relationship any longer!\", 'message': [{'role': 'user', 'message': 'Tell me a joke about bears', 'tools': None, 'tool_calls': None}, {'role': 'assistant', 'message': \"Why did the bear break up with his girlfriend? \\n\\nBecause he couldn't bear the relationship any longer!\", 'tools': None, 'tool_calls': []}], 'status': 'success', 'cost': 5.1e-05}}, id='run-e36886b4-1859-4cce-a3a2-de81ce7aa46c-0')"
      ]
     },
     "execution_count": 6,
     "metadata": {},
     "output_type": "execute_result"
    }
   ],
   "source": [
    "from langchain_core.prompts import PromptTemplate\n",
    "\n",
    "llm_dyn = get_llm()\n",
    "prompt = PromptTemplate.from_template(\"Tell me a joke about {topic}\")\n",
    "chain = prompt | llm_dyn\n",
    "c1 = chain.with_config(configurable={\"llm\": \"llama3_70_groq\"})\n",
    "r1 = c1.invoke({\"topic\": \"bears\"})\n",
    "debug(r1)\n",
    "c2 = chain.with_config(configurable={\"llm\": \"gpt_35_openai\"})\n",
    "r2 = c2.invoke({\"topic\": \"bears\"})\n",
    "debug(r2)"
   ]
  }
 ],
 "metadata": {
  "kernelspec": {
   "display_name": "genai-training-2X6HL8i2-py3.10",
   "language": "python",
   "name": "python3"
  },
  "language_info": {
   "codemirror_mode": {
    "name": "ipython",
    "version": 3
   },
   "file_extension": ".py",
   "mimetype": "text/x-python",
   "name": "python",
   "nbconvert_exporter": "python",
   "pygments_lexer": "ipython3",
   "version": "3.10.12"
  }
 },
 "nbformat": 4,
 "nbformat_minor": 2
}
