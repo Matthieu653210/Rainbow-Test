{
 "cells": [
  {
   "cell_type": "markdown",
   "metadata": {},
   "source": [
    "#  Graph RAG using LangChain and Kuzu \n",
    "\n",
    "Taken  from https://pypi.org/project/langchain-kuzu/ "
   ]
  },
  {
   "cell_type": "code",
   "execution_count": 1,
   "metadata": {},
   "outputs": [],
   "source": [
    "# A default setup cell.\n",
    "# It imports environment variables, define 'devtools.debug\" as a buildins, set PYTHONPATH, and code auto-reload\n",
    "# Copy it in other Notebooks\n",
    "\n",
    "import builtins\n",
    "\n",
    "from devtools import debug\n",
    "from dotenv import load_dotenv\n",
    "\n",
    "setattr(builtins, \"debug\", debug)\n",
    "load_dotenv(verbose=True)\n",
    "%load_ext autoreload\n",
    "%autoreload 2\n",
    "%reset -f\n",
    "!export PYTHONPATH=\":./python\"\n",
    "# cSpell: disable"
   ]
  },
  {
   "cell_type": "code",
   "execution_count": 2,
   "metadata": {},
   "outputs": [],
   "source": [
    "from pathlib import Path\n",
    "\n",
    "import kuzu\n",
    "from ipycytoscape import CytoscapeWidget\n",
    "from langchain_core.documents import Document\n",
    "from langchain_experimental.graph_transformers import LLMGraphTransformer\n",
    "from langchain_kuzu.chains.graph_qa.kuzu import KuzuQAChain\n",
    "from langchain_kuzu.graphs.kuzu_graph import KuzuGraph\n",
    "from langchain_openai import ChatOpenAI\n"
   ]
  },
  {
   "cell_type": "code",
   "execution_count": 3,
   "metadata": {},
   "outputs": [
    {
     "name": "stdout",
     "output_type": "stream",
     "text": [
      "load {DB}\n"
     ]
    }
   ],
   "source": [
    "DB = \"test_db\"\n",
    "\n",
    "if not Path(DB).exists():\n",
    "    text = \"Tim Cook is the CEO of Apple. Apple has its headquarters in California.\"\n",
    "\n",
    "    # Define schema\n",
    "    allowed_nodes = [\"Person\", \"Company\", \"Location\"]\n",
    "    allowed_relationships = [\n",
    "        (\"Person\", \"IS_CEO_OF\", \"Company\"),\n",
    "        (\"Company\", \"HAS_HEADQUARTERS_IN\", \"Location\"),\n",
    "    ]\n",
    "    # Define the LLMGraphTransformer\n",
    "    llm_transformer = LLMGraphTransformer(\n",
    "        llm=ChatOpenAI(model=\"gpt-4o-mini\", temperature=0),\n",
    "        allowed_nodes=allowed_nodes,\n",
    "        allowed_relationships=allowed_relationships,\n",
    "    )\n",
    "\n",
    "    # Convert the given text into graph documents\n",
    "    documents = [Document(page_content=text)]\n",
    "    graph_documents = llm_transformer.convert_to_graph_documents(documents)\n",
    "    db = kuzu.Database(DB)\n",
    "    graph = KuzuGraph(db, allow_dangerous_requests=True)\n",
    "\n",
    "    # Add the graph document to the graph\n",
    "    graph.add_graph_documents(\n",
    "        graph_documents,\n",
    "        include_source=True,\n",
    "    )\n",
    "else:\n",
    "    print(\"load {DB}\")\n"
   ]
  },
  {
   "cell_type": "code",
   "execution_count": 4,
   "metadata": {},
   "outputs": [
    {
     "name": "stdout",
     "output_type": "stream",
     "text": [
      "\n",
      "\n",
      "\u001b[1m> Entering new KuzuQAChain chain...\u001b[0m\n",
      "Generated Cypher:\n",
      "\u001b[32;1m\u001b[1;3mMATCH (p:Person)-[:IS_CEO_OF]->(c:Company) WHERE LOWER(c.id) = 'apple' RETURN p\u001b[0m\n",
      "Full Context:\n",
      "\u001b[32;1m\u001b[1;3m[{'p': {'_id': {'offset': 0, 'table': 3}, '_label': 'Person', 'id': 'Tim Cook', 'type': 'entity'}}]\u001b[0m\n",
      "\n",
      "\u001b[1m> Finished chain.\u001b[0m\n",
      "Query: Who is the CEO of Apple?\n",
      "Result: {'query': 'Who is the CEO of Apple?', 'result': 'Tim Cook is the CEO of Apple.'}\n",
      "\n",
      "\n",
      "\n",
      "\u001b[1m> Entering new KuzuQAChain chain...\u001b[0m\n",
      "Generated Cypher:\n",
      "\u001b[32;1m\u001b[1;3mMATCH (c:Company {id: LOWER('Apple')})-[:HAS_HEADQUARTERS_IN]->(l:Location) RETURN l\u001b[0m\n",
      "Full Context:\n",
      "\u001b[32;1m\u001b[1;3m[]\u001b[0m\n",
      "\n",
      "\u001b[1m> Finished chain.\u001b[0m\n",
      "Query: Where is Apple headquartered?\n",
      "Result: {'query': 'Where is Apple headquartered?', 'result': \"I don't know the answer.\"}\n",
      "\n"
     ]
    }
   ],
   "source": [
    "db = kuzu.Database(DB)\n",
    "graph = KuzuGraph(db, allow_dangerous_requests=True)\n",
    "\n",
    "# Create the KuzuQAChain with verbosity enabled to see the generated Cypher queries\n",
    "chain = KuzuQAChain.from_llm(\n",
    "    llm=ChatOpenAI(model=\"gpt-4o-mini\", temperature=0.3),\n",
    "    graph=graph,\n",
    "    verbose=True,\n",
    "    allow_dangerous_requests=True,\n",
    ")\n",
    "\n",
    "# Query the graph\n",
    "queries = [\n",
    "    \"Who is the CEO of Apple?\",\n",
    "    \"Where is Apple headquartered?\",\n",
    "]\n",
    "\n",
    "for query in queries:\n",
    "    result = chain.invoke(query)\n",
    "    print(f\"Query: {query}\\nResult: {result}\\n\")"
   ]
  },
  {
   "cell_type": "code",
   "execution_count": 20,
   "metadata": {},
   "outputs": [],
   "source": []
  },
  {
   "cell_type": "code",
   "execution_count": 7,
   "metadata": {},
   "outputs": [
    {
     "data": {
      "application/vnd.jupyter.widget-view+json": {
       "model_id": "cc09dc046bc2401390f27110bf38f9f7",
       "version_major": 2,
       "version_minor": 0
      },
      "text/plain": [
       "CytoscapeWidget(cytoscape_layout={'name': 'cola', 'animate': True}, cytoscape_style=[{'selector': 'node', 'css…"
      ]
     },
     "execution_count": 7,
     "metadata": {},
     "output_type": "execute_result"
    }
   ],
   "source": [
    "# Get all nodes and relationships in Cytoscape JSON format\n",
    "cyto_data = {\"nodes\": [], \"edges\": []}\n",
    "\n",
    "# Query all nodes\n",
    "nodes_query = \"MATCH (n) RETURN n\"\n",
    "nodes_result = graph.query(nodes_query)\n",
    "\n",
    "# Add nodes to Cytoscape data, excluding text_chunk nodes\n",
    "for node in nodes_result:\n",
    "    if node[\"n\"][\"type\"] != \"text_chunk\":\n",
    "        cyto_data[\"nodes\"].append(\n",
    "            {\"data\": {\"id\": node[\"n\"][\"id\"], \"label\": node[\"n\"][\"_label\"], \"type\": node[\"n\"][\"type\"]}}\n",
    "        )\n",
    "\n",
    "# Query all relationships\n",
    "rels_query = \"MATCH (a)-[r]->(b) RETURN a, r, b\"\n",
    "rels_result = graph.query(rels_query)\n",
    "\n",
    "# Add relationships to Cytoscape data, excluding those involving text_chunk nodes\n",
    "for rel in rels_result:\n",
    "    if rel[\"a\"][\"type\"] != \"text_chunk\" and rel[\"b\"][\"type\"] != \"text_chunk\":\n",
    "        cyto_data[\"edges\"].append(\n",
    "            {\n",
    "                \"data\": {\n",
    "                    \"id\": f\"{rel['a']['id']}-{rel['r']['_label']}-{rel['b']['id']}\",\n",
    "                    \"source\": rel[\"a\"][\"id\"],\n",
    "                    \"target\": rel[\"b\"][\"id\"],\n",
    "                    \"label\": rel[\"r\"][\"_label\"],\n",
    "                }\n",
    "            }\n",
    "        )\n",
    "\n",
    "# Create Cytoscape widget\n",
    "cyto = CytoscapeWidget()\n",
    "cyto.graph.add_graph_from_json(cyto_data)\n",
    "\n",
    "# Set layout and style\n",
    "cyto.set_layout( animate=True)\n",
    "# cyto.set_style(\n",
    "#     [\n",
    "#         {\n",
    "#             \"selector\": \"node\",\n",
    "#             \"css\": {\n",
    "#                 \"content\": \"data(label)\",\n",
    "#                 \"text-valign\": \"center\",\n",
    "#                 \"color\": \"white\",\n",
    "#                 \"text-outline-width\": 2,\n",
    "#                 \"text-outline-color\": \"#888\",\n",
    "#                 \"background-color\": \"#666\",\n",
    "#             },\n",
    "#         },\n",
    "#         {\n",
    "#             \"selector\": \"edge\",\n",
    "#             \"css\": {\n",
    "#                 \"content\": \"data(label)\",\n",
    "#                 \"curve-style\": \"bezier\",\n",
    "#                 \"target-arrow-shape\": \"triangle\",\n",
    "#                 \"line-color\": \"#999\",\n",
    "#                 \"target-arrow-color\": \"#999\",\n",
    "#             },\n",
    "#         },\n",
    "#     ]\n",
    "# )\n",
    "\n",
    "# Display the graph\n",
    "cyto"
   ]
  },
  {
   "cell_type": "code",
   "execution_count": 22,
   "metadata": {},
   "outputs": [
    {
     "data": {
      "text/plain": [
       "{'nodes': [{'data': {'id': '9cb60013a7fbc1d4ad44a7ddaef20cbc',\n",
       "    'label': 'Chunk',\n",
       "    'type': 'text_chunk'}},\n",
       "  {'data': {'id': 'Apple', 'label': 'Company', 'type': 'entity'}},\n",
       "  {'data': {'id': 'California', 'label': 'Location', 'type': 'entity'}},\n",
       "  {'data': {'id': 'Tim Cook', 'label': 'Person', 'type': 'entity'}}],\n",
       " 'edges': [{'data': {'id': '9cb60013a7fbc1d4ad44a7ddaef20cbc-MENTIONS_Chunk_Person-Tim Cook',\n",
       "    'source': '9cb60013a7fbc1d4ad44a7ddaef20cbc',\n",
       "    'target': 'Tim Cook',\n",
       "    'label': 'MENTIONS_Chunk_Person'}},\n",
       "  {'data': {'id': '9cb60013a7fbc1d4ad44a7ddaef20cbc-MENTIONS_Chunk_Company-Apple',\n",
       "    'source': '9cb60013a7fbc1d4ad44a7ddaef20cbc',\n",
       "    'target': 'Apple',\n",
       "    'label': 'MENTIONS_Chunk_Company'}},\n",
       "  {'data': {'id': '9cb60013a7fbc1d4ad44a7ddaef20cbc-MENTIONS_Chunk_Location-California',\n",
       "    'source': '9cb60013a7fbc1d4ad44a7ddaef20cbc',\n",
       "    'target': 'California',\n",
       "    'label': 'MENTIONS_Chunk_Location'}},\n",
       "  {'data': {'id': 'Apple-HAS_HEADQUARTERS_IN-California',\n",
       "    'source': 'Apple',\n",
       "    'target': 'California',\n",
       "    'label': 'HAS_HEADQUARTERS_IN'}},\n",
       "  {'data': {'id': 'Tim Cook-IS_CEO_OF-Apple',\n",
       "    'source': 'Tim Cook',\n",
       "    'target': 'Apple',\n",
       "    'label': 'IS_CEO_OF'}}]}"
      ]
     },
     "execution_count": 22,
     "metadata": {},
     "output_type": "execute_result"
    }
   ],
   "source": [
    "cyto_data"
   ]
  }
 ],
 "metadata": {
  "kernelspec": {
   "display_name": "genai-blueprint-2X6HL8i2-py3.12",
   "language": "python",
   "name": "python3"
  },
  "language_info": {
   "codemirror_mode": {
    "name": "ipython",
    "version": 3
   },
   "file_extension": ".py",
   "mimetype": "text/x-python",
   "name": "python",
   "nbconvert_exporter": "python",
   "pygments_lexer": "ipython3",
   "version": "3.12.3"
  }
 },
 "nbformat": 4,
 "nbformat_minor": 2
}
