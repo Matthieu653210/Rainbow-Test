{
 "cells": [
  {
   "cell_type": "markdown",
   "metadata": {},
   "source": [
    "#  Graph RAG using LangChain and Kuzu \n",
    "\n",
    "Taken  from https://pypi.org/project/langchain-kuzu/ "
   ]
  },
  {
   "cell_type": "code",
   "execution_count": null,
   "metadata": {},
   "outputs": [],
   "source": [
    "# A default setup cell.\n",
    "# It imports environment variables, define 'devtools.debug\" as a buildins, set PYTHONPATH, and code auto-reload\n",
    "# Copy it in other Notebooks\n",
    "\n",
    "\n",
    "from dotenv import load_dotenv\n",
    "from rich import print as print\n",
    "\n",
    "load_dotenv(verbose=True)\n",
    "%load_ext autoreload\n",
    "%autoreload 2\n",
    "%reset -f\n",
    "\n",
    "# cSpell: disable"
   ]
  },
  {
   "cell_type": "code",
   "execution_count": null,
   "metadata": {},
   "outputs": [],
   "source": [
    "import kuzu\n",
    "from ipycytoscape import CytoscapeWidget\n",
    "from langchain_core.documents import Document\n",
    "from langchain_experimental.graph_transformers import LLMGraphTransformer\n",
    "from langchain_kuzu.chains.graph_qa.kuzu import KuzuQAChain\n",
    "from langchain_kuzu.graphs.kuzu_graph import KuzuGraph\n",
    "from langchain_openai import ChatOpenAI\n",
    "\n",
    "from src.ai_core.llm import get_llm"
   ]
  },
  {
   "cell_type": "code",
   "execution_count": null,
   "metadata": {},
   "outputs": [],
   "source": [
    "DB = \"test_db4\"\n",
    "MODEL_ID = None\n",
    "llm = get_llm(llm_id=MODEL_ID)\n",
    "\n",
    "# llm = ChatOpenAI(model=\"gpt-4o-mini\", temperature=0)\n",
    "\n",
    "text = \"Tim Cook is the CEO of Apple. Apple has its headquarters in California.\"\n",
    "\n",
    "if True:  # ne schema\n",
    "    allowed_nodes = [\"Person\", \"Company\", \"Location\"]\n",
    "    allowed_relationships = [\n",
    "        (\"Person\", \"IS_CEO_OF\", \"Company\"),\n",
    "        (\"Company\", \"HAS_HEADQUARTERS_IN\", \"Location\"),\n",
    "    ]\n",
    "    # Define the LLMGraphTransformer\n",
    "    llm_transformer = LLMGraphTransformer(\n",
    "        llm=llm,\n",
    "        allowed_nodes=allowed_nodes,\n",
    "        allowed_relationships=allowed_relationships,\n",
    "    )\n",
    "\n",
    "    # Convert the given text into graph documents\n",
    "    documents = [Document(page_content=text)]\n",
    "    graph_documents = llm_transformer.convert_to_graph_documents(documents)\n",
    "    db = kuzu.Database(DB)\n",
    "    graph = KuzuGraph(db, allow_dangerous_requests=True)\n",
    "\n",
    "    # Add the graph document to the graph\n",
    "    graph.add_graph_documents(\n",
    "        graph_documents,\n",
    "        include_source=True,\n",
    "    )\n",
    "else:\n",
    "    print(\"load {DB}\")"
   ]
  },
  {
   "cell_type": "code",
   "execution_count": null,
   "metadata": {},
   "outputs": [],
   "source": [
    "print(llm_transformer)"
   ]
  },
  {
   "cell_type": "code",
   "execution_count": null,
   "metadata": {},
   "outputs": [],
   "source": [
    "llm = get_llm(llm_id=\"gpt_4o_azure\")"
   ]
  },
  {
   "cell_type": "code",
   "execution_count": null,
   "metadata": {},
   "outputs": [],
   "source": [
    "db = kuzu.Database(DB)\n",
    "graph = KuzuGraph(db, allow_dangerous_requests=True)\n",
    "\n",
    "# Create the KuzuQAChain with verbosity enabled to see the generated Cypher queries\n",
    "chain = KuzuQAChain.from_llm(\n",
    "    llm=ChatOpenAI(model=\"gpt-4o-mini\", temperature=0.3),\n",
    "    graph=graph,\n",
    "    verbose=True,\n",
    "    allow_dangerous_requests=True,\n",
    ")\n",
    "\n",
    "# Query the graph\n",
    "queries = [\n",
    "    \"Who is the CEO of Apple?\",\n",
    "    \"Where is Apple headquartered?\",\n",
    "]\n",
    "\n",
    "for query in queries:\n",
    "    result = chain.invoke(query)\n",
    "    print(f\"Query: {query}\\nResult: {result}\\n\")"
   ]
  },
  {
   "cell_type": "code",
   "execution_count": null,
   "metadata": {},
   "outputs": [],
   "source": [
    "# Create Cytoscape widget\n",
    "from src.webapp.ui_components.cypher_graph_display import get_cytoscape_json, get_cytoscape_style\n",
    "\n",
    "cyto = CytoscapeWidget()\n",
    "cyto.graph.add_graph_from_json(get_cytoscape_json(graph))\n",
    "cyto.set_style(get_cytoscape_style())\n",
    "# Set layout and style\n",
    "cyto.set_layout(animate=True)"
   ]
  },
  {
   "cell_type": "code",
   "execution_count": null,
   "metadata": {},
   "outputs": [],
   "source": [
    "# Display the graph\n",
    "cyto"
   ]
  },
  {
   "cell_type": "code",
   "execution_count": null,
   "metadata": {},
   "outputs": [],
   "source": []
  }
 ],
 "metadata": {
  "kernelspec": {
   "display_name": ".venv",
   "language": "python",
   "name": "python3"
  },
  "language_info": {
   "codemirror_mode": {
    "name": "ipython",
    "version": 3
   },
   "file_extension": ".py",
   "mimetype": "text/x-python",
   "name": "python",
   "nbconvert_exporter": "python",
   "pygments_lexer": "ipython3",
   "version": "3.12.3"
  }
 },
 "nbformat": 4,
 "nbformat_minor": 2
}
