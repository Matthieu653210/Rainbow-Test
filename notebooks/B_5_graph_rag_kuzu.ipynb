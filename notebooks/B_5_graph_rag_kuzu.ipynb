{
 "cells": [
  {
   "cell_type": "markdown",
   "metadata": {},
   "source": [
    "#  Graph RAG using LangChain and Kuzu \n",
    "\n",
    "Taken  from https://pypi.org/project/langchain-kuzu/ "
   ]
  },
  {
   "cell_type": "code",
   "execution_count": 1,
   "metadata": {},
   "outputs": [],
   "source": [
    "# A default setup cell.\n",
    "# It imports environment variables, define 'devtools.debug\" as a buildins, set PYTHONPATH, and code auto-reload\n",
    "# Copy it in other Notebooks\n",
    "\n",
    "\n",
    "from dotenv import load_dotenv\n",
    "from rich import print\n",
    "\n",
    "load_dotenv(verbose=True)\n",
    "%load_ext autoreload\n",
    "%autoreload 2\n",
    "%reset -f\n",
    "\n",
    "# cSpell: disable"
   ]
  },
  {
   "cell_type": "code",
   "execution_count": 2,
   "metadata": {},
   "outputs": [
    {
     "name": "stderr",
     "output_type": "stream",
     "text": [
      "\u001b[32m2025-04-02 15:55:50.334\u001b[0m | \u001b[1mINFO    \u001b[0m | \u001b[36msrc.utils.config_mngr\u001b[0m:\u001b[36msingleton\u001b[0m:\u001b[36m99\u001b[0m - \u001b[1mselected config=training_edenai\u001b[0m\n",
      "\u001b[32m2025-04-02 15:55:50.345\u001b[0m | \u001b[1mINFO    \u001b[0m | \u001b[36msrc.ai_core.cache\u001b[0m:\u001b[36mset_method\u001b[0m:\u001b[36m89\u001b[0m - \u001b[1mLLM cache : InMemoryCache\u001b[0m\n"
     ]
    }
   ],
   "source": [
    "import kuzu\n",
    "from ipycytoscape import CytoscapeWidget\n",
    "from langchain_core.documents import Document\n",
    "from langchain_experimental.graph_transformers import LLMGraphTransformer\n",
    "from langchain_kuzu.chains.graph_qa.kuzu import KuzuQAChain\n",
    "from langchain_kuzu.graphs.kuzu_graph import KuzuGraph\n",
    "from langchain_openai import ChatOpenAI\n",
    "\n",
    "from src.ai_core.llm import get_llm"
   ]
  },
  {
   "cell_type": "code",
   "execution_count": 3,
   "metadata": {},
   "outputs": [
    {
     "name": "stderr",
     "output_type": "stream",
     "text": [
      "\u001b[32m2025-04-02 15:56:25.556\u001b[0m | \u001b[1mINFO    \u001b[0m | \u001b[36msrc.ai_core.llm\u001b[0m:\u001b[36mget_llm\u001b[0m:\u001b[36m497\u001b[0m - \u001b[1mget LLM:'gpt_4omini_edenai'\u001b[0m\n"
     ]
    }
   ],
   "source": [
    "DB = \"test_db4\"\n",
    "MODEL_ID = None\n",
    "llm = get_llm(llm_id=MODEL_ID)\n",
    "\n",
    "# llm = ChatOpenAI(model=\"gpt-4o-mini\", temperature=0)\n",
    "\n",
    "text = \"Tim Cook is the CEO of Apple. Apple has its headquarters in California.\"\n",
    "\n",
    "if True:  # ne schema\n",
    "    allowed_nodes = [\"Person\", \"Company\", \"Location\"]\n",
    "    allowed_relationships = [\n",
    "        (\"Person\", \"IS_CEO_OF\", \"Company\"),\n",
    "        (\"Company\", \"HAS_HEADQUARTERS_IN\", \"Location\"),\n",
    "    ]\n",
    "    # Define the LLMGraphTransformer\n",
    "    llm_transformer = LLMGraphTransformer(\n",
    "        llm=llm,\n",
    "        allowed_nodes=allowed_nodes,\n",
    "        allowed_relationships=allowed_relationships,\n",
    "    )\n",
    "\n",
    "    # Convert the given text into graph documents\n",
    "    documents = [Document(page_content=text)]\n",
    "    graph_documents = llm_transformer.convert_to_graph_documents(documents)\n",
    "    db = kuzu.Database(DB)\n",
    "    graph = KuzuGraph(db, allow_dangerous_requests=True)\n",
    "\n",
    "    # Add the graph document to the graph\n",
    "    graph.add_graph_documents(\n",
    "        graph_documents,\n",
    "        include_source=True,\n",
    "    )\n",
    "else:\n",
    "    print(\"load {DB}\")"
   ]
  },
  {
   "cell_type": "code",
   "execution_count": 4,
   "metadata": {},
   "outputs": [
    {
     "name": "stdout",
     "output_type": "stream",
     "text": [
      "<langchain_experimental.graph_transformers.llm.LLMGraphTransformer object at 0x7fe857ae0f20>\n"
     ]
    }
   ],
   "source": [
    "print(llm_transformer)"
   ]
  },
  {
   "cell_type": "code",
   "execution_count": 5,
   "metadata": {},
   "outputs": [
    {
     "name": "stderr",
     "output_type": "stream",
     "text": [
      "\u001b[32m2025-04-02 15:56:56.883\u001b[0m | \u001b[1mINFO    \u001b[0m | \u001b[36msrc.ai_core.llm\u001b[0m:\u001b[36mget_llm\u001b[0m:\u001b[36m497\u001b[0m - \u001b[1mget LLM:'gpt_4o_edenai'\u001b[0m\n"
     ]
    }
   ],
   "source": [
    "llm = get_llm(llm_id=\"gpt_4o_edenai\")"
   ]
  },
  {
   "cell_type": "code",
   "execution_count": 13,
   "metadata": {},
   "outputs": [
    {
     "name": "stderr",
     "output_type": "stream",
     "text": [
      "\u001b[32m2025-04-02 16:21:14.526\u001b[0m | \u001b[1mINFO    \u001b[0m | \u001b[36msrc.ai_core.llm\u001b[0m:\u001b[36mget_llm\u001b[0m:\u001b[36m497\u001b[0m - \u001b[1mget LLM:'gpt_4o_edenai'\u001b[0m\n"
     ]
    },
    {
     "name": "stdout",
     "output_type": "stream",
     "text": [
      "\n",
      "\n",
      "\u001b[1m> Entering new KuzuQAChain chain...\u001b[0m\n",
      "Generated Cypher:\n",
      "\u001b[32;1m\u001b[1;3mMATCH (p:Person)-[:IS_CEO_OF]->(c:Company) WHERE LOWER(c.id) = LOWER('Apple') RETURN p.id\u001b[0m\n",
      "Full Context:\n",
      "\u001b[32;1m\u001b[1;3m[{'p.id': 'Tim Cook'}]\u001b[0m\n",
      "\n",
      "\u001b[1m> Finished chain.\u001b[0m\n",
      "Query: Who is the CEO of Apple?\n",
      "Result: {'query': 'Who is the CEO of Apple?', 'result': 'Tim Cook is the CEO of Apple.'}\n",
      "\n",
      "\n",
      "\n",
      "\u001b[1m> Entering new KuzuQAChain chain...\u001b[0m\n",
      "Generated Cypher:\n",
      "\u001b[32;1m\u001b[1;3mMATCH (c:Company)-[:HAS_HEADQUARTERS_IN]->(l:Location) WHERE LOWER(c.id) = LOWER('Apple') RETURN l.id\u001b[0m\n",
      "Full Context:\n",
      "\u001b[32;1m\u001b[1;3m[{'l.id': 'California'}]\u001b[0m\n",
      "\n",
      "\u001b[1m> Finished chain.\u001b[0m\n",
      "Query: Where is Apple headquartered?\n",
      "Result: {'query': 'Where is Apple headquartered?', 'result': \"I don't know the answer.\"}\n",
      "\n"
     ]
    }
   ],
   "source": [
    "db = kuzu.Database(DB)\n",
    "graph = KuzuGraph(db, allow_dangerous_requests=True)\n",
    "\n",
    "# Create the KuzuQAChain with verbosity enabled to see the generated Cypher queries\n",
    "chain = KuzuQAChain.from_llm(\n",
    "    llm=get_llm(llm_id=\"gpt_4o_edenai\"),\n",
    "    graph=graph,\n",
    "    verbose=True,\n",
    "    allow_dangerous_requests=True,\n",
    ")\n",
    "\n",
    "# Query the graph\n",
    "queries = [\n",
    "    \"Who is the CEO of Apple?\",\n",
    "    \"Where is Apple headquartered?\",\n",
    "]\n",
    "\n",
    "for query in queries:\n",
    "    result = chain.invoke(query)\n",
    "    print(f\"Query: {query}\\nResult: {result}\\n\")"
   ]
  },
  {
   "cell_type": "code",
   "execution_count": 9,
   "metadata": {},
   "outputs": [],
   "source": [
    "# Create Cytoscape widget\n",
    "from src.webapp.ui_components.cypher_graph_display import get_cytoscape_json, get_cytoscape_style\n",
    "\n",
    "cyto = CytoscapeWidget()\n",
    "cyto.graph.add_graph_from_json(get_cytoscape_json(graph))\n",
    "cyto.set_style(get_cytoscape_style())\n",
    "# Set layout and style\n",
    "cyto.set_layout(animate=True)"
   ]
  },
  {
   "cell_type": "code",
   "execution_count": 10,
   "metadata": {},
   "outputs": [
    {
     "data": {
      "application/vnd.jupyter.widget-view+json": {
       "model_id": "8479ccfa84084072810c1d677266a374",
       "version_major": 2,
       "version_minor": 0
      },
      "text/plain": [
       "CytoscapeWidget(cytoscape_layout={'name': 'cola', 'animate': True}, cytoscape_style=[{'selector': 'node', 'css…"
      ]
     },
     "execution_count": 10,
     "metadata": {},
     "output_type": "execute_result"
    }
   ],
   "source": [
    "# Display the graph\n",
    "cyto"
   ]
  },
  {
   "cell_type": "code",
   "execution_count": null,
   "metadata": {},
   "outputs": [],
   "source": []
  }
 ],
 "metadata": {
  "kernelspec": {
   "display_name": ".venv",
   "language": "python",
   "name": "python3"
  },
  "language_info": {
   "codemirror_mode": {
    "name": "ipython",
    "version": 3
   },
   "file_extension": ".py",
   "mimetype": "text/x-python",
   "name": "python",
   "nbconvert_exporter": "python",
   "pygments_lexer": "ipython3",
   "version": "3.12.3"
  }
 },
 "nbformat": 4,
 "nbformat_minor": 2
}
