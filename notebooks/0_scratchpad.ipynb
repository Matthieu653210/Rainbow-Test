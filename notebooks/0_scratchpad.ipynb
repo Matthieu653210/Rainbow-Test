{
 "cells": [
  {
   "cell_type": "markdown",
   "metadata": {},
   "source": [
    "# A scratchpad Notebook \n",
    "\n",
    "Useful to develop new functionalities, test existing code, learn Python, run generated examples, etc"
   ]
  },
  {
   "cell_type": "code",
   "execution_count": null,
   "metadata": {},
   "outputs": [
    {
     "name": "stdout",
     "output_type": "stream",
     "text": [
      "The autoreload extension is already loaded. To reload it, use:\n",
      "  %reload_ext autoreload\n"
     ]
    },
    {
     "name": "stderr",
     "output_type": "stream",
     "text": [
      "291.48s - pydevd: Sending message related to process being replaced timed-out after 5 seconds\n"
     ]
    },
    {
     "name": "stdout",
     "output_type": "stream",
     "text": [
      "/tmp/ipykernel_68678/1938980786.py:19 <module>\n",
      "    'hello' (str) len=5\n"
     ]
    },
    {
     "data": {
      "text/plain": [
       "'hello'"
      ]
     },
     "execution_count": 3,
     "metadata": {},
     "output_type": "execute_result"
    }
   ],
   "source": [
    "# A default setup cell.\n",
    "# It imports environment variables, define 'devtools.debug\" as a buildins, set PYTHONPATH, and code auto-reload\n",
    "# Copy it in other Notebooks\n",
    "\n",
    "import builtins\n",
    "\n",
    "from devtools import debug\n",
    "from dotenv import load_dotenv\n",
    "\n",
    "setattr(builtins, \"debug\", debug)\n",
    "load_dotenv(verbose=True)\n",
    "\n",
    "%load_ext autoreload\n",
    "%autoreload 2\n",
    "%reset -f\n",
    "\n",
    "!export PYTHONPATH=\":./python\"\n"
   ]
  }
 ],
 "metadata": {
  "kernelspec": {
   "display_name": "genai-blueprint-2X6HL8i2-py3.12",
   "language": "python",
   "name": "python3"
  },
  "language_info": {
   "codemirror_mode": {
    "name": "ipython",
    "version": 3
   },
   "file_extension": ".py",
   "mimetype": "text/x-python",
   "name": "python",
   "nbconvert_exporter": "python",
   "pygments_lexer": "ipython3",
   "version": "3.12.3"
  }
 },
 "nbformat": 4,
 "nbformat_minor": 2
}
