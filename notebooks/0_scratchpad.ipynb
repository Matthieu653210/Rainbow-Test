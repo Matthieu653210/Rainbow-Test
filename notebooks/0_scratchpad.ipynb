{
 "cells": [
  {
   "cell_type": "markdown",
   "metadata": {},
   "source": [
    "# A scratchpad Notebook \n",
    "\n",
    "Useful to develop new functionalities, test existing code, learn Python, run generated examples, etc"
   ]
  },
  {
   "cell_type": "code",
   "execution_count": null,
   "metadata": {},
   "outputs": [
    {
     "ename": "NameError",
     "evalue": "name 'debug' is not defined",
     "output_type": "error",
     "traceback": [
      "\u001b[31m---------------------------------------------------------------------------\u001b[39m",
      "\u001b[31mNameError\u001b[39m                                 Traceback (most recent call last)",
      "\u001b[36mCell\u001b[39m\u001b[36m \u001b[39m\u001b[32mIn[2]\u001b[39m\u001b[32m, line 10\u001b[39m\n\u001b[32m      7\u001b[39m \u001b[38;5;28;01mfrom\u001b[39;00m\u001b[38;5;250m \u001b[39m\u001b[34;01mrich\u001b[39;00m\u001b[38;5;250m \u001b[39m\u001b[38;5;28;01mimport\u001b[39;00m \u001b[38;5;28mprint\u001b[39m \u001b[38;5;28;01mas\u001b[39;00m rprint\n\u001b[32m      8\u001b[39m \u001b[38;5;28;01mfrom\u001b[39;00m\u001b[38;5;250m \u001b[39m\u001b[34;01mdotenv\u001b[39;00m\u001b[38;5;250m \u001b[39m\u001b[38;5;28;01mimport\u001b[39;00m load_dotenv\n\u001b[32m---> \u001b[39m\u001b[32m10\u001b[39m builtins.debug = \u001b[43mdebug\u001b[49m\n\u001b[32m     11\u001b[39m load_dotenv(verbose=\u001b[38;5;28;01mTrue\u001b[39;00m)\n\u001b[32m     13\u001b[39m get_ipython().run_line_magic(\u001b[33m'\u001b[39m\u001b[33mload_ext\u001b[39m\u001b[33m'\u001b[39m, \u001b[33m'\u001b[39m\u001b[33mautoreload\u001b[39m\u001b[33m'\u001b[39m)\n",
      "\u001b[31mNameError\u001b[39m: name 'debug' is not defined"
     ]
    }
   ],
   "source": [
    "# A default setup cell.\n",
    "# It imports environment variables, define 'devtools.debug\" as a buildins, set PYTHONPATH, and code auto-reload\n",
    "# Copy it in other Notebooks\n",
    "\n",
    "\n",
    "from dotenv import load_dotenv\n",
    "from rich import print as rprint\n",
    "\n",
    "load_dotenv(verbose=True)\n",
    "\n",
    "%load_ext autoreload\n",
    "%autoreload 2\n",
    "%reset -f\n",
    "\n",
    "!export PYTHONPATH=\":./src:../scr\"\n",
    "# cSpell: disable"
   ]
  },
  {
   "cell_type": "code",
   "execution_count": null,
   "metadata": {},
   "outputs": [],
   "source": [
    "from pathlib import Path\n",
    "\n",
    "from src.utils.config_mngr import global_config\n",
    "\n",
    "print(Path.cwd())"
   ]
  },
  {
   "cell_type": "code",
   "execution_count": null,
   "metadata": {},
   "outputs": [],
   "source": [
    "from collections import ChainMap\n",
    "\n",
    "import rich\n",
    "from langchain_mcp_adapters.client import MultiServerMCPClient, StdioServerParameters\n",
    "\n",
    "from src.utils.config_mngr import global_config\n",
    "\n",
    "\n",
    "def get_mcp_servers_from_config() -> dict:\n",
    "    result = {}\n",
    "    servers = global_config().get(\"mcp_servers\")\n",
    "    servers.pop(\"description\", \"\")\n",
    "    for name, desc in servers.items():\n",
    "        _ = StdioServerParameters(**desc)  # quick test of validity\n",
    "        result[name] = dict(**desc)\n",
    "    return result\n",
    "\n",
    "\n",
    "rich.pretty.pprint(get_mcp_servers_from_config())\n",
    "\n",
    "rich.print(get_mcp_servers_from_config())"
   ]
  },
  {
   "cell_type": "code",
   "execution_count": null,
   "metadata": {},
   "outputs": [],
   "source": [
    "class Bird:\n",
    "    def __init__(self, name, eats=None, fly=True, extinct=False):\n",
    "        self.name = name\n",
    "        self.eats = list(eats) if eats else []\n",
    "        self.fly = fly\n",
    "        self.extinct = extinct\n",
    "\n",
    "    def __repr__(self):\n",
    "        return f\"Bird({self.name!r}, eats={self.eats!r}, fly={self.fly!r}, extinct={self.extinct!r})\"\n",
    "\n",
    "\n",
    "BIRDS = {\n",
    "    \"gull\": Bird(\"gull\", eats=[\"fish\", \"chips\", \"ice cream\", \"sausage rolls\"]),\n",
    "    \"penguin\": Bird(\"penguin\", eats=[\"fish\"], fly=False),\n",
    "    \"dodo\": Bird(\"dodo\", eats=[\"fruit\"], fly=False, extinct=True),\n",
    "}\n",
    "print(BIRDS)"
   ]
  },
  {
   "cell_type": "code",
   "execution_count": null,
   "metadata": {},
   "outputs": [],
   "source": [
    "rich.print(BIRDS)"
   ]
  },
  {
   "cell_type": "code",
   "execution_count": null,
   "metadata": {},
   "outputs": [],
   "source": [
    "from datetime import datetime\n",
    "\n",
    "from pydantic import BaseModel\n",
    "from rich import print as rprint\n",
    "\n",
    "\n",
    "class Address(BaseModel):\n",
    "    street: str\n",
    "    country: str\n",
    "    lat: float\n",
    "    lng: float\n",
    "\n",
    "\n",
    "class User(BaseModel):\n",
    "    id: int\n",
    "    name: str\n",
    "    signup_ts: datetime\n",
    "    friends: list[int]\n",
    "    address: Address\n",
    "\n",
    "\n",
    "user = User(\n",
    "    id=\"123\",\n",
    "    name=\"John Doe\",\n",
    "    signup_ts=\"2019-06-01 12:22\",\n",
    "    friends=[1234, 4567, 7890],\n",
    "    address=dict(street=\"Testing\", country=\"uk\", lat=51.5, lng=0),\n",
    ")\n",
    "debug(user)\n",
    "\n",
    "rich.print(user)\n",
    "print(\"\\nshould be much easier read than:\\n\")\n",
    "print(\"user:\", user)"
   ]
  },
  {
   "cell_type": "code",
   "execution_count": null,
   "metadata": {},
   "outputs": [],
   "source": [
    "from rich import print as rprint\n",
    "\n",
    "rprint(locals())"
   ]
  }
 ],
 "metadata": {
  "kernelspec": {
   "display_name": ".venv",
   "language": "python",
   "name": "python3"
  },
  "language_info": {
   "codemirror_mode": {
    "name": "ipython",
    "version": 3
   },
   "file_extension": ".py",
   "mimetype": "text/x-python",
   "name": "python",
   "nbconvert_exporter": "python",
   "pygments_lexer": "ipython3",
   "version": "3.12.3"
  }
 },
 "nbformat": 4,
 "nbformat_minor": 2
}
