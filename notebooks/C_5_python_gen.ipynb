{
 "cells": [
  {
   "cell_type": "code",
   "execution_count": 2,
   "metadata": {},
   "outputs": [],
   "source": [
    "from devtools import debug\n",
    "from dotenv import load_dotenv\n",
    "\n",
    "%load_ext autoreload\n",
    "%autoreload 2\n",
    "\n",
    "load_dotenv(verbose=True)\n",
    "!export PYTHONPATH=\":./python\"\n",
    "\n",
    "from langchain.agents.agent_types import AgentType\n",
    "from langchain_experimental.agents.agent_toolkits import create_python_agent\n",
    "from langchain_experimental.tools import PythonREPLTool\n",
    "from langchain import hub\n",
    "from langchain.agents import AgentExecutor\n",
    "\n",
    "from python.ai_core.llm import get_llm"
   ]
  },
  {
   "cell_type": "code",
   "execution_count": 3,
   "metadata": {},
   "outputs": [
    {
     "name": "stderr",
     "output_type": "stream",
     "text": [
      "\u001b[32m2024-07-18 17:09:23.974\u001b[0m | \u001b[1mINFO    \u001b[0m | \u001b[36mpython.ai_core.llm\u001b[0m:\u001b[36mget_llm\u001b[0m:\u001b[36m418\u001b[0m - \u001b[1mget LLM:'gpt_35_openai' -configurable: False - streaming: False\u001b[0m\n"
     ]
    }
   ],
   "source": [
    "instructions = \"\"\"You are an agent designed to write and execute python code to answer questions.\n",
    "You have access to a python REPL, which you can use to execute python code.\n",
    "If you get an error, debug your code and try again.\n",
    "Only use the output of your code to answer the question. \n",
    "You might know the answer without running any code, but you should still run the code to get the answer.\n",
    "If it does not seem like you can write code to answer the question, just return \"I don't know\" as the answer.\n",
    "\"\"\"\n",
    "from langchain.agents import AgentExecutor, create_tool_calling_agent\n",
    "\n",
    "llm = get_llm(llm_id=\"gpt_35_openai\") # works\n",
    "#llm = get_llm(llm_id=\"gpt_35_edenai\")\n",
    "\n",
    "base_prompt = hub.pull(\"langchain-ai/openai-functions-template\")\n",
    "prompt = base_prompt.partial(instructions=instructions)\n",
    "tools = [PythonREPLTool()]\n",
    "agent = create_tool_calling_agent(llm, tools, prompt)\n",
    "agent_executor = AgentExecutor(agent=agent, tools=tools, verbose=True)"
   ]
  },
  {
   "cell_type": "code",
   "execution_count": 4,
   "metadata": {},
   "outputs": [
    {
     "name": "stdout",
     "output_type": "stream",
     "text": [
      "\n",
      "\n",
      "\u001b[1m> Entering new AgentExecutor chain...\u001b[0m\n"
     ]
    },
    {
     "name": "stderr",
     "output_type": "stream",
     "text": [
      "Python REPL can execute arbitrary code. Use with caution.\n"
     ]
    },
    {
     "name": "stdout",
     "output_type": "stream",
     "text": [
      "\u001b[32;1m\u001b[1;3m\n",
      "Invoking: `Python_REPL` with `def fibonacci(n):\n",
      "    if n <= 1:\n",
      "        return n\n",
      "    else:\n",
      "        return fibonacci(n-1) + fibonacci(n-2)\n",
      "\n",
      "fibonacci(10)`\n",
      "\n",
      "\n",
      "\u001b[0m\u001b[36;1m\u001b[1;3m\u001b[0m\u001b[32;1m\u001b[1;3mThe 10th Fibonacci number is 55.\u001b[0m\n",
      "\n",
      "\u001b[1m> Finished chain.\u001b[0m\n"
     ]
    },
    {
     "data": {
      "text/plain": [
       "{'input': 'Using the tools you have, calculate the 10th fibonacci number',\n",
       " 'output': 'The 10th Fibonacci number is 55.'}"
      ]
     },
     "execution_count": 4,
     "metadata": {},
     "output_type": "execute_result"
    }
   ],
   "source": [
    "agent_executor.invoke({\"input\": \"Using the tools you have, calculate the 10th fibonacci number\"})"
   ]
  },
  {
   "cell_type": "code",
   "execution_count": null,
   "metadata": {},
   "outputs": [],
   "source": []
  },
  {
   "cell_type": "code",
   "execution_count": 6,
   "metadata": {},
   "outputs": [
    {
     "name": "stdout",
     "output_type": "stream",
     "text": [
      "\n",
      "\n",
      "\u001b[1m> Entering new AgentExecutor chain...\u001b[0m\n",
      "\u001b[32;1m\u001b[1;3m\n",
      "Invoking: `Python_REPL` with `import streamlit as st\n",
      "import numpy as np\n",
      "import matplotlib.pyplot as plt\n",
      "\n",
      "x = np.linspace(0, 10, 100)\n",
      "y = np.random.uniform(-10, 10, 100)\n",
      "\n",
      "fig, ax = plt.subplots()\n",
      "ax.plot(x, y)\n",
      "\n",
      "st.pyplot(fig)`\n",
      "\n",
      "\n",
      "\u001b[0m\u001b[36;1m\u001b[1;3m\u001b[0m\u001b[32;1m\u001b[1;3mI have generated the Streamlit code to create a plot with time on the X-axis and random values between -10 and 10 on the Y-axis. \n",
      "\n",
      "```python\n",
      "import streamlit as st\n",
      "import numpy as np\n",
      "import matplotlib.pyplot as plt\n",
      "\n",
      "x = np.linspace(0, 10, 100)\n",
      "y = np.random.uniform(-10, 10, 100)\n",
      "\n",
      "fig, ax = plt.subplots()\n",
      "ax.plot(x, y)\n",
      "\n",
      "st.pyplot(fig)\n",
      "```\n",
      "\n",
      "You can run this code in a Streamlit app to display the plot.\u001b[0m\n",
      "\n",
      "\u001b[1m> Finished chain.\u001b[0m\n"
     ]
    },
    {
     "data": {
      "text/plain": [
       "{'input': '\\nCreate a plot with time in X and random values between 10 et  10 in Y.\\nGenerate Streamlit code. \\n',\n",
       " 'output': 'I have generated the Streamlit code to create a plot with time on the X-axis and random values between -10 and 10 on the Y-axis. \\n\\n```python\\nimport streamlit as st\\nimport numpy as np\\nimport matplotlib.pyplot as plt\\n\\nx = np.linspace(0, 10, 100)\\ny = np.random.uniform(-10, 10, 100)\\n\\nfig, ax = plt.subplots()\\nax.plot(x, y)\\n\\nst.pyplot(fig)\\n```\\n\\nYou can run this code in a Streamlit app to display the plot.'}"
      ]
     },
     "execution_count": 6,
     "metadata": {},
     "output_type": "execute_result"
    }
   ],
   "source": [
    "query = \"\"\"\n",
    "Create a plot with time in X and random values between 10 et  10 in Y.\n",
    "Generate Streamlit code. \n",
    "\"\"\"\n",
    "agent_executor.invoke({\"input\": query})"
   ]
  },
  {
   "cell_type": "code",
   "execution_count": null,
   "metadata": {},
   "outputs": [],
   "source": []
  }
 ],
 "metadata": {
  "kernelspec": {
   "display_name": "di-maintenance-agent-demo-DCv9_gKb-py3.10",
   "language": "python",
   "name": "python3"
  },
  "language_info": {
   "codemirror_mode": {
    "name": "ipython",
    "version": 3
   },
   "file_extension": ".py",
   "mimetype": "text/x-python",
   "name": "python",
   "nbconvert_exporter": "python",
   "pygments_lexer": "ipython3",
   "version": "3.10.12"
  }
 },
 "nbformat": 4,
 "nbformat_minor": 2
}
