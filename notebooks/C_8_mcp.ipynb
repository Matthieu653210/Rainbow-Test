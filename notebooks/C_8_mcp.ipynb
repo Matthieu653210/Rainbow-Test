{
 "cells": [
  {
   "cell_type": "markdown",
   "metadata": {},
   "source": [
    "## Example of MCP (Model Context Protocol) call from a ReAct Agent\n",
    "\n",
    "Adapted from : https://github.com/rectalogic/langchain-mcp"
   ]
  },
  {
   "cell_type": "code",
   "execution_count": 22,
   "metadata": {},
   "outputs": [
    {
     "name": "stdout",
     "output_type": "stream",
     "text": [
      "The autoreload extension is already loaded. To reload it, use:\n",
      "  %reload_ext autoreload\n"
     ]
    }
   ],
   "source": [
    "# Default setup cell.\n",
    "import builtins\n",
    "\n",
    "from devtools import debug\n",
    "from dotenv import load_dotenv\n",
    "\n",
    "setattr(builtins, \"debug\", debug)\n",
    "load_dotenv(verbose=True)\n",
    "%load_ext autoreload\n",
    "%autoreload 2\n",
    "%reset -f\n",
    "!export PYTHONPATH=\":./python\""
   ]
  },
  {
   "cell_type": "code",
   "execution_count": null,
   "metadata": {},
   "outputs": [],
   "source": [
    "import pathlib\n",
    "\n",
    "from langchain_core.language_models.chat_models import BaseChatModel\n",
    "from langchain_core.tools import BaseTool\n",
    "from langchain_mcp.toolkit import MCPToolkit\n",
    "from langgraph.prebuilt import create_react_agent\n",
    "from mcp import ClientSession, StdioServerParameters\n",
    "from mcp.client.stdio import stdio_client\n",
    "\n",
    "from python.ai_core.llm import get_llm\n",
    "\n",
    "# set_debug(True)\n",
    "# set_verbose(True)\n",
    "\n",
    "MODEL_ID = \"llama31_8_groq\"\n",
    "llm = get_llm(llm_id=MODEL_ID)"
   ]
  },
  {
   "cell_type": "code",
   "execution_count": null,
   "metadata": {},
   "outputs": [],
   "source": [
    "async def run(llm: BaseChatModel, tools: list[BaseTool], prompt: str):\n",
    "    agent = create_react_agent(llm, tools=tools)\n",
    "    inputs = {\"messages\": [(\"user\", prompt)]}\n",
    "    return await agent.ainvoke(inputs)\n",
    "\n",
    "\n",
    "async def mcp_file_system(llm: BaseChatModel, prompt: str):\n",
    "    server_params = StdioServerParameters(\n",
    "        command=\"npx\",\n",
    "        args=[\"-y\", \"@modelcontextprotocol/server-filesystem\", str(pathlib.Path.cwd().parent.parent)],\n",
    "    )\n",
    "    async with stdio_client(server_params) as (read, write):\n",
    "        async with ClientSession(read, write) as session:\n",
    "            toolkit = MCPToolkit(session=session)\n",
    "            await toolkit.initialize()\n",
    "            return await run(llm, toolkit.get_tools(), prompt)\n"
   ]
  },
  {
   "cell_type": "code",
   "execution_count": null,
   "metadata": {},
   "outputs": [],
   "source": [
    "prompt = \"list parent directory of .\"\n",
    "r = await mcp_file_system(llm, prompt=prompt)\n",
    "message = r[\"messages\"][-1]\n",
    "debug(message.pretty_print())"
   ]
  }
 ],
 "metadata": {
  "kernelspec": {
   "display_name": "genai-blueprint-2X6HL8i2-py3.12",
   "language": "python",
   "name": "python3"
  },
  "language_info": {
   "codemirror_mode": {
    "name": "ipython",
    "version": 3
   },
   "file_extension": ".py",
   "mimetype": "text/x-python",
   "name": "python",
   "nbconvert_exporter": "python",
   "pygments_lexer": "ipython3",
   "version": "3.12.3"
  }
 },
 "nbformat": 4,
 "nbformat_minor": 2
}
