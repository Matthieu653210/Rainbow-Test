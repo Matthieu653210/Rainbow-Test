{
 "cells": [
  {
   "cell_type": "markdown",
   "metadata": {},
   "source": [
    "See also : https://www.perplexity.ai/search/how-can-i-use-several-clientse-4jYeihetSze0WfAVg3LZUg \n",
    "\n"
   ]
  },
  {
   "cell_type": "code",
   "execution_count": null,
   "metadata": {},
   "outputs": [],
   "source": [
    "# Default setup cell.\n",
    "import builtins\n",
    "\n",
    "from devtools import debug\n",
    "from dotenv import load_dotenv\n",
    "\n",
    "setattr(builtins, \"debug\", debug)\n",
    "load_dotenv(verbose=True)\n",
    "%load_ext autoreload\n",
    "%autoreload 2\n",
    "%reset -f\n",
    "!export PYTHONPATH=\":./python\""
   ]
  },
  {
   "cell_type": "code",
   "execution_count": null,
   "metadata": {},
   "outputs": [],
   "source": [
    "from mcp import StdioServerParameters\n",
    "\n",
    "from python.ai_core.llm import get_llm\n",
    "\n",
    "# set_debug(True)\n",
    "# set_verbose(True)\n",
    "\n",
    "MODEL_ID = \"deepseek_chatv3_deepseek\"\n",
    "llm = get_llm(llm_id=MODEL_ID)"
   ]
  },
  {
   "cell_type": "code",
   "execution_count": null,
   "metadata": {},
   "outputs": [],
   "source": [
    "import os\n",
    "from pathlib import Path\n",
    "\n",
    "from python.ai_extra.mcp_tools import mcp_agent_runner\n",
    "\n",
    "filesystem_mcp_params = StdioServerParameters(\n",
    "    command=\"npx\",\n",
    "    args=[\"-y\", \"@modelcontextprotocol/server-filesystem\", str(Path.cwd().parent)],\n",
    ")\n",
    "\n",
    "\n",
    "pubmed_mcp_params = StdioServerParameters(\n",
    "    command=\"uvx\",\n",
    "    args=[\"--quiet\", \"pubmedmcp@0.1.3\"],\n",
    "    env={\"UV_PYTHON\": \"3.12\", **os.environ},\n",
    ")\n",
    "\n",
    "arxiv_mcp_params = StdioServerParameters(\n",
    "    command=\"uv\",\n",
    "    args=[\"tools\", \"run\", \"@smithery/arxiv-mcp-server\", \"--storage-path\", \"/tmp\"],\n",
    ")\n",
    "\n",
    "timeserver_mcp_params = StdioServerParameters(\n",
    "    command=\"npx\",\n",
    "    args=[\"-y\", \"@modelcontextprotocol/mcp-server-time\"],\n",
    ")\n",
    "\n",
    "\n",
    "r = await mcp_agent_runner(llm, [filesystem_mcp_params], \"list the current directory\")\n",
    "debug(r)"
   ]
  }
 ],
 "metadata": {
  "kernelspec": {
   "display_name": "genai-blueprint-2X6HL8i2-py3.12",
   "language": "python",
   "name": "python3"
  },
  "language_info": {
   "codemirror_mode": {
    "name": "ipython",
    "version": 3
   },
   "file_extension": ".py",
   "mimetype": "text/x-python",
   "name": "python",
   "nbconvert_exporter": "python",
   "pygments_lexer": "ipython3",
   "version": "3.12.3"
  }
 },
 "nbformat": 4,
 "nbformat_minor": 2
}
