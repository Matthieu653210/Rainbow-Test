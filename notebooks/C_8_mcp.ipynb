{
 "cells": [
  {
   "cell_type": "code",
   "execution_count": 3,
   "metadata": {},
   "outputs": [],
   "source": [
    "# Copyright (C) 2024 Andrew Wason\n",
    "# SPDX-License-Identifier: MIT\n",
    "\n",
    "import asyncio\n",
    "import pathlib\n",
    "import sys\n",
    "import typing as t\n",
    "\n",
    "from langchain_core.messages import AIMessage, BaseMessage, HumanMessage\n",
    "from langchain_core.output_parsers import StrOutputParser\n",
    "from langchain_core.tools import BaseTool\n",
    "from langchain_groq import ChatGroq\n",
    "from langchain_mcp import MCPToolkit\n",
    "from mcp import ClientSession, StdioServerParameters\n",
    "from mcp.client.stdio import stdio_client\n",
    "\n",
    "\n",
    "async def run(tools: list[BaseTool], prompt: str) -> str:\n",
    "    model = ChatGroq(model=\"llama-3.1-8b-instant\", stop_sequences=None)  # requires GROQ_API_KEY\n",
    "    tools_map = {tool.name: tool for tool in tools}\n",
    "    tools_model = model.bind_tools(tools)\n",
    "    messages: list[BaseMessage] = [HumanMessage(prompt)]\n",
    "    ai_message = t.cast(AIMessage, await tools_model.ainvoke(messages))\n",
    "    messages.append(ai_message)\n",
    "    for tool_call in ai_message.tool_calls:\n",
    "        selected_tool = tools_map[tool_call[\"name\"].lower()]\n",
    "        tool_msg = await selected_tool.ainvoke(tool_call)\n",
    "        messages.append(tool_msg)\n",
    "    return await (tools_model | StrOutputParser()).ainvoke(messages)\n",
    "\n",
    "\n",
    "async def main(prompt: str) -> None:\n",
    "    server_params = StdioServerParameters(\n",
    "        command=\"npx\",\n",
    "        args=[\"-y\", \"@modelcontextprotocol/server-filesystem\", str(pathlib.Path(__file__).parent.parent)],\n",
    "    )\n",
    "    async with stdio_client(server_params) as (read, write):\n",
    "        async with ClientSession(read, write) as session:\n",
    "            toolkit = MCPToolkit(session=session)\n",
    "            await toolkit.initialize()\n",
    "            response = await run(toolkit.get_tools(), prompt)\n",
    "            print(response)\n",
    "\n",
    "\n"
   ]
  },
  {
   "cell_type": "code",
   "execution_count": 7,
   "metadata": {},
   "outputs": [
    {
     "name": "stderr",
     "output_type": "stream",
     "text": [
      "/usr/lib/python3.12/re/__init__.py:260: RuntimeWarning: coroutine 'main' was never awaited\n",
      "  return pattern.translate(_special_chars_map)\n",
      "RuntimeWarning: Enable tracemalloc to get the object allocation traceback\n"
     ]
    },
    {
     "ename": "NameError",
     "evalue": "name '__file__' is not defined",
     "output_type": "error",
     "traceback": [
      "\u001b[0;31m---------------------------------------------------------------------------\u001b[0m",
      "\u001b[0;31mNameError\u001b[0m                                 Traceback (most recent call last)",
      "Cell \u001b[0;32mIn[7], line 3\u001b[0m\n\u001b[1;32m      1\u001b[0m prompt \u001b[38;5;241m=\u001b[39m sys\u001b[38;5;241m.\u001b[39margv[\u001b[38;5;241m1\u001b[39m] \u001b[38;5;28;01mif\u001b[39;00m \u001b[38;5;28mlen\u001b[39m(sys\u001b[38;5;241m.\u001b[39margv) \u001b[38;5;241m>\u001b[39m \u001b[38;5;241m1\u001b[39m \u001b[38;5;28;01melse\u001b[39;00m \u001b[38;5;124m\"\u001b[39m\u001b[38;5;124mRead and summarize the file ./LICENSE\u001b[39m\u001b[38;5;124m\"\u001b[39m\n\u001b[1;32m      2\u001b[0m \u001b[38;5;66;03m# asyncio.run(main(prompt))\u001b[39;00m\n\u001b[0;32m----> 3\u001b[0m \u001b[38;5;28;01mawait\u001b[39;00m main(prompt\u001b[38;5;241m=\u001b[39mprompt)\n",
      "Cell \u001b[0;32mIn[3], line 35\u001b[0m, in \u001b[0;36mmain\u001b[0;34m(prompt)\u001b[0m\n\u001b[1;32m     32\u001b[0m \u001b[38;5;28;01masync\u001b[39;00m \u001b[38;5;28;01mdef\u001b[39;00m\u001b[38;5;250m \u001b[39m\u001b[38;5;21mmain\u001b[39m(prompt: \u001b[38;5;28mstr\u001b[39m) \u001b[38;5;241m-\u001b[39m\u001b[38;5;241m>\u001b[39m \u001b[38;5;28;01mNone\u001b[39;00m:\n\u001b[1;32m     33\u001b[0m     server_params \u001b[38;5;241m=\u001b[39m StdioServerParameters(\n\u001b[1;32m     34\u001b[0m         command\u001b[38;5;241m=\u001b[39m\u001b[38;5;124m\"\u001b[39m\u001b[38;5;124mnpx\u001b[39m\u001b[38;5;124m\"\u001b[39m,\n\u001b[0;32m---> 35\u001b[0m         args\u001b[38;5;241m=\u001b[39m[\u001b[38;5;124m\"\u001b[39m\u001b[38;5;124m-y\u001b[39m\u001b[38;5;124m\"\u001b[39m, \u001b[38;5;124m\"\u001b[39m\u001b[38;5;124m@modelcontextprotocol/server-filesystem\u001b[39m\u001b[38;5;124m\"\u001b[39m, \u001b[38;5;28mstr\u001b[39m(pathlib\u001b[38;5;241m.\u001b[39mPath(\u001b[38;5;18;43m__file__\u001b[39;49m)\u001b[38;5;241m.\u001b[39mparent\u001b[38;5;241m.\u001b[39mparent)],\n\u001b[1;32m     36\u001b[0m     )\n\u001b[1;32m     37\u001b[0m     \u001b[38;5;28;01masync\u001b[39;00m \u001b[38;5;28;01mwith\u001b[39;00m stdio_client(server_params) \u001b[38;5;28;01mas\u001b[39;00m (read, write):\n\u001b[1;32m     38\u001b[0m         \u001b[38;5;28;01masync\u001b[39;00m \u001b[38;5;28;01mwith\u001b[39;00m ClientSession(read, write) \u001b[38;5;28;01mas\u001b[39;00m session:\n",
      "\u001b[0;31mNameError\u001b[0m: name '__file__' is not defined"
     ]
    }
   ],
   "source": [
    "prompt = sys.argv[1] if len(sys.argv) > 1 else \"Read and summarize the file ./LICENSE\"\n",
    "# asyncio.run(main(prompt))\n",
    "await main(prompt=prompt)"
   ]
  }
 ],
 "metadata": {
  "kernelspec": {
   "display_name": "genai-blueprint-2X6HL8i2-py3.12",
   "language": "python",
   "name": "python3"
  },
  "language_info": {
   "codemirror_mode": {
    "name": "ipython",
    "version": 3
   },
   "file_extension": ".py",
   "mimetype": "text/x-python",
   "name": "python",
   "nbconvert_exporter": "python",
   "pygments_lexer": "ipython3",
   "version": "3.12.3"
  }
 },
 "nbformat": 4,
 "nbformat_minor": 2
}
