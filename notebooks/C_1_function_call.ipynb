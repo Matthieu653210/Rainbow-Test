{
 "cells": [
  {
   "cell_type": "code",
   "execution_count": 1,
   "metadata": {},
   "outputs": [],
   "source": [
    "# Function (tools) calling"
   ]
  },
  {
   "cell_type": "code",
   "execution_count": 2,
   "metadata": {},
   "outputs": [],
   "source": [
    "from devtools import debug\n",
    "from dotenv import load_dotenv\n",
    "\n",
    "%load_ext autoreload\n",
    "%autoreload 2\n",
    "\n",
    "load_dotenv(verbose=True)\n",
    "!export PYTHONPATH=\":./python\""
   ]
  },
  {
   "cell_type": "code",
   "execution_count": 3,
   "metadata": {},
   "outputs": [],
   "source": [
    "from devtools import debug\n",
    "from langchain_core.messages import ToolMessage\n",
    "from langchain_core.tools import tool\n",
    "\n",
    "from python.ai_core.llm import get_llm\n",
    "from python.ai_core.prompts import def_prompt"
   ]
  },
  {
   "cell_type": "code",
   "execution_count": null,
   "metadata": {},
   "outputs": [],
   "source": []
  },
  {
   "cell_type": "markdown",
   "metadata": {},
   "source": [
    "### Step 1 : Ask LLM to return an instantiated function  "
   ]
  },
  {
   "cell_type": "code",
   "execution_count": 14,
   "metadata": {},
   "outputs": [
    {
     "name": "stderr",
     "output_type": "stream",
     "text": [
      "\u001b[32m2024-07-04 14:42:04.353\u001b[0m | \u001b[1mINFO    \u001b[0m | \u001b[36mpython.ai_core.llm\u001b[0m:\u001b[36mget_llm\u001b[0m:\u001b[36m405\u001b[0m - \u001b[1mget LLM : gpt_4_azure - configurable: True\u001b[0m\n"
     ]
    },
    {
     "name": "stderr",
     "output_type": "stream",
     "text": [
      "\u001b[32m2024-07-04 14:42:05.020\u001b[0m | \u001b[1mINFO    \u001b[0m | \u001b[36mpython.ai_core.llm\u001b[0m:\u001b[36mget_configurable\u001b[0m:\u001b[36m361\u001b[0m - \u001b[1mCannot load gemini_pro_google: No module named 'langchain_google_vertexai'\u001b[0m\n"
     ]
    },
    {
     "name": "stdout",
     "output_type": "stream",
     "text": [
      "/tmp/ipykernel_136462/943656908.py:24 <module>\n",
      "    ai_msg: AIMessage(\n",
      "        content='',\n",
      "        additional_kwargs={\n",
      "            'tool_calls': [\n",
      "                {\n",
      "                    'id': 'call_TluYnXjedLkuncB4cK6oPh4t',\n",
      "                    'function': {\n",
      "                        'arguments': '{\"a\":11,\"b\":12}',\n",
      "                        'name': 'add',\n",
      "                    },\n",
      "                    'type': 'function',\n",
      "                },\n",
      "            ],\n",
      "        },\n",
      "        response_metadata={\n",
      "            'token_usage': {\n",
      "                'completion_tokens': 17,\n",
      "                'prompt_tokens': 81,\n",
      "                'total_tokens': 98,\n",
      "            },\n",
      "            'model_name': 'gpt-4',\n",
      "            'system_fingerprint': 'fp_811936bd4f',\n",
      "            'finish_reason': 'tool_calls',\n",
      "            'logprobs': None,\n",
      "            'content_filter_results': {},\n",
      "        },\n",
      "        id='run-6e12adb5-039b-45c2-8ed9-ae10e5e60add-0',\n",
      "        tool_calls=[\n",
      "            {\n",
      "                'name': 'add',\n",
      "                'args': {\n",
      "                    'a': 11,\n",
      "                    'b': 12,\n",
      "                },\n",
      "                'id': 'call_TluYnXjedLkuncB4cK6oPh4t',\n",
      "            },\n",
      "        ],\n",
      "        usage_metadata={\n",
      "            'input_tokens': 81,\n",
      "            'output_tokens': 17,\n",
      "            'total_tokens': 98,\n",
      "        },\n",
      "    ) (AIMessage)\n"
     ]
    },
    {
     "data": {
      "text/plain": [
       "AIMessage(content='', additional_kwargs={'tool_calls': [{'id': 'call_TluYnXjedLkuncB4cK6oPh4t', 'function': {'arguments': '{\"a\":11,\"b\":12}', 'name': 'add'}, 'type': 'function'}]}, response_metadata={'token_usage': {'completion_tokens': 17, 'prompt_tokens': 81, 'total_tokens': 98}, 'model_name': 'gpt-4', 'system_fingerprint': 'fp_811936bd4f', 'finish_reason': 'tool_calls', 'logprobs': None, 'content_filter_results': {}}, id='run-6e12adb5-039b-45c2-8ed9-ae10e5e60add-0', tool_calls=[{'name': 'add', 'args': {'a': 11, 'b': 12}, 'id': 'call_TluYnXjedLkuncB4cK6oPh4t'}], usage_metadata={'input_tokens': 81, 'output_tokens': 17, 'total_tokens': 98})"
      ]
     },
     "execution_count": 14,
     "metadata": {},
     "output_type": "execute_result"
    }
   ],
   "source": [
    "# llm = get_llm(\"gpt_35_edenai\")\n",
    "llm = get_llm(\"gpt_4_azure\")\n",
    "\n",
    "messages = []\n",
    "\n",
    "\n",
    "@tool\n",
    "def add(a: int, b: int) -> int:\n",
    "    \"\"\"Adds a and b.\n",
    "\n",
    "    Args:\n",
    "        a: first int\n",
    "        b: second int\n",
    "    \"\"\"\n",
    "    print(\"'add' tool called\")\n",
    "    return a + b\n",
    "\n",
    "\n",
    "llm_with_tools = llm.bind_tools([add])\n",
    "prompt = def_prompt(\n",
    "    \"Use the provided functions  to compute what is 11 + 12; execute the function \"\n",
    ")\n",
    "chain = prompt | llm_with_tools\n",
    "ai_msg = chain.invoke({})\n",
    "\n",
    "debug(ai_msg)"
   ]
  },
  {
   "cell_type": "code",
   "execution_count": 15,
   "metadata": {},
   "outputs": [
    {
     "name": "stdout",
     "output_type": "stream",
     "text": [
      "/tmp/ipykernel_136462/3318825891.py:1 <module>\n",
      "    llm_with_tools: RunnableBinding(\n",
      "        bound=AzureChatOpenAI(\n",
      "            name='gpt4-turbo',\n",
      "            client=<openai.resources.chat.completions.Completions object at 0x7fc05023e6b0>,\n",
      "            async_client=<openai.resources.chat.completions.AsyncCompletions object at 0x7fc0502544c0>,\n",
      "            model_name='gpt4-turbo',\n",
      "            temperature=0.0,\n",
      "            openai_api_key=SecretStr('**********'),\n",
      "            openai_proxy='',\n",
      "            azure_endpoint='https://mutualizedopenai.openai.azure.com',\n",
      "            deployment_name='gpt4-turbo',\n",
      "            openai_api_version='2023-05-15',\n",
      "            openai_api_type='azure',\n",
      "        ),\n",
      "        kwargs={\n",
      "            'tools': [\n",
      "                {\n",
      "                    'type': 'function',\n",
      "                    'function': {\n",
      "                        'name': 'add',\n",
      "                        'description': (\n",
      "                            'Adds a and b.\\n'\n",
      "                            '\\n'\n",
      "                            '    Args:\\n'\n",
      "                            '        a: first int\\n'\n",
      "                            '        b: second int'\n",
      "                        ),\n",
      "                        'parameters': {\n",
      "                            'type': 'object',\n",
      "                            'properties': {\n",
      "                                'a': {\n",
      "                                    'type': 'integer',\n",
      "                                },\n",
      "                                'b': {\n",
      "                                    'type': 'integer',\n",
      "                                },\n",
      "                            },\n",
      "                            'required': ['a', 'b'],\n",
      "                        },\n",
      "                    },\n",
      "                },\n",
      "            ],\n",
      "        },\n",
      "    ) (RunnableBinding)\n"
     ]
    },
    {
     "data": {
      "text/plain": [
       "RunnableBinding(bound=AzureChatOpenAI(name='gpt4-turbo', client=<openai.resources.chat.completions.Completions object at 0x7fc05023e6b0>, async_client=<openai.resources.chat.completions.AsyncCompletions object at 0x7fc0502544c0>, model_name='gpt4-turbo', temperature=0.0, openai_api_key=SecretStr('**********'), openai_proxy='', azure_endpoint='https://mutualizedopenai.openai.azure.com', deployment_name='gpt4-turbo', openai_api_version='2023-05-15', openai_api_type='azure'), kwargs={'tools': [{'type': 'function', 'function': {'name': 'add', 'description': 'Adds a and b.\\n\\n    Args:\\n        a: first int\\n        b: second int', 'parameters': {'type': 'object', 'properties': {'a': {'type': 'integer'}, 'b': {'type': 'integer'}}, 'required': ['a', 'b']}}}]})"
      ]
     },
     "execution_count": 15,
     "metadata": {},
     "output_type": "execute_result"
    }
   ],
   "source": [
    "debug(llm_with_tools)"
   ]
  },
  {
   "cell_type": "code",
   "execution_count": 5,
   "metadata": {},
   "outputs": [],
   "source": [
    "# Step 2 : Execute the function, and send result to LLM"
   ]
  },
  {
   "cell_type": "code",
   "execution_count": 16,
   "metadata": {},
   "outputs": [
    {
     "name": "stdout",
     "output_type": "stream",
     "text": [
      "'add' tool called\n",
      "/tmp/ipykernel_136462/3057862763.py:11 <module>\n",
      "    r: AIMessage(\n",
      "        content='The sum of 11 and 12 is 23.',\n",
      "        response_metadata={\n",
      "            'token_usage': {\n",
      "                'completion_tokens': 13,\n",
      "                'prompt_tokens': 83,\n",
      "                'total_tokens': 96,\n",
      "            },\n",
      "            'model_name': 'gpt-4',\n",
      "            'system_fingerprint': 'fp_811936bd4f',\n",
      "            'finish_reason': 'stop',\n",
      "            'logprobs': None,\n",
      "            'content_filter_results': {},\n",
      "        },\n",
      "        id='run-5cc5466d-e309-48ff-83b5-e85aca927e90-0',\n",
      "        usage_metadata={\n",
      "            'input_tokens': 83,\n",
      "            'output_tokens': 13,\n",
      "            'total_tokens': 96,\n",
      "        },\n",
      "    ) (AIMessage)\n"
     ]
    },
    {
     "data": {
      "text/plain": [
       "AIMessage(content='The sum of 11 and 12 is 23.', response_metadata={'token_usage': {'completion_tokens': 13, 'prompt_tokens': 83, 'total_tokens': 96}, 'model_name': 'gpt-4', 'system_fingerprint': 'fp_811936bd4f', 'finish_reason': 'stop', 'logprobs': None, 'content_filter_results': {}}, id='run-5cc5466d-e309-48ff-83b5-e85aca927e90-0', usage_metadata={'input_tokens': 83, 'output_tokens': 13, 'total_tokens': 96})"
      ]
     },
     "execution_count": 16,
     "metadata": {},
     "output_type": "execute_result"
    }
   ],
   "source": [
    "messages.append(ai_msg)\n",
    "\n",
    "for tool_call in ai_msg.tool_calls:\n",
    "    selected_tool = {\"add\": add}[tool_call[\"name\"].lower()]\n",
    "    tool_output = selected_tool.invoke(tool_call[\"args\"])\n",
    "\n",
    "    messages.append(ToolMessage(tool_output, tool_call_id=tool_call[\"id\"]))\n",
    "\n",
    "r = llm_with_tools.invoke(messages)\n",
    "\n",
    "debug(r)"
   ]
  },
  {
   "cell_type": "markdown",
   "metadata": {},
   "source": [
    "###  Other method : Use a tool calling agent"
   ]
  },
  {
   "cell_type": "code",
   "execution_count": 22,
   "metadata": {},
   "outputs": [
    {
     "name": "stdout",
     "output_type": "stream",
     "text": [
      "\n",
      "\n",
      "\u001b[1m> Entering new AgentExecutor chain...\u001b[0m\n",
      "\u001b[32;1m\u001b[1;3m\n",
      "Invoking: `add` with `{'a': 12, 'b': 1000000}`\n",
      "\n",
      "\n",
      "\u001b[0m\u001b[36;1m\u001b[1;3m1000012\u001b[0m\u001b[32;1m\u001b[1;3m\n",
      "Invoking: `exponentiate` with `{'x': 100, 'y': 3}`\n",
      "\n",
      "\n",
      "\u001b[0mexponentiate\n",
      "\u001b[33;1m\u001b[1;3m1000000.0\u001b[0m\u001b[32;1m\u001b[1;3mThe result of \\( 12 + 100^3 \\) is 1,000,012.\u001b[0m\n",
      "\n",
      "\u001b[1m> Finished chain.\u001b[0m\n",
      "/tmp/ipykernel_136462/800412656.py:39 <module>\n",
      "    r: {\n",
      "        'input': 'what is 12  + 100^3',\n",
      "        'output': 'The result of \\\\( 12 + 100^3 \\\\) is 1,000,012.',\n",
      "    } (dict) len=2\n"
     ]
    },
    {
     "data": {
      "text/plain": [
       "{'input': 'what is 12  + 100^3',\n",
       " 'output': 'The result of \\\\( 12 + 100^3 \\\\) is 1,000,012.'}"
      ]
     },
     "execution_count": 22,
     "metadata": {},
     "output_type": "execute_result"
    }
   ],
   "source": [
    "import math\n",
    "\n",
    "from langchain.agents import AgentExecutor, create_tool_calling_agent, tool\n",
    "from langchain_core.prompts import ChatPromptTemplate\n",
    "\n",
    "\n",
    "@tool\n",
    "def add(a: int, b: int) -> int:\n",
    "    \"\"\"Adds a and b.\n",
    "\n",
    "    Args:\n",
    "        a: first int\n",
    "        b: second int\n",
    "    \"\"\"\n",
    "    return a + b\n",
    "\n",
    "\n",
    "@tool\n",
    "def exponentiate(x: float, y: float) -> float:\n",
    "    \"\"\"Calculate the power of a number. Return x**y (w to the power of y)\"\"\"\n",
    "    print(\"exponentiate\")\n",
    "    return math.pow(x, y)\n",
    "\n",
    "\n",
    "# llm = ChatOpenAI(model=\"gpt-3.5-turbo-0125\")\n",
    "prompt = ChatPromptTemplate.from_messages(\n",
    "    [\n",
    "        (\"system\", \"You are a helpful Math Assistant\"),\n",
    "        (\"human\", \"{input}\"),\n",
    "        (\"placeholder\", \"{agent_scratchpad}\"),\n",
    "    ]\n",
    ")\n",
    "\n",
    "tools = [add, exponentiate]\n",
    "agent = create_tool_calling_agent(llm, tools, prompt)  # type: ignore\n",
    "agent_executor = AgentExecutor(agent=agent, tools=tools, verbose=True)  # type: ignore\n",
    "\n",
    "r = agent_executor.invoke({\"input\": \"what is 12  + 100^3\"})\n",
    "debug(r)"
   ]
  },
  {
   "cell_type": "code",
   "execution_count": 8,
   "metadata": {},
   "outputs": [],
   "source": [
    "## Call Eden.ai provided tools"
   ]
  }
 ],
 "metadata": {
  "kernelspec": {
   "display_name": "genai-training-GvhVNXsu-py3.10",
   "language": "python",
   "name": "python3"
  },
  "language_info": {
   "codemirror_mode": {
    "name": "ipython",
    "version": 3
   },
   "file_extension": ".py",
   "mimetype": "text/x-python",
   "name": "python",
   "nbconvert_exporter": "python",
   "pygments_lexer": "ipython3",
   "version": "3.10.12"
  }
 },
 "nbformat": 4,
 "nbformat_minor": 2
}
