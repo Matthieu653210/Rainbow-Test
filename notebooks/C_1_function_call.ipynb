{
 "cells": [
  {
   "cell_type": "code",
   "execution_count": 1,
   "metadata": {},
   "outputs": [],
   "source": [
    "# Function (tools) calling"
   ]
  },
  {
   "cell_type": "code",
   "execution_count": 2,
   "metadata": {},
   "outputs": [],
   "source": [
    "from devtools import debug\n",
    "from dotenv import load_dotenv\n",
    "\n",
    "%load_ext autoreload\n",
    "%autoreload 2\n",
    "\n",
    "load_dotenv()\n",
    "!export PYTHONPATH=\":./python\""
   ]
  },
  {
   "cell_type": "code",
   "execution_count": 3,
   "metadata": {},
   "outputs": [],
   "source": [
    "from devtools import debug\n",
    "\n",
    "from langchain_core.messages import ToolMessage\n",
    "from langchain_core.tools import tool\n",
    "from python.ai_core.llm import get_llm\n",
    "from python.ai_core.prompts import def_prompt"
   ]
  },
  {
   "cell_type": "code",
   "execution_count": null,
   "metadata": {},
   "outputs": [],
   "source": []
  },
  {
   "cell_type": "markdown",
   "metadata": {},
   "source": [
    "### Step 1 : Ask LLM to return an instantiated function  "
   ]
  },
  {
   "cell_type": "code",
   "execution_count": 7,
   "metadata": {},
   "outputs": [
    {
     "name": "stderr",
     "output_type": "stream",
     "text": [
      "\u001b[32m2024-07-03 16:44:16.095\u001b[0m | \u001b[1mINFO    \u001b[0m | \u001b[36mpython.ai_core.llm\u001b[0m:\u001b[36mget_llm\u001b[0m:\u001b[36m405\u001b[0m - \u001b[1mget LLM : gpt_35_azure - configurable: True\u001b[0m\n"
     ]
    },
    {
     "name": "stderr",
     "output_type": "stream",
     "text": [
      "\u001b[32m2024-07-03 16:44:16.484\u001b[0m | \u001b[1mINFO    \u001b[0m | \u001b[36mpython.ai_core.llm\u001b[0m:\u001b[36mget_configurable\u001b[0m:\u001b[36m361\u001b[0m - \u001b[1mCannot load gemini_pro_google: No module named 'langchain_google_vertexai'\u001b[0m\n"
     ]
    },
    {
     "name": "stdout",
     "output_type": "stream",
     "text": [
      "/tmp/ipykernel_206655/2453843453.py:24 <module>\n",
      "    ai_msg: AIMessage(\n",
      "        content='The answer is 22.',\n",
      "        response_metadata={\n",
      "            'token_usage': {\n",
      "                'completion_tokens': 7,\n",
      "                'prompt_tokens': 72,\n",
      "                'total_tokens': 79,\n",
      "            },\n",
      "            'model_name': 'gpt-35-turbo',\n",
      "            'system_fingerprint': None,\n",
      "            'finish_reason': 'stop',\n",
      "            'logprobs': None,\n",
      "            'content_filter_results': {},\n",
      "        },\n",
      "        id='run-786c866b-ab68-484c-9ace-8de22150428f-0',\n",
      "        usage_metadata={\n",
      "            'input_tokens': 72,\n",
      "            'output_tokens': 7,\n",
      "            'total_tokens': 79,\n",
      "        },\n",
      "    ) (AIMessage)\n"
     ]
    },
    {
     "data": {
      "text/plain": [
       "AIMessage(content='The answer is 22.', response_metadata={'token_usage': {'completion_tokens': 7, 'prompt_tokens': 72, 'total_tokens': 79}, 'model_name': 'gpt-35-turbo', 'system_fingerprint': None, 'finish_reason': 'stop', 'logprobs': None, 'content_filter_results': {}}, id='run-786c866b-ab68-484c-9ace-8de22150428f-0', usage_metadata={'input_tokens': 72, 'output_tokens': 7, 'total_tokens': 79})"
      ]
     },
     "execution_count": 7,
     "metadata": {},
     "output_type": "execute_result"
    }
   ],
   "source": [
    "#llm = get_llm(\"gpt_35_edenai\")\n",
    "llm = get_llm(\"gpt_35_azure\")\n",
    "\n",
    "messages = []\n",
    "\n",
    "\n",
    "@tool\n",
    "def add(a: int, b: int) -> int:\n",
    "    \"\"\"Adds a and b.\n",
    "\n",
    "    Args:\n",
    "        a: first int\n",
    "        b: second int\n",
    "    \"\"\"\n",
    "    print(\"'add' tool called\")\n",
    "    return a + b\n",
    "\n",
    "\n",
    "llm_with_tools = llm.bind_tools([add])\n",
    "prompt = def_prompt(\"What is 11 + 11?\")\n",
    "chain = prompt | llm_with_tools\n",
    "ai_msg = chain.invoke({})\n",
    "\n",
    "debug(ai_msg)"
   ]
  },
  {
   "cell_type": "code",
   "execution_count": 5,
   "metadata": {},
   "outputs": [],
   "source": [
    "# Step 2 : Execute the function, and send result to LLM"
   ]
  },
  {
   "cell_type": "code",
   "execution_count": 8,
   "metadata": {},
   "outputs": [
    {
     "name": "stdout",
     "output_type": "stream",
     "text": [
      "/tmp/ipykernel_206655/3057862763.py:11 <module>\n",
      "    r: AIMessage(\n",
      "        content=(\n",
      "            '# Tools\\n'\n",
      "            '\\n'\n",
      "            '## functions\\n'\n",
      "            '\\n'\n",
      "            'namespace functions {\\n'\n",
      "            '\\n'\n",
      "            '// Adds a and b.\\n'\n",
      "            '// Args:\\n'\n",
      "            '// a: first int\\n'\n",
      "            '// b: second int\\n'\n",
      "            'type add = (_: {\\n'\n",
      "            'a: number,\\n'\n",
      "            'b: number,\\n'\n",
      "            '}) => number;\\n'\n",
      "            '\\n'\n",
      "            '} // namespace functions\\n'\n",
      "            '\\n'\n",
      "            'const add: functions.add = ({ a, b }) => a + b;\\n'\n",
      "            '\\n'\n",
      "            'console.log(add({ a: 10, b: 12 })); // Output: 22'\n",
      "        ),\n",
      "        response_metadata={\n",
      "            'token_usage': {\n",
      "                'completion_tokens': 90,\n",
      "                'prompt_tokens': 70,\n",
      "                'total_tokens': 160,\n",
      "            },\n",
      "            'model_name': 'gpt-35-turbo',\n",
      "            'system_fingerprint': None,\n",
      "            'finish_reason': 'stop',\n",
      "            'logprobs': None,\n",
      "            'content_filter_results': {},\n",
      "        },\n",
      "        id='run-349e674d-b904-494a-a86c-e0b4dbb39577-0',\n",
      "        usage_metadata={\n",
      "            'input_tokens': 70,\n",
      "            'output_tokens': 90,\n",
      "            'total_tokens': 160,\n",
      "        },\n",
      "    ) (AIMessage)\n"
     ]
    },
    {
     "data": {
      "text/plain": [
       "AIMessage(content='# Tools\\n\\n## functions\\n\\nnamespace functions {\\n\\n// Adds a and b.\\n// Args:\\n// a: first int\\n// b: second int\\ntype add = (_: {\\na: number,\\nb: number,\\n}) => number;\\n\\n} // namespace functions\\n\\nconst add: functions.add = ({ a, b }) => a + b;\\n\\nconsole.log(add({ a: 10, b: 12 })); // Output: 22', response_metadata={'token_usage': {'completion_tokens': 90, 'prompt_tokens': 70, 'total_tokens': 160}, 'model_name': 'gpt-35-turbo', 'system_fingerprint': None, 'finish_reason': 'stop', 'logprobs': None, 'content_filter_results': {}}, id='run-349e674d-b904-494a-a86c-e0b4dbb39577-0', usage_metadata={'input_tokens': 70, 'output_tokens': 90, 'total_tokens': 160})"
      ]
     },
     "execution_count": 8,
     "metadata": {},
     "output_type": "execute_result"
    }
   ],
   "source": [
    "messages.append(ai_msg)\n",
    "\n",
    "for tool_call in ai_msg.tool_calls:\n",
    "    selected_tool = {\"add\": add}[tool_call[\"name\"].lower()]\n",
    "    tool_output = selected_tool.invoke(tool_call[\"args\"])\n",
    "\n",
    "    messages.append(ToolMessage(tool_output, tool_call_id=tool_call[\"id\"]))\n",
    "\n",
    "r = llm_with_tools.invoke(messages)\n",
    "\n",
    "debug(r)"
   ]
  },
  {
   "cell_type": "markdown",
   "metadata": {},
   "source": [
    "###  Other method : Use a tool calling agent"
   ]
  },
  {
   "cell_type": "code",
   "execution_count": 9,
   "metadata": {},
   "outputs": [
    {
     "name": "stdout",
     "output_type": "stream",
     "text": [
      "\n",
      "\n",
      "\u001b[1m> Entering new AgentExecutor chain...\u001b[0m\n",
      "\u001b[32;1m\u001b[1;3mThe result of 12 + 100 is 112.\u001b[0m\n",
      "\n",
      "\u001b[1m> Finished chain.\u001b[0m\n",
      "/tmp/ipykernel_206655/1377134187.py:31 <module>\n",
      "    r: {\n",
      "        'input': 'what is 12  + 100',\n",
      "        'output': 'The result of 12 + 100 is 112.',\n",
      "    } (dict) len=2\n"
     ]
    },
    {
     "data": {
      "text/plain": [
       "{'input': 'what is 12  + 100', 'output': 'The result of 12 + 100 is 112.'}"
      ]
     },
     "execution_count": 9,
     "metadata": {},
     "output_type": "execute_result"
    }
   ],
   "source": [
    "from langchain.agents import AgentExecutor, create_tool_calling_agent, tool\n",
    "from langchain_core.prompts import ChatPromptTemplate\n",
    "from langchain_openai import ChatOpenAI\n",
    "\n",
    "\n",
    "@tool\n",
    "def add(a: int, b: int) -> int:\n",
    "    \"\"\"Adds a and b.\n",
    "\n",
    "    Args:\n",
    "        a: first int\n",
    "        b: second int\n",
    "    \"\"\"\n",
    "    return a + b\n",
    "\n",
    "\n",
    "# llm = ChatOpenAI(model=\"gpt-3.5-turbo-0125\")\n",
    "prompt = ChatPromptTemplate.from_messages(\n",
    "    [\n",
    "        (\"system\", \"You are a helpful Search Assistant\"),\n",
    "        (\"human\", \"{input}\"),\n",
    "        (\"placeholder\", \"{agent_scratchpad}\"),\n",
    "    ]\n",
    ")\n",
    "\n",
    "tools = [add]\n",
    "agent = create_tool_calling_agent(llm, tools, prompt)  # type: ignore\n",
    "agent_executor = AgentExecutor(agent=agent, tools=tools, verbose=True)  # type: ignore\n",
    "\n",
    "r = agent_executor.invoke({\"input\": \"what is 12  + 100\"})\n",
    "debug(r)"
   ]
  },
  {
   "cell_type": "code",
   "execution_count": null,
   "metadata": {},
   "outputs": [],
   "source": [
    "## Call Eden.ai provided tools"
   ]
  }
 ],
 "metadata": {
  "kernelspec": {
   "display_name": "genai-training-GvhVNXsu-py3.10",
   "language": "python",
   "name": "python3"
  },
  "language_info": {
   "codemirror_mode": {
    "name": "ipython",
    "version": 3
   },
   "file_extension": ".py",
   "mimetype": "text/x-python",
   "name": "python",
   "nbconvert_exporter": "python",
   "pygments_lexer": "ipython3",
   "version": "3.10.12"
  }
 },
 "nbformat": 4,
 "nbformat_minor": 2
}
