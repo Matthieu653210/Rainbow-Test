{
 "cells": [
  {
   "cell_type": "code",
   "execution_count": null,
   "metadata": {},
   "outputs": [],
   "source": [
    "# Function (tools) calling"
   ]
  },
  {
   "cell_type": "code",
   "execution_count": 1,
   "metadata": {},
   "outputs": [],
   "source": [
    "from devtools import debug\n",
    "from dotenv import load_dotenv\n",
    "\n",
    "%load_ext autoreload\n",
    "%autoreload 2\n",
    "\n",
    "load_dotenv(verbose=True)\n",
    "!export PYTHONPATH=\":./python\""
   ]
  },
  {
   "cell_type": "code",
   "execution_count": 2,
   "metadata": {},
   "outputs": [],
   "source": [
    "from devtools import debug\n",
    "from langchain_core.messages import ToolMessage\n",
    "from langchain_core.tools import tool\n",
    "\n",
    "from python.ai_core.llm import get_llm\n",
    "from python.ai_core.prompts import def_prompt"
   ]
  },
  {
   "cell_type": "markdown",
   "metadata": {},
   "source": [
    "### Step 1 : Ask LLM to return an instantiated function  "
   ]
  },
  {
   "cell_type": "code",
   "execution_count": 5,
   "metadata": {},
   "outputs": [
    {
     "name": "stderr",
     "output_type": "stream",
     "text": [
      "\u001b[32m2024-09-05 10:15:08.888\u001b[0m | \u001b[1mINFO    \u001b[0m | \u001b[36mpython.ai_core.llm\u001b[0m:\u001b[36mget_llm\u001b[0m:\u001b[36m319\u001b[0m - \u001b[1mget LLM:'gpt_4omini_edenai' -configurable: False - streaming: False\u001b[0m\n",
      "\u001b[32m2024-09-05 10:15:08.896\u001b[0m | \u001b[1mINFO    \u001b[0m | \u001b[36mpython.ai_core.cache\u001b[0m:\u001b[36mset_cache\u001b[0m:\u001b[36m54\u001b[0m - \u001b[1mLLM cache : SQLiteCache\u001b[0m\n"
     ]
    },
    {
     "name": "stdout",
     "output_type": "stream",
     "text": [
      "/tmp/ipykernel_505959/1624562191.py:26 <module>\n",
      "    ai_msg: AIMessage(\n",
      "        content='',\n",
      "        response_metadata={\n",
      "            'mistral': {\n",
      "                'generated_text': '',\n",
      "                'message': [\n",
      "                    {\n",
      "                        'role': 'user',\n",
      "                        'message': '',\n",
      "                        'tools': [\n",
      "                            {\n",
      "                                'name': 'add',\n",
      "                                'description': (\n",
      "                                    'Adds a and b.\\n'\n",
      "                                    '\\n'\n",
      "                                    '    Args:\\n'\n",
      "                                    '        a: first int\\n'\n",
      "                                    '        b: second int'\n",
      "                                ),\n",
      "                                'parameters': {\n",
      "                                    'type': 'object',\n",
      "                                    'properties': {\n",
      "                                        'a': {\n",
      "                                            'type': 'integer',\n",
      "                                        },\n",
      "                                        'b': {\n",
      "                                            'type': 'integer',\n",
      "                                        },\n",
      "                                    },\n",
      "                                    'required': ['a', 'b'],\n",
      "                                },\n",
      "                            },\n",
      "                        ],\n",
      "                        'tool_calls': None,\n",
      "                    },\n",
      "                    {\n",
      "                        'role': 'assistant',\n",
      "                        'message': '',\n",
      "                        'tools': None,\n",
      "                        'tool_calls': [\n",
      "                            {\n",
      "                                'id': 'EY1Tcek8T',\n",
      "                                'name': 'add',\n",
      "                                'arguments': '{\"a\": 11, \"b\": 12}',\n",
      "                            },\n",
      "                        ],\n",
      "                    },\n",
      "                ],\n",
      "                'status': 'success',\n",
      "                'cost': 0.003384,\n",
      "            },\n",
      "        },\n",
      "        id='run-753322a8-87b1-4358-95f9-f8f5113af453-0',\n",
      "        tool_calls=[\n",
      "            {\n",
      "                'name': 'add',\n",
      "                'args': {\n",
      "                    'a': 11,\n",
      "                    'b': 12,\n",
      "                },\n",
      "                'id': 'EY1Tcek8T',\n",
      "                'type': 'tool_call',\n",
      "            },\n",
      "        ],\n",
      "    ) (AIMessage)\n"
     ]
    },
    {
     "data": {
      "text/plain": [
       "AIMessage(content='', response_metadata={'mistral': {'generated_text': '', 'message': [{'role': 'user', 'message': '', 'tools': [{'name': 'add', 'description': 'Adds a and b.\\n\\n    Args:\\n        a: first int\\n        b: second int', 'parameters': {'type': 'object', 'properties': {'a': {'type': 'integer'}, 'b': {'type': 'integer'}}, 'required': ['a', 'b']}}], 'tool_calls': None}, {'role': 'assistant', 'message': '', 'tools': None, 'tool_calls': [{'id': 'EY1Tcek8T', 'name': 'add', 'arguments': '{\"a\": 11, \"b\": 12}'}]}], 'status': 'success', 'cost': 0.003384}}, id='run-753322a8-87b1-4358-95f9-f8f5113af453-0', tool_calls=[{'name': 'add', 'args': {'a': 11, 'b': 12}, 'id': 'EY1Tcek8T', 'type': 'tool_call'}])"
      ]
     },
     "execution_count": 5,
     "metadata": {},
     "output_type": "execute_result"
    }
   ],
   "source": [
    "#llm = get_llm(\"mistral_large_edenai\")\n",
    "llm = get_llm(\"gpt_4omini_edenai\")\n",
    "#llm = get_llm(\"gpt_35_azure\")\n",
    "messages = []\n",
    "\n",
    "\n",
    "@tool\n",
    "def add(a: int, b: int) -> int:\n",
    "    \"\"\"Adds a and b.\n",
    "\n",
    "    Args:\n",
    "        a: first int\n",
    "        b: second int\n",
    "    \"\"\"\n",
    "    print(\"'add' tool called\")\n",
    "    return a + b\n",
    "\n",
    "\n",
    "llm_with_tools = llm.bind_tools([add])\n",
    "prompt = def_prompt(\n",
    "    \"Use the provided functions  to compute what is 11 + 12; execute the function \"\n",
    ")\n",
    "chain = prompt | llm_with_tools\n",
    "ai_msg = chain.invoke({})\n",
    "\n",
    "debug(ai_msg)"
   ]
  },
  {
   "cell_type": "code",
   "execution_count": null,
   "metadata": {},
   "outputs": [],
   "source": [
    "debug(llm_with_tools)"
   ]
  },
  {
   "cell_type": "code",
   "execution_count": null,
   "metadata": {},
   "outputs": [],
   "source": [
    "# Step 2 : Execute the function, and send result to LLM"
   ]
  },
  {
   "cell_type": "code",
   "execution_count": 6,
   "metadata": {},
   "outputs": [
    {
     "name": "stdout",
     "output_type": "stream",
     "text": [
      "'add' tool called\n",
      "/tmp/ipykernel_505959/3057862763.py:11 <module>\n",
      "    r: AIMessage(\n",
      "        content='The sum of 11 and 12 is 23.',\n",
      "        response_metadata={\n",
      "            'openai': {\n",
      "                'generated_text': 'The sum of 11 and 12 is 23.',\n",
      "                'message': [\n",
      "                    {\n",
      "                        'role': 'user',\n",
      "                        'message': '',\n",
      "                        'tools': [\n",
      "                            {\n",
      "                                'name': 'add',\n",
      "                                'description': (\n",
      "                                    'Adds a and b.\\n'\n",
      "                                    '\\n'\n",
      "                                    '    Args:\\n'\n",
      "                                    '        a: first int\\n'\n",
      "                                    '        b: second int'\n",
      "                                ),\n",
      "                                'parameters': {\n",
      "                                    'type': 'object',\n",
      "                                    'properties': {\n",
      "                                        'a': {\n",
      "                                            'type': 'integer',\n",
      "                                        },\n",
      "                                        'b': {\n",
      "                                            'type': 'integer',\n",
      "                                        },\n",
      "                                    },\n",
      "                                    'required': ['a', 'b'],\n",
      "                                },\n",
      "                            },\n",
      "                        ],\n",
      "                        'tool_calls': None,\n",
      "                    },\n",
      "                    {\n",
      "                        'role': 'assistant',\n",
      "                        'message': 'The sum of 11 and 12 is 23.',\n",
      "                        'tools': None,\n",
      "                        'tool_calls': [],\n",
      "                    },\n",
      "                ],\n",
      "                'status': 'success',\n",
      "                'cost': 2.52e-05,\n",
      "            },\n",
      "        },\n",
      "        id='run-95dfd48f-9a3c-4554-b140-965c8d16ec57-0',\n",
      "    ) (AIMessage)\n"
     ]
    },
    {
     "data": {
      "text/plain": [
       "AIMessage(content='The sum of 11 and 12 is 23.', response_metadata={'openai': {'generated_text': 'The sum of 11 and 12 is 23.', 'message': [{'role': 'user', 'message': '', 'tools': [{'name': 'add', 'description': 'Adds a and b.\\n\\n    Args:\\n        a: first int\\n        b: second int', 'parameters': {'type': 'object', 'properties': {'a': {'type': 'integer'}, 'b': {'type': 'integer'}}, 'required': ['a', 'b']}}], 'tool_calls': None}, {'role': 'assistant', 'message': 'The sum of 11 and 12 is 23.', 'tools': None, 'tool_calls': []}], 'status': 'success', 'cost': 2.52e-05}}, id='run-95dfd48f-9a3c-4554-b140-965c8d16ec57-0')"
      ]
     },
     "execution_count": 6,
     "metadata": {},
     "output_type": "execute_result"
    }
   ],
   "source": [
    "messages.append(ai_msg)\n",
    "\n",
    "for tool_call in ai_msg.tool_calls:\n",
    "    selected_tool = {\"add\": add}[tool_call[\"name\"].lower()]\n",
    "    tool_output = selected_tool.invoke(tool_call[\"args\"])\n",
    "\n",
    "    messages.append(ToolMessage(tool_output, tool_call_id=tool_call[\"id\"]))\n",
    "\n",
    "r = llm_with_tools.invoke(messages)\n",
    "\n",
    "debug(r)"
   ]
  },
  {
   "cell_type": "markdown",
   "metadata": {},
   "source": [
    "###  Other method : Use a tool calling agent"
   ]
  },
  {
   "cell_type": "code",
   "execution_count": 8,
   "metadata": {},
   "outputs": [
    {
     "name": "stderr",
     "output_type": "stream",
     "text": [
      "\u001b[32m2024-09-05 10:17:59.172\u001b[0m | \u001b[1mINFO    \u001b[0m | \u001b[36mpython.ai_core.llm\u001b[0m:\u001b[36mget_llm\u001b[0m:\u001b[36m319\u001b[0m - \u001b[1mget LLM:'gpt_35_azure' -configurable: False - streaming: False\u001b[0m\n"
     ]
    },
    {
     "name": "stderr",
     "output_type": "stream",
     "text": [
      "\u001b[32m2024-09-05 10:17:59.290\u001b[0m | \u001b[1mINFO    \u001b[0m | \u001b[36mpython.ai_core.cache\u001b[0m:\u001b[36mset_cache\u001b[0m:\u001b[36m54\u001b[0m - \u001b[1mLLM cache : SQLiteCache\u001b[0m\n"
     ]
    },
    {
     "name": "stdout",
     "output_type": "stream",
     "text": [
      "\n",
      "\n",
      "\u001b[1m> Entering new AgentExecutor chain...\u001b[0m\n",
      "\u001b[32;1m\u001b[1;3mCould not parse tool input: {'arguments': '// Using the add and exponentiate functions from the previous code block\\n\\nconst result = functions.add({\\n  a: 12,\\n  b: functions.exponentiate({\\n    x: 100,\\n    y: 3,\\n  }),\\n});\\n\\nresult', 'name': 'python'} because the `arguments` is not valid JSON.\u001b[0mInvalid or incomplete response\u001b[32;1m\u001b[1;3mTo solve `12 + 100^3`, we can use the `add` and `exponentiate` functions from the previous code block.\n",
      "\n",
      "```\n",
      "const result = functions.add({\n",
      "  a: 12,\n",
      "  b: functions.exponentiate({\n",
      "    x: 100,\n",
      "    y: 3,\n",
      "  }),\n",
      "});\n",
      "\n",
      "console.log(result); // Output: 1000012\n",
      "```\n",
      "\n",
      "Therefore, `12 + 100^3 = 1000012`.\u001b[0m\n",
      "\n",
      "\u001b[1m> Finished chain.\u001b[0m\n",
      "/tmp/ipykernel_505959/3866373677.py:40 <module>\n",
      "    r: {\n",
      "        'input': 'what is 12  + 100^3',\n",
      "        'output': (\n",
      "            'To solve `12 + 100^3`, we can use the `add` and `exponentiate` functions from the previous code block.\\n'\n",
      "            '\\n'\n",
      "            '```\\n'\n",
      "            'const result = functions.add({\\n'\n",
      "            '  a: 12,\\n'\n",
      "            '  b: functions.exponentiate({\\n'\n",
      "            '    x: 100,\\n'\n",
      "            '    y: 3,\\n'\n",
      "            '  }),\\n'\n",
      "            '});\\n'\n",
      "            '\\n'\n",
      "            'console.log(result); // Output: 1000012\\n'\n",
      "            '```\\n'\n",
      "            '\\n'\n",
      "            'Therefore, `12 + 100^3 = 1000012`.'\n",
      "        ),\n",
      "    } (dict) len=2\n"
     ]
    },
    {
     "data": {
      "text/plain": [
       "{'input': 'what is 12  + 100^3',\n",
       " 'output': 'To solve `12 + 100^3`, we can use the `add` and `exponentiate` functions from the previous code block.\\n\\n```\\nconst result = functions.add({\\n  a: 12,\\n  b: functions.exponentiate({\\n    x: 100,\\n    y: 3,\\n  }),\\n});\\n\\nconsole.log(result); // Output: 1000012\\n```\\n\\nTherefore, `12 + 100^3 = 1000012`.'}"
      ]
     },
     "execution_count": 8,
     "metadata": {},
     "output_type": "execute_result"
    }
   ],
   "source": [
    "import math\n",
    "\n",
    "from langchain.agents import AgentExecutor, create_tool_calling_agent, tool\n",
    "from langchain_core.prompts import ChatPromptTemplate\n",
    "\n",
    "llm = get_llm(\"gpt_35_azure\")\n",
    "\n",
    "@tool\n",
    "def add(a: int, b: int) -> int:\n",
    "    \"\"\"Adds a and b.\n",
    "\n",
    "    Args:\n",
    "        a: first int\n",
    "        b: second int\n",
    "    \"\"\"\n",
    "    return a + b\n",
    "\n",
    "\n",
    "@tool\n",
    "def exponentiate(x: float, y: float) -> float:\n",
    "    \"\"\"Calculate the power of a number. Return x**y (w to the power of y)\"\"\"\n",
    "    print(\"exponentiate\")\n",
    "    return math.pow(x, y)\n",
    "\n",
    "\n",
    "# llm = ChatOpenAI(model=\"gpt-3.5-turbo-0125\")\n",
    "prompt = ChatPromptTemplate.from_messages(\n",
    "    [\n",
    "        (\"system\", \"You are a helpful Math Assistant\"),\n",
    "        (\"human\", \"{input}\"),\n",
    "        (\"placeholder\", \"{agent_scratchpad}\"),\n",
    "    ]\n",
    ")\n",
    "\n",
    "tools = [add, exponentiate]\n",
    "agent = create_tool_calling_agent(llm, tools, prompt)  # type: ignore\n",
    "agent_executor = AgentExecutor(agent=agent, tools=tools, verbose=True, handle_parsing_errors=True)  # type: ignore\n",
    "\n",
    "r = agent_executor.invoke({\"input\": \"what is 12  + 100^3\"})\n",
    "debug(r)"
   ]
  },
  {
   "cell_type": "code",
   "execution_count": null,
   "metadata": {},
   "outputs": [],
   "source": [
    "## Call Eden.ai provided tools"
   ]
  }
 ],
 "metadata": {
  "kernelspec": {
   "display_name": "genai-training-GvhVNXsu-py3.10",
   "language": "python",
   "name": "python3"
  },
  "language_info": {
   "codemirror_mode": {
    "name": "ipython",
    "version": 3
   },
   "file_extension": ".py",
   "mimetype": "text/x-python",
   "name": "python",
   "nbconvert_exporter": "python",
   "pygments_lexer": "ipython3",
   "version": "3.10.12"
  }
 },
 "nbformat": 4,
 "nbformat_minor": 2
}
