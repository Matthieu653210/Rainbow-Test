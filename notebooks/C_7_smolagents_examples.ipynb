{
 "cells": [
  {
   "cell_type": "markdown",
   "metadata": {},
   "source": [
    "#### Code Agents with `smolagents 🤗`"
   ]
  },
  {
   "cell_type": "code",
   "execution_count": 1,
   "metadata": {},
   "outputs": [],
   "source": [
    "# Default Setup Cell.\n",
    "# It imports environment variables, define 'devtools.debug\" as a buildin, set PYTHONPATH and autorelaod\n",
    "# Copy it in other Notebooks\n",
    "\n",
    "import builtins\n",
    "\n",
    "from devtools import debug\n",
    "from dotenv import load_dotenv\n",
    "\n",
    "builtins.debug = debug\n",
    "load_dotenv(verbose=True)\n",
    "\n",
    "%load_ext autoreload\n",
    "%autoreload 2\n",
    "%reset -f\n",
    "\n",
    "!export PYTHONPATH=\":./python\""
   ]
  },
  {
   "cell_type": "code",
   "execution_count": 2,
   "metadata": {},
   "outputs": [
    {
     "name": "stderr",
     "output_type": "stream",
     "text": [
      "/home/tcl/.cache/pypoetry/virtualenvs/genai-blueprint-2X6HL8i2-py3.12/lib/python3.12/site-packages/pydantic/_internal/_config.py:345: UserWarning: Valid config keys have changed in V2:\n",
      "* 'fields' has been removed\n",
      "  warnings.warn(message, UserWarning)\n",
      "\u001b[32m2025-01-30 17:32:54.264\u001b[0m | \u001b[1mINFO    \u001b[0m | \u001b[36mpython.config\u001b[0m:\u001b[36msingleton\u001b[0m:\u001b[36m87\u001b[0m - \u001b[1mload /home/tcl/prj/genai-blueprint/app_conf.yaml\u001b[0m\n",
      "\u001b[32m2025-01-30 17:32:54.268\u001b[0m | \u001b[33m\u001b[1mWARNING \u001b[0m | \u001b[36mpython.config\u001b[0m:\u001b[36msingleton\u001b[0m:\u001b[36m96\u001b[0m - \u001b[33m\u001b[1mConfiguration selected by environment variable 'BLUEPRINT_CONFIG' not found in config file: edc_local' \u001b[0m\n"
     ]
    }
   ],
   "source": [
    "from typing import Optional\n",
    "\n",
    "from IPython.display import Markdown, display\n",
    "from smolagents import (\n",
    "    CodeAgent,\n",
    "    DuckDuckGoSearchTool,\n",
    "    LiteLLMModel,\n",
    "    ToolCallingAgent,\n",
    "    VisitWebpageTool,\n",
    "    tool,\n",
    ")\n",
    "\n",
    "from python.ai_core.llm import LlmFactory\n",
    "\n",
    "MODEL_ID = \"gpt_4omini_openai\"\n",
    "llm_factory = LlmFactory(llm_id=MODEL_ID, llm_params={\"temperature\": 0.7})\n",
    "llm = LiteLLMModel(model_id=llm_factory.get_litellm_model_name(), **llm_factory.llm_params)"
   ]
  },
  {
   "cell_type": "code",
   "execution_count": 3,
   "metadata": {},
   "outputs": [
    {
     "name": "stdout",
     "output_type": "stream",
     "text": [
      "/tmp/ipykernel_395908/2199341301.py:1 <module>\n",
      "    llm.kwargs: {\n",
      "        'temperature': 0.7,\n",
      "        'max_tokens': 4096,\n",
      "    } (dict) len=2\n"
     ]
    },
    {
     "data": {
      "text/plain": [
       "{'temperature': 0.7, 'max_tokens': 4096}"
      ]
     },
     "execution_count": 3,
     "metadata": {},
     "output_type": "execute_result"
    }
   ],
   "source": [
    "debug(llm.kwargs)"
   ]
  },
  {
   "cell_type": "markdown",
   "metadata": {},
   "source": [
    "### Simple  `smolagents 🤗` CodeAgent\n",
    "\n",
    "...  but quite impressive !"
   ]
  },
  {
   "cell_type": "code",
   "execution_count": 4,
   "metadata": {},
   "outputs": [
    {
     "data": {
      "text/html": [
       "<pre style=\"white-space:pre;overflow-x:auto;line-height:normal;font-family:Menlo,'DejaVu Sans Mono',consolas,'Courier New',monospace\"><span style=\"color: #d4b702; text-decoration-color: #d4b702\">╭──────────────────────────────────────────────────── </span><span style=\"color: #d4b702; text-decoration-color: #d4b702; font-weight: bold\">New run</span><span style=\"color: #d4b702; text-decoration-color: #d4b702\"> ────────────────────────────────────────────────────╮</span>\n",
       "<span style=\"color: #d4b702; text-decoration-color: #d4b702\">│</span>                                                                                                                 <span style=\"color: #d4b702; text-decoration-color: #d4b702\">│</span>\n",
       "<span style=\"color: #d4b702; text-decoration-color: #d4b702\">│</span> <span style=\"font-weight: bold\">How many seconds would it take for a leopard at full speed to run through Pont des Arts?</span>                        <span style=\"color: #d4b702; text-decoration-color: #d4b702\">│</span>\n",
       "<span style=\"color: #d4b702; text-decoration-color: #d4b702\">│</span>                                                                                                                 <span style=\"color: #d4b702; text-decoration-color: #d4b702\">│</span>\n",
       "<span style=\"color: #d4b702; text-decoration-color: #d4b702\">╰─ LiteLLMModel - gpt-4o-mini ────────────────────────────────────────────────────────────────────────────────────╯</span>\n",
       "</pre>\n"
      ],
      "text/plain": [
       "\u001b[38;2;212;183;2m╭─\u001b[0m\u001b[38;2;212;183;2m───────────────────────────────────────────────────\u001b[0m\u001b[38;2;212;183;2m \u001b[0m\u001b[1;38;2;212;183;2mNew run\u001b[0m\u001b[38;2;212;183;2m \u001b[0m\u001b[38;2;212;183;2m───────────────────────────────────────────────────\u001b[0m\u001b[38;2;212;183;2m─╮\u001b[0m\n",
       "\u001b[38;2;212;183;2m│\u001b[0m                                                                                                                 \u001b[38;2;212;183;2m│\u001b[0m\n",
       "\u001b[38;2;212;183;2m│\u001b[0m \u001b[1mHow many seconds would it take for a leopard at full speed to run through Pont des Arts?\u001b[0m                        \u001b[38;2;212;183;2m│\u001b[0m\n",
       "\u001b[38;2;212;183;2m│\u001b[0m                                                                                                                 \u001b[38;2;212;183;2m│\u001b[0m\n",
       "\u001b[38;2;212;183;2m╰─\u001b[0m\u001b[38;2;212;183;2m LiteLLMModel - gpt-4o-mini \u001b[0m\u001b[38;2;212;183;2m───────────────────────────────────────────────────────────────────────────────────\u001b[0m\u001b[38;2;212;183;2m─╯\u001b[0m\n"
      ]
     },
     "metadata": {},
     "output_type": "display_data"
    },
    {
     "data": {
      "text/html": [
       "<pre style=\"white-space:pre;overflow-x:auto;line-height:normal;font-family:Menlo,'DejaVu Sans Mono',consolas,'Courier New',monospace\"><span style=\"color: #d4b702; text-decoration-color: #d4b702\">━━━━━━━━━━━━━━━━━━━━━━━━━━━━━━━━━━━━━━━━━━━━━━━━━━━━━ </span><span style=\"font-weight: bold\">Step </span><span style=\"color: #008080; text-decoration-color: #008080; font-weight: bold\">0</span><span style=\"color: #d4b702; text-decoration-color: #d4b702\"> ━━━━━━━━━━━━━━━━━━━━━━━━━━━━━━━━━━━━━━━━━━━━━━━━━━━━━━</span>\n",
       "</pre>\n"
      ],
      "text/plain": [
       "\u001b[38;2;212;183;2m━━━━━━━━━━━━━━━━━━━━━━━━━━━━━━━━━━━━━━━━━━━━━━━━━━━━━ \u001b[0m\u001b[1mStep \u001b[0m\u001b[1;36m0\u001b[0m\u001b[38;2;212;183;2m ━━━━━━━━━━━━━━━━━━━━━━━━━━━━━━━━━━━━━━━━━━━━━━━━━━━━━━\u001b[0m\n"
      ]
     },
     "metadata": {},
     "output_type": "display_data"
    },
    {
     "data": {
      "text/html": [
       "<pre style=\"white-space:pre;overflow-x:auto;line-height:normal;font-family:Menlo,'DejaVu Sans Mono',consolas,'Courier New',monospace\"> ─ <span style=\"font-weight: bold\">Executing this code:</span> ────────────────────────────────────────────────────────────────────────────────────────── \n",
       "  <span style=\"color: #f8f8f2; text-decoration-color: #f8f8f2; background-color: #272822\">pont_length </span><span style=\"color: #ff4689; text-decoration-color: #ff4689; background-color: #272822\">=</span><span style=\"color: #f8f8f2; text-decoration-color: #f8f8f2; background-color: #272822\"> web_search(query</span><span style=\"color: #ff4689; text-decoration-color: #ff4689; background-color: #272822\">=</span><span style=\"color: #e6db74; text-decoration-color: #e6db74; background-color: #272822\">\"length of Pont des Arts\"</span><span style=\"color: #f8f8f2; text-decoration-color: #f8f8f2; background-color: #272822\">)</span><span style=\"background-color: #272822\">                                                      </span>  \n",
       "  <span style=\"color: #f8f8f2; text-decoration-color: #f8f8f2; background-color: #272822\">leopard_speed </span><span style=\"color: #ff4689; text-decoration-color: #ff4689; background-color: #272822\">=</span><span style=\"color: #f8f8f2; text-decoration-color: #f8f8f2; background-color: #272822\"> web_search(query</span><span style=\"color: #ff4689; text-decoration-color: #ff4689; background-color: #272822\">=</span><span style=\"color: #e6db74; text-decoration-color: #e6db74; background-color: #272822\">\"average speed of a leopard\"</span><span style=\"color: #f8f8f2; text-decoration-color: #f8f8f2; background-color: #272822\">)</span><span style=\"background-color: #272822\">                                                 </span>  \n",
       "  <span style=\"color: #f8f8f2; text-decoration-color: #f8f8f2; background-color: #272822\">print(pont_length)</span><span style=\"background-color: #272822\">                                                                                             </span>  \n",
       "  <span style=\"color: #f8f8f2; text-decoration-color: #f8f8f2; background-color: #272822\">print(leopard_speed)</span><span style=\"background-color: #272822\">                                                                                           </span>  \n",
       " ───────────────────────────────────────────────────────────────────────────────────────────────────────────────── \n",
       "</pre>\n"
      ],
      "text/plain": [
       " ─ \u001b[1mExecuting this code:\u001b[0m ────────────────────────────────────────────────────────────────────────────────────────── \n",
       "  \u001b[38;2;248;248;242;48;2;39;40;34mpont_length\u001b[0m\u001b[38;2;248;248;242;48;2;39;40;34m \u001b[0m\u001b[38;2;255;70;137;48;2;39;40;34m=\u001b[0m\u001b[38;2;248;248;242;48;2;39;40;34m \u001b[0m\u001b[38;2;248;248;242;48;2;39;40;34mweb_search\u001b[0m\u001b[38;2;248;248;242;48;2;39;40;34m(\u001b[0m\u001b[38;2;248;248;242;48;2;39;40;34mquery\u001b[0m\u001b[38;2;255;70;137;48;2;39;40;34m=\u001b[0m\u001b[38;2;230;219;116;48;2;39;40;34m\"\u001b[0m\u001b[38;2;230;219;116;48;2;39;40;34mlength of Pont des Arts\u001b[0m\u001b[38;2;230;219;116;48;2;39;40;34m\"\u001b[0m\u001b[38;2;248;248;242;48;2;39;40;34m)\u001b[0m\u001b[48;2;39;40;34m                                                      \u001b[0m  \n",
       "  \u001b[38;2;248;248;242;48;2;39;40;34mleopard_speed\u001b[0m\u001b[38;2;248;248;242;48;2;39;40;34m \u001b[0m\u001b[38;2;255;70;137;48;2;39;40;34m=\u001b[0m\u001b[38;2;248;248;242;48;2;39;40;34m \u001b[0m\u001b[38;2;248;248;242;48;2;39;40;34mweb_search\u001b[0m\u001b[38;2;248;248;242;48;2;39;40;34m(\u001b[0m\u001b[38;2;248;248;242;48;2;39;40;34mquery\u001b[0m\u001b[38;2;255;70;137;48;2;39;40;34m=\u001b[0m\u001b[38;2;230;219;116;48;2;39;40;34m\"\u001b[0m\u001b[38;2;230;219;116;48;2;39;40;34maverage speed of a leopard\u001b[0m\u001b[38;2;230;219;116;48;2;39;40;34m\"\u001b[0m\u001b[38;2;248;248;242;48;2;39;40;34m)\u001b[0m\u001b[48;2;39;40;34m                                                 \u001b[0m  \n",
       "  \u001b[38;2;248;248;242;48;2;39;40;34mprint\u001b[0m\u001b[38;2;248;248;242;48;2;39;40;34m(\u001b[0m\u001b[38;2;248;248;242;48;2;39;40;34mpont_length\u001b[0m\u001b[38;2;248;248;242;48;2;39;40;34m)\u001b[0m\u001b[48;2;39;40;34m                                                                                             \u001b[0m  \n",
       "  \u001b[38;2;248;248;242;48;2;39;40;34mprint\u001b[0m\u001b[38;2;248;248;242;48;2;39;40;34m(\u001b[0m\u001b[38;2;248;248;242;48;2;39;40;34mleopard_speed\u001b[0m\u001b[38;2;248;248;242;48;2;39;40;34m)\u001b[0m\u001b[48;2;39;40;34m                                                                                           \u001b[0m  \n",
       " ───────────────────────────────────────────────────────────────────────────────────────────────────────────────── \n"
      ]
     },
     "metadata": {},
     "output_type": "display_data"
    },
    {
     "data": {
      "text/html": [
       "<pre style=\"white-space:pre;overflow-x:auto;line-height:normal;font-family:Menlo,'DejaVu Sans Mono',consolas,'Courier New',monospace\"><span style=\"font-weight: bold\">Execution logs:</span>\n",
       "## Search Results\n",
       "\n",
       "[Pont des Arts - Wikipedia](https://en.wikipedia.org/wiki/Pont_des_Arts)\n",
       "The Pont des Arts (French pronunciation: [pɔ̃ dez‿aʁ]) or Passerelle des Arts ([pasʁɛl-]) is a pedestrian bridge in\n",
       "Paris which crosses the River Seine. It links the Institut de France and the central square ( cour carrée ) of the \n",
       "Palais du Louvre , (which had been termed the \"Palais des Arts\" under the First French Empire ).\n",
       "\n",
       "[10 Picturesque Facts About The Pont Des Arts](https://art-facts.com/pont-des-arts-facts/)\n",
       "The Pont des Arts literally translates to ... Even though the bridge doesn't look that big at first sight, it still\n",
       "has a length of 155 meters (509 feet) and a width of 11 meters (36 feet). The original bridge during the 1880s / \n",
       "Wiki Commons 4. The bridge was completely rebuilt in the early 1980s.\n",
       "\n",
       "[Pont des Arts, Paris, France - LatLong](https://www.latlong.net/place/pont-des-arts-paris-france-32945.html)\n",
       "Pont des Arts, Paris, France. Latitude and longitude coordinates are: 48.858334, 2.337369. Pont des Arts is a \n",
       "scenic pedestrian bridge over the Seine River in Paris, France. The bridge connects the Musée du Louvre and the \n",
       "Institut de France. It has a length of 155 m (509 ft) and a width of 11 m (36 ft). It was constructed between 1981 \n",
       "and 1984.\n",
       "\n",
       "[The Unique Architecture of the Pont des Arts in \n",
       "Paris](https://www.parisartstravel.com/the-unique-architecture-of-the-pont-des-arts-in-paris/)\n",
       "The bridge is composed of nine arches and spans approximately 155 meters in length. Its iron structure, adorned \n",
       "with numerous decorative details, gives it an elegant and romantic appearance. ... The Pont des Arts was first \n",
       "opened in 1804; however, the current bridge that we see today is a reconstruction dating back to 1984. During the \n",
       "1980s ...\n",
       "\n",
       "[Exploring the History of the Pont des Arts in \n",
       "Paris](https://www.parisartstravel.com/exploring-the-history-of-the-pont-des-arts-in-paris/)\n",
       "This new bridge featured seven arches and a length of 155 meters. The Pont des Arts continued to evolve with the \n",
       "city's changing needs. In the 20th century, the bridge faced increased traffic demands, leading to rising concerns \n",
       "about its stability. As a result, it underwent another major renovation in 1984, modernizing the structure and ...\n",
       "\n",
       "[Pont des Arts - The Love Bridge](https://www.tourdefrance-bridges.com/post/pont-des-arts-the-love-bridge)\n",
       "Context:The Pont des Arts, originally a cast iron arch bridge, known more often as the \"Love Bridge,\" crosses the \n",
       "Seine river in Paris, connecting the Louvre to the Institut de Paris, formerly the Collèges des quatre Nations. ...\n",
       "The original bridge had 9 arches, was 155m in length and 11m wide and was made using cast iron. The number of ...\n",
       "\n",
       "[Pont des Arts Paris: The romantic love bridge over the Seine](https://delveintoeurope.com/pont-des-arts-paris/)\n",
       "The Pont des Arts bridge is one of the most famous Paris bridges, a beautiful ornate footbridge in a prime spot \n",
       "between the Louvre and Institut de France. The views from the Pont des Arts are incomparable, looking to either end\n",
       "of the bridge, down the Seine or back upstream to the Pont Neuf, the Île de la Cité and towers of Notre Dame de \n",
       "Paris.\n",
       "\n",
       "[Love Lock bridge in Paris then &amp; now: The Pont des \n",
       "Arts](https://cosmopoliclan.com/travel-with-kids/inspiration/love-lock-bridge-paris-pont-des-arts/)\n",
       "The Pont des Arts or Passerelle des Arts is the pedestrian bridge over the Seine that connects the Louvre Museum on\n",
       "the Right bank to the Institut de France on the Left Bank.As a result, it connects the 1st and the 6th Paris \n",
       "arrondissements. It is flanked by the Pont du Carrousel downstream and by the Pont-Neuf and the Île de la Cité, \n",
       "home to the Notre Dame cathedral, upstream.\n",
       "\n",
       "[17 Famous Bridges in France: Must-See Wonders! - Salut from \n",
       "Paris](https://www.salutfromparis.com/famous-bridges-in-france/)\n",
       "(built in 2004, 2460m length) Millau Viaduct in Aveyron - the world's tallest bridge. The Millau Viaduct is an \n",
       "engineering gem, standing tall in the heart of the Tarn Valley, ... #10 Pont des Arts, Paris (initial construction \n",
       "between 1801 and 1804, 155m length) Pont des Arts.\n",
       "\n",
       "[A Comprehensive Guide to Visiting the Pont des Arts, Paris](https://audiala.com/en/france/paris/pont-des-arts)\n",
       "What are the visiting hours for Pont des Arts? The Pont des Arts is open 24/7. Is there an entrance fee for Pont \n",
       "des Arts? No, access to the Pont des Arts is free. How do I get to Pont des Arts? You can reach the Pont des Arts \n",
       "via the Louvre-Rivoli (Line 1) and Pont Neuf (Line 7) metro stations. Are there guided tours available?\n",
       "## Search Results\n",
       "\n",
       "[How Fast Can a Leopard Run? It's Slower than Most of Its Prey](https://africafreak.com/how-fast-can-a-leopard-run)\n",
       "African leopards have a top speed of 56-60 km/h (35-37 mph). That's significantly slower than cheetahs and lions, \n",
       "as well as being slower than a lot of its prey. But this top speed isn't the full story. The leopard is one of the \n",
       "greatest predators on the African savannah and speed is just one piece of its hunting prowess.\n",
       "\n",
       "[How Fast Are Leopards? Top Speeds and How It Compares ... - AZ \n",
       "Animals](https://a-z-animals.com/blog/how-fast-leopards-top-speeds-how-compares-other-big-cats/)\n",
       "Cats of all sizes are known for their stealth, agility, and speed. We all know cheetahs take the cake when it comes\n",
       "to their record-breaking speed. But what about leopards? They are quick climbers, sneaky hunters, and pretty fast \n",
       "on land, but just how fast? Leopards can run up to speeds of 36 miles per hour.\n",
       "\n",
       "[How Fast Can a Leopard Run (Average Speed) - \n",
       "brotherspets.com](https://brotherspets.com/how-fast-can-a-leopard-run/)\n",
       "How Fast Can a Leopard Run? Leopards are known for their speed and agility, and they are capable of reaching \n",
       "impressive top speeds when they need to. According to various sources, leopards can run at speeds ranging from \n",
       "30-56 mph (48-90 km/h) with an average speed of 58 km/h.\n",
       "\n",
       "[16 Leopard Facts You Should Know - Fact Animal](https://factanimal.com/leopard/)\n",
       "Top Speed: 58 km/h (36 mph) No. of Species: 1: Conservation Status: Vulnerable: ... Chances are, when you think of \n",
       "a leopard, you probably think of the average light-colored leopard with brown spots (these are called rosettes, by \n",
       "the way, because of how they resemble roses!). However, that's not the only appearance you'll see.\n",
       "\n",
       "[Unraveling the Speed of Leopards: How Fast Can They Actually \n",
       "Run?](https://startingrun.com/unraveling-the-speed-of-leopards-how-fast-can-they-actually-run/)\n",
       "A leopard's speed varies across different life stages, with cubs being slow and careful learners, juveniles gaining\n",
       "in speed but needing to master control, adults reaching top speed with strategic control, and elder leopards \n",
       "experiencing reduced speed due to age. ... they're nearly as fast as adults, reaching average speeds of 50 mph ...\n",
       "\n",
       "[18 Fascinating Leopard Facts. Everything You Should \n",
       "Know](https://africanwildlifereport.com/18-fascinating-leopard-facts-everything-you-should-know/)\n",
       "Top speed: 37 mph (60 km/h) Primary food: Medium-sized antelopes: Where in Africa: ... Leopards weigh between 55 \n",
       "and 66 pounds (25 to 30 kg) on average, with the males being slightly larger than the females. They measure 2 to \n",
       "2.3 ft (60 to 70 cm) in height and 3.3 to 4.9 ft (1 to 1.5 m) in length. ... A litter of leopard cubs can consist \n",
       "of ...\n",
       "\n",
       "[How fast can a leopard run per hour? - \n",
       "Quick-Advice.com](https://yourquickadvice.com/how-fast-can-a-leopard-run-per-hour/)\n",
       "The average top speed of the Leopard is apparently 88.5 kilometres per hour / 55 miles per hour. How fast can a \n",
       "Jaguar run? 80 km/hMaximum Jaguar/Speed. Is Usain Bolt faster than a leopard? \"Polka-dotted missile\" rockets to 61 \n",
       "miles an hour. Sarah the cheetah has shattered the world record for the standing 100-meter dash, clocking a time of\n",
       "...\n",
       "\n",
       "[How Fast Can a Leopard Run? A Fascinating Look at Their \n",
       "Speed](https://tiger-universe.com/blogs/tiger-blog/how-fast-can-a-leopard-run)\n",
       "The nimble leopard, known for its remarkable leopard speed, shows how evolution shaped top predators. These animals\n",
       "can dash at 36 mph , making them some of the most skilled hunters. Their fast pace and agility let them thrive in \n",
       "different places, from open savannas to thick forests.\n",
       "\n",
       "[How fast can leopards run and how agile are they? - \n",
       "WildLifeFAQs](https://www.wildlifefaq.com/leopard-speed-and-agility/)\n",
       "Leopards possess incredible speed and agility, making them remarkable predators in the animal kingdom. Their \n",
       "ability to run at impressive speeds and navigate through challenging terrain with ease showcases their physical \n",
       "prowess. However, the survival of many leopard species, including the endangered Amur leopard, is under threat.\n",
       "\n",
       "[Does a leopard run faster than a lion? - \n",
       "Wise-Answer](https://wise-answer.com/does-a-leopard-run-faster-than-a-lion/)\n",
       "The average top speed of the Leopard is apparently 88.5 kilometres per hour / 55 miles per hour. Which is faster \n",
       "jaguar or leopard? Leopards are faster, jaguar are stronger African leopards can reach a top speed of 56-60 km/h \n",
       "(35-37 mph). Jaguars are only a little slower and can comfortably reach 50 km/h, even though a dense rainforest \n",
       "doesn ...\n",
       "\n",
       "Out: None\n",
       "</pre>\n"
      ],
      "text/plain": [
       "\u001b[1mExecution logs:\u001b[0m\n",
       "## Search Results\n",
       "\n",
       "[Pont des Arts - Wikipedia](https://en.wikipedia.org/wiki/Pont_des_Arts)\n",
       "The Pont des Arts (French pronunciation: [pɔ̃ dez‿aʁ]) or Passerelle des Arts ([pasʁɛl-]) is a pedestrian bridge in\n",
       "Paris which crosses the River Seine. It links the Institut de France and the central square ( cour carrée ) of the \n",
       "Palais du Louvre , (which had been termed the \"Palais des Arts\" under the First French Empire ).\n",
       "\n",
       "[10 Picturesque Facts About The Pont Des Arts](https://art-facts.com/pont-des-arts-facts/)\n",
       "The Pont des Arts literally translates to ... Even though the bridge doesn't look that big at first sight, it still\n",
       "has a length of 155 meters (509 feet) and a width of 11 meters (36 feet). The original bridge during the 1880s / \n",
       "Wiki Commons 4. The bridge was completely rebuilt in the early 1980s.\n",
       "\n",
       "[Pont des Arts, Paris, France - LatLong](https://www.latlong.net/place/pont-des-arts-paris-france-32945.html)\n",
       "Pont des Arts, Paris, France. Latitude and longitude coordinates are: 48.858334, 2.337369. Pont des Arts is a \n",
       "scenic pedestrian bridge over the Seine River in Paris, France. The bridge connects the Musée du Louvre and the \n",
       "Institut de France. It has a length of 155 m (509 ft) and a width of 11 m (36 ft). It was constructed between 1981 \n",
       "and 1984.\n",
       "\n",
       "[The Unique Architecture of the Pont des Arts in \n",
       "Paris](https://www.parisartstravel.com/the-unique-architecture-of-the-pont-des-arts-in-paris/)\n",
       "The bridge is composed of nine arches and spans approximately 155 meters in length. Its iron structure, adorned \n",
       "with numerous decorative details, gives it an elegant and romantic appearance. ... The Pont des Arts was first \n",
       "opened in 1804; however, the current bridge that we see today is a reconstruction dating back to 1984. During the \n",
       "1980s ...\n",
       "\n",
       "[Exploring the History of the Pont des Arts in \n",
       "Paris](https://www.parisartstravel.com/exploring-the-history-of-the-pont-des-arts-in-paris/)\n",
       "This new bridge featured seven arches and a length of 155 meters. The Pont des Arts continued to evolve with the \n",
       "city's changing needs. In the 20th century, the bridge faced increased traffic demands, leading to rising concerns \n",
       "about its stability. As a result, it underwent another major renovation in 1984, modernizing the structure and ...\n",
       "\n",
       "[Pont des Arts - The Love Bridge](https://www.tourdefrance-bridges.com/post/pont-des-arts-the-love-bridge)\n",
       "Context:The Pont des Arts, originally a cast iron arch bridge, known more often as the \"Love Bridge,\" crosses the \n",
       "Seine river in Paris, connecting the Louvre to the Institut de Paris, formerly the Collèges des quatre Nations. ...\n",
       "The original bridge had 9 arches, was 155m in length and 11m wide and was made using cast iron. The number of ...\n",
       "\n",
       "[Pont des Arts Paris: The romantic love bridge over the Seine](https://delveintoeurope.com/pont-des-arts-paris/)\n",
       "The Pont des Arts bridge is one of the most famous Paris bridges, a beautiful ornate footbridge in a prime spot \n",
       "between the Louvre and Institut de France. The views from the Pont des Arts are incomparable, looking to either end\n",
       "of the bridge, down the Seine or back upstream to the Pont Neuf, the Île de la Cité and towers of Notre Dame de \n",
       "Paris.\n",
       "\n",
       "[Love Lock bridge in Paris then & now: The Pont des \n",
       "Arts](https://cosmopoliclan.com/travel-with-kids/inspiration/love-lock-bridge-paris-pont-des-arts/)\n",
       "The Pont des Arts or Passerelle des Arts is the pedestrian bridge over the Seine that connects the Louvre Museum on\n",
       "the Right bank to the Institut de France on the Left Bank.As a result, it connects the 1st and the 6th Paris \n",
       "arrondissements. It is flanked by the Pont du Carrousel downstream and by the Pont-Neuf and the Île de la Cité, \n",
       "home to the Notre Dame cathedral, upstream.\n",
       "\n",
       "[17 Famous Bridges in France: Must-See Wonders! - Salut from \n",
       "Paris](https://www.salutfromparis.com/famous-bridges-in-france/)\n",
       "(built in 2004, 2460m length) Millau Viaduct in Aveyron - the world's tallest bridge. The Millau Viaduct is an \n",
       "engineering gem, standing tall in the heart of the Tarn Valley, ... #10 Pont des Arts, Paris (initial construction \n",
       "between 1801 and 1804, 155m length) Pont des Arts.\n",
       "\n",
       "[A Comprehensive Guide to Visiting the Pont des Arts, Paris](https://audiala.com/en/france/paris/pont-des-arts)\n",
       "What are the visiting hours for Pont des Arts? The Pont des Arts is open 24/7. Is there an entrance fee for Pont \n",
       "des Arts? No, access to the Pont des Arts is free. How do I get to Pont des Arts? You can reach the Pont des Arts \n",
       "via the Louvre-Rivoli (Line 1) and Pont Neuf (Line 7) metro stations. Are there guided tours available?\n",
       "## Search Results\n",
       "\n",
       "[How Fast Can a Leopard Run? It's Slower than Most of Its Prey](https://africafreak.com/how-fast-can-a-leopard-run)\n",
       "African leopards have a top speed of 56-60 km/h (35-37 mph). That's significantly slower than cheetahs and lions, \n",
       "as well as being slower than a lot of its prey. But this top speed isn't the full story. The leopard is one of the \n",
       "greatest predators on the African savannah and speed is just one piece of its hunting prowess.\n",
       "\n",
       "[How Fast Are Leopards? Top Speeds and How It Compares ... - AZ \n",
       "Animals](https://a-z-animals.com/blog/how-fast-leopards-top-speeds-how-compares-other-big-cats/)\n",
       "Cats of all sizes are known for their stealth, agility, and speed. We all know cheetahs take the cake when it comes\n",
       "to their record-breaking speed. But what about leopards? They are quick climbers, sneaky hunters, and pretty fast \n",
       "on land, but just how fast? Leopards can run up to speeds of 36 miles per hour.\n",
       "\n",
       "[How Fast Can a Leopard Run (Average Speed) - \n",
       "brotherspets.com](https://brotherspets.com/how-fast-can-a-leopard-run/)\n",
       "How Fast Can a Leopard Run? Leopards are known for their speed and agility, and they are capable of reaching \n",
       "impressive top speeds when they need to. According to various sources, leopards can run at speeds ranging from \n",
       "30-56 mph (48-90 km/h) with an average speed of 58 km/h.\n",
       "\n",
       "[16 Leopard Facts You Should Know - Fact Animal](https://factanimal.com/leopard/)\n",
       "Top Speed: 58 km/h (36 mph) No. of Species: 1: Conservation Status: Vulnerable: ... Chances are, when you think of \n",
       "a leopard, you probably think of the average light-colored leopard with brown spots (these are called rosettes, by \n",
       "the way, because of how they resemble roses!). However, that's not the only appearance you'll see.\n",
       "\n",
       "[Unraveling the Speed of Leopards: How Fast Can They Actually \n",
       "Run?](https://startingrun.com/unraveling-the-speed-of-leopards-how-fast-can-they-actually-run/)\n",
       "A leopard's speed varies across different life stages, with cubs being slow and careful learners, juveniles gaining\n",
       "in speed but needing to master control, adults reaching top speed with strategic control, and elder leopards \n",
       "experiencing reduced speed due to age. ... they're nearly as fast as adults, reaching average speeds of 50 mph ...\n",
       "\n",
       "[18 Fascinating Leopard Facts. Everything You Should \n",
       "Know](https://africanwildlifereport.com/18-fascinating-leopard-facts-everything-you-should-know/)\n",
       "Top speed: 37 mph (60 km/h) Primary food: Medium-sized antelopes: Where in Africa: ... Leopards weigh between 55 \n",
       "and 66 pounds (25 to 30 kg) on average, with the males being slightly larger than the females. They measure 2 to \n",
       "2.3 ft (60 to 70 cm) in height and 3.3 to 4.9 ft (1 to 1.5 m) in length. ... A litter of leopard cubs can consist \n",
       "of ...\n",
       "\n",
       "[How fast can a leopard run per hour? - \n",
       "Quick-Advice.com](https://yourquickadvice.com/how-fast-can-a-leopard-run-per-hour/)\n",
       "The average top speed of the Leopard is apparently 88.5 kilometres per hour / 55 miles per hour. How fast can a \n",
       "Jaguar run? 80 km/hMaximum Jaguar/Speed. Is Usain Bolt faster than a leopard? \"Polka-dotted missile\" rockets to 61 \n",
       "miles an hour. Sarah the cheetah has shattered the world record for the standing 100-meter dash, clocking a time of\n",
       "...\n",
       "\n",
       "[How Fast Can a Leopard Run? A Fascinating Look at Their \n",
       "Speed](https://tiger-universe.com/blogs/tiger-blog/how-fast-can-a-leopard-run)\n",
       "The nimble leopard, known for its remarkable leopard speed, shows how evolution shaped top predators. These animals\n",
       "can dash at 36 mph , making them some of the most skilled hunters. Their fast pace and agility let them thrive in \n",
       "different places, from open savannas to thick forests.\n",
       "\n",
       "[How fast can leopards run and how agile are they? - \n",
       "WildLifeFAQs](https://www.wildlifefaq.com/leopard-speed-and-agility/)\n",
       "Leopards possess incredible speed and agility, making them remarkable predators in the animal kingdom. Their \n",
       "ability to run at impressive speeds and navigate through challenging terrain with ease showcases their physical \n",
       "prowess. However, the survival of many leopard species, including the endangered Amur leopard, is under threat.\n",
       "\n",
       "[Does a leopard run faster than a lion? - \n",
       "Wise-Answer](https://wise-answer.com/does-a-leopard-run-faster-than-a-lion/)\n",
       "The average top speed of the Leopard is apparently 88.5 kilometres per hour / 55 miles per hour. Which is faster \n",
       "jaguar or leopard? Leopards are faster, jaguar are stronger African leopards can reach a top speed of 56-60 km/h \n",
       "(35-37 mph). Jaguars are only a little slower and can comfortably reach 50 km/h, even though a dense rainforest \n",
       "doesn ...\n",
       "\n",
       "Out: None\n"
      ]
     },
     "metadata": {},
     "output_type": "display_data"
    },
    {
     "data": {
      "text/html": [
       "<pre style=\"white-space:pre;overflow-x:auto;line-height:normal;font-family:Menlo,'DejaVu Sans Mono',consolas,'Courier New',monospace\"><span style=\"color: #7f7f7f; text-decoration-color: #7f7f7f\">[Step 0: Duration 6.04 seconds| Input tokens: 2,027 | Output tokens: 108]</span>\n",
       "</pre>\n"
      ],
      "text/plain": [
       "\u001b[2m[Step 0: Duration 6.04 seconds| Input tokens: 2,027 | Output tokens: 108]\u001b[0m\n"
      ]
     },
     "metadata": {},
     "output_type": "display_data"
    },
    {
     "data": {
      "text/html": [
       "<pre style=\"white-space:pre;overflow-x:auto;line-height:normal;font-family:Menlo,'DejaVu Sans Mono',consolas,'Courier New',monospace\"><span style=\"color: #d4b702; text-decoration-color: #d4b702\">━━━━━━━━━━━━━━━━━━━━━━━━━━━━━━━━━━━━━━━━━━━━━━━━━━━━━ </span><span style=\"font-weight: bold\">Step </span><span style=\"color: #008080; text-decoration-color: #008080; font-weight: bold\">1</span><span style=\"color: #d4b702; text-decoration-color: #d4b702\"> ━━━━━━━━━━━━━━━━━━━━━━━━━━━━━━━━━━━━━━━━━━━━━━━━━━━━━━</span>\n",
       "</pre>\n"
      ],
      "text/plain": [
       "\u001b[38;2;212;183;2m━━━━━━━━━━━━━━━━━━━━━━━━━━━━━━━━━━━━━━━━━━━━━━━━━━━━━ \u001b[0m\u001b[1mStep \u001b[0m\u001b[1;36m1\u001b[0m\u001b[38;2;212;183;2m ━━━━━━━━━━━━━━━━━━━━━━━━━━━━━━━━━━━━━━━━━━━━━━━━━━━━━━\u001b[0m\n"
      ]
     },
     "metadata": {},
     "output_type": "display_data"
    },
    {
     "data": {
      "text/html": [
       "<pre style=\"white-space:pre;overflow-x:auto;line-height:normal;font-family:Menlo,'DejaVu Sans Mono',consolas,'Courier New',monospace\"> ─ <span style=\"font-weight: bold\">Executing this code:</span> ────────────────────────────────────────────────────────────────────────────────────────── \n",
       "  <span style=\"background-color: #272822\">                                                                                                               </span>  \n",
       " ───────────────────────────────────────────────────────────────────────────────────────────────────────────────── \n",
       "</pre>\n"
      ],
      "text/plain": [
       " ─ \u001b[1mExecuting this code:\u001b[0m ────────────────────────────────────────────────────────────────────────────────────────── \n",
       "  \u001b[48;2;39;40;34m                                                                                                               \u001b[0m  \n",
       " ───────────────────────────────────────────────────────────────────────────────────────────────────────────────── \n"
      ]
     },
     "metadata": {},
     "output_type": "display_data"
    },
    {
     "data": {
      "text/html": [
       "<pre style=\"white-space:pre;overflow-x:auto;line-height:normal;font-family:Menlo,'DejaVu Sans Mono',consolas,'Courier New',monospace\">Out: None\n",
       "</pre>\n"
      ],
      "text/plain": [
       "Out: None\n"
      ]
     },
     "metadata": {},
     "output_type": "display_data"
    },
    {
     "data": {
      "text/html": [
       "<pre style=\"white-space:pre;overflow-x:auto;line-height:normal;font-family:Menlo,'DejaVu Sans Mono',consolas,'Courier New',monospace\"><span style=\"color: #7f7f7f; text-decoration-color: #7f7f7f\">[Step 1: Duration 1.78 seconds| Input tokens: 6,490 | Output tokens: 108]</span>\n",
       "</pre>\n"
      ],
      "text/plain": [
       "\u001b[2m[Step 1: Duration 1.78 seconds| Input tokens: 6,490 | Output tokens: 108]\u001b[0m\n"
      ]
     },
     "metadata": {},
     "output_type": "display_data"
    },
    {
     "data": {
      "text/html": [
       "<pre style=\"white-space:pre;overflow-x:auto;line-height:normal;font-family:Menlo,'DejaVu Sans Mono',consolas,'Courier New',monospace\"><span style=\"color: #d4b702; text-decoration-color: #d4b702\">━━━━━━━━━━━━━━━━━━━━━━━━━━━━━━━━━━━━━━━━━━━━━━━━━━━━━ </span><span style=\"font-weight: bold\">Step </span><span style=\"color: #008080; text-decoration-color: #008080; font-weight: bold\">2</span><span style=\"color: #d4b702; text-decoration-color: #d4b702\"> ━━━━━━━━━━━━━━━━━━━━━━━━━━━━━━━━━━━━━━━━━━━━━━━━━━━━━━</span>\n",
       "</pre>\n"
      ],
      "text/plain": [
       "\u001b[38;2;212;183;2m━━━━━━━━━━━━━━━━━━━━━━━━━━━━━━━━━━━━━━━━━━━━━━━━━━━━━ \u001b[0m\u001b[1mStep \u001b[0m\u001b[1;36m2\u001b[0m\u001b[38;2;212;183;2m ━━━━━━━━━━━━━━━━━━━━━━━━━━━━━━━━━━━━━━━━━━━━━━━━━━━━━━\u001b[0m\n"
      ]
     },
     "metadata": {},
     "output_type": "display_data"
    },
    {
     "data": {
      "text/html": [
       "<pre style=\"white-space:pre;overflow-x:auto;line-height:normal;font-family:Menlo,'DejaVu Sans Mono',consolas,'Courier New',monospace\"> ─ <span style=\"font-weight: bold\">Executing this code:</span> ────────────────────────────────────────────────────────────────────────────────────────── \n",
       "  <span style=\"color: #f8f8f2; text-decoration-color: #f8f8f2; background-color: #272822\">bridge_length </span><span style=\"color: #ff4689; text-decoration-color: #ff4689; background-color: #272822\">=</span><span style=\"color: #f8f8f2; text-decoration-color: #f8f8f2; background-color: #272822\"> </span><span style=\"color: #ae81ff; text-decoration-color: #ae81ff; background-color: #272822\">155</span><span style=\"color: #f8f8f2; text-decoration-color: #f8f8f2; background-color: #272822\">  </span><span style=\"color: #959077; text-decoration-color: #959077; background-color: #272822\"># in meters</span><span style=\"background-color: #272822\">                                                                               </span>  \n",
       "  <span style=\"color: #f8f8f2; text-decoration-color: #f8f8f2; background-color: #272822\">leopard_speed_kmh </span><span style=\"color: #ff4689; text-decoration-color: #ff4689; background-color: #272822\">=</span><span style=\"color: #f8f8f2; text-decoration-color: #f8f8f2; background-color: #272822\"> </span><span style=\"color: #ae81ff; text-decoration-color: #ae81ff; background-color: #272822\">60</span><span style=\"color: #f8f8f2; text-decoration-color: #f8f8f2; background-color: #272822\">  </span><span style=\"color: #959077; text-decoration-color: #959077; background-color: #272822\"># in kilometers per hour</span><span style=\"background-color: #272822\">                                                               </span>  \n",
       "  <span style=\"color: #f8f8f2; text-decoration-color: #f8f8f2; background-color: #272822\">leopard_speed_mps </span><span style=\"color: #ff4689; text-decoration-color: #ff4689; background-color: #272822\">=</span><span style=\"color: #f8f8f2; text-decoration-color: #f8f8f2; background-color: #272822\"> leopard_speed_kmh </span><span style=\"color: #ff4689; text-decoration-color: #ff4689; background-color: #272822\">/</span><span style=\"color: #f8f8f2; text-decoration-color: #f8f8f2; background-color: #272822\"> </span><span style=\"color: #ae81ff; text-decoration-color: #ae81ff; background-color: #272822\">3.6</span><span style=\"color: #f8f8f2; text-decoration-color: #f8f8f2; background-color: #272822\">  </span><span style=\"color: #959077; text-decoration-color: #959077; background-color: #272822\"># convert to meters per second</span><span style=\"background-color: #272822\">                                    </span>  \n",
       "  <span style=\"background-color: #272822\">                                                                                                               </span>  \n",
       "  <span style=\"color: #f8f8f2; text-decoration-color: #f8f8f2; background-color: #272822\">time_seconds </span><span style=\"color: #ff4689; text-decoration-color: #ff4689; background-color: #272822\">=</span><span style=\"color: #f8f8f2; text-decoration-color: #f8f8f2; background-color: #272822\"> bridge_length </span><span style=\"color: #ff4689; text-decoration-color: #ff4689; background-color: #272822\">/</span><span style=\"color: #f8f8f2; text-decoration-color: #f8f8f2; background-color: #272822\"> leopard_speed_mps  </span><span style=\"color: #959077; text-decoration-color: #959077; background-color: #272822\"># time in seconds</span><span style=\"background-color: #272822\">                                            </span>  \n",
       "  <span style=\"color: #f8f8f2; text-decoration-color: #f8f8f2; background-color: #272822\">print(time_seconds)</span><span style=\"background-color: #272822\">                                                                                            </span>  \n",
       " ───────────────────────────────────────────────────────────────────────────────────────────────────────────────── \n",
       "</pre>\n"
      ],
      "text/plain": [
       " ─ \u001b[1mExecuting this code:\u001b[0m ────────────────────────────────────────────────────────────────────────────────────────── \n",
       "  \u001b[38;2;248;248;242;48;2;39;40;34mbridge_length\u001b[0m\u001b[38;2;248;248;242;48;2;39;40;34m \u001b[0m\u001b[38;2;255;70;137;48;2;39;40;34m=\u001b[0m\u001b[38;2;248;248;242;48;2;39;40;34m \u001b[0m\u001b[38;2;174;129;255;48;2;39;40;34m155\u001b[0m\u001b[38;2;248;248;242;48;2;39;40;34m  \u001b[0m\u001b[38;2;149;144;119;48;2;39;40;34m# in meters\u001b[0m\u001b[48;2;39;40;34m                                                                               \u001b[0m  \n",
       "  \u001b[38;2;248;248;242;48;2;39;40;34mleopard_speed_kmh\u001b[0m\u001b[38;2;248;248;242;48;2;39;40;34m \u001b[0m\u001b[38;2;255;70;137;48;2;39;40;34m=\u001b[0m\u001b[38;2;248;248;242;48;2;39;40;34m \u001b[0m\u001b[38;2;174;129;255;48;2;39;40;34m60\u001b[0m\u001b[38;2;248;248;242;48;2;39;40;34m  \u001b[0m\u001b[38;2;149;144;119;48;2;39;40;34m# in kilometers per hour\u001b[0m\u001b[48;2;39;40;34m                                                               \u001b[0m  \n",
       "  \u001b[38;2;248;248;242;48;2;39;40;34mleopard_speed_mps\u001b[0m\u001b[38;2;248;248;242;48;2;39;40;34m \u001b[0m\u001b[38;2;255;70;137;48;2;39;40;34m=\u001b[0m\u001b[38;2;248;248;242;48;2;39;40;34m \u001b[0m\u001b[38;2;248;248;242;48;2;39;40;34mleopard_speed_kmh\u001b[0m\u001b[38;2;248;248;242;48;2;39;40;34m \u001b[0m\u001b[38;2;255;70;137;48;2;39;40;34m/\u001b[0m\u001b[38;2;248;248;242;48;2;39;40;34m \u001b[0m\u001b[38;2;174;129;255;48;2;39;40;34m3.6\u001b[0m\u001b[38;2;248;248;242;48;2;39;40;34m  \u001b[0m\u001b[38;2;149;144;119;48;2;39;40;34m# convert to meters per second\u001b[0m\u001b[48;2;39;40;34m                                    \u001b[0m  \n",
       "  \u001b[48;2;39;40;34m                                                                                                               \u001b[0m  \n",
       "  \u001b[38;2;248;248;242;48;2;39;40;34mtime_seconds\u001b[0m\u001b[38;2;248;248;242;48;2;39;40;34m \u001b[0m\u001b[38;2;255;70;137;48;2;39;40;34m=\u001b[0m\u001b[38;2;248;248;242;48;2;39;40;34m \u001b[0m\u001b[38;2;248;248;242;48;2;39;40;34mbridge_length\u001b[0m\u001b[38;2;248;248;242;48;2;39;40;34m \u001b[0m\u001b[38;2;255;70;137;48;2;39;40;34m/\u001b[0m\u001b[38;2;248;248;242;48;2;39;40;34m \u001b[0m\u001b[38;2;248;248;242;48;2;39;40;34mleopard_speed_mps\u001b[0m\u001b[38;2;248;248;242;48;2;39;40;34m  \u001b[0m\u001b[38;2;149;144;119;48;2;39;40;34m# time in seconds\u001b[0m\u001b[48;2;39;40;34m                                            \u001b[0m  \n",
       "  \u001b[38;2;248;248;242;48;2;39;40;34mprint\u001b[0m\u001b[38;2;248;248;242;48;2;39;40;34m(\u001b[0m\u001b[38;2;248;248;242;48;2;39;40;34mtime_seconds\u001b[0m\u001b[38;2;248;248;242;48;2;39;40;34m)\u001b[0m\u001b[48;2;39;40;34m                                                                                            \u001b[0m  \n",
       " ───────────────────────────────────────────────────────────────────────────────────────────────────────────────── \n"
      ]
     },
     "metadata": {},
     "output_type": "display_data"
    },
    {
     "data": {
      "text/html": [
       "<pre style=\"white-space:pre;overflow-x:auto;line-height:normal;font-family:Menlo,'DejaVu Sans Mono',consolas,'Courier New',monospace\"><span style=\"font-weight: bold\">Execution logs:</span>\n",
       "9.299999999999999\n",
       "\n",
       "Out: None\n",
       "</pre>\n"
      ],
      "text/plain": [
       "\u001b[1mExecution logs:\u001b[0m\n",
       "9.299999999999999\n",
       "\n",
       "Out: None\n"
      ]
     },
     "metadata": {},
     "output_type": "display_data"
    },
    {
     "data": {
      "text/html": [
       "<pre style=\"white-space:pre;overflow-x:auto;line-height:normal;font-family:Menlo,'DejaVu Sans Mono',consolas,'Courier New',monospace\"><span style=\"color: #7f7f7f; text-decoration-color: #7f7f7f\">[Step 2: Duration 7.79 seconds| Input tokens: 11,012 | Output tokens: 326]</span>\n",
       "</pre>\n"
      ],
      "text/plain": [
       "\u001b[2m[Step 2: Duration 7.79 seconds| Input tokens: 11,012 | Output tokens: 326]\u001b[0m\n"
      ]
     },
     "metadata": {},
     "output_type": "display_data"
    },
    {
     "data": {
      "text/html": [
       "<pre style=\"white-space:pre;overflow-x:auto;line-height:normal;font-family:Menlo,'DejaVu Sans Mono',consolas,'Courier New',monospace\"><span style=\"color: #d4b702; text-decoration-color: #d4b702\">━━━━━━━━━━━━━━━━━━━━━━━━━━━━━━━━━━━━━━━━━━━━━━━━━━━━━ </span><span style=\"font-weight: bold\">Step </span><span style=\"color: #008080; text-decoration-color: #008080; font-weight: bold\">3</span><span style=\"color: #d4b702; text-decoration-color: #d4b702\"> ━━━━━━━━━━━━━━━━━━━━━━━━━━━━━━━━━━━━━━━━━━━━━━━━━━━━━━</span>\n",
       "</pre>\n"
      ],
      "text/plain": [
       "\u001b[38;2;212;183;2m━━━━━━━━━━━━━━━━━━━━━━━━━━━━━━━━━━━━━━━━━━━━━━━━━━━━━ \u001b[0m\u001b[1mStep \u001b[0m\u001b[1;36m3\u001b[0m\u001b[38;2;212;183;2m ━━━━━━━━━━━━━━━━━━━━━━━━━━━━━━━━━━━━━━━━━━━━━━━━━━━━━━\u001b[0m\n"
      ]
     },
     "metadata": {},
     "output_type": "display_data"
    },
    {
     "data": {
      "text/html": [
       "<pre style=\"white-space:pre;overflow-x:auto;line-height:normal;font-family:Menlo,'DejaVu Sans Mono',consolas,'Courier New',monospace\"> ─ <span style=\"font-weight: bold\">Executing this code:</span> ────────────────────────────────────────────────────────────────────────────────────────── \n",
       "  <span style=\"color: #f8f8f2; text-decoration-color: #f8f8f2; background-color: #272822\">final_answer(</span><span style=\"color: #ae81ff; text-decoration-color: #ae81ff; background-color: #272822\">9.3</span><span style=\"color: #f8f8f2; text-decoration-color: #f8f8f2; background-color: #272822\">)</span><span style=\"background-color: #272822\">                                                                                              </span>  \n",
       " ───────────────────────────────────────────────────────────────────────────────────────────────────────────────── \n",
       "</pre>\n"
      ],
      "text/plain": [
       " ─ \u001b[1mExecuting this code:\u001b[0m ────────────────────────────────────────────────────────────────────────────────────────── \n",
       "  \u001b[38;2;248;248;242;48;2;39;40;34mfinal_answer\u001b[0m\u001b[38;2;248;248;242;48;2;39;40;34m(\u001b[0m\u001b[38;2;174;129;255;48;2;39;40;34m9.3\u001b[0m\u001b[38;2;248;248;242;48;2;39;40;34m)\u001b[0m\u001b[48;2;39;40;34m                                                                                              \u001b[0m  \n",
       " ───────────────────────────────────────────────────────────────────────────────────────────────────────────────── \n"
      ]
     },
     "metadata": {},
     "output_type": "display_data"
    },
    {
     "data": {
      "text/html": [
       "<pre style=\"white-space:pre;overflow-x:auto;line-height:normal;font-family:Menlo,'DejaVu Sans Mono',consolas,'Courier New',monospace\"><span style=\"color: #d4b702; text-decoration-color: #d4b702; font-weight: bold\">Out - Final answer: 9.3</span>\n",
       "</pre>\n"
      ],
      "text/plain": [
       "\u001b[1;38;2;212;183;2mOut - Final answer: 9.3\u001b[0m\n"
      ]
     },
     "metadata": {},
     "output_type": "display_data"
    },
    {
     "data": {
      "text/html": [
       "<pre style=\"white-space:pre;overflow-x:auto;line-height:normal;font-family:Menlo,'DejaVu Sans Mono',consolas,'Courier New',monospace\"><span style=\"color: #7f7f7f; text-decoration-color: #7f7f7f\">[Step 3: Duration 1.63 seconds| Input tokens: 15,888 | Output tokens: 380]</span>\n",
       "</pre>\n"
      ],
      "text/plain": [
       "\u001b[2m[Step 3: Duration 1.63 seconds| Input tokens: 15,888 | Output tokens: 380]\u001b[0m\n"
      ]
     },
     "metadata": {},
     "output_type": "display_data"
    },
    {
     "data": {
      "text/plain": [
       "9.3"
      ]
     },
     "execution_count": 4,
     "metadata": {},
     "output_type": "execute_result"
    }
   ],
   "source": [
    "agent = CodeAgent(tools=[DuckDuckGoSearchTool()], model=llm)\n",
    "agent.run(\"How many seconds would it take for a leopard at full speed to run through Pont des Arts?\")"
   ]
  },
  {
   "cell_type": "markdown",
   "metadata": {},
   "source": [
    "### Simple ToolCalling Agent"
   ]
  },
  {
   "cell_type": "code",
   "execution_count": 5,
   "metadata": {},
   "outputs": [
    {
     "data": {
      "text/html": [
       "<pre style=\"white-space:pre;overflow-x:auto;line-height:normal;font-family:Menlo,'DejaVu Sans Mono',consolas,'Courier New',monospace\"><span style=\"color: #d4b702; text-decoration-color: #d4b702\">╭──────────────────────────────────────────────────── </span><span style=\"color: #d4b702; text-decoration-color: #d4b702; font-weight: bold\">New run</span><span style=\"color: #d4b702; text-decoration-color: #d4b702\"> ────────────────────────────────────────────────────╮</span>\n",
       "<span style=\"color: #d4b702; text-decoration-color: #d4b702\">│</span>                                                                                                                 <span style=\"color: #d4b702; text-decoration-color: #d4b702\">│</span>\n",
       "<span style=\"color: #d4b702; text-decoration-color: #d4b702\">│</span> <span style=\"font-weight: bold\">What's the weather like in Paris?</span>                                                                               <span style=\"color: #d4b702; text-decoration-color: #d4b702\">│</span>\n",
       "<span style=\"color: #d4b702; text-decoration-color: #d4b702\">│</span>                                                                                                                 <span style=\"color: #d4b702; text-decoration-color: #d4b702\">│</span>\n",
       "<span style=\"color: #d4b702; text-decoration-color: #d4b702\">╰─ LiteLLMModel - gpt-4o-mini ────────────────────────────────────────────────────────────────────────────────────╯</span>\n",
       "</pre>\n"
      ],
      "text/plain": [
       "\u001b[38;2;212;183;2m╭─\u001b[0m\u001b[38;2;212;183;2m───────────────────────────────────────────────────\u001b[0m\u001b[38;2;212;183;2m \u001b[0m\u001b[1;38;2;212;183;2mNew run\u001b[0m\u001b[38;2;212;183;2m \u001b[0m\u001b[38;2;212;183;2m───────────────────────────────────────────────────\u001b[0m\u001b[38;2;212;183;2m─╮\u001b[0m\n",
       "\u001b[38;2;212;183;2m│\u001b[0m                                                                                                                 \u001b[38;2;212;183;2m│\u001b[0m\n",
       "\u001b[38;2;212;183;2m│\u001b[0m \u001b[1mWhat's the weather like in Paris?\u001b[0m                                                                               \u001b[38;2;212;183;2m│\u001b[0m\n",
       "\u001b[38;2;212;183;2m│\u001b[0m                                                                                                                 \u001b[38;2;212;183;2m│\u001b[0m\n",
       "\u001b[38;2;212;183;2m╰─\u001b[0m\u001b[38;2;212;183;2m LiteLLMModel - gpt-4o-mini \u001b[0m\u001b[38;2;212;183;2m───────────────────────────────────────────────────────────────────────────────────\u001b[0m\u001b[38;2;212;183;2m─╯\u001b[0m\n"
      ]
     },
     "metadata": {},
     "output_type": "display_data"
    },
    {
     "data": {
      "text/html": [
       "<pre style=\"white-space:pre;overflow-x:auto;line-height:normal;font-family:Menlo,'DejaVu Sans Mono',consolas,'Courier New',monospace\"><span style=\"color: #d4b702; text-decoration-color: #d4b702\">━━━━━━━━━━━━━━━━━━━━━━━━━━━━━━━━━━━━━━━━━━━━━━━━━━━━━ </span><span style=\"font-weight: bold\">Step </span><span style=\"color: #008080; text-decoration-color: #008080; font-weight: bold\">0</span><span style=\"color: #d4b702; text-decoration-color: #d4b702\"> ━━━━━━━━━━━━━━━━━━━━━━━━━━━━━━━━━━━━━━━━━━━━━━━━━━━━━━</span>\n",
       "</pre>\n"
      ],
      "text/plain": [
       "\u001b[38;2;212;183;2m━━━━━━━━━━━━━━━━━━━━━━━━━━━━━━━━━━━━━━━━━━━━━━━━━━━━━ \u001b[0m\u001b[1mStep \u001b[0m\u001b[1;36m0\u001b[0m\u001b[38;2;212;183;2m ━━━━━━━━━━━━━━━━━━━━━━━━━━━━━━━━━━━━━━━━━━━━━━━━━━━━━━\u001b[0m\n"
      ]
     },
     "metadata": {},
     "output_type": "display_data"
    },
    {
     "data": {
      "text/html": [
       "<pre style=\"white-space:pre;overflow-x:auto;line-height:normal;font-family:Menlo,'DejaVu Sans Mono',consolas,'Courier New',monospace\">╭─────────────────────────────────────────────────────────────────────────────────────────────────────────────────╮\n",
       "│ Calling tool: 'get_weather' with arguments: {'location': 'Paris'}                                               │\n",
       "╰─────────────────────────────────────────────────────────────────────────────────────────────────────────────────╯\n",
       "</pre>\n"
      ],
      "text/plain": [
       "╭─────────────────────────────────────────────────────────────────────────────────────────────────────────────────╮\n",
       "│ Calling tool: 'get_weather' with arguments: {'location': 'Paris'}                                               │\n",
       "╰─────────────────────────────────────────────────────────────────────────────────────────────────────────────────╯\n"
      ]
     },
     "metadata": {},
     "output_type": "display_data"
    },
    {
     "data": {
      "text/html": [
       "<pre style=\"white-space:pre;overflow-x:auto;line-height:normal;font-family:Menlo,'DejaVu Sans Mono',consolas,'Courier New',monospace\">Observations: The weather is UNGODLY with torrential rains and temperatures below <span style=\"color: #008080; text-decoration-color: #008080; font-weight: bold\">-10</span>°C\n",
       "</pre>\n"
      ],
      "text/plain": [
       "Observations: The weather is UNGODLY with torrential rains and temperatures below \u001b[1;36m-10\u001b[0m°C\n"
      ]
     },
     "metadata": {},
     "output_type": "display_data"
    },
    {
     "data": {
      "text/html": [
       "<pre style=\"white-space:pre;overflow-x:auto;line-height:normal;font-family:Menlo,'DejaVu Sans Mono',consolas,'Courier New',monospace\"><span style=\"color: #7f7f7f; text-decoration-color: #7f7f7f\">[Step 0: Duration 1.16 seconds| Input tokens: 1,010 | Output tokens: 14]</span>\n",
       "</pre>\n"
      ],
      "text/plain": [
       "\u001b[2m[Step 0: Duration 1.16 seconds| Input tokens: 1,010 | Output tokens: 14]\u001b[0m\n"
      ]
     },
     "metadata": {},
     "output_type": "display_data"
    },
    {
     "data": {
      "text/html": [
       "<pre style=\"white-space:pre;overflow-x:auto;line-height:normal;font-family:Menlo,'DejaVu Sans Mono',consolas,'Courier New',monospace\"><span style=\"color: #d4b702; text-decoration-color: #d4b702\">━━━━━━━━━━━━━━━━━━━━━━━━━━━━━━━━━━━━━━━━━━━━━━━━━━━━━ </span><span style=\"font-weight: bold\">Step </span><span style=\"color: #008080; text-decoration-color: #008080; font-weight: bold\">1</span><span style=\"color: #d4b702; text-decoration-color: #d4b702\"> ━━━━━━━━━━━━━━━━━━━━━━━━━━━━━━━━━━━━━━━━━━━━━━━━━━━━━━</span>\n",
       "</pre>\n"
      ],
      "text/plain": [
       "\u001b[38;2;212;183;2m━━━━━━━━━━━━━━━━━━━━━━━━━━━━━━━━━━━━━━━━━━━━━━━━━━━━━ \u001b[0m\u001b[1mStep \u001b[0m\u001b[1;36m1\u001b[0m\u001b[38;2;212;183;2m ━━━━━━━━━━━━━━━━━━━━━━━━━━━━━━━━━━━━━━━━━━━━━━━━━━━━━━\u001b[0m\n"
      ]
     },
     "metadata": {},
     "output_type": "display_data"
    },
    {
     "data": {
      "text/html": [
       "<pre style=\"white-space:pre;overflow-x:auto;line-height:normal;font-family:Menlo,'DejaVu Sans Mono',consolas,'Courier New',monospace\">╭─────────────────────────────────────────────────────────────────────────────────────────────────────────────────╮\n",
       "│ Calling tool: 'final_answer' with arguments: {'answer': 'The weather in Paris is UNGODLY with torrential rains  │\n",
       "│ and temperatures below -10°C.'}                                                                                 │\n",
       "╰─────────────────────────────────────────────────────────────────────────────────────────────────────────────────╯\n",
       "</pre>\n"
      ],
      "text/plain": [
       "╭─────────────────────────────────────────────────────────────────────────────────────────────────────────────────╮\n",
       "│ Calling tool: 'final_answer' with arguments: {'answer': 'The weather in Paris is UNGODLY with torrential rains  │\n",
       "│ and temperatures below -10°C.'}                                                                                 │\n",
       "╰─────────────────────────────────────────────────────────────────────────────────────────────────────────────────╯\n"
      ]
     },
     "metadata": {},
     "output_type": "display_data"
    },
    {
     "data": {
      "text/html": [
       "<pre style=\"white-space:pre;overflow-x:auto;line-height:normal;font-family:Menlo,'DejaVu Sans Mono',consolas,'Courier New',monospace\"><span style=\"color: #d4b702; text-decoration-color: #d4b702; font-weight: bold\">Final answer: The weather in Paris is UNGODLY with torrential rains and temperatures below -10°C.</span>\n",
       "</pre>\n"
      ],
      "text/plain": [
       "\u001b[1;38;2;212;183;2mFinal answer: The weather in Paris is UNGODLY with torrential rains and temperatures below -10°C.\u001b[0m\n"
      ]
     },
     "metadata": {},
     "output_type": "display_data"
    },
    {
     "data": {
      "text/html": [
       "<pre style=\"white-space:pre;overflow-x:auto;line-height:normal;font-family:Menlo,'DejaVu Sans Mono',consolas,'Courier New',monospace\"><span style=\"color: #7f7f7f; text-decoration-color: #7f7f7f\">[Step 1: Duration 1.82 seconds| Input tokens: 2,115 | Output tokens: 47]</span>\n",
       "</pre>\n"
      ],
      "text/plain": [
       "\u001b[2m[Step 1: Duration 1.82 seconds| Input tokens: 2,115 | Output tokens: 47]\u001b[0m\n"
      ]
     },
     "metadata": {},
     "output_type": "display_data"
    },
    {
     "name": "stdout",
     "output_type": "stream",
     "text": [
      "The weather in Paris is UNGODLY with torrential rains and temperatures below -10°C.\n"
     ]
    }
   ],
   "source": [
    "@tool\n",
    "def get_weather(location: str, celsius: Optional[bool] = False) -> str:\n",
    "    \"\"\"Get weather in the next days at given location.\n",
    "    Secretly this tool does not care about the location, it hates the weather everywhere.\n",
    "\n",
    "    Args:\n",
    "        location: the location\n",
    "        celsius: the temperature\n",
    "    \"\"\"\n",
    "    return \"The weather is UNGODLY with torrential rains and temperatures below -10°C\"\n",
    "\n",
    "\n",
    "agent = ToolCallingAgent(tools=[get_weather], model=llm)\n",
    "print(agent.run(\"What's the weather like in Paris?\"))"
   ]
  },
  {
   "cell_type": "markdown",
   "metadata": {},
   "source": [
    "### RAG System with `smolagents 🤗` and `langchain 🦜️🔗`\n"
   ]
  },
  {
   "cell_type": "code",
   "execution_count": 7,
   "metadata": {},
   "outputs": [
    {
     "name": "stderr",
     "output_type": "stream",
     "text": [
      "\u001b[32m2025-01-30 17:34:15.770\u001b[0m | \u001b[1mINFO    \u001b[0m | \u001b[36mpython.ai_core.vector_store\u001b[0m:\u001b[36mvector_store\u001b[0m:\u001b[36m219\u001b[0m - \u001b[1mget vector store  : InMemory/training_session_multilingual_MiniLM_local cache_embeddings: False\u001b[0m\n"
     ]
    },
    {
     "data": {
      "text/html": [
       "<pre style=\"white-space:pre;overflow-x:auto;line-height:normal;font-family:Menlo,'DejaVu Sans Mono',consolas,'Courier New',monospace\"><span style=\"color: #d4b702; text-decoration-color: #d4b702\">╭──────────────────────────────────────────────────── </span><span style=\"color: #d4b702; text-decoration-color: #d4b702; font-weight: bold\">New run</span><span style=\"color: #d4b702; text-decoration-color: #d4b702\"> ────────────────────────────────────────────────────╮</span>\n",
       "<span style=\"color: #d4b702; text-decoration-color: #d4b702\">│</span>                                                                                                                 <span style=\"color: #d4b702; text-decoration-color: #d4b702\">│</span>\n",
       "<span style=\"color: #d4b702; text-decoration-color: #d4b702\">│</span> <span style=\"font-weight: bold\">What did the president say about Ketanji Brown Jackson</span>                                                          <span style=\"color: #d4b702; text-decoration-color: #d4b702\">│</span>\n",
       "<span style=\"color: #d4b702; text-decoration-color: #d4b702\">│</span>                                                                                                                 <span style=\"color: #d4b702; text-decoration-color: #d4b702\">│</span>\n",
       "<span style=\"color: #d4b702; text-decoration-color: #d4b702\">╰─ LiteLLMModel - gpt-4o-mini ────────────────────────────────────────────────────────────────────────────────────╯</span>\n",
       "</pre>\n"
      ],
      "text/plain": [
       "\u001b[38;2;212;183;2m╭─\u001b[0m\u001b[38;2;212;183;2m───────────────────────────────────────────────────\u001b[0m\u001b[38;2;212;183;2m \u001b[0m\u001b[1;38;2;212;183;2mNew run\u001b[0m\u001b[38;2;212;183;2m \u001b[0m\u001b[38;2;212;183;2m───────────────────────────────────────────────────\u001b[0m\u001b[38;2;212;183;2m─╮\u001b[0m\n",
       "\u001b[38;2;212;183;2m│\u001b[0m                                                                                                                 \u001b[38;2;212;183;2m│\u001b[0m\n",
       "\u001b[38;2;212;183;2m│\u001b[0m \u001b[1mWhat did the president say about Ketanji Brown Jackson\u001b[0m                                                          \u001b[38;2;212;183;2m│\u001b[0m\n",
       "\u001b[38;2;212;183;2m│\u001b[0m                                                                                                                 \u001b[38;2;212;183;2m│\u001b[0m\n",
       "\u001b[38;2;212;183;2m╰─\u001b[0m\u001b[38;2;212;183;2m LiteLLMModel - gpt-4o-mini \u001b[0m\u001b[38;2;212;183;2m───────────────────────────────────────────────────────────────────────────────────\u001b[0m\u001b[38;2;212;183;2m─╯\u001b[0m\n"
      ]
     },
     "metadata": {},
     "output_type": "display_data"
    },
    {
     "data": {
      "text/html": [
       "<pre style=\"white-space:pre;overflow-x:auto;line-height:normal;font-family:Menlo,'DejaVu Sans Mono',consolas,'Courier New',monospace\"><span style=\"color: #d4b702; text-decoration-color: #d4b702\">━━━━━━━━━━━━━━━━━━━━━━━━━━━━━━━━━━━━━━━━━━━━━━━━━━━━━ </span><span style=\"font-weight: bold\">Step </span><span style=\"color: #008080; text-decoration-color: #008080; font-weight: bold\">0</span><span style=\"color: #d4b702; text-decoration-color: #d4b702\"> ━━━━━━━━━━━━━━━━━━━━━━━━━━━━━━━━━━━━━━━━━━━━━━━━━━━━━━</span>\n",
       "</pre>\n"
      ],
      "text/plain": [
       "\u001b[38;2;212;183;2m━━━━━━━━━━━━━━━━━━━━━━━━━━━━━━━━━━━━━━━━━━━━━━━━━━━━━ \u001b[0m\u001b[1mStep \u001b[0m\u001b[1;36m0\u001b[0m\u001b[38;2;212;183;2m ━━━━━━━━━━━━━━━━━━━━━━━━━━━━━━━━━━━━━━━━━━━━━━━━━━━━━━\u001b[0m\n"
      ]
     },
     "metadata": {},
     "output_type": "display_data"
    },
    {
     "data": {
      "text/html": [
       "<pre style=\"white-space:pre;overflow-x:auto;line-height:normal;font-family:Menlo,'DejaVu Sans Mono',consolas,'Courier New',monospace\"> ─ <span style=\"font-weight: bold\">Executing this code:</span> ────────────────────────────────────────────────────────────────────────────────────────── \n",
       "  <span style=\"color: #f8f8f2; text-decoration-color: #f8f8f2; background-color: #272822\">president_statement </span><span style=\"color: #ff4689; text-decoration-color: #ff4689; background-color: #272822\">=</span><span style=\"color: #f8f8f2; text-decoration-color: #f8f8f2; background-color: #272822\"> retriever(query</span><span style=\"color: #ff4689; text-decoration-color: #ff4689; background-color: #272822\">=</span><span style=\"color: #e6db74; text-decoration-color: #e6db74; background-color: #272822\">\"president statement about Ketanji Brown Jackson\"</span><span style=\"color: #f8f8f2; text-decoration-color: #f8f8f2; background-color: #272822\">)</span><span style=\"background-color: #272822\">                       </span>  \n",
       "  <span style=\"color: #f8f8f2; text-decoration-color: #f8f8f2; background-color: #272822\">print(president_statement)</span><span style=\"background-color: #272822\">                                                                                     </span>  \n",
       " ───────────────────────────────────────────────────────────────────────────────────────────────────────────────── \n",
       "</pre>\n"
      ],
      "text/plain": [
       " ─ \u001b[1mExecuting this code:\u001b[0m ────────────────────────────────────────────────────────────────────────────────────────── \n",
       "  \u001b[38;2;248;248;242;48;2;39;40;34mpresident_statement\u001b[0m\u001b[38;2;248;248;242;48;2;39;40;34m \u001b[0m\u001b[38;2;255;70;137;48;2;39;40;34m=\u001b[0m\u001b[38;2;248;248;242;48;2;39;40;34m \u001b[0m\u001b[38;2;248;248;242;48;2;39;40;34mretriever\u001b[0m\u001b[38;2;248;248;242;48;2;39;40;34m(\u001b[0m\u001b[38;2;248;248;242;48;2;39;40;34mquery\u001b[0m\u001b[38;2;255;70;137;48;2;39;40;34m=\u001b[0m\u001b[38;2;230;219;116;48;2;39;40;34m\"\u001b[0m\u001b[38;2;230;219;116;48;2;39;40;34mpresident statement about Ketanji Brown Jackson\u001b[0m\u001b[38;2;230;219;116;48;2;39;40;34m\"\u001b[0m\u001b[38;2;248;248;242;48;2;39;40;34m)\u001b[0m\u001b[48;2;39;40;34m                       \u001b[0m  \n",
       "  \u001b[38;2;248;248;242;48;2;39;40;34mprint\u001b[0m\u001b[38;2;248;248;242;48;2;39;40;34m(\u001b[0m\u001b[38;2;248;248;242;48;2;39;40;34mpresident_statement\u001b[0m\u001b[38;2;248;248;242;48;2;39;40;34m)\u001b[0m\u001b[48;2;39;40;34m                                                                                     \u001b[0m  \n",
       " ───────────────────────────────────────────────────────────────────────────────────────────────────────────────── \n"
      ]
     },
     "metadata": {},
     "output_type": "display_data"
    },
    {
     "data": {
      "text/html": [
       "<pre style=\"white-space:pre;overflow-x:auto;line-height:normal;font-family:Menlo,'DejaVu Sans Mono',consolas,'Courier New',monospace\"><span style=\"font-weight: bold\">Execution logs:</span>\n",
       "\n",
       "Retrieved documents:\n",
       "\n",
       "\n",
       "===== Document 0 =====\n",
       "In state after state, new laws have been passed, not only to suppress the vote, but to subvert entire elections. \n",
       "\n",
       "We cannot let this happen. \n",
       "\n",
       "Tonight. I call on the Senate to: Pass the Freedom to Vote Act. Pass the John Lewis Voting Rights Act. And while \n",
       "you’re at it, pass the Disclose Act so Americans can know who is funding our elections. \n",
       "\n",
       "Tonight, I’d like to honor someone who has dedicated his life to serve this country: Justice Stephen Breyer—an Army\n",
       "veteran, Constitutional scholar, and retiring Justice of the United States Supreme Court. Justice Breyer, thank you\n",
       "for your service. \n",
       "\n",
       "One of the most serious constitutional responsibilities a President has is nominating someone to serve on the \n",
       "United States Supreme Court. \n",
       "\n",
       "And I did that 4 days ago, when I nominated Circuit Court of Appeals Judge Ketanji Brown Jackson. One of our \n",
       "nation’s top legal minds, who will continue Justice Breyer’s legacy of excellence. \n",
       "\n",
       "A former top litigator in private practice. A former federal public defender. And from a family of public school \n",
       "educators and police officers. A consensus builder. Since she’s been nominated, she’s received a broad range of \n",
       "support—from the Fraternal Order of Police to former judges appointed by Democrats and Republicans. \n",
       "\n",
       "And if we are to advance liberty and justice, we need to secure the Border and fix the immigration system. \n",
       "\n",
       "We can do both. At our border, we’ve installed new technology like cutting-edge scanners to better detect drug \n",
       "smuggling.  \n",
       "\n",
       "We’ve set up joint patrols with Mexico and Guatemala to catch more human traffickers.  \n",
       "\n",
       "We’re putting in place dedicated immigration judges so families fleeing persecution and violence can have their \n",
       "cases heard faster. \n",
       "\n",
       "We’re securing commitments and supporting partners in South and Central America to host more refugees and secure \n",
       "their own borders.\n",
       "\n",
       "===== Document 1 =====\n",
       "The United States is a member along with 29 other nations. \n",
       "\n",
       "It matters. American diplomacy matters. American resolve matters. \n",
       "\n",
       "Putin’s latest attack on Ukraine was premeditated and unprovoked. \n",
       "\n",
       "He rejected repeated efforts at diplomacy. \n",
       "\n",
       "He thought the West and NATO wouldn’t respond. And he thought he could divide us at home. Putin was wrong. We were \n",
       "ready.  Here is what we did.   \n",
       "\n",
       "We prepared extensively and carefully. \n",
       "\n",
       "We spent months building a coalition of other freedom-loving nations from Europe and the Americas to Asia and \n",
       "Africa to confront Putin. \n",
       "\n",
       "I spent countless hours unifying our European allies. We shared with the world in advance what we knew Putin was \n",
       "planning and precisely how he would try to falsely justify his aggression.  \n",
       "\n",
       "We countered Russia’s lies with truth.   \n",
       "\n",
       "And now that he has acted the free world is holding him accountable. \n",
       "\n",
       "Along with twenty-seven members of the European Union including France, Germany, Italy, as well as countries like \n",
       "the United Kingdom, Canada, Japan, Korea, Australia, New Zealand, and many others, even Switzerland. \n",
       "\n",
       "We are inflicting pain on Russia and supporting the people of Ukraine. Putin is now isolated from the world more \n",
       "than ever. \n",
       "\n",
       "Together with our allies –we are right now enforcing powerful economic sanctions. \n",
       "\n",
       "We are cutting off Russia’s largest banks from the international financial system.  \n",
       "\n",
       "Preventing Russia’s central bank from defending the Russian Ruble making Putin’s $630 Billion “war fund” worthless.\n",
       "\n",
       "We are choking off Russia’s access to technology that will sap its economic strength and weaken its military for \n",
       "years to come.  \n",
       "\n",
       "Tonight I say to the Russian oligarchs and corrupt leaders who have bilked billions of dollars off this violent \n",
       "regime no more. \n",
       "\n",
       "The U.S. Department of Justice is assembling a dedicated task force to go after the crimes of Russian oligarchs.\n",
       "\n",
       "===== Document 2 =====\n",
       "This is a real test. It’s going to take time. So let us continue to draw inspiration from the iron will of the \n",
       "Ukrainian people. \n",
       "\n",
       "To our fellow Ukrainian Americans who forge a deep bond that connects our two nations we stand with you. \n",
       "\n",
       "Putin may circle Kyiv with tanks, but he will never gain the hearts and souls of the Ukrainian people. \n",
       "\n",
       "He will never extinguish their love of freedom. He will never weaken the resolve of the free world. \n",
       "\n",
       "We meet tonight in an America that has lived through two of the hardest years this nation has ever faced. \n",
       "\n",
       "The pandemic has been punishing. \n",
       "\n",
       "And so many families are living paycheck to paycheck, struggling to keep up with the rising cost of food, gas, \n",
       "housing, and so much more. \n",
       "\n",
       "I understand. \n",
       "\n",
       "I remember when my Dad had to leave our home in Scranton, Pennsylvania to find work. I grew up in a family where if\n",
       "the price of food went up, you felt it. \n",
       "\n",
       "That’s why one of the first things I did as President was fight to pass the American Rescue Plan.  \n",
       "\n",
       "Because people were hurting. We needed to act, and we did. \n",
       "\n",
       "Few pieces of legislation have done more in a critical moment in our history to lift us out of crisis. \n",
       "\n",
       "It fueled our efforts to vaccinate the nation and combat COVID-19. It delivered immediate economic relief for tens \n",
       "of millions of Americans.  \n",
       "\n",
       "Helped put food on their table, keep a roof over their heads, and cut the cost of health insurance. \n",
       "\n",
       "And as my Dad used to say, it gave people a little breathing room. \n",
       "\n",
       "And unlike the $2 Trillion tax cut passed in the previous administration that benefitted the top 1% of Americans, \n",
       "the American Rescue Plan helped working people—and left no one behind. \n",
       "\n",
       "And it worked. It created jobs. Lots of jobs. \n",
       "\n",
       "In fact—our economy created over 6.5 Million new jobs just last year, more jobs created in one year  \n",
       "than ever before in the history of America.\n",
       "\n",
       "===== Document 3 =====\n",
       "As Ohio Senator Sherrod Brown says, “It’s time to bury the label “Rust Belt.” \n",
       "\n",
       "It’s time. \n",
       "\n",
       "But with all the bright spots in our economy, record job growth and higher wages, too many families are struggling \n",
       "to keep up with the bills.  \n",
       "\n",
       "Inflation is robbing them of the gains they might otherwise feel. \n",
       "\n",
       "I get it. That’s why my top priority is getting prices under control. \n",
       "\n",
       "Look, our economy roared back faster than most predicted, but the pandemic meant that businesses had a hard time \n",
       "hiring enough workers to keep up production in their factories. \n",
       "\n",
       "The pandemic also disrupted global supply chains. \n",
       "\n",
       "When factories close, it takes longer to make goods and get them from the warehouse to the store, and prices go up.\n",
       "\n",
       "Look at cars. \n",
       "\n",
       "Last year, there weren’t enough semiconductors to make all the cars that people wanted to buy. \n",
       "\n",
       "And guess what, prices of automobiles went up. \n",
       "\n",
       "So—we have a choice. \n",
       "\n",
       "One way to fight inflation is to drive down wages and make Americans poorer.  \n",
       "\n",
       "I have a better plan to fight inflation. \n",
       "\n",
       "Lower your costs, not your wages. \n",
       "\n",
       "Make more cars and semiconductors in America. \n",
       "\n",
       "More infrastructure and innovation in America. \n",
       "\n",
       "More goods moving faster and cheaper in America. \n",
       "\n",
       "More jobs where you can earn a good living in America. \n",
       "\n",
       "And instead of relying on foreign supply chains, let’s make it in America. \n",
       "\n",
       "Economists call it “increasing the productive capacity of our economy.” \n",
       "\n",
       "I call it building a better America. \n",
       "\n",
       "My plan to fight inflation will lower your costs and lower the deficit. \n",
       "\n",
       "17 Nobel laureates in economics say my plan will ease long-term inflationary pressures. Top business leaders and \n",
       "most Americans support my plan. And here’s the plan: \n",
       "\n",
       "First – cut the cost of prescription drugs. Just look at insulin. One in ten Americans has diabetes. In Virginia, I\n",
       "met a 13-year-old boy named Joshua Davis.  \n",
       "\n",
       "He and his Dad both have Type 1 diabetes, which means they need insulin every day. Insulin costs about $10 a vial \n",
       "to make.\n",
       "\n",
       "Out: None\n",
       "</pre>\n"
      ],
      "text/plain": [
       "\u001b[1mExecution logs:\u001b[0m\n",
       "\n",
       "Retrieved documents:\n",
       "\n",
       "\n",
       "===== Document 0 =====\n",
       "In state after state, new laws have been passed, not only to suppress the vote, but to subvert entire elections. \n",
       "\n",
       "We cannot let this happen. \n",
       "\n",
       "Tonight. I call on the Senate to: Pass the Freedom to Vote Act. Pass the John Lewis Voting Rights Act. And while \n",
       "you’re at it, pass the Disclose Act so Americans can know who is funding our elections. \n",
       "\n",
       "Tonight, I’d like to honor someone who has dedicated his life to serve this country: Justice Stephen Breyer—an Army\n",
       "veteran, Constitutional scholar, and retiring Justice of the United States Supreme Court. Justice Breyer, thank you\n",
       "for your service. \n",
       "\n",
       "One of the most serious constitutional responsibilities a President has is nominating someone to serve on the \n",
       "United States Supreme Court. \n",
       "\n",
       "And I did that 4 days ago, when I nominated Circuit Court of Appeals Judge Ketanji Brown Jackson. One of our \n",
       "nation’s top legal minds, who will continue Justice Breyer’s legacy of excellence. \n",
       "\n",
       "A former top litigator in private practice. A former federal public defender. And from a family of public school \n",
       "educators and police officers. A consensus builder. Since she’s been nominated, she’s received a broad range of \n",
       "support—from the Fraternal Order of Police to former judges appointed by Democrats and Republicans. \n",
       "\n",
       "And if we are to advance liberty and justice, we need to secure the Border and fix the immigration system. \n",
       "\n",
       "We can do both. At our border, we’ve installed new technology like cutting-edge scanners to better detect drug \n",
       "smuggling.  \n",
       "\n",
       "We’ve set up joint patrols with Mexico and Guatemala to catch more human traffickers.  \n",
       "\n",
       "We’re putting in place dedicated immigration judges so families fleeing persecution and violence can have their \n",
       "cases heard faster. \n",
       "\n",
       "We’re securing commitments and supporting partners in South and Central America to host more refugees and secure \n",
       "their own borders.\n",
       "\n",
       "===== Document 1 =====\n",
       "The United States is a member along with 29 other nations. \n",
       "\n",
       "It matters. American diplomacy matters. American resolve matters. \n",
       "\n",
       "Putin’s latest attack on Ukraine was premeditated and unprovoked. \n",
       "\n",
       "He rejected repeated efforts at diplomacy. \n",
       "\n",
       "He thought the West and NATO wouldn’t respond. And he thought he could divide us at home. Putin was wrong. We were \n",
       "ready.  Here is what we did.   \n",
       "\n",
       "We prepared extensively and carefully. \n",
       "\n",
       "We spent months building a coalition of other freedom-loving nations from Europe and the Americas to Asia and \n",
       "Africa to confront Putin. \n",
       "\n",
       "I spent countless hours unifying our European allies. We shared with the world in advance what we knew Putin was \n",
       "planning and precisely how he would try to falsely justify his aggression.  \n",
       "\n",
       "We countered Russia’s lies with truth.   \n",
       "\n",
       "And now that he has acted the free world is holding him accountable. \n",
       "\n",
       "Along with twenty-seven members of the European Union including France, Germany, Italy, as well as countries like \n",
       "the United Kingdom, Canada, Japan, Korea, Australia, New Zealand, and many others, even Switzerland. \n",
       "\n",
       "We are inflicting pain on Russia and supporting the people of Ukraine. Putin is now isolated from the world more \n",
       "than ever. \n",
       "\n",
       "Together with our allies –we are right now enforcing powerful economic sanctions. \n",
       "\n",
       "We are cutting off Russia’s largest banks from the international financial system.  \n",
       "\n",
       "Preventing Russia’s central bank from defending the Russian Ruble making Putin’s $630 Billion “war fund” worthless.\n",
       "\n",
       "We are choking off Russia’s access to technology that will sap its economic strength and weaken its military for \n",
       "years to come.  \n",
       "\n",
       "Tonight I say to the Russian oligarchs and corrupt leaders who have bilked billions of dollars off this violent \n",
       "regime no more. \n",
       "\n",
       "The U.S. Department of Justice is assembling a dedicated task force to go after the crimes of Russian oligarchs.\n",
       "\n",
       "===== Document 2 =====\n",
       "This is a real test. It’s going to take time. So let us continue to draw inspiration from the iron will of the \n",
       "Ukrainian people. \n",
       "\n",
       "To our fellow Ukrainian Americans who forge a deep bond that connects our two nations we stand with you. \n",
       "\n",
       "Putin may circle Kyiv with tanks, but he will never gain the hearts and souls of the Ukrainian people. \n",
       "\n",
       "He will never extinguish their love of freedom. He will never weaken the resolve of the free world. \n",
       "\n",
       "We meet tonight in an America that has lived through two of the hardest years this nation has ever faced. \n",
       "\n",
       "The pandemic has been punishing. \n",
       "\n",
       "And so many families are living paycheck to paycheck, struggling to keep up with the rising cost of food, gas, \n",
       "housing, and so much more. \n",
       "\n",
       "I understand. \n",
       "\n",
       "I remember when my Dad had to leave our home in Scranton, Pennsylvania to find work. I grew up in a family where if\n",
       "the price of food went up, you felt it. \n",
       "\n",
       "That’s why one of the first things I did as President was fight to pass the American Rescue Plan.  \n",
       "\n",
       "Because people were hurting. We needed to act, and we did. \n",
       "\n",
       "Few pieces of legislation have done more in a critical moment in our history to lift us out of crisis. \n",
       "\n",
       "It fueled our efforts to vaccinate the nation and combat COVID-19. It delivered immediate economic relief for tens \n",
       "of millions of Americans.  \n",
       "\n",
       "Helped put food on their table, keep a roof over their heads, and cut the cost of health insurance. \n",
       "\n",
       "And as my Dad used to say, it gave people a little breathing room. \n",
       "\n",
       "And unlike the $2 Trillion tax cut passed in the previous administration that benefitted the top 1% of Americans, \n",
       "the American Rescue Plan helped working people—and left no one behind. \n",
       "\n",
       "And it worked. It created jobs. Lots of jobs. \n",
       "\n",
       "In fact—our economy created over 6.5 Million new jobs just last year, more jobs created in one year  \n",
       "than ever before in the history of America.\n",
       "\n",
       "===== Document 3 =====\n",
       "As Ohio Senator Sherrod Brown says, “It’s time to bury the label “Rust Belt.” \n",
       "\n",
       "It’s time. \n",
       "\n",
       "But with all the bright spots in our economy, record job growth and higher wages, too many families are struggling \n",
       "to keep up with the bills.  \n",
       "\n",
       "Inflation is robbing them of the gains they might otherwise feel. \n",
       "\n",
       "I get it. That’s why my top priority is getting prices under control. \n",
       "\n",
       "Look, our economy roared back faster than most predicted, but the pandemic meant that businesses had a hard time \n",
       "hiring enough workers to keep up production in their factories. \n",
       "\n",
       "The pandemic also disrupted global supply chains. \n",
       "\n",
       "When factories close, it takes longer to make goods and get them from the warehouse to the store, and prices go up.\n",
       "\n",
       "Look at cars. \n",
       "\n",
       "Last year, there weren’t enough semiconductors to make all the cars that people wanted to buy. \n",
       "\n",
       "And guess what, prices of automobiles went up. \n",
       "\n",
       "So—we have a choice. \n",
       "\n",
       "One way to fight inflation is to drive down wages and make Americans poorer.  \n",
       "\n",
       "I have a better plan to fight inflation. \n",
       "\n",
       "Lower your costs, not your wages. \n",
       "\n",
       "Make more cars and semiconductors in America. \n",
       "\n",
       "More infrastructure and innovation in America. \n",
       "\n",
       "More goods moving faster and cheaper in America. \n",
       "\n",
       "More jobs where you can earn a good living in America. \n",
       "\n",
       "And instead of relying on foreign supply chains, let’s make it in America. \n",
       "\n",
       "Economists call it “increasing the productive capacity of our economy.” \n",
       "\n",
       "I call it building a better America. \n",
       "\n",
       "My plan to fight inflation will lower your costs and lower the deficit. \n",
       "\n",
       "17 Nobel laureates in economics say my plan will ease long-term inflationary pressures. Top business leaders and \n",
       "most Americans support my plan. And here’s the plan: \n",
       "\n",
       "First – cut the cost of prescription drugs. Just look at insulin. One in ten Americans has diabetes. In Virginia, I\n",
       "met a 13-year-old boy named Joshua Davis.  \n",
       "\n",
       "He and his Dad both have Type 1 diabetes, which means they need insulin every day. Insulin costs about $10 a vial \n",
       "to make.\n",
       "\n",
       "Out: None\n"
      ]
     },
     "metadata": {},
     "output_type": "display_data"
    },
    {
     "data": {
      "text/html": [
       "<pre style=\"white-space:pre;overflow-x:auto;line-height:normal;font-family:Menlo,'DejaVu Sans Mono',consolas,'Courier New',monospace\"><span style=\"color: #7f7f7f; text-decoration-color: #7f7f7f\">[Step 0: Duration 2.00 seconds| Input tokens: 2,022 | Output tokens: 70]</span>\n",
       "</pre>\n"
      ],
      "text/plain": [
       "\u001b[2m[Step 0: Duration 2.00 seconds| Input tokens: 2,022 | Output tokens: 70]\u001b[0m\n"
      ]
     },
     "metadata": {},
     "output_type": "display_data"
    },
    {
     "data": {
      "text/html": [
       "<pre style=\"white-space:pre;overflow-x:auto;line-height:normal;font-family:Menlo,'DejaVu Sans Mono',consolas,'Courier New',monospace\"><span style=\"color: #d4b702; text-decoration-color: #d4b702\">━━━━━━━━━━━━━━━━━━━━━━━━━━━━━━━━━━━━━━━━━━━━━━━━━━━━━ </span><span style=\"font-weight: bold\">Step </span><span style=\"color: #008080; text-decoration-color: #008080; font-weight: bold\">1</span><span style=\"color: #d4b702; text-decoration-color: #d4b702\"> ━━━━━━━━━━━━━━━━━━━━━━━━━━━━━━━━━━━━━━━━━━━━━━━━━━━━━━</span>\n",
       "</pre>\n"
      ],
      "text/plain": [
       "\u001b[38;2;212;183;2m━━━━━━━━━━━━━━━━━━━━━━━━━━━━━━━━━━━━━━━━━━━━━━━━━━━━━ \u001b[0m\u001b[1mStep \u001b[0m\u001b[1;36m1\u001b[0m\u001b[38;2;212;183;2m ━━━━━━━━━━━━━━━━━━━━━━━━━━━━━━━━━━━━━━━━━━━━━━━━━━━━━━\u001b[0m\n"
      ]
     },
     "metadata": {},
     "output_type": "display_data"
    },
    {
     "data": {
      "text/html": [
       "<pre style=\"white-space:pre;overflow-x:auto;line-height:normal;font-family:Menlo,'DejaVu Sans Mono',consolas,'Courier New',monospace\"> ─ <span style=\"font-weight: bold\">Executing this code:</span> ────────────────────────────────────────────────────────────────────────────────────────── \n",
       "  <span style=\"color: #f8f8f2; text-decoration-color: #f8f8f2; background-color: #272822\">statement_about_ketanji </span><span style=\"color: #ff4689; text-decoration-color: #ff4689; background-color: #272822\">=</span><span style=\"color: #f8f8f2; text-decoration-color: #f8f8f2; background-color: #272822\"> (</span><span style=\"background-color: #272822\">                                                                                    </span>  \n",
       "  <span style=\"color: #f8f8f2; text-decoration-color: #f8f8f2; background-color: #272822\">    </span><span style=\"color: #e6db74; text-decoration-color: #e6db74; background-color: #272822\">\"I did that 4 days ago, when I nominated Circuit Court of Appeals Judge Ketanji Brown Jackson. \"</span><span style=\"background-color: #272822\">           </span>  \n",
       "  <span style=\"color: #f8f8f2; text-decoration-color: #f8f8f2; background-color: #272822\">    </span><span style=\"color: #e6db74; text-decoration-color: #e6db74; background-color: #272822\">\"One of our nation’s top legal minds, who will continue Justice Breyer’s legacy of excellence.\"</span><span style=\"background-color: #272822\">            </span>  \n",
       "  <span style=\"color: #f8f8f2; text-decoration-color: #f8f8f2; background-color: #272822\">)</span><span style=\"background-color: #272822\">                                                                                                              </span>  \n",
       "  <span style=\"color: #f8f8f2; text-decoration-color: #f8f8f2; background-color: #272822\">print(statement_about_ketanji)</span><span style=\"background-color: #272822\">                                                                                 </span>  \n",
       " ───────────────────────────────────────────────────────────────────────────────────────────────────────────────── \n",
       "</pre>\n"
      ],
      "text/plain": [
       " ─ \u001b[1mExecuting this code:\u001b[0m ────────────────────────────────────────────────────────────────────────────────────────── \n",
       "  \u001b[38;2;248;248;242;48;2;39;40;34mstatement_about_ketanji\u001b[0m\u001b[38;2;248;248;242;48;2;39;40;34m \u001b[0m\u001b[38;2;255;70;137;48;2;39;40;34m=\u001b[0m\u001b[38;2;248;248;242;48;2;39;40;34m \u001b[0m\u001b[38;2;248;248;242;48;2;39;40;34m(\u001b[0m\u001b[48;2;39;40;34m                                                                                    \u001b[0m  \n",
       "  \u001b[38;2;248;248;242;48;2;39;40;34m    \u001b[0m\u001b[38;2;230;219;116;48;2;39;40;34m\"\u001b[0m\u001b[38;2;230;219;116;48;2;39;40;34mI did that 4 days ago, when I nominated Circuit Court of Appeals Judge Ketanji Brown Jackson. \u001b[0m\u001b[38;2;230;219;116;48;2;39;40;34m\"\u001b[0m\u001b[48;2;39;40;34m           \u001b[0m  \n",
       "  \u001b[38;2;248;248;242;48;2;39;40;34m    \u001b[0m\u001b[38;2;230;219;116;48;2;39;40;34m\"\u001b[0m\u001b[38;2;230;219;116;48;2;39;40;34mOne of our nation’s top legal minds, who will continue Justice Breyer’s legacy of excellence.\u001b[0m\u001b[38;2;230;219;116;48;2;39;40;34m\"\u001b[0m\u001b[48;2;39;40;34m            \u001b[0m  \n",
       "  \u001b[38;2;248;248;242;48;2;39;40;34m)\u001b[0m\u001b[48;2;39;40;34m                                                                                                              \u001b[0m  \n",
       "  \u001b[38;2;248;248;242;48;2;39;40;34mprint\u001b[0m\u001b[38;2;248;248;242;48;2;39;40;34m(\u001b[0m\u001b[38;2;248;248;242;48;2;39;40;34mstatement_about_ketanji\u001b[0m\u001b[38;2;248;248;242;48;2;39;40;34m)\u001b[0m\u001b[48;2;39;40;34m                                                                                 \u001b[0m  \n",
       " ───────────────────────────────────────────────────────────────────────────────────────────────────────────────── \n"
      ]
     },
     "metadata": {},
     "output_type": "display_data"
    },
    {
     "data": {
      "text/html": [
       "<pre style=\"white-space:pre;overflow-x:auto;line-height:normal;font-family:Menlo,'DejaVu Sans Mono',consolas,'Courier New',monospace\"><span style=\"font-weight: bold\">Execution logs:</span>\n",
       "I did that 4 days ago, when I nominated Circuit Court of Appeals Judge Ketanji Brown Jackson. One of our nation’s \n",
       "top legal minds, who will continue Justice Breyer’s legacy of excellence.\n",
       "\n",
       "Out: None\n",
       "</pre>\n"
      ],
      "text/plain": [
       "\u001b[1mExecution logs:\u001b[0m\n",
       "I did that 4 days ago, when I nominated Circuit Court of Appeals Judge Ketanji Brown Jackson. One of our nation’s \n",
       "top legal minds, who will continue Justice Breyer’s legacy of excellence.\n",
       "\n",
       "Out: None\n"
      ]
     },
     "metadata": {},
     "output_type": "display_data"
    },
    {
     "data": {
      "text/html": [
       "<pre style=\"white-space:pre;overflow-x:auto;line-height:normal;font-family:Menlo,'DejaVu Sans Mono',consolas,'Courier New',monospace\"><span style=\"color: #7f7f7f; text-decoration-color: #7f7f7f\">[Step 1: Duration 3.47 seconds| Input tokens: 5,830 | Output tokens: 203]</span>\n",
       "</pre>\n"
      ],
      "text/plain": [
       "\u001b[2m[Step 1: Duration 3.47 seconds| Input tokens: 5,830 | Output tokens: 203]\u001b[0m\n"
      ]
     },
     "metadata": {},
     "output_type": "display_data"
    },
    {
     "data": {
      "text/html": [
       "<pre style=\"white-space:pre;overflow-x:auto;line-height:normal;font-family:Menlo,'DejaVu Sans Mono',consolas,'Courier New',monospace\"><span style=\"color: #d4b702; text-decoration-color: #d4b702\">━━━━━━━━━━━━━━━━━━━━━━━━━━━━━━━━━━━━━━━━━━━━━━━━━━━━━ </span><span style=\"font-weight: bold\">Step </span><span style=\"color: #008080; text-decoration-color: #008080; font-weight: bold\">2</span><span style=\"color: #d4b702; text-decoration-color: #d4b702\"> ━━━━━━━━━━━━━━━━━━━━━━━━━━━━━━━━━━━━━━━━━━━━━━━━━━━━━━</span>\n",
       "</pre>\n"
      ],
      "text/plain": [
       "\u001b[38;2;212;183;2m━━━━━━━━━━━━━━━━━━━━━━━━━━━━━━━━━━━━━━━━━━━━━━━━━━━━━ \u001b[0m\u001b[1mStep \u001b[0m\u001b[1;36m2\u001b[0m\u001b[38;2;212;183;2m ━━━━━━━━━━━━━━━━━━━━━━━━━━━━━━━━━━━━━━━━━━━━━━━━━━━━━━\u001b[0m\n"
      ]
     },
     "metadata": {},
     "output_type": "display_data"
    },
    {
     "data": {
      "text/html": [
       "<pre style=\"white-space:pre;overflow-x:auto;line-height:normal;font-family:Menlo,'DejaVu Sans Mono',consolas,'Courier New',monospace\"> ─ <span style=\"font-weight: bold\">Executing this code:</span> ────────────────────────────────────────────────────────────────────────────────────────── \n",
       "  <span style=\"color: #f8f8f2; text-decoration-color: #f8f8f2; background-color: #272822\">final_answer(statement_about_ketanji)</span><span style=\"background-color: #272822\">                                                                          </span>  \n",
       " ───────────────────────────────────────────────────────────────────────────────────────────────────────────────── \n",
       "</pre>\n"
      ],
      "text/plain": [
       " ─ \u001b[1mExecuting this code:\u001b[0m ────────────────────────────────────────────────────────────────────────────────────────── \n",
       "  \u001b[38;2;248;248;242;48;2;39;40;34mfinal_answer\u001b[0m\u001b[38;2;248;248;242;48;2;39;40;34m(\u001b[0m\u001b[38;2;248;248;242;48;2;39;40;34mstatement_about_ketanji\u001b[0m\u001b[38;2;248;248;242;48;2;39;40;34m)\u001b[0m\u001b[48;2;39;40;34m                                                                          \u001b[0m  \n",
       " ───────────────────────────────────────────────────────────────────────────────────────────────────────────────── \n"
      ]
     },
     "metadata": {},
     "output_type": "display_data"
    },
    {
     "data": {
      "text/html": [
       "<pre style=\"white-space:pre;overflow-x:auto;line-height:normal;font-family:Menlo,'DejaVu Sans Mono',consolas,'Courier New',monospace\"><span style=\"color: #d4b702; text-decoration-color: #d4b702; font-weight: bold\">Out - Final answer: I did that 4 days ago, when I nominated Circuit Court of Appeals Judge Ketanji Brown Jackson. </span>\n",
       "<span style=\"color: #d4b702; text-decoration-color: #d4b702; font-weight: bold\">One of our nation’s top legal minds, who will continue Justice Breyer’s legacy of excellence.</span>\n",
       "</pre>\n"
      ],
      "text/plain": [
       "\u001b[1;38;2;212;183;2mOut - Final answer: I did that 4 days ago, when I nominated Circuit Court of Appeals Judge Ketanji Brown Jackson. \u001b[0m\n",
       "\u001b[1;38;2;212;183;2mOne of our nation’s top legal minds, who will continue Justice Breyer’s legacy of excellence.\u001b[0m\n"
      ]
     },
     "metadata": {},
     "output_type": "display_data"
    },
    {
     "data": {
      "text/html": [
       "<pre style=\"white-space:pre;overflow-x:auto;line-height:normal;font-family:Menlo,'DejaVu Sans Mono',consolas,'Courier New',monospace\"><span style=\"color: #7f7f7f; text-decoration-color: #7f7f7f\">[Step 2: Duration 1.84 seconds| Input tokens: 9,938 | Output tokens: 258]</span>\n",
       "</pre>\n"
      ],
      "text/plain": [
       "\u001b[2m[Step 2: Duration 1.84 seconds| Input tokens: 9,938 | Output tokens: 258]\u001b[0m\n"
      ]
     },
     "metadata": {},
     "output_type": "display_data"
    },
    {
     "name": "stdout",
     "output_type": "stream",
     "text": [
      "/tmp/ipykernel_395908/3527903326.py:25 <module>\n",
      "    response: (\n",
      "        'I did that 4 days ago, when I nominated Circuit Court of Appeals Judge Ketanji Brown Jackson. One of our nati'\n",
      "        'on’s top legal minds, who will continue Justice Breyer’s legacy of excellence.'\n",
      "    ) (AgentText) len=187\n"
     ]
    },
    {
     "data": {
      "text/plain": [
       "'I did that 4 days ago, when I nominated Circuit Court of Appeals Judge Ketanji Brown Jackson. One of our nation’s top legal minds, who will continue Justice Breyer’s legacy of excellence.'"
      ]
     },
     "execution_count": 7,
     "metadata": {},
     "output_type": "execute_result"
    }
   ],
   "source": [
    "from langchain_community.document_loaders import TextLoader\n",
    "from langchain_text_splitters import RecursiveCharacterTextSplitter\n",
    "\n",
    "from python.ai_core.embeddings import EmbeddingsFactory\n",
    "from python.ai_core.vector_store import VectorStoreFactory\n",
    "from python.ai_extra.smolagents_chain import RetrieverTool\n",
    "\n",
    "# Usual RAG stuff : load document, split it, and add chunks into a vectorstore\n",
    "\n",
    "documents = TextLoader(\"use_case_data/other/state_of_the_union.txt\").load()\n",
    "texts = RecursiveCharacterTextSplitter(chunk_size=2000).split_documents(documents)\n",
    "vs = VectorStoreFactory(id=\"InMemory\", embeddings_factory=EmbeddingsFactory()).vector_store\n",
    "_ = vs.add_documents(texts)\n",
    "vs_retriever = vs.as_retriever(k=10)\n",
    "\n",
    "\n",
    "# Initialize agent\n",
    "def create_rag_agent(retriever):\n",
    "    retriever_tool = RetrieverTool(retriever)\n",
    "    return CodeAgent(tools=[retriever_tool], model=llm, max_steps=4)\n",
    "\n",
    "\n",
    "agent = create_rag_agent(vs_retriever)\n",
    "response = agent.run(\"What did the president say about Ketanji Brown Jackson\")\n",
    "debug(response)"
   ]
  },
  {
   "cell_type": "markdown",
   "metadata": {},
   "source": [
    "### Understand how it works.... "
   ]
  },
  {
   "cell_type": "code",
   "execution_count": 8,
   "metadata": {},
   "outputs": [
    {
     "data": {
      "text/markdown": [
       "You are an expert assistant who can solve any task using code blobs. You will be given a task to solve as best you can.\n",
       "To do so, you have been given access to a list of tools: these tools are basically Python functions which you can call with code.\n",
       "To solve the task, you must plan forward to proceed in a series of steps, in a cycle of 'Thought:', 'Code:', and 'Observation:' sequences.\n",
       "\n",
       "At each step, in the 'Thought:' sequence, you should first explain your reasoning towards solving the task and the tools that you want to use.\n",
       "Then in the 'Code:' sequence, you should write the code in simple Python. The code sequence must end with '<end_code>' sequence.\n",
       "During each intermediate step, you can use 'print()' to save whatever important information you will then need.\n",
       "These print outputs will then appear in the 'Observation:' field, which will be available as input for the next step.\n",
       "In the end you have to return a final answer using the `final_answer` tool.\n",
       "\n",
       "Here are a few examples using notional tools:\n",
       "---\n",
       "Task: \"Generate an image of the oldest person in this document.\"\n",
       "\n",
       "Thought: I will proceed step by step and use the following tools: `document_qa` to find the oldest person in the document, then `image_generator` to generate an image according to the answer.\n",
       "Code:\n",
       "```py\n",
       "answer = document_qa(document=document, question=\"Who is the oldest person mentioned?\")\n",
       "print(answer)\n",
       "```<end_code>\n",
       "Observation: \"The oldest person in the document is John Doe, a 55 year old lumberjack living in Newfoundland.\"\n",
       "\n",
       "Thought: I will now generate an image showcasing the oldest person.\n",
       "Code:\n",
       "```py\n",
       "image = image_generator(\"A portrait of John Doe, a 55-year-old man living in Canada.\")\n",
       "final_answer(image)\n",
       "```<end_code>\n",
       "\n",
       "---\n",
       "Task: \"What is the result of the following operation: 5 + 3 + 1294.678?\"\n",
       "\n",
       "Thought: I will use python code to compute the result of the operation and then return the final answer using the `final_answer` tool\n",
       "Code:\n",
       "```py\n",
       "result = 5 + 3 + 1294.678\n",
       "final_answer(result)\n",
       "```<end_code>\n",
       "\n",
       "---\n",
       "Task:\n",
       "\"Answer the question in the variable `question` about the image stored in the variable `image`. The question is in French.\n",
       "You have been provided with these additional arguments, that you can access using the keys as variables in your python code:\n",
       "{'question': 'Quel est l'animal sur l'image?', 'image': 'path/to/image.jpg'}\"\n",
       "\n",
       "Thought: I will use the following tools: `translator` to translate the question into English and then `image_qa` to answer the question on the input image.\n",
       "Code:\n",
       "```py\n",
       "translated_question = translator(question=question, src_lang=\"French\", tgt_lang=\"English\")\n",
       "print(f\"The translated question is {translated_question}.\")\n",
       "answer = image_qa(image=image, question=translated_question)\n",
       "final_answer(f\"The answer is {answer}\")\n",
       "```<end_code>\n",
       "\n",
       "---\n",
       "Task:\n",
       "In a 1979 interview, Stanislaus Ulam discusses with Martin Sherwin about other great physicists of his time, including Oppenheimer.\n",
       "What does he say was the consequence of Einstein learning too much math on his creativity, in one word?\n",
       "\n",
       "Thought: I need to find and read the 1979 interview of Stanislaus Ulam with Martin Sherwin.\n",
       "Code:\n",
       "```py\n",
       "pages = search(query=\"1979 interview Stanislaus Ulam Martin Sherwin physicists Einstein\")\n",
       "print(pages)\n",
       "```<end_code>\n",
       "Observation:\n",
       "No result found for query \"1979 interview Stanislaus Ulam Martin Sherwin physicists Einstein\".\n",
       "\n",
       "Thought: The query was maybe too restrictive and did not find any results. Let's try again with a broader query.\n",
       "Code:\n",
       "```py\n",
       "pages = search(query=\"1979 interview Stanislaus Ulam\")\n",
       "print(pages)\n",
       "```<end_code>\n",
       "Observation:\n",
       "Found 6 pages:\n",
       "[Stanislaus Ulam 1979 interview](https://ahf.nuclearmuseum.org/voices/oral-histories/stanislaus-ulams-interview-1979/)\n",
       "\n",
       "[Ulam discusses Manhattan Project](https://ahf.nuclearmuseum.org/manhattan-project/ulam-manhattan-project/)\n",
       "\n",
       "(truncated)\n",
       "\n",
       "Thought: I will read the first 2 pages to know more.\n",
       "Code:\n",
       "```py\n",
       "for url in [\"https://ahf.nuclearmuseum.org/voices/oral-histories/stanislaus-ulams-interview-1979/\", \"https://ahf.nuclearmuseum.org/manhattan-project/ulam-manhattan-project/\"]:\n",
       "    whole_page = visit_webpage(url)\n",
       "    print(whole_page)\n",
       "    print(\"\n",
       "\" + \"=\"*80 + \"\n",
       "\")  # Print separator between pages\n",
       "```<end_code>\n",
       "Observation:\n",
       "Manhattan Project Locations:\n",
       "Los Alamos, NM\n",
       "Stanislaus Ulam was a Polish-American mathematician. He worked on the Manhattan Project at Los Alamos and later helped design the hydrogen bomb. In this interview, he discusses his work at\n",
       "(truncated)\n",
       "\n",
       "Thought: I now have the final answer: from the webpages visited, Stanislaus Ulam says of Einstein: \"He learned too much mathematics and sort of diminished, it seems to me personally, it seems to me his purely physics creativity.\" Let's answer in one word.\n",
       "Code:\n",
       "```py\n",
       "final_answer(\"diminished\")\n",
       "```<end_code>\n",
       "\n",
       "---\n",
       "Task: \"Which city has the highest population: Guangzhou or Shanghai?\"\n",
       "\n",
       "Thought: I need to get the populations for both cities and compare them: I will use the tool `search` to get the population of both cities.\n",
       "Code:\n",
       "```py\n",
       "for city in [\"Guangzhou\", \"Shanghai\"]:\n",
       "    print(f\"Population {city}:\", search(f\"{city} population\")\n",
       "```<end_code>\n",
       "Observation:\n",
       "Population Guangzhou: ['Guangzhou has a population of 15 million inhabitants as of 2021.']\n",
       "Population Shanghai: '26 million (2019)'\n",
       "\n",
       "Thought: Now I know that Shanghai has the highest population.\n",
       "Code:\n",
       "```py\n",
       "final_answer(\"Shanghai\")\n",
       "```<end_code>\n",
       "\n",
       "---\n",
       "Task: \"What is the current age of the pope, raised to the power 0.36?\"\n",
       "\n",
       "Thought: I will use the tool `wiki` to get the age of the pope, and confirm that with a web search.\n",
       "Code:\n",
       "```py\n",
       "pope_age_wiki = wiki(query=\"current pope age\")\n",
       "print(\"Pope age as per wikipedia:\", pope_age_wiki)\n",
       "pope_age_search = web_search(query=\"current pope age\")\n",
       "print(\"Pope age as per google search:\", pope_age_search)\n",
       "```<end_code>\n",
       "Observation:\n",
       "Pope age: \"The pope Francis is currently 88 years old.\"\n",
       "\n",
       "Thought: I know that the pope is 88 years old. Let's compute the result using python code.\n",
       "Code:\n",
       "```py\n",
       "pope_current_age = 88 ** 0.36\n",
       "final_answer(pope_current_age)\n",
       "```<end_code>\n",
       "\n",
       "Above example were using notional tools that might not exist for you. On top of performing computations in the Python code snippets that you create, you only have access to these tools:\n",
       "\n",
       "{{tool_descriptions}}\n",
       "\n",
       "{{managed_agents_descriptions}}\n",
       "\n",
       "Here are the rules you should always follow to solve your task:\n",
       "1. Always provide a 'Thought:' sequence, and a 'Code:\n",
       "```py' sequence ending with '```<end_code>' sequence, else you will fail.\n",
       "2. Use only variables that you have defined!\n",
       "3. Always use the right arguments for the tools. DO NOT pass the arguments as a dict as in 'answer = wiki({'query': \"What is the place where James Bond lives?\"})', but use the arguments directly as in 'answer = wiki(query=\"What is the place where James Bond lives?\")'.\n",
       "4. Take care to not chain too many sequential tool calls in the same code block, especially when the output format is unpredictable. For instance, a call to search has an unpredictable return format, so do not have another tool call that depends on its output in the same block: rather output results with print() to use them in the next block.\n",
       "5. Call a tool only when needed, and never re-do a tool call that you previously did with the exact same parameters.\n",
       "6. Don't name any new variable with the same name as a tool: for instance don't name a variable 'final_answer'.\n",
       "7. Never create any notional variables in our code, as having these in your logs will derail you from the true variables.\n",
       "8. You can use imports in your code, but only from the following list of modules: {{authorized_imports}}\n",
       "9. The state persists between code executions: so if in one step you've created variables or imported modules, these will all persist.\n",
       "10. Don't give up! You're in charge of solving the task, not providing directions to solve it.\n",
       "\n",
       "Now Begin! If you solve the task correctly, you will receive a reward of $1,000,000.\n"
      ],
      "text/plain": [
       "<IPython.core.display.Markdown object>"
      ]
     },
     "metadata": {},
     "output_type": "display_data"
    }
   ],
   "source": [
    "display(Markdown(agent.system_prompt_template))"
   ]
  },
  {
   "cell_type": "markdown",
   "metadata": {},
   "source": [
    "#### Langchain Tool with `smolagents 🤗` Search Tool"
   ]
  },
  {
   "cell_type": "code",
   "execution_count": null,
   "metadata": {},
   "outputs": [],
   "source": [
    "# search_tool = Tool.from_langchain(load_tools([\"serpapi\"])[0])\n",
    "\n",
    "# agent = CodeAgent(tools=[search_tool], model=HfApiModel())\n",
    "\n",
    "# agent.run(\"How many more blocks (also denoted as layers) are in BERT base encoder compared to the encoder from the architecture proposed in Attention is All You Need?\")"
   ]
  },
  {
   "cell_type": "code",
   "execution_count": 10,
   "metadata": {},
   "outputs": [
    {
     "data": {
      "text/html": [
       "<pre style=\"white-space:pre;overflow-x:auto;line-height:normal;font-family:Menlo,'DejaVu Sans Mono',consolas,'Courier New',monospace\"><span style=\"color: #d4b702; text-decoration-color: #d4b702\">╭──────────────────────────────────────────────────── </span><span style=\"color: #d4b702; text-decoration-color: #d4b702; font-weight: bold\">New run</span><span style=\"color: #d4b702; text-decoration-color: #d4b702\"> ────────────────────────────────────────────────────╮</span>\n",
       "<span style=\"color: #d4b702; text-decoration-color: #d4b702\">│</span>                                                                                                                 <span style=\"color: #d4b702; text-decoration-color: #d4b702\">│</span>\n",
       "<span style=\"color: #d4b702; text-decoration-color: #d4b702\">│</span> <span style=\"font-weight: bold\">Qui est l'actuel premier ministre en France ?</span>                                                                   <span style=\"color: #d4b702; text-decoration-color: #d4b702\">│</span>\n",
       "<span style=\"color: #d4b702; text-decoration-color: #d4b702\">│</span>                                                                                                                 <span style=\"color: #d4b702; text-decoration-color: #d4b702\">│</span>\n",
       "<span style=\"color: #d4b702; text-decoration-color: #d4b702\">╰─ LiteLLMModel - gpt-4o-mini ────────────────────────────────────────────────────────────────────────────────────╯</span>\n",
       "</pre>\n"
      ],
      "text/plain": [
       "\u001b[38;2;212;183;2m╭─\u001b[0m\u001b[38;2;212;183;2m───────────────────────────────────────────────────\u001b[0m\u001b[38;2;212;183;2m \u001b[0m\u001b[1;38;2;212;183;2mNew run\u001b[0m\u001b[38;2;212;183;2m \u001b[0m\u001b[38;2;212;183;2m───────────────────────────────────────────────────\u001b[0m\u001b[38;2;212;183;2m─╮\u001b[0m\n",
       "\u001b[38;2;212;183;2m│\u001b[0m                                                                                                                 \u001b[38;2;212;183;2m│\u001b[0m\n",
       "\u001b[38;2;212;183;2m│\u001b[0m \u001b[1mQui est l'actuel premier ministre en France ?\u001b[0m                                                                   \u001b[38;2;212;183;2m│\u001b[0m\n",
       "\u001b[38;2;212;183;2m│\u001b[0m                                                                                                                 \u001b[38;2;212;183;2m│\u001b[0m\n",
       "\u001b[38;2;212;183;2m╰─\u001b[0m\u001b[38;2;212;183;2m LiteLLMModel - gpt-4o-mini \u001b[0m\u001b[38;2;212;183;2m───────────────────────────────────────────────────────────────────────────────────\u001b[0m\u001b[38;2;212;183;2m─╯\u001b[0m\n"
      ]
     },
     "metadata": {},
     "output_type": "display_data"
    },
    {
     "data": {
      "text/html": [
       "<pre style=\"white-space:pre;overflow-x:auto;line-height:normal;font-family:Menlo,'DejaVu Sans Mono',consolas,'Courier New',monospace\"><span style=\"color: #d4b702; text-decoration-color: #d4b702\">━━━━━━━━━━━━━━━━━━━━━━━━━━━━━━━━━━━━━━━━━━━━━━━━━━━━━ </span><span style=\"font-weight: bold\">Step </span><span style=\"color: #008080; text-decoration-color: #008080; font-weight: bold\">0</span><span style=\"color: #d4b702; text-decoration-color: #d4b702\"> ━━━━━━━━━━━━━━━━━━━━━━━━━━━━━━━━━━━━━━━━━━━━━━━━━━━━━━</span>\n",
       "</pre>\n"
      ],
      "text/plain": [
       "\u001b[38;2;212;183;2m━━━━━━━━━━━━━━━━━━━━━━━━━━━━━━━━━━━━━━━━━━━━━━━━━━━━━ \u001b[0m\u001b[1mStep \u001b[0m\u001b[1;36m0\u001b[0m\u001b[38;2;212;183;2m ━━━━━━━━━━━━━━━━━━━━━━━━━━━━━━━━━━━━━━━━━━━━━━━━━━━━━━\u001b[0m\n"
      ]
     },
     "metadata": {},
     "output_type": "display_data"
    },
    {
     "data": {
      "text/html": [
       "<pre style=\"white-space:pre;overflow-x:auto;line-height:normal;font-family:Menlo,'DejaVu Sans Mono',consolas,'Courier New',monospace\"> ─ <span style=\"font-weight: bold\">Executing this code:</span> ────────────────────────────────────────────────────────────────────────────────────────── \n",
       "  <span style=\"color: #f8f8f2; text-decoration-color: #f8f8f2; background-color: #272822\">current_pm_france </span><span style=\"color: #ff4689; text-decoration-color: #ff4689; background-color: #272822\">=</span><span style=\"color: #f8f8f2; text-decoration-color: #f8f8f2; background-color: #272822\"> search(</span><span style=\"color: #e6db74; text-decoration-color: #e6db74; background-color: #272822\">\"current Prime Minister of France\"</span><span style=\"color: #f8f8f2; text-decoration-color: #f8f8f2; background-color: #272822\">)</span><span style=\"background-color: #272822\">                                                 </span>  \n",
       "  <span style=\"color: #f8f8f2; text-decoration-color: #f8f8f2; background-color: #272822\">print(current_pm_france)</span><span style=\"background-color: #272822\">                                                                                       </span>  \n",
       " ───────────────────────────────────────────────────────────────────────────────────────────────────────────────── \n",
       "</pre>\n"
      ],
      "text/plain": [
       " ─ \u001b[1mExecuting this code:\u001b[0m ────────────────────────────────────────────────────────────────────────────────────────── \n",
       "  \u001b[38;2;248;248;242;48;2;39;40;34mcurrent_pm_france\u001b[0m\u001b[38;2;248;248;242;48;2;39;40;34m \u001b[0m\u001b[38;2;255;70;137;48;2;39;40;34m=\u001b[0m\u001b[38;2;248;248;242;48;2;39;40;34m \u001b[0m\u001b[38;2;248;248;242;48;2;39;40;34msearch\u001b[0m\u001b[38;2;248;248;242;48;2;39;40;34m(\u001b[0m\u001b[38;2;230;219;116;48;2;39;40;34m\"\u001b[0m\u001b[38;2;230;219;116;48;2;39;40;34mcurrent Prime Minister of France\u001b[0m\u001b[38;2;230;219;116;48;2;39;40;34m\"\u001b[0m\u001b[38;2;248;248;242;48;2;39;40;34m)\u001b[0m\u001b[48;2;39;40;34m                                                 \u001b[0m  \n",
       "  \u001b[38;2;248;248;242;48;2;39;40;34mprint\u001b[0m\u001b[38;2;248;248;242;48;2;39;40;34m(\u001b[0m\u001b[38;2;248;248;242;48;2;39;40;34mcurrent_pm_france\u001b[0m\u001b[38;2;248;248;242;48;2;39;40;34m)\u001b[0m\u001b[48;2;39;40;34m                                                                                       \u001b[0m  \n",
       " ───────────────────────────────────────────────────────────────────────────────────────────────────────────────── \n"
      ]
     },
     "metadata": {},
     "output_type": "display_data"
    },
    {
     "data": {
      "text/html": [
       "<pre style=\"white-space:pre;overflow-x:auto;line-height:normal;font-family:Menlo,'DejaVu Sans Mono',consolas,'Courier New',monospace\"><span style=\"color: #800000; text-decoration-color: #800000; font-weight: bold\">Code execution failed at line </span><span style=\"color: #800000; text-decoration-color: #800000; font-weight: bold\">'current_pm_france = search(\"current Prime Minister of France\")'</span><span style=\"color: #800000; text-decoration-color: #800000; font-weight: bold\"> due to: </span>\n",
       "<span style=\"color: #800000; text-decoration-color: #800000; font-weight: bold\">InterpreterError:It is not permitted to evaluate other functions than the provided tools or functions </span>\n",
       "<span style=\"color: #800000; text-decoration-color: #800000; font-weight: bold\">defined/imported in previous code (tried to execute search).</span>\n",
       "</pre>\n"
      ],
      "text/plain": [
       "\u001b[1;31mCode execution failed at line \u001b[0m\u001b[1;31m'current_pm_france = search\u001b[0m\u001b[1;31m(\u001b[0m\u001b[1;31m\"current Prime Minister of France\"\u001b[0m\u001b[1;31m)\u001b[0m\u001b[1;31m'\u001b[0m\u001b[1;31m due to: \u001b[0m\n",
       "\u001b[1;31mInterpreterError:It is not permitted to evaluate other functions than the provided tools or functions \u001b[0m\n",
       "\u001b[1;31mdefined/imported in previous code \u001b[0m\u001b[1;31m(\u001b[0m\u001b[1;31mtried to execute search\u001b[0m\u001b[1;31m)\u001b[0m\u001b[1;31m.\u001b[0m\n"
      ]
     },
     "metadata": {},
     "output_type": "display_data"
    },
    {
     "data": {
      "text/html": [
       "<pre style=\"white-space:pre;overflow-x:auto;line-height:normal;font-family:Menlo,'DejaVu Sans Mono',consolas,'Courier New',monospace\"><span style=\"color: #7f7f7f; text-decoration-color: #7f7f7f\">[Step 0: Duration 1.86 seconds| Input tokens: 2,030 | Output tokens: 63]</span>\n",
       "</pre>\n"
      ],
      "text/plain": [
       "\u001b[2m[Step 0: Duration 1.86 seconds| Input tokens: 2,030 | Output tokens: 63]\u001b[0m\n"
      ]
     },
     "metadata": {},
     "output_type": "display_data"
    },
    {
     "data": {
      "text/html": [
       "<pre style=\"white-space:pre;overflow-x:auto;line-height:normal;font-family:Menlo,'DejaVu Sans Mono',consolas,'Courier New',monospace\"><span style=\"color: #d4b702; text-decoration-color: #d4b702\">━━━━━━━━━━━━━━━━━━━━━━━━━━━━━━━━━━━━━━━━━━━━━━━━━━━━━ </span><span style=\"font-weight: bold\">Step </span><span style=\"color: #008080; text-decoration-color: #008080; font-weight: bold\">1</span><span style=\"color: #d4b702; text-decoration-color: #d4b702\"> ━━━━━━━━━━━━━━━━━━━━━━━━━━━━━━━━━━━━━━━━━━━━━━━━━━━━━━</span>\n",
       "</pre>\n"
      ],
      "text/plain": [
       "\u001b[38;2;212;183;2m━━━━━━━━━━━━━━━━━━━━━━━━━━━━━━━━━━━━━━━━━━━━━━━━━━━━━ \u001b[0m\u001b[1mStep \u001b[0m\u001b[1;36m1\u001b[0m\u001b[38;2;212;183;2m ━━━━━━━━━━━━━━━━━━━━━━━━━━━━━━━━━━━━━━━━━━━━━━━━━━━━━━\u001b[0m\n"
      ]
     },
     "metadata": {},
     "output_type": "display_data"
    },
    {
     "data": {
      "text/html": [
       "<pre style=\"white-space:pre;overflow-x:auto;line-height:normal;font-family:Menlo,'DejaVu Sans Mono',consolas,'Courier New',monospace\"> ─ <span style=\"font-weight: bold\">Executing this code:</span> ────────────────────────────────────────────────────────────────────────────────────────── \n",
       "  <span style=\"color: #f8f8f2; text-decoration-color: #f8f8f2; background-color: #272822\">url </span><span style=\"color: #ff4689; text-decoration-color: #ff4689; background-color: #272822\">=</span><span style=\"color: #f8f8f2; text-decoration-color: #f8f8f2; background-color: #272822\"> </span><span style=\"color: #e6db74; text-decoration-color: #e6db74; background-color: #272822\">\"https://en.wikipedia.org/wiki/Prime_Minister_of_France\"</span><span style=\"background-color: #272822\">                                                 </span>  \n",
       "  <span style=\"color: #f8f8f2; text-decoration-color: #f8f8f2; background-color: #272822\">current_pm_info </span><span style=\"color: #ff4689; text-decoration-color: #ff4689; background-color: #272822\">=</span><span style=\"color: #f8f8f2; text-decoration-color: #f8f8f2; background-color: #272822\"> visit_webpage(url)</span><span style=\"background-color: #272822\">                                                                           </span>  \n",
       "  <span style=\"color: #f8f8f2; text-decoration-color: #f8f8f2; background-color: #272822\">print(current_pm_info)</span><span style=\"background-color: #272822\">                                                                                         </span>  \n",
       " ───────────────────────────────────────────────────────────────────────────────────────────────────────────────── \n",
       "</pre>\n"
      ],
      "text/plain": [
       " ─ \u001b[1mExecuting this code:\u001b[0m ────────────────────────────────────────────────────────────────────────────────────────── \n",
       "  \u001b[38;2;248;248;242;48;2;39;40;34murl\u001b[0m\u001b[38;2;248;248;242;48;2;39;40;34m \u001b[0m\u001b[38;2;255;70;137;48;2;39;40;34m=\u001b[0m\u001b[38;2;248;248;242;48;2;39;40;34m \u001b[0m\u001b[38;2;230;219;116;48;2;39;40;34m\"\u001b[0m\u001b[38;2;230;219;116;48;2;39;40;34mhttps://en.wikipedia.org/wiki/Prime_Minister_of_France\u001b[0m\u001b[38;2;230;219;116;48;2;39;40;34m\"\u001b[0m\u001b[48;2;39;40;34m                                                 \u001b[0m  \n",
       "  \u001b[38;2;248;248;242;48;2;39;40;34mcurrent_pm_info\u001b[0m\u001b[38;2;248;248;242;48;2;39;40;34m \u001b[0m\u001b[38;2;255;70;137;48;2;39;40;34m=\u001b[0m\u001b[38;2;248;248;242;48;2;39;40;34m \u001b[0m\u001b[38;2;248;248;242;48;2;39;40;34mvisit_webpage\u001b[0m\u001b[38;2;248;248;242;48;2;39;40;34m(\u001b[0m\u001b[38;2;248;248;242;48;2;39;40;34murl\u001b[0m\u001b[38;2;248;248;242;48;2;39;40;34m)\u001b[0m\u001b[48;2;39;40;34m                                                                           \u001b[0m  \n",
       "  \u001b[38;2;248;248;242;48;2;39;40;34mprint\u001b[0m\u001b[38;2;248;248;242;48;2;39;40;34m(\u001b[0m\u001b[38;2;248;248;242;48;2;39;40;34mcurrent_pm_info\u001b[0m\u001b[38;2;248;248;242;48;2;39;40;34m)\u001b[0m\u001b[48;2;39;40;34m                                                                                         \u001b[0m  \n",
       " ───────────────────────────────────────────────────────────────────────────────────────────────────────────────── \n"
      ]
     },
     "metadata": {},
     "output_type": "display_data"
    },
    {
     "data": {
      "text/html": [
       "<pre style=\"white-space:pre;overflow-x:auto;line-height:normal;font-family:Menlo,'DejaVu Sans Mono',consolas,'Courier New',monospace\"><span style=\"font-weight: bold\">Execution logs:</span>\n",
       "Prime Minister of France - Wikipedia\n",
       "\n",
       "[Jump to content](#bodyContent)\n",
       "\n",
       "Main menu\n",
       "\n",
       "Main menu\n",
       "move to sidebar\n",
       "hide\n",
       "\n",
       "Navigation\n",
       "\n",
       "* [Main page](/wiki/Main_Page \"Visit the main page [z]\")\n",
       "* [Contents](/wiki/Wikipedia:Contents \"Guides to browsing Wikipedia\")\n",
       "* [Current events](/wiki/Portal:Current_events \"Articles related to current events\")\n",
       "* [Random article](/wiki/Special:Random \"Visit a randomly selected article [x]\")\n",
       "* [About Wikipedia](/wiki/Wikipedia:About \"Learn about Wikipedia and how it works\")\n",
       "* [Contact us](//en.wikipedia.org/wiki/Wikipedia:Contact_us \"How to contact Wikipedia\")\n",
       "\n",
       "Contribute\n",
       "\n",
       "* [Help](/wiki/Help:Contents \"Guidance on how to use and edit Wikipedia\")\n",
       "* [Learn to edit](/wiki/Help:Introduction \"Learn how to edit Wikipedia\")\n",
       "* [Community portal](/wiki/Wikipedia:Community_portal \"The hub for editors\")\n",
       "* [Recent changes](/wiki/Special:RecentChanges \"A list of recent changes to Wikipedia [r]\")\n",
       "* [Upload file](/wiki/Wikipedia:File_upload_wizard \"Add images or other media for use on Wikipedia\")\n",
       "\n",
       "[![](/static/images/icons/wikipedia.png)\n",
       "![Wikipedia](/static/images/mobile/copyright/wikipedia-wordmark-en.svg)\n",
       "![The Free Encyclopedia](/static/images/mobile/copyright/wikipedia-tagline-en.svg)](/wiki/Main_Page)\n",
       "\n",
       "[Search](/wiki/Special:Search \"Search Wikipedia [f]\")\n",
       "\n",
       "Search\n",
       "\n",
       "Appearance\n",
       "\n",
       "* \n",
       "[Donate](https://donate.wikimedia.org/?wmf_source=donate&amp;wmf_medium=sidebar&amp;wmf_campaign=en.wikipedia.org&amp;uselang=e\n",
       "n)\n",
       "* [Create account](/w/index.php?title=Special:CreateAccount&amp;returnto=Prime+Minister+of+France \"You are encouraged \n",
       "to create an account and log in; however, it is not mandatory\")\n",
       "* [Log in](/w/index.php?title=Special:UserLogin&amp;returnto=Prime+Minister+of+France \"You're encouraged to log in; \n",
       "however, it's not mandatory. [o]\")\n",
       "\n",
       "Personal tools\n",
       "\n",
       "* \n",
       "[Donate](https://donate.wikimedia.org/?wmf_source=donate&amp;wmf_medium=sidebar&amp;wmf_campaign=en.wikipedia.org&amp;uselang=e\n",
       "n)\n",
       "* [Create account](/w/index.php?title=Special:CreateAccount&amp;returnto=Prime+Minister+of+France \"You are encouraged \n",
       "to create an account and log in; however, it is not mandatory\")\n",
       "* [Log in](/w/index.php?title=Special:UserLogin&amp;returnto=Prime+Minister+of+France \"You're encouraged to log in; \n",
       "however, it's not mandatory. [o]\")\n",
       "\n",
       "Pages for logged out editors [learn more](/wiki/Help:Introduction)\n",
       "\n",
       "* [Contributions](/wiki/Special:MyContributions \"A list of edits made from this IP address [y]\")\n",
       "* [Talk](/wiki/Special:MyTalk \"Discussion about edits from this IP address [n]\")\n",
       "\n",
       "Contents\n",
       "--------\n",
       "\n",
       "move to sidebar\n",
       "hide\n",
       "\n",
       "* [(Top)](#)\n",
       "* [1\n",
       "  Nomination](#Nomination)\n",
       "* [2\n",
       "  Role](#Role)\n",
       "* [3\n",
       "  History](#History)\n",
       "* [4\n",
       "  See also](#See_also)\n",
       "* [5\n",
       "  References](#References)\n",
       "* [6\n",
       "  External links](#External_links)\n",
       "\n",
       "Toggle the table of contents\n",
       "\n",
       "Prime Minister of France\n",
       "========================\n",
       "\n",
       "50 languages\n",
       "\n",
       "* \n",
       "[العربية](https://ar.wikipedia.org/wiki/%D8%B1%D8%A6%D9%8A%D8%B3_%D8%A7%D9%84%D9%88%D8%B2%D8%B1%D8%A7%D8%A1_%D8%A7%\n",
       "D9%84%D9%81%D8%B1%D9%86%D8%B3%D9%8A \"رئيس الوزراء الفرنسي – Arabic\")\n",
       "* [Aragonés](https://an.wikipedia.org/wiki/Primer_ministro_de_Francia \"Primer ministro de Francia – Aragonese\")\n",
       "* [Azərbaycanca](https://az.wikipedia.org/wiki/Fransa_Ba%C5%9F_naziri \"Fransa Baş naziri – Azerbaijani\")\n",
       "* \n",
       "[Беларуская](https://be.wikipedia.org/wiki/%D0%9F%D1%80%D1%8D%D0%BC%E2%80%99%D0%B5%D1%80-%D0%BC%D1%96%D0%BD%D1%96%D\n",
       "1%81%D1%82%D1%80_%D0%A4%D1%80%D0%B0%D0%BD%D1%86%D1%8B%D1%96 \"Прэм’ер-міністр Францыі – Belarusian\")\n",
       "* \n",
       "[Български](https://bg.wikipedia.org/wiki/%D0%9C%D0%B8%D0%BD%D0%B8%D1%81%D1%82%D1%8A%D1%80-%D0%BF%D1%80%D0%B5%D0%B4\n",
       "%D1%81%D0%B5%D0%B4%D0%B0%D1%82%D0%B5%D0%BB_%D0%BD%D0%B0_%D0%A4%D1%80%D0%B0%D0%BD%D1%86%D0%B8%D1%8F \n",
       "\"Министър-председател на Франция – Bulgarian\")\n",
       "* \n",
       "[བོད་ཡིག](https://bo.wikipedia.org/wiki/%E0%BD%A7%E0%BE%A5%E0%BC%8B%E0%BD%A2%E0%BD%93%E0%BC%8B%E0%BD%A6%E0%BD%B2%E0%B\n",
       "D%A0%E0%BD%B2%E0%BC%8B%E0%BD%96%E0%BD%80%E0%BD%A0%E0%BC%8B%E0%BD%96%E0%BE%B3%E0%BD%BC%E0%BD%93%E0%BC%8B%E0%BD%A0%E0\n",
       "%BD%82%E0%BD%BC%E0%BC%8B%E0%BD%82%E0%BD%99%E0%BD%BC%E0%BC%8D \"ཧྥ་རན་སིའི་བཀའ་བློན་འགོ་གཙོ། – Tibetan\")\n",
       "* [Bosanski](https://bs.wikipedia.org/wiki/Premijer_Francuske \"Premijer Francuske – Bosnian\")\n",
       "* [Brezhoneg](https://br.wikipedia.org/wiki/Kenta%C3%B1_Ministr_(Fra%C3%B1s) \"Kentañ Ministr (Frañs) – Breton\")\n",
       "* [Català](https://ca.wikipedia.org/wiki/Primer_ministre_de_Fran%C3%A7a \"Primer ministre de França – Catalan\")\n",
       "* [Čeština](https://cs.wikipedia.org/wiki/Premi%C3%A9r_Francie \"Premiér Francie – Czech\")\n",
       "* [Dansk](https://da.wikipedia.org/wiki/Frankrigs_premierminister \"Frankrigs premierminister – Danish\")\n",
       "* [Deutsch](https://de.wikipedia.org/wiki/Premierminister_der_Franz%C3%B6sischen_Republik \"Premierminister der \n",
       "Französischen Republik – German\")\n",
       "* [Eesti](https://et.wikipedia.org/wiki/Prantsusmaa_peaminister \"Prantsusmaa peaminister – Estonian\")\n",
       "* \n",
       "[Ελληνικά](https://el.wikipedia.org/wiki/%CE%A0%CF%81%CF%89%CE%B8%CF%85%CF%80%CE%BF%CF%85%CF%81%CE%B3%CF%8C%CF%82_%\n",
       "CF%84%CE%B7%CF%82_%CE%93%CE%B1%CE%BB%CE%BB%CE%AF%CE%B1%CF%82 \"Πρωθυπουργός της Γαλλίας – Greek\")\n",
       "* [Español](h\n",
       "..._This content has been truncated to stay below 10000 characters_...\n",
       "bakh Republic\") * [Nigeria](/wiki/Prime_Minister_of_Nigeria \"Prime Minister of Nigeria\") * \n",
       "[Philippines](/wiki/Prime_Minister_of_the_Philippines \"Prime Minister of the Philippines\") * \n",
       "[Seychelles](/wiki/Prime_Minister_of_Seychelles \"Prime Minister of Seychelles\") * [South \n",
       "Africa](/wiki/Prime_Minister_of_South_Africa \"Prime Minister of South Africa\") * \n",
       "[Turkey](/wiki/Prime_Minister_of_Turkey \"Prime Minister of Turkey\") * \n",
       "[Turkmenistan](/wiki/Prime_Minister_of_Turkmenistan \"Prime Minister of Turkmenistan\") * \n",
       "[Zambia](/wiki/Prime_Minister_of_Zambia \"Prime Minister of Zambia\") * [Zimbabwe](/wiki/Prime_Minister_of_Zimbabwe \n",
       "\"Prime Minister of Zimbabwe\") |\n",
       "\n",
       "| [Authority control databases](/wiki/Help:Authority_control \"Help:Authority control\") [Edit this at \n",
       "Wikidata](https://www.wikidata.org/wiki/Q1587677#identifiers \"Edit this at Wikidata\") | |\n",
       "| --- | --- |\n",
       "| International | * [ISNI](https://isni.org/isni/0000000123224339) * [VIAF](https://viaf.org/viaf/128543497)   + \n",
       "[2](https://viaf.org/viaf/160673169) |\n",
       "| National | * [United States](https://id.loc.gov/authorities/n80002441) * \n",
       "[France](https://catalogue.bnf.fr/ark:/12148/cb11864120s) * [BnF data](https://data.bnf.fr/ark:/12148/cb11864120s) \n",
       "* [Czech Republic](https://aleph.nkp.cz/F/?func=find-c&amp;local_base=aut&amp;ccl_term=ica=ko2010615320&amp;CON_LNG=ENG) * \n",
       "[Israel](https://www.nli.org.il/en/authorities/987007261105105171) |\n",
       "| Other | * [IdRef](https://www.idref.fr/026383136) |\n",
       "\n",
       "![](https://login.wikimedia.org/wiki/Special:CentralAutoLogin/start?useformat=desktop&amp;type=1x1&amp;usesul3=0)\n",
       "Retrieved from \"&lt;https://en.wikipedia.org/w/index.php?title=Prime_Minister_of_France&amp;oldid=1269811785&gt;\"\n",
       "[Categories](/wiki/Help:Category \"Help:Category\"):\n",
       "\n",
       "* [Prime ministers of France](/wiki/Category:Prime_ministers_of_France \"Category:Prime ministers of France\")\n",
       "* [1958 establishments in France](/wiki/Category:1958_establishments_in_France \"Category:1958 establishments in \n",
       "France\")\n",
       "Hidden categories:\n",
       "\n",
       "* [CS1 maint: multiple names: authors list](/wiki/Category:CS1_maint:_multiple_names:_authors_list \"Category:CS1 \n",
       "maint: multiple names: authors list\")\n",
       "* [CS1 French-language sources (fr)](/wiki/Category:CS1_French-language_sources_(fr) \"Category:CS1 French-language \n",
       "sources (fr)\")\n",
       "* [Articles with short description](/wiki/Category:Articles_with_short_description \"Category:Articles with short \n",
       "description\")\n",
       "* [Short description is different from Wikidata](/wiki/Category:Short_description_is_different_from_Wikidata \n",
       "\"Category:Short description is different from Wikidata\")\n",
       "* [Use dmy dates from December 2019](/wiki/Category:Use_dmy_dates_from_December_2019 \"Category:Use dmy dates from \n",
       "December 2019\")\n",
       "* [Articles containing French-language text](/wiki/Category:Articles_containing_French-language_text \n",
       "\"Category:Articles containing French-language text\")\n",
       "* [Articles containing Latin-language text](/wiki/Category:Articles_containing_Latin-language_text \n",
       "\"Category:Articles containing Latin-language text\")\n",
       "* [Official website different in Wikidata and \n",
       "Wikipedia](/wiki/Category:Official_website_different_in_Wikidata_and_Wikipedia \"Category:Official website different\n",
       "in Wikidata and Wikipedia\")\n",
       "\n",
       "* This page was last edited on 16 January 2025, at 14:44 (UTC).\n",
       "* Text is available under the [Creative Commons Attribution-ShareAlike 4.0 \n",
       "License](/wiki/Wikipedia:Text_of_the_Creative_Commons_Attribution-ShareAlike_4.0_International_License \n",
       "\"Wikipedia:Text of the Creative Commons Attribution-ShareAlike 4.0 International License\");\n",
       "  additional terms may apply. By using this site, you agree to the [Terms of \n",
       "Use](https://foundation.wikimedia.org/wiki/Special:MyLanguage/Policy:Terms_of_Use \n",
       "\"foundation:Special:MyLanguage/Policy:Terms of Use\") and [Privacy \n",
       "Policy](https://foundation.wikimedia.org/wiki/Special:MyLanguage/Policy:Privacy_policy \n",
       "\"foundation:Special:MyLanguage/Policy:Privacy policy\"). Wikipedia® is a registered trademark of the [Wikimedia \n",
       "Foundation, Inc.](https://wikimediafoundation.org/), a non-profit organization.\n",
       "\n",
       "* [Privacy policy](https://foundation.wikimedia.org/wiki/Special:MyLanguage/Policy:Privacy_policy)\n",
       "* [About Wikipedia](/wiki/Wikipedia:About)\n",
       "* [Disclaimers](/wiki/Wikipedia:General_disclaimer)\n",
       "* [Contact Wikipedia](//en.wikipedia.org/wiki/Wikipedia:Contact_us)\n",
       "* [Code of Conduct](https://foundation.wikimedia.org/wiki/Special:MyLanguage/Policy:Universal_Code_of_Conduct)\n",
       "* [Developers](https://developer.wikimedia.org)\n",
       "* [Statistics](https://stats.wikimedia.org/#/en.wikipedia.org)\n",
       "* [Cookie statement](https://foundation.wikimedia.org/wiki/Special:MyLanguage/Policy:Cookie_statement)\n",
       "* [Mobile view](//en.m.wikipedia.org/w/index.php?title=Prime_Minister_of_France&amp;mobileaction=toggle_view_mobile)\n",
       "\n",
       "* [![Wikimedia Foundation](/static/images/footer/wikimedia-button.svg)](https://wikimediafoundation.org/)\n",
       "* [![Powered by MediaWiki](/w/resources/assets/poweredby_mediawiki.svg)](https://www.mediawiki.org/)\n",
       "\n",
       "Search\n",
       "\n",
       "Search\n",
       "\n",
       "Toggle the table of contents\n",
       "\n",
       "Prime Minister of France\n",
       "\n",
       "50 languages\n",
       "\n",
       "[Add topic](#)\n",
       "\n",
       "Out: None\n",
       "</pre>\n"
      ],
      "text/plain": [
       "\u001b[1mExecution logs:\u001b[0m\n",
       "Prime Minister of France - Wikipedia\n",
       "\n",
       "[Jump to content](#bodyContent)\n",
       "\n",
       "Main menu\n",
       "\n",
       "Main menu\n",
       "move to sidebar\n",
       "hide\n",
       "\n",
       "Navigation\n",
       "\n",
       "* [Main page](/wiki/Main_Page \"Visit the main page [z]\")\n",
       "* [Contents](/wiki/Wikipedia:Contents \"Guides to browsing Wikipedia\")\n",
       "* [Current events](/wiki/Portal:Current_events \"Articles related to current events\")\n",
       "* [Random article](/wiki/Special:Random \"Visit a randomly selected article [x]\")\n",
       "* [About Wikipedia](/wiki/Wikipedia:About \"Learn about Wikipedia and how it works\")\n",
       "* [Contact us](//en.wikipedia.org/wiki/Wikipedia:Contact_us \"How to contact Wikipedia\")\n",
       "\n",
       "Contribute\n",
       "\n",
       "* [Help](/wiki/Help:Contents \"Guidance on how to use and edit Wikipedia\")\n",
       "* [Learn to edit](/wiki/Help:Introduction \"Learn how to edit Wikipedia\")\n",
       "* [Community portal](/wiki/Wikipedia:Community_portal \"The hub for editors\")\n",
       "* [Recent changes](/wiki/Special:RecentChanges \"A list of recent changes to Wikipedia [r]\")\n",
       "* [Upload file](/wiki/Wikipedia:File_upload_wizard \"Add images or other media for use on Wikipedia\")\n",
       "\n",
       "[![](/static/images/icons/wikipedia.png)\n",
       "![Wikipedia](/static/images/mobile/copyright/wikipedia-wordmark-en.svg)\n",
       "![The Free Encyclopedia](/static/images/mobile/copyright/wikipedia-tagline-en.svg)](/wiki/Main_Page)\n",
       "\n",
       "[Search](/wiki/Special:Search \"Search Wikipedia [f]\")\n",
       "\n",
       "Search\n",
       "\n",
       "Appearance\n",
       "\n",
       "* \n",
       "[Donate](https://donate.wikimedia.org/?wmf_source=donate&wmf_medium=sidebar&wmf_campaign=en.wikipedia.org&uselang=e\n",
       "n)\n",
       "* [Create account](/w/index.php?title=Special:CreateAccount&returnto=Prime+Minister+of+France \"You are encouraged \n",
       "to create an account and log in; however, it is not mandatory\")\n",
       "* [Log in](/w/index.php?title=Special:UserLogin&returnto=Prime+Minister+of+France \"You're encouraged to log in; \n",
       "however, it's not mandatory. [o]\")\n",
       "\n",
       "Personal tools\n",
       "\n",
       "* \n",
       "[Donate](https://donate.wikimedia.org/?wmf_source=donate&wmf_medium=sidebar&wmf_campaign=en.wikipedia.org&uselang=e\n",
       "n)\n",
       "* [Create account](/w/index.php?title=Special:CreateAccount&returnto=Prime+Minister+of+France \"You are encouraged \n",
       "to create an account and log in; however, it is not mandatory\")\n",
       "* [Log in](/w/index.php?title=Special:UserLogin&returnto=Prime+Minister+of+France \"You're encouraged to log in; \n",
       "however, it's not mandatory. [o]\")\n",
       "\n",
       "Pages for logged out editors [learn more](/wiki/Help:Introduction)\n",
       "\n",
       "* [Contributions](/wiki/Special:MyContributions \"A list of edits made from this IP address [y]\")\n",
       "* [Talk](/wiki/Special:MyTalk \"Discussion about edits from this IP address [n]\")\n",
       "\n",
       "Contents\n",
       "--------\n",
       "\n",
       "move to sidebar\n",
       "hide\n",
       "\n",
       "* [(Top)](#)\n",
       "* [1\n",
       "  Nomination](#Nomination)\n",
       "* [2\n",
       "  Role](#Role)\n",
       "* [3\n",
       "  History](#History)\n",
       "* [4\n",
       "  See also](#See_also)\n",
       "* [5\n",
       "  References](#References)\n",
       "* [6\n",
       "  External links](#External_links)\n",
       "\n",
       "Toggle the table of contents\n",
       "\n",
       "Prime Minister of France\n",
       "========================\n",
       "\n",
       "50 languages\n",
       "\n",
       "* \n",
       "[العربية](https://ar.wikipedia.org/wiki/%D8%B1%D8%A6%D9%8A%D8%B3_%D8%A7%D9%84%D9%88%D8%B2%D8%B1%D8%A7%D8%A1_%D8%A7%\n",
       "D9%84%D9%81%D8%B1%D9%86%D8%B3%D9%8A \"رئيس الوزراء الفرنسي – Arabic\")\n",
       "* [Aragonés](https://an.wikipedia.org/wiki/Primer_ministro_de_Francia \"Primer ministro de Francia – Aragonese\")\n",
       "* [Azərbaycanca](https://az.wikipedia.org/wiki/Fransa_Ba%C5%9F_naziri \"Fransa Baş naziri – Azerbaijani\")\n",
       "* \n",
       "[Беларуская](https://be.wikipedia.org/wiki/%D0%9F%D1%80%D1%8D%D0%BC%E2%80%99%D0%B5%D1%80-%D0%BC%D1%96%D0%BD%D1%96%D\n",
       "1%81%D1%82%D1%80_%D0%A4%D1%80%D0%B0%D0%BD%D1%86%D1%8B%D1%96 \"Прэм’ер-міністр Францыі – Belarusian\")\n",
       "* \n",
       "[Български](https://bg.wikipedia.org/wiki/%D0%9C%D0%B8%D0%BD%D0%B8%D1%81%D1%82%D1%8A%D1%80-%D0%BF%D1%80%D0%B5%D0%B4\n",
       "%D1%81%D0%B5%D0%B4%D0%B0%D1%82%D0%B5%D0%BB_%D0%BD%D0%B0_%D0%A4%D1%80%D0%B0%D0%BD%D1%86%D0%B8%D1%8F \n",
       "\"Министър-председател на Франция – Bulgarian\")\n",
       "* \n",
       "[བོད་ཡིག](https://bo.wikipedia.org/wiki/%E0%BD%A7%E0%BE%A5%E0%BC%8B%E0%BD%A2%E0%BD%93%E0%BC%8B%E0%BD%A6%E0%BD%B2%E0%B\n",
       "D%A0%E0%BD%B2%E0%BC%8B%E0%BD%96%E0%BD%80%E0%BD%A0%E0%BC%8B%E0%BD%96%E0%BE%B3%E0%BD%BC%E0%BD%93%E0%BC%8B%E0%BD%A0%E0\n",
       "%BD%82%E0%BD%BC%E0%BC%8B%E0%BD%82%E0%BD%99%E0%BD%BC%E0%BC%8D \"ཧྥ་རན་སིའི་བཀའ་བློན་འགོ་གཙོ། – Tibetan\")\n",
       "* [Bosanski](https://bs.wikipedia.org/wiki/Premijer_Francuske \"Premijer Francuske – Bosnian\")\n",
       "* [Brezhoneg](https://br.wikipedia.org/wiki/Kenta%C3%B1_Ministr_(Fra%C3%B1s) \"Kentañ Ministr (Frañs) – Breton\")\n",
       "* [Català](https://ca.wikipedia.org/wiki/Primer_ministre_de_Fran%C3%A7a \"Primer ministre de França – Catalan\")\n",
       "* [Čeština](https://cs.wikipedia.org/wiki/Premi%C3%A9r_Francie \"Premiér Francie – Czech\")\n",
       "* [Dansk](https://da.wikipedia.org/wiki/Frankrigs_premierminister \"Frankrigs premierminister – Danish\")\n",
       "* [Deutsch](https://de.wikipedia.org/wiki/Premierminister_der_Franz%C3%B6sischen_Republik \"Premierminister der \n",
       "Französischen Republik – German\")\n",
       "* [Eesti](https://et.wikipedia.org/wiki/Prantsusmaa_peaminister \"Prantsusmaa peaminister – Estonian\")\n",
       "* \n",
       "[Ελληνικά](https://el.wikipedia.org/wiki/%CE%A0%CF%81%CF%89%CE%B8%CF%85%CF%80%CE%BF%CF%85%CF%81%CE%B3%CF%8C%CF%82_%\n",
       "CF%84%CE%B7%CF%82_%CE%93%CE%B1%CE%BB%CE%BB%CE%AF%CE%B1%CF%82 \"Πρωθυπουργός της Γαλλίας – Greek\")\n",
       "* [Español](h\n",
       "..._This content has been truncated to stay below 10000 characters_...\n",
       "bakh Republic\") * [Nigeria](/wiki/Prime_Minister_of_Nigeria \"Prime Minister of Nigeria\") * \n",
       "[Philippines](/wiki/Prime_Minister_of_the_Philippines \"Prime Minister of the Philippines\") * \n",
       "[Seychelles](/wiki/Prime_Minister_of_Seychelles \"Prime Minister of Seychelles\") * [South \n",
       "Africa](/wiki/Prime_Minister_of_South_Africa \"Prime Minister of South Africa\") * \n",
       "[Turkey](/wiki/Prime_Minister_of_Turkey \"Prime Minister of Turkey\") * \n",
       "[Turkmenistan](/wiki/Prime_Minister_of_Turkmenistan \"Prime Minister of Turkmenistan\") * \n",
       "[Zambia](/wiki/Prime_Minister_of_Zambia \"Prime Minister of Zambia\") * [Zimbabwe](/wiki/Prime_Minister_of_Zimbabwe \n",
       "\"Prime Minister of Zimbabwe\") |\n",
       "\n",
       "| [Authority control databases](/wiki/Help:Authority_control \"Help:Authority control\") [Edit this at \n",
       "Wikidata](https://www.wikidata.org/wiki/Q1587677#identifiers \"Edit this at Wikidata\") | |\n",
       "| --- | --- |\n",
       "| International | * [ISNI](https://isni.org/isni/0000000123224339) * [VIAF](https://viaf.org/viaf/128543497)   + \n",
       "[2](https://viaf.org/viaf/160673169) |\n",
       "| National | * [United States](https://id.loc.gov/authorities/n80002441) * \n",
       "[France](https://catalogue.bnf.fr/ark:/12148/cb11864120s) * [BnF data](https://data.bnf.fr/ark:/12148/cb11864120s) \n",
       "* [Czech Republic](https://aleph.nkp.cz/F/?func=find-c&local_base=aut&ccl_term=ica=ko2010615320&CON_LNG=ENG) * \n",
       "[Israel](https://www.nli.org.il/en/authorities/987007261105105171) |\n",
       "| Other | * [IdRef](https://www.idref.fr/026383136) |\n",
       "\n",
       "![](https://login.wikimedia.org/wiki/Special:CentralAutoLogin/start?useformat=desktop&type=1x1&usesul3=0)\n",
       "Retrieved from \"<https://en.wikipedia.org/w/index.php?title=Prime_Minister_of_France&oldid=1269811785>\"\n",
       "[Categories](/wiki/Help:Category \"Help:Category\"):\n",
       "\n",
       "* [Prime ministers of France](/wiki/Category:Prime_ministers_of_France \"Category:Prime ministers of France\")\n",
       "* [1958 establishments in France](/wiki/Category:1958_establishments_in_France \"Category:1958 establishments in \n",
       "France\")\n",
       "Hidden categories:\n",
       "\n",
       "* [CS1 maint: multiple names: authors list](/wiki/Category:CS1_maint:_multiple_names:_authors_list \"Category:CS1 \n",
       "maint: multiple names: authors list\")\n",
       "* [CS1 French-language sources (fr)](/wiki/Category:CS1_French-language_sources_(fr) \"Category:CS1 French-language \n",
       "sources (fr)\")\n",
       "* [Articles with short description](/wiki/Category:Articles_with_short_description \"Category:Articles with short \n",
       "description\")\n",
       "* [Short description is different from Wikidata](/wiki/Category:Short_description_is_different_from_Wikidata \n",
       "\"Category:Short description is different from Wikidata\")\n",
       "* [Use dmy dates from December 2019](/wiki/Category:Use_dmy_dates_from_December_2019 \"Category:Use dmy dates from \n",
       "December 2019\")\n",
       "* [Articles containing French-language text](/wiki/Category:Articles_containing_French-language_text \n",
       "\"Category:Articles containing French-language text\")\n",
       "* [Articles containing Latin-language text](/wiki/Category:Articles_containing_Latin-language_text \n",
       "\"Category:Articles containing Latin-language text\")\n",
       "* [Official website different in Wikidata and \n",
       "Wikipedia](/wiki/Category:Official_website_different_in_Wikidata_and_Wikipedia \"Category:Official website different\n",
       "in Wikidata and Wikipedia\")\n",
       "\n",
       "* This page was last edited on 16 January 2025, at 14:44 (UTC).\n",
       "* Text is available under the [Creative Commons Attribution-ShareAlike 4.0 \n",
       "License](/wiki/Wikipedia:Text_of_the_Creative_Commons_Attribution-ShareAlike_4.0_International_License \n",
       "\"Wikipedia:Text of the Creative Commons Attribution-ShareAlike 4.0 International License\");\n",
       "  additional terms may apply. By using this site, you agree to the [Terms of \n",
       "Use](https://foundation.wikimedia.org/wiki/Special:MyLanguage/Policy:Terms_of_Use \n",
       "\"foundation:Special:MyLanguage/Policy:Terms of Use\") and [Privacy \n",
       "Policy](https://foundation.wikimedia.org/wiki/Special:MyLanguage/Policy:Privacy_policy \n",
       "\"foundation:Special:MyLanguage/Policy:Privacy policy\"). Wikipedia® is a registered trademark of the [Wikimedia \n",
       "Foundation, Inc.](https://wikimediafoundation.org/), a non-profit organization.\n",
       "\n",
       "* [Privacy policy](https://foundation.wikimedia.org/wiki/Special:MyLanguage/Policy:Privacy_policy)\n",
       "* [About Wikipedia](/wiki/Wikipedia:About)\n",
       "* [Disclaimers](/wiki/Wikipedia:General_disclaimer)\n",
       "* [Contact Wikipedia](//en.wikipedia.org/wiki/Wikipedia:Contact_us)\n",
       "* [Code of Conduct](https://foundation.wikimedia.org/wiki/Special:MyLanguage/Policy:Universal_Code_of_Conduct)\n",
       "* [Developers](https://developer.wikimedia.org)\n",
       "* [Statistics](https://stats.wikimedia.org/#/en.wikipedia.org)\n",
       "* [Cookie statement](https://foundation.wikimedia.org/wiki/Special:MyLanguage/Policy:Cookie_statement)\n",
       "* [Mobile view](//en.m.wikipedia.org/w/index.php?title=Prime_Minister_of_France&mobileaction=toggle_view_mobile)\n",
       "\n",
       "* [![Wikimedia Foundation](/static/images/footer/wikimedia-button.svg)](https://wikimediafoundation.org/)\n",
       "* [![Powered by MediaWiki](/w/resources/assets/poweredby_mediawiki.svg)](https://www.mediawiki.org/)\n",
       "\n",
       "Search\n",
       "\n",
       "Search\n",
       "\n",
       "Toggle the table of contents\n",
       "\n",
       "Prime Minister of France\n",
       "\n",
       "50 languages\n",
       "\n",
       "[Add topic](#)\n",
       "\n",
       "Out: None\n"
      ]
     },
     "metadata": {},
     "output_type": "display_data"
    },
    {
     "data": {
      "text/html": [
       "<pre style=\"white-space:pre;overflow-x:auto;line-height:normal;font-family:Menlo,'DejaVu Sans Mono',consolas,'Courier New',monospace\"><span style=\"color: #7f7f7f; text-decoration-color: #7f7f7f\">[Step 1: Duration 3.33 seconds| Input tokens: 4,261 | Output tokens: 157]</span>\n",
       "</pre>\n"
      ],
      "text/plain": [
       "\u001b[2m[Step 1: Duration 3.33 seconds| Input tokens: 4,261 | Output tokens: 157]\u001b[0m\n"
      ]
     },
     "metadata": {},
     "output_type": "display_data"
    },
    {
     "data": {
      "text/html": [
       "<pre style=\"white-space:pre;overflow-x:auto;line-height:normal;font-family:Menlo,'DejaVu Sans Mono',consolas,'Courier New',monospace\"><span style=\"color: #d4b702; text-decoration-color: #d4b702\">━━━━━━━━━━━━━━━━━━━━━━━━━━━━━━━━━━━━━━━━━━━━━━━━━━━━━ </span><span style=\"font-weight: bold\">Step </span><span style=\"color: #008080; text-decoration-color: #008080; font-weight: bold\">2</span><span style=\"color: #d4b702; text-decoration-color: #d4b702\"> ━━━━━━━━━━━━━━━━━━━━━━━━━━━━━━━━━━━━━━━━━━━━━━━━━━━━━━</span>\n",
       "</pre>\n"
      ],
      "text/plain": [
       "\u001b[38;2;212;183;2m━━━━━━━━━━━━━━━━━━━━━━━━━━━━━━━━━━━━━━━━━━━━━━━━━━━━━ \u001b[0m\u001b[1mStep \u001b[0m\u001b[1;36m2\u001b[0m\u001b[38;2;212;183;2m ━━━━━━━━━━━━━━━━━━━━━━━━━━━━━━━━━━━━━━━━━━━━━━━━━━━━━━\u001b[0m\n"
      ]
     },
     "metadata": {},
     "output_type": "display_data"
    },
    {
     "data": {
      "text/html": [
       "<pre style=\"white-space:pre;overflow-x:auto;line-height:normal;font-family:Menlo,'DejaVu Sans Mono',consolas,'Courier New',monospace\"> ─ <span style=\"font-weight: bold\">Executing this code:</span> ────────────────────────────────────────────────────────────────────────────────────────── \n",
       "  <span style=\"color: #959077; text-decoration-color: #959077; background-color: #272822\"># As the content is too lengthy, I will use string operations to find the relevant information.</span><span style=\"background-color: #272822\">                </span>  \n",
       "  <span style=\"color: #f8f8f2; text-decoration-color: #f8f8f2; background-color: #272822\">content </span><span style=\"color: #ff4689; text-decoration-color: #ff4689; background-color: #272822\">=</span><span style=\"color: #f8f8f2; text-decoration-color: #f8f8f2; background-color: #272822\"> current_pm_info</span><span style=\"background-color: #272822\">                                                                                      </span>  \n",
       "  <span style=\"color: #66d9ef; text-decoration-color: #66d9ef; background-color: #272822\">if</span><span style=\"color: #f8f8f2; text-decoration-color: #f8f8f2; background-color: #272822\"> </span><span style=\"color: #e6db74; text-decoration-color: #e6db74; background-color: #272822\">\"Prime Minister\"</span><span style=\"color: #f8f8f2; text-decoration-color: #f8f8f2; background-color: #272822\"> </span><span style=\"color: #ff4689; text-decoration-color: #ff4689; background-color: #272822\">in</span><span style=\"color: #f8f8f2; text-decoration-color: #f8f8f2; background-color: #272822\"> content:</span><span style=\"background-color: #272822\">                                                                                </span>  \n",
       "  <span style=\"color: #f8f8f2; text-decoration-color: #f8f8f2; background-color: #272822\">    start_index </span><span style=\"color: #ff4689; text-decoration-color: #ff4689; background-color: #272822\">=</span><span style=\"color: #f8f8f2; text-decoration-color: #f8f8f2; background-color: #272822\"> content</span><span style=\"color: #ff4689; text-decoration-color: #ff4689; background-color: #272822\">.</span><span style=\"color: #f8f8f2; text-decoration-color: #f8f8f2; background-color: #272822\">index(</span><span style=\"color: #e6db74; text-decoration-color: #e6db74; background-color: #272822\">\"Prime Minister\"</span><span style=\"color: #f8f8f2; text-decoration-color: #f8f8f2; background-color: #272822\">) </span><span style=\"background-color: #272822\">                                                             </span>  \n",
       "  <span style=\"color: #f8f8f2; text-decoration-color: #f8f8f2; background-color: #272822\">    end_index </span><span style=\"color: #ff4689; text-decoration-color: #ff4689; background-color: #272822\">=</span><span style=\"color: #f8f8f2; text-decoration-color: #f8f8f2; background-color: #272822\"> content</span><span style=\"color: #ff4689; text-decoration-color: #ff4689; background-color: #272822\">.</span><span style=\"color: #f8f8f2; text-decoration-color: #f8f8f2; background-color: #272822\">index(</span><span style=\"color: #e6db74; text-decoration-color: #e6db74; background-color: #272822\">\"List of Prime Ministers\"</span><span style=\"color: #f8f8f2; text-decoration-color: #f8f8f2; background-color: #272822\">) </span><span style=\"color: #66d9ef; text-decoration-color: #66d9ef; background-color: #272822\">if</span><span style=\"color: #f8f8f2; text-decoration-color: #f8f8f2; background-color: #272822\"> </span><span style=\"color: #e6db74; text-decoration-color: #e6db74; background-color: #272822\">\"List of Prime Ministers\"</span><span style=\"color: #f8f8f2; text-decoration-color: #f8f8f2; background-color: #272822\"> </span><span style=\"color: #ff4689; text-decoration-color: #ff4689; background-color: #272822\">in</span><span style=\"color: #f8f8f2; text-decoration-color: #f8f8f2; background-color: #272822\"> content </span><span style=\"color: #66d9ef; text-decoration-color: #66d9ef; background-color: #272822\">else</span><span style=\"color: #f8f8f2; text-decoration-color: #f8f8f2; background-color: #272822\"> </span><span style=\"background-color: #272822\">         </span>  \n",
       "  <span style=\"color: #f8f8f2; text-decoration-color: #f8f8f2; background-color: #272822\">len(content)</span><span style=\"background-color: #272822\">                                                                                                   </span>  \n",
       "  <span style=\"color: #f8f8f2; text-decoration-color: #f8f8f2; background-color: #272822\">    prime_minister_info </span><span style=\"color: #ff4689; text-decoration-color: #ff4689; background-color: #272822\">=</span><span style=\"color: #f8f8f2; text-decoration-color: #f8f8f2; background-color: #272822\"> content[start_index:end_index]</span><span style=\"background-color: #272822\">                                                       </span>  \n",
       "  <span style=\"color: #f8f8f2; text-decoration-color: #f8f8f2; background-color: #272822\">    print(prime_minister_info)</span><span style=\"background-color: #272822\">                                                                                 </span>  \n",
       "  <span style=\"color: #66d9ef; text-decoration-color: #66d9ef; background-color: #272822\">else</span><span style=\"color: #f8f8f2; text-decoration-color: #f8f8f2; background-color: #272822\">:</span><span style=\"background-color: #272822\">                                                                                                          </span>  \n",
       "  <span style=\"color: #f8f8f2; text-decoration-color: #f8f8f2; background-color: #272822\">    print(</span><span style=\"color: #e6db74; text-decoration-color: #e6db74; background-color: #272822\">\"Prime Minister information not found.\"</span><span style=\"color: #f8f8f2; text-decoration-color: #f8f8f2; background-color: #272822\">)</span><span style=\"background-color: #272822\">                                                             </span>  \n",
       " ───────────────────────────────────────────────────────────────────────────────────────────────────────────────── \n",
       "</pre>\n"
      ],
      "text/plain": [
       " ─ \u001b[1mExecuting this code:\u001b[0m ────────────────────────────────────────────────────────────────────────────────────────── \n",
       "  \u001b[38;2;149;144;119;48;2;39;40;34m# As the content is too lengthy, I will use string operations to find the relevant information.\u001b[0m\u001b[48;2;39;40;34m                \u001b[0m  \n",
       "  \u001b[38;2;248;248;242;48;2;39;40;34mcontent\u001b[0m\u001b[38;2;248;248;242;48;2;39;40;34m \u001b[0m\u001b[38;2;255;70;137;48;2;39;40;34m=\u001b[0m\u001b[38;2;248;248;242;48;2;39;40;34m \u001b[0m\u001b[38;2;248;248;242;48;2;39;40;34mcurrent_pm_info\u001b[0m\u001b[48;2;39;40;34m                                                                                      \u001b[0m  \n",
       "  \u001b[38;2;102;217;239;48;2;39;40;34mif\u001b[0m\u001b[38;2;248;248;242;48;2;39;40;34m \u001b[0m\u001b[38;2;230;219;116;48;2;39;40;34m\"\u001b[0m\u001b[38;2;230;219;116;48;2;39;40;34mPrime Minister\u001b[0m\u001b[38;2;230;219;116;48;2;39;40;34m\"\u001b[0m\u001b[38;2;248;248;242;48;2;39;40;34m \u001b[0m\u001b[38;2;255;70;137;48;2;39;40;34min\u001b[0m\u001b[38;2;248;248;242;48;2;39;40;34m \u001b[0m\u001b[38;2;248;248;242;48;2;39;40;34mcontent\u001b[0m\u001b[38;2;248;248;242;48;2;39;40;34m:\u001b[0m\u001b[48;2;39;40;34m                                                                                \u001b[0m  \n",
       "  \u001b[38;2;248;248;242;48;2;39;40;34m    \u001b[0m\u001b[38;2;248;248;242;48;2;39;40;34mstart_index\u001b[0m\u001b[38;2;248;248;242;48;2;39;40;34m \u001b[0m\u001b[38;2;255;70;137;48;2;39;40;34m=\u001b[0m\u001b[38;2;248;248;242;48;2;39;40;34m \u001b[0m\u001b[38;2;248;248;242;48;2;39;40;34mcontent\u001b[0m\u001b[38;2;255;70;137;48;2;39;40;34m.\u001b[0m\u001b[38;2;248;248;242;48;2;39;40;34mindex\u001b[0m\u001b[38;2;248;248;242;48;2;39;40;34m(\u001b[0m\u001b[38;2;230;219;116;48;2;39;40;34m\"\u001b[0m\u001b[38;2;230;219;116;48;2;39;40;34mPrime Minister\u001b[0m\u001b[38;2;230;219;116;48;2;39;40;34m\"\u001b[0m\u001b[38;2;248;248;242;48;2;39;40;34m)\u001b[0m\u001b[38;2;248;248;242;48;2;39;40;34m \u001b[0m\u001b[48;2;39;40;34m                                                             \u001b[0m  \n",
       "  \u001b[38;2;248;248;242;48;2;39;40;34m    \u001b[0m\u001b[38;2;248;248;242;48;2;39;40;34mend_index\u001b[0m\u001b[38;2;248;248;242;48;2;39;40;34m \u001b[0m\u001b[38;2;255;70;137;48;2;39;40;34m=\u001b[0m\u001b[38;2;248;248;242;48;2;39;40;34m \u001b[0m\u001b[38;2;248;248;242;48;2;39;40;34mcontent\u001b[0m\u001b[38;2;255;70;137;48;2;39;40;34m.\u001b[0m\u001b[38;2;248;248;242;48;2;39;40;34mindex\u001b[0m\u001b[38;2;248;248;242;48;2;39;40;34m(\u001b[0m\u001b[38;2;230;219;116;48;2;39;40;34m\"\u001b[0m\u001b[38;2;230;219;116;48;2;39;40;34mList of Prime Ministers\u001b[0m\u001b[38;2;230;219;116;48;2;39;40;34m\"\u001b[0m\u001b[38;2;248;248;242;48;2;39;40;34m)\u001b[0m\u001b[38;2;248;248;242;48;2;39;40;34m \u001b[0m\u001b[38;2;102;217;239;48;2;39;40;34mif\u001b[0m\u001b[38;2;248;248;242;48;2;39;40;34m \u001b[0m\u001b[38;2;230;219;116;48;2;39;40;34m\"\u001b[0m\u001b[38;2;230;219;116;48;2;39;40;34mList of Prime Ministers\u001b[0m\u001b[38;2;230;219;116;48;2;39;40;34m\"\u001b[0m\u001b[38;2;248;248;242;48;2;39;40;34m \u001b[0m\u001b[38;2;255;70;137;48;2;39;40;34min\u001b[0m\u001b[38;2;248;248;242;48;2;39;40;34m \u001b[0m\u001b[38;2;248;248;242;48;2;39;40;34mcontent\u001b[0m\u001b[38;2;248;248;242;48;2;39;40;34m \u001b[0m\u001b[38;2;102;217;239;48;2;39;40;34melse\u001b[0m\u001b[38;2;248;248;242;48;2;39;40;34m \u001b[0m\u001b[48;2;39;40;34m         \u001b[0m  \n",
       "  \u001b[38;2;248;248;242;48;2;39;40;34mlen\u001b[0m\u001b[38;2;248;248;242;48;2;39;40;34m(\u001b[0m\u001b[38;2;248;248;242;48;2;39;40;34mcontent\u001b[0m\u001b[38;2;248;248;242;48;2;39;40;34m)\u001b[0m\u001b[48;2;39;40;34m                                                                                                   \u001b[0m  \n",
       "  \u001b[38;2;248;248;242;48;2;39;40;34m    \u001b[0m\u001b[38;2;248;248;242;48;2;39;40;34mprime_minister_info\u001b[0m\u001b[38;2;248;248;242;48;2;39;40;34m \u001b[0m\u001b[38;2;255;70;137;48;2;39;40;34m=\u001b[0m\u001b[38;2;248;248;242;48;2;39;40;34m \u001b[0m\u001b[38;2;248;248;242;48;2;39;40;34mcontent\u001b[0m\u001b[38;2;248;248;242;48;2;39;40;34m[\u001b[0m\u001b[38;2;248;248;242;48;2;39;40;34mstart_index\u001b[0m\u001b[38;2;248;248;242;48;2;39;40;34m:\u001b[0m\u001b[38;2;248;248;242;48;2;39;40;34mend_index\u001b[0m\u001b[38;2;248;248;242;48;2;39;40;34m]\u001b[0m\u001b[48;2;39;40;34m                                                       \u001b[0m  \n",
       "  \u001b[38;2;248;248;242;48;2;39;40;34m    \u001b[0m\u001b[38;2;248;248;242;48;2;39;40;34mprint\u001b[0m\u001b[38;2;248;248;242;48;2;39;40;34m(\u001b[0m\u001b[38;2;248;248;242;48;2;39;40;34mprime_minister_info\u001b[0m\u001b[38;2;248;248;242;48;2;39;40;34m)\u001b[0m\u001b[48;2;39;40;34m                                                                                 \u001b[0m  \n",
       "  \u001b[38;2;102;217;239;48;2;39;40;34melse\u001b[0m\u001b[38;2;248;248;242;48;2;39;40;34m:\u001b[0m\u001b[48;2;39;40;34m                                                                                                          \u001b[0m  \n",
       "  \u001b[38;2;248;248;242;48;2;39;40;34m    \u001b[0m\u001b[38;2;248;248;242;48;2;39;40;34mprint\u001b[0m\u001b[38;2;248;248;242;48;2;39;40;34m(\u001b[0m\u001b[38;2;230;219;116;48;2;39;40;34m\"\u001b[0m\u001b[38;2;230;219;116;48;2;39;40;34mPrime Minister information not found.\u001b[0m\u001b[38;2;230;219;116;48;2;39;40;34m\"\u001b[0m\u001b[38;2;248;248;242;48;2;39;40;34m)\u001b[0m\u001b[48;2;39;40;34m                                                             \u001b[0m  \n",
       " ───────────────────────────────────────────────────────────────────────────────────────────────────────────────── \n"
      ]
     },
     "metadata": {},
     "output_type": "display_data"
    },
    {
     "data": {
      "text/html": [
       "<pre style=\"white-space:pre;overflow-x:auto;line-height:normal;font-family:Menlo,'DejaVu Sans Mono',consolas,'Courier New',monospace\"><span style=\"font-weight: bold\">Execution logs:</span>\n",
       "Prime Minister of France - Wikipedia\n",
       "\n",
       "[Jump to content](#bodyContent)\n",
       "\n",
       "Main menu\n",
       "\n",
       "Main menu\n",
       "move to sidebar\n",
       "hide\n",
       "\n",
       "Navigation\n",
       "\n",
       "* [Main page](/wiki/Main_Page \"Visit the main page [z]\")\n",
       "* [Contents](/wiki/Wikipedia:Contents \"Guides to browsing Wikipedia\")\n",
       "* [Current events](/wiki/Portal:Current_events \"Articles related to current events\")\n",
       "* [Random article](/wiki/Special:Random \"Visit a randomly selected article [x]\")\n",
       "* [About Wikipedia](/wiki/Wikipedia:About \"Learn about Wikipedia and how it works\")\n",
       "* [Contact us](//en.wikipedia.org/wiki/Wikipedia:Contact_us \"How to contact Wikipedia\")\n",
       "\n",
       "Contribute\n",
       "\n",
       "* [Help](/wiki/Help:Contents \"Guidance on how to use and edit Wikipedia\")\n",
       "* [Learn to edit](/wiki/Help:Introduction \"Learn how to edit Wikipedia\")\n",
       "* [Community portal](/wiki/Wikipedia:Community_portal \"The hub for editors\")\n",
       "* [Recent changes](/wiki/Special:RecentChanges \"A list of recent changes to Wikipedia [r]\")\n",
       "* [Upload file](/wiki/Wikipedia:File_upload_wizard \"Add images or other media for use on Wikipedia\")\n",
       "\n",
       "[![](/static/images/icons/wikipedia.png)\n",
       "![Wikipedia](/static/images/mobile/copyright/wikipedia-wordmark-en.svg)\n",
       "![The Free Encyclopedia](/static/images/mobile/copyright/wikipedia-tagline-en.svg)](/wiki/Main_Page)\n",
       "\n",
       "[Search](/wiki/Special:Search \"Search Wikipedia [f]\")\n",
       "\n",
       "Search\n",
       "\n",
       "Appearance\n",
       "\n",
       "* \n",
       "[Donate](https://donate.wikimedia.org/?wmf_source=donate&amp;wmf_medium=sidebar&amp;wmf_campaign=en.wikipedia.org&amp;uselang=e\n",
       "n)\n",
       "* [Create account](/w/index.php?title=Special:CreateAccount&amp;returnto=Prime+Minister+of+France \"You are encouraged \n",
       "to create an account and log in; however, it is not mandatory\")\n",
       "* [Log in](/w/index.php?title=Special:UserLogin&amp;returnto=Prime+Minister+of+France \"You're encouraged to log in; \n",
       "however, it's not mandatory. [o]\")\n",
       "\n",
       "Personal tools\n",
       "\n",
       "* \n",
       "[Donate](https://donate.wikimedia.org/?wmf_source=donate&amp;wmf_medium=sidebar&amp;wmf_campaign=en.wikipedia.org&amp;uselang=e\n",
       "n)\n",
       "* [Create account](/w/index.php?title=Special:CreateAccount&amp;returnto=Prime+Minister+of+France \"You are encouraged \n",
       "to create an account and log in; however, it is not mandatory\")\n",
       "* [Log in](/w/index.php?title=Special:UserLogin&amp;returnto=Prime+Minister+of+France \"You're encouraged to log in; \n",
       "however, it's not mandatory. [o]\")\n",
       "\n",
       "Pages for logged out editors [learn more](/wiki/Help:Introduction)\n",
       "\n",
       "* [Contributions](/wiki/Special:MyContributions \"A list of edits made from this IP address [y]\")\n",
       "* [Talk](/wiki/Special:MyTalk \"Discussion about edits from this IP address [n]\")\n",
       "\n",
       "Contents\n",
       "--------\n",
       "\n",
       "move to sidebar\n",
       "hide\n",
       "\n",
       "* [(Top)](#)\n",
       "* [1\n",
       "  Nomination](#Nomination)\n",
       "* [2\n",
       "  Role](#Role)\n",
       "* [3\n",
       "  History](#History)\n",
       "* [4\n",
       "  See also](#See_also)\n",
       "* [5\n",
       "  References](#References)\n",
       "* [6\n",
       "  External links](#External_links)\n",
       "\n",
       "Toggle the table of contents\n",
       "\n",
       "Prime Minister of France\n",
       "========================\n",
       "\n",
       "50 languages\n",
       "\n",
       "* \n",
       "[العربية](https://ar.wikipedia.org/wiki/%D8%B1%D8%A6%D9%8A%D8%B3_%D8%A7%D9%84%D9%88%D8%B2%D8%B1%D8%A7%D8%A1_%D8%A7%\n",
       "D9%84%D9%81%D8%B1%D9%86%D8%B3%D9%8A \"رئيس الوزراء الفرنسي – Arabic\")\n",
       "* [Aragonés](https://an.wikipedia.org/wiki/Primer_ministro_de_Francia \"Primer ministro de Francia – Aragonese\")\n",
       "* [Azərbaycanca](https://az.wikipedia.org/wiki/Fransa_Ba%C5%9F_naziri \"Fransa Baş naziri – Azerbaijani\")\n",
       "* \n",
       "[Беларуская](https://be.wikipedia.org/wiki/%D0%9F%D1%80%D1%8D%D0%BC%E2%80%99%D0%B5%D1%80-%D0%BC%D1%96%D0%BD%D1%96%D\n",
       "1%81%D1%82%D1%80_%D0%A4%D1%80%D0%B0%D0%BD%D1%86%D1%8B%D1%96 \"Прэм’ер-міністр Францыі – Belarusian\")\n",
       "* \n",
       "[Български](https://bg.wikipedia.org/wiki/%D0%9C%D0%B8%D0%BD%D0%B8%D1%81%D1%82%D1%8A%D1%80-%D0%BF%D1%80%D0%B5%D0%B4\n",
       "%D1%81%D0%B5%D0%B4%D0%B0%D1%82%D0%B5%D0%BB_%D0%BD%D0%B0_%D0%A4%D1%80%D0%B0%D0%BD%D1%86%D0%B8%D1%8F \n",
       "\"Министър-председател на Франция – Bulgarian\")\n",
       "* \n",
       "[བོད་ཡིག](https://bo.wikipedia.org/wiki/%E0%BD%A7%E0%BE%A5%E0%BC%8B%E0%BD%A2%E0%BD%93%E0%BC%8B%E0%BD%A6%E0%BD%B2%E0%B\n",
       "D%A0%E0%BD%B2%E0%BC%8B%E0%BD%96%E0%BD%80%E0%BD%A0%E0%BC%8B%E0%BD%96%E0%BE%B3%E0%BD%BC%E0%BD%93%E0%BC%8B%E0%BD%A0%E0\n",
       "%BD%82%E0%BD%BC%E0%BC%8B%E0%BD%82%E0%BD%99%E0%BD%BC%E0%BC%8D \"ཧྥ་རན་སིའི་བཀའ་བློན་འགོ་གཙོ། – Tibetan\")\n",
       "* [Bosanski](https://bs.wikipedia.org/wiki/Premijer_Francuske \"Premijer Francuske – Bosnian\")\n",
       "* [Brezhoneg](https://br.wikipedia.org/wiki/Kenta%C3%B1_Ministr_(Fra%C3%B1s) \"Kentañ Ministr (Frañs) – Breton\")\n",
       "* [Català](https://ca.wikipedia.org/wiki/Primer_ministre_de_Fran%C3%A7a \"Primer ministre de França – Catalan\")\n",
       "* [Čeština](https://cs.wikipedia.org/wiki/Premi%C3%A9r_Francie \"Premiér Francie – Czech\")\n",
       "* [Dansk](https://da.wikipedia.org/wiki/Frankrigs_premierminister \"Frankrigs premierminister – Danish\")\n",
       "* [Deutsch](https://de.wikipedia.org/wiki/Premierminister_der_Franz%C3%B6sischen_Republik \"Premierminister der \n",
       "Französischen Republik – German\")\n",
       "* [Eesti](https://et.wikipedia.org/wiki/Prantsusmaa_peaminister \"Prantsusmaa peaminister – Estonian\")\n",
       "* \n",
       "[Ελληνικά](https://el.wikipedia.org/wiki/%CE%A0%CF%81%CF%89%CE%B8%CF%85%CF%80%CE%BF%CF%85%CF%81%CE%B3%CF%8C%CF%82_%\n",
       "CF%84%CE%B7%CF%82_%CE%93%CE%B1%CE%BB%CE%BB%CE%AF%CE%B1%CF%82 \"Πρωθυπουργός της Γαλλίας – Greek\")\n",
       "* [Español](h\n",
       "..._This content has been truncated to stay below 10000 characters_...\n",
       "bakh Republic\") * [Nigeria](/wiki/Prime_Minister_of_Nigeria \"Prime Minister of Nigeria\") * \n",
       "[Philippines](/wiki/Prime_Minister_of_the_Philippines \"Prime Minister of the Philippines\") * \n",
       "[Seychelles](/wiki/Prime_Minister_of_Seychelles \"Prime Minister of Seychelles\") * [South \n",
       "Africa](/wiki/Prime_Minister_of_South_Africa \"Prime Minister of South Africa\") * \n",
       "[Turkey](/wiki/Prime_Minister_of_Turkey \"Prime Minister of Turkey\") * \n",
       "[Turkmenistan](/wiki/Prime_Minister_of_Turkmenistan \"Prime Minister of Turkmenistan\") * \n",
       "[Zambia](/wiki/Prime_Minister_of_Zambia \"Prime Minister of Zambia\") * [Zimbabwe](/wiki/Prime_Minister_of_Zimbabwe \n",
       "\"Prime Minister of Zimbabwe\") |\n",
       "\n",
       "| [Authority control databases](/wiki/Help:Authority_control \"Help:Authority control\") [Edit this at \n",
       "Wikidata](https://www.wikidata.org/wiki/Q1587677#identifiers \"Edit this at Wikidata\") | |\n",
       "| --- | --- |\n",
       "| International | * [ISNI](https://isni.org/isni/0000000123224339) * [VIAF](https://viaf.org/viaf/128543497)   + \n",
       "[2](https://viaf.org/viaf/160673169) |\n",
       "| National | * [United States](https://id.loc.gov/authorities/n80002441) * \n",
       "[France](https://catalogue.bnf.fr/ark:/12148/cb11864120s) * [BnF data](https://data.bnf.fr/ark:/12148/cb11864120s) \n",
       "* [Czech Republic](https://aleph.nkp.cz/F/?func=find-c&amp;local_base=aut&amp;ccl_term=ica=ko2010615320&amp;CON_LNG=ENG) * \n",
       "[Israel](https://www.nli.org.il/en/authorities/987007261105105171) |\n",
       "| Other | * [IdRef](https://www.idref.fr/026383136) |\n",
       "\n",
       "![](https://login.wikimedia.org/wiki/Special:CentralAutoLogin/start?useformat=desktop&amp;type=1x1&amp;usesul3=0)\n",
       "Retrieved from \"&lt;https://en.wikipedia.org/w/index.php?title=Prime_Minister_of_France&amp;oldid=1269811785&gt;\"\n",
       "[Categories](/wiki/Help:Category \"Help:Category\"):\n",
       "\n",
       "* [Prime ministers of France](/wiki/Category:Prime_ministers_of_France \"Category:Prime ministers of France\")\n",
       "* [1958 establishments in France](/wiki/Category:1958_establishments_in_France \"Category:1958 establishments in \n",
       "France\")\n",
       "Hidden categories:\n",
       "\n",
       "* [CS1 maint: multiple names: authors list](/wiki/Category:CS1_maint:_multiple_names:_authors_list \"Category:CS1 \n",
       "maint: multiple names: authors list\")\n",
       "* [CS1 French-language sources (fr)](/wiki/Category:CS1_French-language_sources_(fr) \"Category:CS1 French-language \n",
       "sources (fr)\")\n",
       "* [Articles with short description](/wiki/Category:Articles_with_short_description \"Category:Articles with short \n",
       "description\")\n",
       "* [Short description is different from Wikidata](/wiki/Category:Short_description_is_different_from_Wikidata \n",
       "\"Category:Short description is different from Wikidata\")\n",
       "* [Use dmy dates from December 2019](/wiki/Category:Use_dmy_dates_from_December_2019 \"Category:Use dmy dates from \n",
       "December 2019\")\n",
       "* [Articles containing French-language text](/wiki/Category:Articles_containing_French-language_text \n",
       "\"Category:Articles containing French-language text\")\n",
       "* [Articles containing Latin-language text](/wiki/Category:Articles_containing_Latin-language_text \n",
       "\"Category:Articles containing Latin-language text\")\n",
       "* [Official website different in Wikidata and \n",
       "Wikipedia](/wiki/Category:Official_website_different_in_Wikidata_and_Wikipedia \"Category:Official website different\n",
       "in Wikidata and Wikipedia\")\n",
       "\n",
       "* This page was last edited on 16 January 2025, at 14:44 (UTC).\n",
       "* Text is available under the [Creative Commons Attribution-ShareAlike 4.0 \n",
       "License](/wiki/Wikipedia:Text_of_the_Creative_Commons_Attribution-ShareAlike_4.0_International_License \n",
       "\"Wikipedia:Text of the Creative Commons Attribution-ShareAlike 4.0 International License\");\n",
       "  additional terms may apply. By using this site, you agree to the [Terms of \n",
       "Use](https://foundation.wikimedia.org/wiki/Special:MyLanguage/Policy:Terms_of_Use \n",
       "\"foundation:Special:MyLanguage/Policy:Terms of Use\") and [Privacy \n",
       "Policy](https://foundation.wikimedia.org/wiki/Special:MyLanguage/Policy:Privacy_policy \n",
       "\"foundation:Special:MyLanguage/Policy:Privacy policy\"). Wikipedia® is a registered trademark of the [Wikimedia \n",
       "Foundation, Inc.](https://wikimediafoundation.org/), a non-profit organization.\n",
       "\n",
       "* [Privacy policy](https://foundation.wikimedia.org/wiki/Special:MyLanguage/Policy:Privacy_policy)\n",
       "* [About Wikipedia](/wiki/Wikipedia:About)\n",
       "* [Disclaimers](/wiki/Wikipedia:General_disclaimer)\n",
       "* [Contact Wikipedia](//en.wikipedia.org/wiki/Wikipedia:Contact_us)\n",
       "* [Code of Conduct](https://foundation.wikimedia.org/wiki/Special:MyLanguage/Policy:Universal_Code_of_Conduct)\n",
       "* [Developers](https://developer.wikimedia.org)\n",
       "* [Statistics](https://stats.wikimedia.org/#/en.wikipedia.org)\n",
       "* [Cookie statement](https://foundation.wikimedia.org/wiki/Special:MyLanguage/Policy:Cookie_statement)\n",
       "* [Mobile view](//en.m.wikipedia.org/w/index.php?title=Prime_Minister_of_France&amp;mobileaction=toggle_view_mobile)\n",
       "\n",
       "* [![Wikimedia Foundation](/static/images/footer/wikimedia-button.svg)](https://wikimediafoundation.org/)\n",
       "* [![Powered by MediaWiki](/w/resources/assets/poweredby_mediawiki.svg)](https://www.mediawiki.org/)\n",
       "\n",
       "Search\n",
       "\n",
       "Search\n",
       "\n",
       "Toggle the table of contents\n",
       "\n",
       "Prime Minister of France\n",
       "\n",
       "50 languages\n",
       "\n",
       "[Add topic](#)\n",
       "\n",
       "Out: Prime Minister of France - Wikipedia\n",
       "\n",
       "[Jump to content](#bodyContent)\n",
       "\n",
       "Main menu\n",
       "\n",
       "Main menu\n",
       "move to sidebar\n",
       "hide\n",
       "\n",
       "Navigation\n",
       "\n",
       "* [Main page](/wiki/Main_Page \"Visit the main page [z]\")\n",
       "* [Contents](/wiki/Wikipedia:Contents \"Guides to browsing Wikipedia\")\n",
       "* [Current events](/wiki/Portal:Current_events \"Articles related to current events\")\n",
       "* [Random article](/wiki/Special:Random \"Visit a randomly selected article [x]\")\n",
       "* [About Wikipedia](/wiki/Wikipedia:About \"Learn about Wikipedia and how it works\")\n",
       "* [Contact us](//en.wikipedia.org/wiki/Wikipedia:Contact_us \"How to contact Wikipedia\")\n",
       "\n",
       "Contribute\n",
       "\n",
       "* [Help](/wiki/Help:Contents \"Guidance on how to use and edit Wikipedia\")\n",
       "* [Learn to edit](/wiki/Help:Introduction \"Learn how to edit Wikipedia\")\n",
       "* [Community portal](/wiki/Wikipedia:Community_portal \"The hub for editors\")\n",
       "* [Recent changes](/wiki/Special:RecentChanges \"A list of recent changes to Wikipedia [r]\")\n",
       "* [Upload file](/wiki/Wikipedia:File_upload_wizard \"Add images or other media for use on Wikipedia\")\n",
       "\n",
       "[![](/static/images/icons/wikipedia.png)\n",
       "![Wikipedia](/static/images/mobile/copyright/wikipedia-wordmark-en.svg)\n",
       "![The Free Encyclopedia](/static/images/mobile/copyright/wikipedia-tagline-en.svg)](/wiki/Main_Page)\n",
       "\n",
       "[Search](/wiki/Special:Search \"Search Wikipedia [f]\")\n",
       "\n",
       "Search\n",
       "\n",
       "Appearance\n",
       "\n",
       "* \n",
       "[Donate](https://donate.wikimedia.org/?wmf_source=donate&amp;wmf_medium=sidebar&amp;wmf_campaign=en.wikipedia.org&amp;uselang=e\n",
       "n)\n",
       "* [Create account](/w/index.php?title=Special:CreateAccount&amp;returnto=Prime+Minister+of+France \"You are encouraged \n",
       "to create an account and log in; however, it is not mandatory\")\n",
       "* [Log in](/w/index.php?title=Special:UserLogin&amp;returnto=Prime+Minister+of+France \"You're encouraged to log in; \n",
       "however, it's not mandatory. [o]\")\n",
       "\n",
       "Personal tools\n",
       "\n",
       "* \n",
       "[Donate](https://donate.wikimedia.org/?wmf_source=donate&amp;wmf_medium=sidebar&amp;wmf_campaign=en.wikipedia.org&amp;uselang=e\n",
       "n)\n",
       "* [Create account](/w/index.php?title=Special:CreateAccount&amp;returnto=Prime+Minister+of+France \"You are encouraged \n",
       "to create an account and log in; however, it is not mandatory\")\n",
       "* [Log in](/w/index.php?title=Special:UserLogin&amp;returnto=Prime+Minister+of+France \"You're encouraged to log in; \n",
       "however, it's not mandatory. [o]\")\n",
       "\n",
       "Pages for logged out editors [learn more](/wiki/Help:Introduction)\n",
       "\n",
       "* [Contributions](/wiki/Special:MyContributions \"A list of edits made from this IP address [y]\")\n",
       "* [Talk](/wiki/Special:MyTalk \"Discussion about edits from this IP address [n]\")\n",
       "\n",
       "Contents\n",
       "--------\n",
       "\n",
       "move to sidebar\n",
       "hide\n",
       "\n",
       "* [(Top)](#)\n",
       "* [1\n",
       "  Nomination](#Nomination)\n",
       "* [2\n",
       "  Role](#Role)\n",
       "* [3\n",
       "  History](#History)\n",
       "* [4\n",
       "  See also](#See_also)\n",
       "* [5\n",
       "  References](#References)\n",
       "* [6\n",
       "  External links](#External_links)\n",
       "\n",
       "Toggle the table of contents\n",
       "\n",
       "Prime Minister of France\n",
       "========================\n",
       "\n",
       "50 languages\n",
       "\n",
       "* \n",
       "[العربية](https://ar.wikipedia.org/wiki/%D8%B1%D8%A6%D9%8A%D8%B3_%D8%A7%D9%84%D9%88%D8%B2%D8%B1%D8%A7%D8%A1_%D8%A7%\n",
       "D9%84%D9%81%D8%B1%D9%86%D8%B3%D9%8A \"رئيس الوزراء الفرنسي – Arabic\")\n",
       "* [Aragonés](https://an.wikipedia.org/wiki/Primer_ministro_de_Francia \"Primer ministro de Francia – Aragonese\")\n",
       "* [Azərbaycanca](https://az.wikipedia.org/wiki/Fransa_Ba%C5%9F_naziri \"Fransa Baş naziri – Azerbaijani\")\n",
       "* \n",
       "[Беларуская](https://be.wikipedia.org/wiki/%D0%9F%D1%80%D1%8D%D0%BC%E2%80%99%D0%B5%D1%80-%D0%BC%D1%96%D0%BD%D1%96%D\n",
       "1%81%D1%82%D1%80_%D0%A4%D1%80%D0%B0%D0%BD%D1%86%D1%8B%D1%96 \"Прэм’ер-міністр Францыі – Belarusian\")\n",
       "* \n",
       "[Български](https://bg.wikipedia.org/wiki/%D0%9C%D0%B8%D0%BD%D0%B8%D1%81%D1%82%D1%8A%D1%80-%D0%BF%D1%80%D0%B5%D0%B4\n",
       "%D1%81%D0%B5%D0%B4%D0%B0%D1%82%D0%B5%D0%BB_%D0%BD%D0%B0_%D0%A4%D1%80%D0%B0%D0%BD%D1%86%D0%B8%D1%8F \n",
       "\"Министър-председател на Франция – Bulgarian\")\n",
       "* \n",
       "[བོད་ཡིག](https://bo.wikipedia.org/wiki/%E0%BD%A7%E0%BE%A5%E0%BC%8B%E0%BD%A2%E0%BD%93%E0%BC%8B%E0%BD%A6%E0%BD%B2%E0%B\n",
       "D%A0%E0%BD%B2%E0%BC%8B%E0%BD%96%E0%BD%80%E0%BD%A0%E0%BC%8B%E0%BD%96%E0%BE%B3%E0%BD%BC%E0%BD%93%E0%BC%8B%E0%BD%A0%E0\n",
       "%BD%82%E0%BD%BC%E0%BC%8B%E0%BD%82%E0%BD%99%E0%BD%BC%E0%BC%8D \"ཧྥ་རན་སིའི་བཀའ་བློན་འགོ་གཙོ། – Tibetan\")\n",
       "* [Bosanski](https://bs.wikipedia.org/wiki/Premijer_Francuske \"Premijer Francuske – Bosnian\")\n",
       "* [Brezhoneg](https://br.wikipedia.org/wiki/Kenta%C3%B1_Ministr_(Fra%C3%B1s) \"Kentañ Ministr (Frañs) – Breton\")\n",
       "* [Català](https://ca.wikipedia.org/wiki/Primer_ministre_de_Fran%C3%A7a \"Primer ministre de França – Catalan\")\n",
       "* [Čeština](https://cs.wikipedia.org/wiki/Premi%C3%A9r_Francie \"Premiér Francie – Czech\")\n",
       "* [Dansk](https://da.wikipedia.org/wiki/Frankrigs_premierminister \"Frankrigs premierminister – Danish\")\n",
       "* [Deutsch](https://de.wikipedia.org/wiki/Premierminister_der_Franz%C3%B6sischen_Republik \"Premierminister der \n",
       "Französischen Republik – German\")\n",
       "* [Eesti](https://et.wikipedia.org/wiki/Prantsusmaa_peaminister \"Prantsusmaa peaminister – Estonian\")\n",
       "* \n",
       "[Ελληνικά](https://el.wikipedia.org/wiki/%CE%A0%CF%81%CF%89%CE%B8%CF%85%CF%80%CE%BF%CF%85%CF%81%CE%B3%CF%8C%CF%82_%\n",
       "CF%84%CE%B7%CF%82_%CE%93%CE%B1%CE%BB%CE%BB%CE%AF%CE%B1%CF%82 \"Πρωθυπουργός της Γαλλίας – Greek\")\n",
       "* [Español](h\n",
       "..._This content has been truncated to stay below 10000 characters_...\n",
       "bakh Republic\") * [Nigeria](/wiki/Prime_Minister_of_Nigeria \"Prime Minister of Nigeria\") * \n",
       "[Philippines](/wiki/Prime_Minister_of_the_Philippines \"Prime Minister of the Philippines\") * \n",
       "[Seychelles](/wiki/Prime_Minister_of_Seychelles \"Prime Minister of Seychelles\") * [South \n",
       "Africa](/wiki/Prime_Minister_of_South_Africa \"Prime Minister of South Africa\") * \n",
       "[Turkey](/wiki/Prime_Minister_of_Turkey \"Prime Minister of Turkey\") * \n",
       "[Turkmenistan](/wiki/Prime_Minister_of_Turkmenistan \"Prime Minister of Turkmenistan\") * \n",
       "[Zambia](/wiki/Prime_Minister_of_Zambia \"Prime Minister of Zambia\") * [Zimbabwe](/wiki/Prime_Minister_of_Zimbabwe \n",
       "\"Prime Minister of Zimbabwe\") |\n",
       "\n",
       "| [Authority control databases](/wiki/Help:Authority_control \"Help:Authority control\") [Edit this at \n",
       "Wikidata](https://www.wikidata.org/wiki/Q1587677#identifiers \"Edit this at Wikidata\") | |\n",
       "| --- | --- |\n",
       "| International | * [ISNI](https://isni.org/isni/0000000123224339) * [VIAF](https://viaf.org/viaf/128543497)   + \n",
       "[2](https://viaf.org/viaf/160673169) |\n",
       "| National | * [United States](https://id.loc.gov/authorities/n80002441) * \n",
       "[France](https://catalogue.bnf.fr/ark:/12148/cb11864120s) * [BnF data](https://data.bnf.fr/ark:/12148/cb11864120s) \n",
       "* [Czech Republic](https://aleph.nkp.cz/F/?func=find-c&amp;local_base=aut&amp;ccl_term=ica=ko2010615320&amp;CON_LNG=ENG) * \n",
       "[Israel](https://www.nli.org.il/en/authorities/987007261105105171) |\n",
       "| Other | * [IdRef](https://www.idref.fr/026383136) |\n",
       "\n",
       "![](https://login.wikimedia.org/wiki/Special:CentralAutoLogin/start?useformat=desktop&amp;type=1x1&amp;usesul3=0)\n",
       "Retrieved from \"&lt;https://en.wikipedia.org/w/index.php?title=Prime_Minister_of_France&amp;oldid=1269811785&gt;\"\n",
       "[Categories](/wiki/Help:Category \"Help:Category\"):\n",
       "\n",
       "* [Prime ministers of France](/wiki/Category:Prime_ministers_of_France \"Category:Prime ministers of France\")\n",
       "* [1958 establishments in France](/wiki/Category:1958_establishments_in_France \"Category:1958 establishments in \n",
       "France\")\n",
       "Hidden categories:\n",
       "\n",
       "* [CS1 maint: multiple names: authors list](/wiki/Category:CS1_maint:_multiple_names:_authors_list \"Category:CS1 \n",
       "maint: multiple names: authors list\")\n",
       "* [CS1 French-language sources (fr)](/wiki/Category:CS1_French-language_sources_(fr) \"Category:CS1 French-language \n",
       "sources (fr)\")\n",
       "* [Articles with short description](/wiki/Category:Articles_with_short_description \"Category:Articles with short \n",
       "description\")\n",
       "* [Short description is different from Wikidata](/wiki/Category:Short_description_is_different_from_Wikidata \n",
       "\"Category:Short description is different from Wikidata\")\n",
       "* [Use dmy dates from December 2019](/wiki/Category:Use_dmy_dates_from_December_2019 \"Category:Use dmy dates from \n",
       "December 2019\")\n",
       "* [Articles containing French-language text](/wiki/Category:Articles_containing_French-language_text \n",
       "\"Category:Articles containing French-language text\")\n",
       "* [Articles containing Latin-language text](/wiki/Category:Articles_containing_Latin-language_text \n",
       "\"Category:Articles containing Latin-language text\")\n",
       "* [Official website different in Wikidata and \n",
       "Wikipedia](/wiki/Category:Official_website_different_in_Wikidata_and_Wikipedia \"Category:Official website different\n",
       "in Wikidata and Wikipedia\")\n",
       "\n",
       "* This page was last edited on 16 January 2025, at 14:44 (UTC).\n",
       "* Text is available under the [Creative Commons Attribution-ShareAlike 4.0 \n",
       "License](/wiki/Wikipedia:Text_of_the_Creative_Commons_Attribution-ShareAlike_4.0_International_License \n",
       "\"Wikipedia:Text of the Creative Commons Attribution-ShareAlike 4.0 International License\");\n",
       "  additional terms may apply. By using this site, you agree to the [Terms of \n",
       "Use](https://foundation.wikimedia.org/wiki/Special:MyLanguage/Policy:Terms_of_Use \n",
       "\"foundation:Special:MyLanguage/Policy:Terms of Use\") and [Privacy \n",
       "Policy](https://foundation.wikimedia.org/wiki/Special:MyLanguage/Policy:Privacy_policy \n",
       "\"foundation:Special:MyLanguage/Policy:Privacy policy\"). Wikipedia® is a registered trademark of the [Wikimedia \n",
       "Foundation, Inc.](https://wikimediafoundation.org/), a non-profit organization.\n",
       "\n",
       "* [Privacy policy](https://foundation.wikimedia.org/wiki/Special:MyLanguage/Policy:Privacy_policy)\n",
       "* [About Wikipedia](/wiki/Wikipedia:About)\n",
       "* [Disclaimers](/wiki/Wikipedia:General_disclaimer)\n",
       "* [Contact Wikipedia](//en.wikipedia.org/wiki/Wikipedia:Contact_us)\n",
       "* [Code of Conduct](https://foundation.wikimedia.org/wiki/Special:MyLanguage/Policy:Universal_Code_of_Conduct)\n",
       "* [Developers](https://developer.wikimedia.org)\n",
       "* [Statistics](https://stats.wikimedia.org/#/en.wikipedia.org)\n",
       "* [Cookie statement](https://foundation.wikimedia.org/wiki/Special:MyLanguage/Policy:Cookie_statement)\n",
       "* [Mobile view](//en.m.wikipedia.org/w/index.php?title=Prime_Minister_of_France&amp;mobileaction=toggle_view_mobile)\n",
       "\n",
       "* [![Wikimedia Foundation](/static/images/footer/wikimedia-button.svg)](https://wikimediafoundation.org/)\n",
       "* [![Powered by MediaWiki](/w/resources/assets/poweredby_mediawiki.svg)](https://www.mediawiki.org/)\n",
       "\n",
       "Search\n",
       "\n",
       "Search\n",
       "\n",
       "Toggle the table of contents\n",
       "\n",
       "Prime Minister of France\n",
       "\n",
       "50 languages\n",
       "\n",
       "[Add topic](#)\n",
       "</pre>\n"
      ],
      "text/plain": [
       "\u001b[1mExecution logs:\u001b[0m\n",
       "Prime Minister of France - Wikipedia\n",
       "\n",
       "[Jump to content](#bodyContent)\n",
       "\n",
       "Main menu\n",
       "\n",
       "Main menu\n",
       "move to sidebar\n",
       "hide\n",
       "\n",
       "Navigation\n",
       "\n",
       "* [Main page](/wiki/Main_Page \"Visit the main page [z]\")\n",
       "* [Contents](/wiki/Wikipedia:Contents \"Guides to browsing Wikipedia\")\n",
       "* [Current events](/wiki/Portal:Current_events \"Articles related to current events\")\n",
       "* [Random article](/wiki/Special:Random \"Visit a randomly selected article [x]\")\n",
       "* [About Wikipedia](/wiki/Wikipedia:About \"Learn about Wikipedia and how it works\")\n",
       "* [Contact us](//en.wikipedia.org/wiki/Wikipedia:Contact_us \"How to contact Wikipedia\")\n",
       "\n",
       "Contribute\n",
       "\n",
       "* [Help](/wiki/Help:Contents \"Guidance on how to use and edit Wikipedia\")\n",
       "* [Learn to edit](/wiki/Help:Introduction \"Learn how to edit Wikipedia\")\n",
       "* [Community portal](/wiki/Wikipedia:Community_portal \"The hub for editors\")\n",
       "* [Recent changes](/wiki/Special:RecentChanges \"A list of recent changes to Wikipedia [r]\")\n",
       "* [Upload file](/wiki/Wikipedia:File_upload_wizard \"Add images or other media for use on Wikipedia\")\n",
       "\n",
       "[![](/static/images/icons/wikipedia.png)\n",
       "![Wikipedia](/static/images/mobile/copyright/wikipedia-wordmark-en.svg)\n",
       "![The Free Encyclopedia](/static/images/mobile/copyright/wikipedia-tagline-en.svg)](/wiki/Main_Page)\n",
       "\n",
       "[Search](/wiki/Special:Search \"Search Wikipedia [f]\")\n",
       "\n",
       "Search\n",
       "\n",
       "Appearance\n",
       "\n",
       "* \n",
       "[Donate](https://donate.wikimedia.org/?wmf_source=donate&wmf_medium=sidebar&wmf_campaign=en.wikipedia.org&uselang=e\n",
       "n)\n",
       "* [Create account](/w/index.php?title=Special:CreateAccount&returnto=Prime+Minister+of+France \"You are encouraged \n",
       "to create an account and log in; however, it is not mandatory\")\n",
       "* [Log in](/w/index.php?title=Special:UserLogin&returnto=Prime+Minister+of+France \"You're encouraged to log in; \n",
       "however, it's not mandatory. [o]\")\n",
       "\n",
       "Personal tools\n",
       "\n",
       "* \n",
       "[Donate](https://donate.wikimedia.org/?wmf_source=donate&wmf_medium=sidebar&wmf_campaign=en.wikipedia.org&uselang=e\n",
       "n)\n",
       "* [Create account](/w/index.php?title=Special:CreateAccount&returnto=Prime+Minister+of+France \"You are encouraged \n",
       "to create an account and log in; however, it is not mandatory\")\n",
       "* [Log in](/w/index.php?title=Special:UserLogin&returnto=Prime+Minister+of+France \"You're encouraged to log in; \n",
       "however, it's not mandatory. [o]\")\n",
       "\n",
       "Pages for logged out editors [learn more](/wiki/Help:Introduction)\n",
       "\n",
       "* [Contributions](/wiki/Special:MyContributions \"A list of edits made from this IP address [y]\")\n",
       "* [Talk](/wiki/Special:MyTalk \"Discussion about edits from this IP address [n]\")\n",
       "\n",
       "Contents\n",
       "--------\n",
       "\n",
       "move to sidebar\n",
       "hide\n",
       "\n",
       "* [(Top)](#)\n",
       "* [1\n",
       "  Nomination](#Nomination)\n",
       "* [2\n",
       "  Role](#Role)\n",
       "* [3\n",
       "  History](#History)\n",
       "* [4\n",
       "  See also](#See_also)\n",
       "* [5\n",
       "  References](#References)\n",
       "* [6\n",
       "  External links](#External_links)\n",
       "\n",
       "Toggle the table of contents\n",
       "\n",
       "Prime Minister of France\n",
       "========================\n",
       "\n",
       "50 languages\n",
       "\n",
       "* \n",
       "[العربية](https://ar.wikipedia.org/wiki/%D8%B1%D8%A6%D9%8A%D8%B3_%D8%A7%D9%84%D9%88%D8%B2%D8%B1%D8%A7%D8%A1_%D8%A7%\n",
       "D9%84%D9%81%D8%B1%D9%86%D8%B3%D9%8A \"رئيس الوزراء الفرنسي – Arabic\")\n",
       "* [Aragonés](https://an.wikipedia.org/wiki/Primer_ministro_de_Francia \"Primer ministro de Francia – Aragonese\")\n",
       "* [Azərbaycanca](https://az.wikipedia.org/wiki/Fransa_Ba%C5%9F_naziri \"Fransa Baş naziri – Azerbaijani\")\n",
       "* \n",
       "[Беларуская](https://be.wikipedia.org/wiki/%D0%9F%D1%80%D1%8D%D0%BC%E2%80%99%D0%B5%D1%80-%D0%BC%D1%96%D0%BD%D1%96%D\n",
       "1%81%D1%82%D1%80_%D0%A4%D1%80%D0%B0%D0%BD%D1%86%D1%8B%D1%96 \"Прэм’ер-міністр Францыі – Belarusian\")\n",
       "* \n",
       "[Български](https://bg.wikipedia.org/wiki/%D0%9C%D0%B8%D0%BD%D0%B8%D1%81%D1%82%D1%8A%D1%80-%D0%BF%D1%80%D0%B5%D0%B4\n",
       "%D1%81%D0%B5%D0%B4%D0%B0%D1%82%D0%B5%D0%BB_%D0%BD%D0%B0_%D0%A4%D1%80%D0%B0%D0%BD%D1%86%D0%B8%D1%8F \n",
       "\"Министър-председател на Франция – Bulgarian\")\n",
       "* \n",
       "[བོད་ཡིག](https://bo.wikipedia.org/wiki/%E0%BD%A7%E0%BE%A5%E0%BC%8B%E0%BD%A2%E0%BD%93%E0%BC%8B%E0%BD%A6%E0%BD%B2%E0%B\n",
       "D%A0%E0%BD%B2%E0%BC%8B%E0%BD%96%E0%BD%80%E0%BD%A0%E0%BC%8B%E0%BD%96%E0%BE%B3%E0%BD%BC%E0%BD%93%E0%BC%8B%E0%BD%A0%E0\n",
       "%BD%82%E0%BD%BC%E0%BC%8B%E0%BD%82%E0%BD%99%E0%BD%BC%E0%BC%8D \"ཧྥ་རན་སིའི་བཀའ་བློན་འགོ་གཙོ། – Tibetan\")\n",
       "* [Bosanski](https://bs.wikipedia.org/wiki/Premijer_Francuske \"Premijer Francuske – Bosnian\")\n",
       "* [Brezhoneg](https://br.wikipedia.org/wiki/Kenta%C3%B1_Ministr_(Fra%C3%B1s) \"Kentañ Ministr (Frañs) – Breton\")\n",
       "* [Català](https://ca.wikipedia.org/wiki/Primer_ministre_de_Fran%C3%A7a \"Primer ministre de França – Catalan\")\n",
       "* [Čeština](https://cs.wikipedia.org/wiki/Premi%C3%A9r_Francie \"Premiér Francie – Czech\")\n",
       "* [Dansk](https://da.wikipedia.org/wiki/Frankrigs_premierminister \"Frankrigs premierminister – Danish\")\n",
       "* [Deutsch](https://de.wikipedia.org/wiki/Premierminister_der_Franz%C3%B6sischen_Republik \"Premierminister der \n",
       "Französischen Republik – German\")\n",
       "* [Eesti](https://et.wikipedia.org/wiki/Prantsusmaa_peaminister \"Prantsusmaa peaminister – Estonian\")\n",
       "* \n",
       "[Ελληνικά](https://el.wikipedia.org/wiki/%CE%A0%CF%81%CF%89%CE%B8%CF%85%CF%80%CE%BF%CF%85%CF%81%CE%B3%CF%8C%CF%82_%\n",
       "CF%84%CE%B7%CF%82_%CE%93%CE%B1%CE%BB%CE%BB%CE%AF%CE%B1%CF%82 \"Πρωθυπουργός της Γαλλίας – Greek\")\n",
       "* [Español](h\n",
       "..._This content has been truncated to stay below 10000 characters_...\n",
       "bakh Republic\") * [Nigeria](/wiki/Prime_Minister_of_Nigeria \"Prime Minister of Nigeria\") * \n",
       "[Philippines](/wiki/Prime_Minister_of_the_Philippines \"Prime Minister of the Philippines\") * \n",
       "[Seychelles](/wiki/Prime_Minister_of_Seychelles \"Prime Minister of Seychelles\") * [South \n",
       "Africa](/wiki/Prime_Minister_of_South_Africa \"Prime Minister of South Africa\") * \n",
       "[Turkey](/wiki/Prime_Minister_of_Turkey \"Prime Minister of Turkey\") * \n",
       "[Turkmenistan](/wiki/Prime_Minister_of_Turkmenistan \"Prime Minister of Turkmenistan\") * \n",
       "[Zambia](/wiki/Prime_Minister_of_Zambia \"Prime Minister of Zambia\") * [Zimbabwe](/wiki/Prime_Minister_of_Zimbabwe \n",
       "\"Prime Minister of Zimbabwe\") |\n",
       "\n",
       "| [Authority control databases](/wiki/Help:Authority_control \"Help:Authority control\") [Edit this at \n",
       "Wikidata](https://www.wikidata.org/wiki/Q1587677#identifiers \"Edit this at Wikidata\") | |\n",
       "| --- | --- |\n",
       "| International | * [ISNI](https://isni.org/isni/0000000123224339) * [VIAF](https://viaf.org/viaf/128543497)   + \n",
       "[2](https://viaf.org/viaf/160673169) |\n",
       "| National | * [United States](https://id.loc.gov/authorities/n80002441) * \n",
       "[France](https://catalogue.bnf.fr/ark:/12148/cb11864120s) * [BnF data](https://data.bnf.fr/ark:/12148/cb11864120s) \n",
       "* [Czech Republic](https://aleph.nkp.cz/F/?func=find-c&local_base=aut&ccl_term=ica=ko2010615320&CON_LNG=ENG) * \n",
       "[Israel](https://www.nli.org.il/en/authorities/987007261105105171) |\n",
       "| Other | * [IdRef](https://www.idref.fr/026383136) |\n",
       "\n",
       "![](https://login.wikimedia.org/wiki/Special:CentralAutoLogin/start?useformat=desktop&type=1x1&usesul3=0)\n",
       "Retrieved from \"<https://en.wikipedia.org/w/index.php?title=Prime_Minister_of_France&oldid=1269811785>\"\n",
       "[Categories](/wiki/Help:Category \"Help:Category\"):\n",
       "\n",
       "* [Prime ministers of France](/wiki/Category:Prime_ministers_of_France \"Category:Prime ministers of France\")\n",
       "* [1958 establishments in France](/wiki/Category:1958_establishments_in_France \"Category:1958 establishments in \n",
       "France\")\n",
       "Hidden categories:\n",
       "\n",
       "* [CS1 maint: multiple names: authors list](/wiki/Category:CS1_maint:_multiple_names:_authors_list \"Category:CS1 \n",
       "maint: multiple names: authors list\")\n",
       "* [CS1 French-language sources (fr)](/wiki/Category:CS1_French-language_sources_(fr) \"Category:CS1 French-language \n",
       "sources (fr)\")\n",
       "* [Articles with short description](/wiki/Category:Articles_with_short_description \"Category:Articles with short \n",
       "description\")\n",
       "* [Short description is different from Wikidata](/wiki/Category:Short_description_is_different_from_Wikidata \n",
       "\"Category:Short description is different from Wikidata\")\n",
       "* [Use dmy dates from December 2019](/wiki/Category:Use_dmy_dates_from_December_2019 \"Category:Use dmy dates from \n",
       "December 2019\")\n",
       "* [Articles containing French-language text](/wiki/Category:Articles_containing_French-language_text \n",
       "\"Category:Articles containing French-language text\")\n",
       "* [Articles containing Latin-language text](/wiki/Category:Articles_containing_Latin-language_text \n",
       "\"Category:Articles containing Latin-language text\")\n",
       "* [Official website different in Wikidata and \n",
       "Wikipedia](/wiki/Category:Official_website_different_in_Wikidata_and_Wikipedia \"Category:Official website different\n",
       "in Wikidata and Wikipedia\")\n",
       "\n",
       "* This page was last edited on 16 January 2025, at 14:44 (UTC).\n",
       "* Text is available under the [Creative Commons Attribution-ShareAlike 4.0 \n",
       "License](/wiki/Wikipedia:Text_of_the_Creative_Commons_Attribution-ShareAlike_4.0_International_License \n",
       "\"Wikipedia:Text of the Creative Commons Attribution-ShareAlike 4.0 International License\");\n",
       "  additional terms may apply. By using this site, you agree to the [Terms of \n",
       "Use](https://foundation.wikimedia.org/wiki/Special:MyLanguage/Policy:Terms_of_Use \n",
       "\"foundation:Special:MyLanguage/Policy:Terms of Use\") and [Privacy \n",
       "Policy](https://foundation.wikimedia.org/wiki/Special:MyLanguage/Policy:Privacy_policy \n",
       "\"foundation:Special:MyLanguage/Policy:Privacy policy\"). Wikipedia® is a registered trademark of the [Wikimedia \n",
       "Foundation, Inc.](https://wikimediafoundation.org/), a non-profit organization.\n",
       "\n",
       "* [Privacy policy](https://foundation.wikimedia.org/wiki/Special:MyLanguage/Policy:Privacy_policy)\n",
       "* [About Wikipedia](/wiki/Wikipedia:About)\n",
       "* [Disclaimers](/wiki/Wikipedia:General_disclaimer)\n",
       "* [Contact Wikipedia](//en.wikipedia.org/wiki/Wikipedia:Contact_us)\n",
       "* [Code of Conduct](https://foundation.wikimedia.org/wiki/Special:MyLanguage/Policy:Universal_Code_of_Conduct)\n",
       "* [Developers](https://developer.wikimedia.org)\n",
       "* [Statistics](https://stats.wikimedia.org/#/en.wikipedia.org)\n",
       "* [Cookie statement](https://foundation.wikimedia.org/wiki/Special:MyLanguage/Policy:Cookie_statement)\n",
       "* [Mobile view](//en.m.wikipedia.org/w/index.php?title=Prime_Minister_of_France&mobileaction=toggle_view_mobile)\n",
       "\n",
       "* [![Wikimedia Foundation](/static/images/footer/wikimedia-button.svg)](https://wikimediafoundation.org/)\n",
       "* [![Powered by MediaWiki](/w/resources/assets/poweredby_mediawiki.svg)](https://www.mediawiki.org/)\n",
       "\n",
       "Search\n",
       "\n",
       "Search\n",
       "\n",
       "Toggle the table of contents\n",
       "\n",
       "Prime Minister of France\n",
       "\n",
       "50 languages\n",
       "\n",
       "[Add topic](#)\n",
       "\n",
       "Out: Prime Minister of France - Wikipedia\n",
       "\n",
       "[Jump to content](#bodyContent)\n",
       "\n",
       "Main menu\n",
       "\n",
       "Main menu\n",
       "move to sidebar\n",
       "hide\n",
       "\n",
       "Navigation\n",
       "\n",
       "* [Main page](/wiki/Main_Page \"Visit the main page [z]\")\n",
       "* [Contents](/wiki/Wikipedia:Contents \"Guides to browsing Wikipedia\")\n",
       "* [Current events](/wiki/Portal:Current_events \"Articles related to current events\")\n",
       "* [Random article](/wiki/Special:Random \"Visit a randomly selected article [x]\")\n",
       "* [About Wikipedia](/wiki/Wikipedia:About \"Learn about Wikipedia and how it works\")\n",
       "* [Contact us](//en.wikipedia.org/wiki/Wikipedia:Contact_us \"How to contact Wikipedia\")\n",
       "\n",
       "Contribute\n",
       "\n",
       "* [Help](/wiki/Help:Contents \"Guidance on how to use and edit Wikipedia\")\n",
       "* [Learn to edit](/wiki/Help:Introduction \"Learn how to edit Wikipedia\")\n",
       "* [Community portal](/wiki/Wikipedia:Community_portal \"The hub for editors\")\n",
       "* [Recent changes](/wiki/Special:RecentChanges \"A list of recent changes to Wikipedia [r]\")\n",
       "* [Upload file](/wiki/Wikipedia:File_upload_wizard \"Add images or other media for use on Wikipedia\")\n",
       "\n",
       "[![](/static/images/icons/wikipedia.png)\n",
       "![Wikipedia](/static/images/mobile/copyright/wikipedia-wordmark-en.svg)\n",
       "![The Free Encyclopedia](/static/images/mobile/copyright/wikipedia-tagline-en.svg)](/wiki/Main_Page)\n",
       "\n",
       "[Search](/wiki/Special:Search \"Search Wikipedia [f]\")\n",
       "\n",
       "Search\n",
       "\n",
       "Appearance\n",
       "\n",
       "* \n",
       "[Donate](https://donate.wikimedia.org/?wmf_source=donate&wmf_medium=sidebar&wmf_campaign=en.wikipedia.org&uselang=e\n",
       "n)\n",
       "* [Create account](/w/index.php?title=Special:CreateAccount&returnto=Prime+Minister+of+France \"You are encouraged \n",
       "to create an account and log in; however, it is not mandatory\")\n",
       "* [Log in](/w/index.php?title=Special:UserLogin&returnto=Prime+Minister+of+France \"You're encouraged to log in; \n",
       "however, it's not mandatory. [o]\")\n",
       "\n",
       "Personal tools\n",
       "\n",
       "* \n",
       "[Donate](https://donate.wikimedia.org/?wmf_source=donate&wmf_medium=sidebar&wmf_campaign=en.wikipedia.org&uselang=e\n",
       "n)\n",
       "* [Create account](/w/index.php?title=Special:CreateAccount&returnto=Prime+Minister+of+France \"You are encouraged \n",
       "to create an account and log in; however, it is not mandatory\")\n",
       "* [Log in](/w/index.php?title=Special:UserLogin&returnto=Prime+Minister+of+France \"You're encouraged to log in; \n",
       "however, it's not mandatory. [o]\")\n",
       "\n",
       "Pages for logged out editors [learn more](/wiki/Help:Introduction)\n",
       "\n",
       "* [Contributions](/wiki/Special:MyContributions \"A list of edits made from this IP address [y]\")\n",
       "* [Talk](/wiki/Special:MyTalk \"Discussion about edits from this IP address [n]\")\n",
       "\n",
       "Contents\n",
       "--------\n",
       "\n",
       "move to sidebar\n",
       "hide\n",
       "\n",
       "* [(Top)](#)\n",
       "* [1\n",
       "  Nomination](#Nomination)\n",
       "* [2\n",
       "  Role](#Role)\n",
       "* [3\n",
       "  History](#History)\n",
       "* [4\n",
       "  See also](#See_also)\n",
       "* [5\n",
       "  References](#References)\n",
       "* [6\n",
       "  External links](#External_links)\n",
       "\n",
       "Toggle the table of contents\n",
       "\n",
       "Prime Minister of France\n",
       "========================\n",
       "\n",
       "50 languages\n",
       "\n",
       "* \n",
       "[العربية](https://ar.wikipedia.org/wiki/%D8%B1%D8%A6%D9%8A%D8%B3_%D8%A7%D9%84%D9%88%D8%B2%D8%B1%D8%A7%D8%A1_%D8%A7%\n",
       "D9%84%D9%81%D8%B1%D9%86%D8%B3%D9%8A \"رئيس الوزراء الفرنسي – Arabic\")\n",
       "* [Aragonés](https://an.wikipedia.org/wiki/Primer_ministro_de_Francia \"Primer ministro de Francia – Aragonese\")\n",
       "* [Azərbaycanca](https://az.wikipedia.org/wiki/Fransa_Ba%C5%9F_naziri \"Fransa Baş naziri – Azerbaijani\")\n",
       "* \n",
       "[Беларуская](https://be.wikipedia.org/wiki/%D0%9F%D1%80%D1%8D%D0%BC%E2%80%99%D0%B5%D1%80-%D0%BC%D1%96%D0%BD%D1%96%D\n",
       "1%81%D1%82%D1%80_%D0%A4%D1%80%D0%B0%D0%BD%D1%86%D1%8B%D1%96 \"Прэм’ер-міністр Францыі – Belarusian\")\n",
       "* \n",
       "[Български](https://bg.wikipedia.org/wiki/%D0%9C%D0%B8%D0%BD%D0%B8%D1%81%D1%82%D1%8A%D1%80-%D0%BF%D1%80%D0%B5%D0%B4\n",
       "%D1%81%D0%B5%D0%B4%D0%B0%D1%82%D0%B5%D0%BB_%D0%BD%D0%B0_%D0%A4%D1%80%D0%B0%D0%BD%D1%86%D0%B8%D1%8F \n",
       "\"Министър-председател на Франция – Bulgarian\")\n",
       "* \n",
       "[བོད་ཡིག](https://bo.wikipedia.org/wiki/%E0%BD%A7%E0%BE%A5%E0%BC%8B%E0%BD%A2%E0%BD%93%E0%BC%8B%E0%BD%A6%E0%BD%B2%E0%B\n",
       "D%A0%E0%BD%B2%E0%BC%8B%E0%BD%96%E0%BD%80%E0%BD%A0%E0%BC%8B%E0%BD%96%E0%BE%B3%E0%BD%BC%E0%BD%93%E0%BC%8B%E0%BD%A0%E0\n",
       "%BD%82%E0%BD%BC%E0%BC%8B%E0%BD%82%E0%BD%99%E0%BD%BC%E0%BC%8D \"ཧྥ་རན་སིའི་བཀའ་བློན་འགོ་གཙོ། – Tibetan\")\n",
       "* [Bosanski](https://bs.wikipedia.org/wiki/Premijer_Francuske \"Premijer Francuske – Bosnian\")\n",
       "* [Brezhoneg](https://br.wikipedia.org/wiki/Kenta%C3%B1_Ministr_(Fra%C3%B1s) \"Kentañ Ministr (Frañs) – Breton\")\n",
       "* [Català](https://ca.wikipedia.org/wiki/Primer_ministre_de_Fran%C3%A7a \"Primer ministre de França – Catalan\")\n",
       "* [Čeština](https://cs.wikipedia.org/wiki/Premi%C3%A9r_Francie \"Premiér Francie – Czech\")\n",
       "* [Dansk](https://da.wikipedia.org/wiki/Frankrigs_premierminister \"Frankrigs premierminister – Danish\")\n",
       "* [Deutsch](https://de.wikipedia.org/wiki/Premierminister_der_Franz%C3%B6sischen_Republik \"Premierminister der \n",
       "Französischen Republik – German\")\n",
       "* [Eesti](https://et.wikipedia.org/wiki/Prantsusmaa_peaminister \"Prantsusmaa peaminister – Estonian\")\n",
       "* \n",
       "[Ελληνικά](https://el.wikipedia.org/wiki/%CE%A0%CF%81%CF%89%CE%B8%CF%85%CF%80%CE%BF%CF%85%CF%81%CE%B3%CF%8C%CF%82_%\n",
       "CF%84%CE%B7%CF%82_%CE%93%CE%B1%CE%BB%CE%BB%CE%AF%CE%B1%CF%82 \"Πρωθυπουργός της Γαλλίας – Greek\")\n",
       "* [Español](h\n",
       "..._This content has been truncated to stay below 10000 characters_...\n",
       "bakh Republic\") * [Nigeria](/wiki/Prime_Minister_of_Nigeria \"Prime Minister of Nigeria\") * \n",
       "[Philippines](/wiki/Prime_Minister_of_the_Philippines \"Prime Minister of the Philippines\") * \n",
       "[Seychelles](/wiki/Prime_Minister_of_Seychelles \"Prime Minister of Seychelles\") * [South \n",
       "Africa](/wiki/Prime_Minister_of_South_Africa \"Prime Minister of South Africa\") * \n",
       "[Turkey](/wiki/Prime_Minister_of_Turkey \"Prime Minister of Turkey\") * \n",
       "[Turkmenistan](/wiki/Prime_Minister_of_Turkmenistan \"Prime Minister of Turkmenistan\") * \n",
       "[Zambia](/wiki/Prime_Minister_of_Zambia \"Prime Minister of Zambia\") * [Zimbabwe](/wiki/Prime_Minister_of_Zimbabwe \n",
       "\"Prime Minister of Zimbabwe\") |\n",
       "\n",
       "| [Authority control databases](/wiki/Help:Authority_control \"Help:Authority control\") [Edit this at \n",
       "Wikidata](https://www.wikidata.org/wiki/Q1587677#identifiers \"Edit this at Wikidata\") | |\n",
       "| --- | --- |\n",
       "| International | * [ISNI](https://isni.org/isni/0000000123224339) * [VIAF](https://viaf.org/viaf/128543497)   + \n",
       "[2](https://viaf.org/viaf/160673169) |\n",
       "| National | * [United States](https://id.loc.gov/authorities/n80002441) * \n",
       "[France](https://catalogue.bnf.fr/ark:/12148/cb11864120s) * [BnF data](https://data.bnf.fr/ark:/12148/cb11864120s) \n",
       "* [Czech Republic](https://aleph.nkp.cz/F/?func=find-c&local_base=aut&ccl_term=ica=ko2010615320&CON_LNG=ENG) * \n",
       "[Israel](https://www.nli.org.il/en/authorities/987007261105105171) |\n",
       "| Other | * [IdRef](https://www.idref.fr/026383136) |\n",
       "\n",
       "![](https://login.wikimedia.org/wiki/Special:CentralAutoLogin/start?useformat=desktop&type=1x1&usesul3=0)\n",
       "Retrieved from \"<https://en.wikipedia.org/w/index.php?title=Prime_Minister_of_France&oldid=1269811785>\"\n",
       "[Categories](/wiki/Help:Category \"Help:Category\"):\n",
       "\n",
       "* [Prime ministers of France](/wiki/Category:Prime_ministers_of_France \"Category:Prime ministers of France\")\n",
       "* [1958 establishments in France](/wiki/Category:1958_establishments_in_France \"Category:1958 establishments in \n",
       "France\")\n",
       "Hidden categories:\n",
       "\n",
       "* [CS1 maint: multiple names: authors list](/wiki/Category:CS1_maint:_multiple_names:_authors_list \"Category:CS1 \n",
       "maint: multiple names: authors list\")\n",
       "* [CS1 French-language sources (fr)](/wiki/Category:CS1_French-language_sources_(fr) \"Category:CS1 French-language \n",
       "sources (fr)\")\n",
       "* [Articles with short description](/wiki/Category:Articles_with_short_description \"Category:Articles with short \n",
       "description\")\n",
       "* [Short description is different from Wikidata](/wiki/Category:Short_description_is_different_from_Wikidata \n",
       "\"Category:Short description is different from Wikidata\")\n",
       "* [Use dmy dates from December 2019](/wiki/Category:Use_dmy_dates_from_December_2019 \"Category:Use dmy dates from \n",
       "December 2019\")\n",
       "* [Articles containing French-language text](/wiki/Category:Articles_containing_French-language_text \n",
       "\"Category:Articles containing French-language text\")\n",
       "* [Articles containing Latin-language text](/wiki/Category:Articles_containing_Latin-language_text \n",
       "\"Category:Articles containing Latin-language text\")\n",
       "* [Official website different in Wikidata and \n",
       "Wikipedia](/wiki/Category:Official_website_different_in_Wikidata_and_Wikipedia \"Category:Official website different\n",
       "in Wikidata and Wikipedia\")\n",
       "\n",
       "* This page was last edited on 16 January 2025, at 14:44 (UTC).\n",
       "* Text is available under the [Creative Commons Attribution-ShareAlike 4.0 \n",
       "License](/wiki/Wikipedia:Text_of_the_Creative_Commons_Attribution-ShareAlike_4.0_International_License \n",
       "\"Wikipedia:Text of the Creative Commons Attribution-ShareAlike 4.0 International License\");\n",
       "  additional terms may apply. By using this site, you agree to the [Terms of \n",
       "Use](https://foundation.wikimedia.org/wiki/Special:MyLanguage/Policy:Terms_of_Use \n",
       "\"foundation:Special:MyLanguage/Policy:Terms of Use\") and [Privacy \n",
       "Policy](https://foundation.wikimedia.org/wiki/Special:MyLanguage/Policy:Privacy_policy \n",
       "\"foundation:Special:MyLanguage/Policy:Privacy policy\"). Wikipedia® is a registered trademark of the [Wikimedia \n",
       "Foundation, Inc.](https://wikimediafoundation.org/), a non-profit organization.\n",
       "\n",
       "* [Privacy policy](https://foundation.wikimedia.org/wiki/Special:MyLanguage/Policy:Privacy_policy)\n",
       "* [About Wikipedia](/wiki/Wikipedia:About)\n",
       "* [Disclaimers](/wiki/Wikipedia:General_disclaimer)\n",
       "* [Contact Wikipedia](//en.wikipedia.org/wiki/Wikipedia:Contact_us)\n",
       "* [Code of Conduct](https://foundation.wikimedia.org/wiki/Special:MyLanguage/Policy:Universal_Code_of_Conduct)\n",
       "* [Developers](https://developer.wikimedia.org)\n",
       "* [Statistics](https://stats.wikimedia.org/#/en.wikipedia.org)\n",
       "* [Cookie statement](https://foundation.wikimedia.org/wiki/Special:MyLanguage/Policy:Cookie_statement)\n",
       "* [Mobile view](//en.m.wikipedia.org/w/index.php?title=Prime_Minister_of_France&mobileaction=toggle_view_mobile)\n",
       "\n",
       "* [![Wikimedia Foundation](/static/images/footer/wikimedia-button.svg)](https://wikimediafoundation.org/)\n",
       "* [![Powered by MediaWiki](/w/resources/assets/poweredby_mediawiki.svg)](https://www.mediawiki.org/)\n",
       "\n",
       "Search\n",
       "\n",
       "Search\n",
       "\n",
       "Toggle the table of contents\n",
       "\n",
       "Prime Minister of France\n",
       "\n",
       "50 languages\n",
       "\n",
       "[Add topic](#)\n"
      ]
     },
     "metadata": {},
     "output_type": "display_data"
    },
    {
     "data": {
      "text/html": [
       "<pre style=\"white-space:pre;overflow-x:auto;line-height:normal;font-family:Menlo,'DejaVu Sans Mono',consolas,'Courier New',monospace\"><span style=\"color: #7f7f7f; text-decoration-color: #7f7f7f\">[Step 2: Duration 3.31 seconds| Input tokens: 9,764 | Output tokens: 311]</span>\n",
       "</pre>\n"
      ],
      "text/plain": [
       "\u001b[2m[Step 2: Duration 3.31 seconds| Input tokens: 9,764 | Output tokens: 311]\u001b[0m\n"
      ]
     },
     "metadata": {},
     "output_type": "display_data"
    },
    {
     "data": {
      "text/html": [
       "<pre style=\"white-space:pre;overflow-x:auto;line-height:normal;font-family:Menlo,'DejaVu Sans Mono',consolas,'Courier New',monospace\"><span style=\"color: #d4b702; text-decoration-color: #d4b702\">━━━━━━━━━━━━━━━━━━━━━━━━━━━━━━━━━━━━━━━━━━━━━━━━━━━━━ </span><span style=\"font-weight: bold\">Step </span><span style=\"color: #008080; text-decoration-color: #008080; font-weight: bold\">3</span><span style=\"color: #d4b702; text-decoration-color: #d4b702\"> ━━━━━━━━━━━━━━━━━━━━━━━━━━━━━━━━━━━━━━━━━━━━━━━━━━━━━━</span>\n",
       "</pre>\n"
      ],
      "text/plain": [
       "\u001b[38;2;212;183;2m━━━━━━━━━━━━━━━━━━━━━━━━━━━━━━━━━━━━━━━━━━━━━━━━━━━━━ \u001b[0m\u001b[1mStep \u001b[0m\u001b[1;36m3\u001b[0m\u001b[38;2;212;183;2m ━━━━━━━━━━━━━━━━━━━━━━━━━━━━━━━━━━━━━━━━━━━━━━━━━━━━━━\u001b[0m\n"
      ]
     },
     "metadata": {},
     "output_type": "display_data"
    },
    {
     "data": {
      "text/html": [
       "<pre style=\"white-space:pre;overflow-x:auto;line-height:normal;font-family:Menlo,'DejaVu Sans Mono',consolas,'Courier New',monospace\"> ─ <span style=\"font-weight: bold\">Executing this code:</span> ────────────────────────────────────────────────────────────────────────────────────────── \n",
       "  <span style=\"color: #959077; text-decoration-color: #959077; background-color: #272822\"># Searching for the name of the Prime Minister within the content.</span><span style=\"background-color: #272822\">                                             </span>  \n",
       "  <span style=\"color: #ff4689; text-decoration-color: #ff4689; background-color: #272822\">import</span><span style=\"color: #f8f8f2; text-decoration-color: #f8f8f2; background-color: #272822\"> re</span><span style=\"background-color: #272822\">                                                                                                      </span>  \n",
       "  <span style=\"background-color: #272822\">                                                                                                               </span>  \n",
       "  <span style=\"color: #959077; text-decoration-color: #959077; background-color: #272822\"># Use a regular expression to find the name of the current Prime Minister</span><span style=\"background-color: #272822\">                                      </span>  \n",
       "  <span style=\"color: #f8f8f2; text-decoration-color: #f8f8f2; background-color: #272822\">pattern </span><span style=\"color: #ff4689; text-decoration-color: #ff4689; background-color: #272822\">=</span><span style=\"color: #f8f8f2; text-decoration-color: #f8f8f2; background-color: #272822\"> </span><span style=\"color: #e6db74; text-decoration-color: #e6db74; background-color: #272822\">r\"current prime minister of France is ([A-Za-z\\s]+)\"</span><span style=\"background-color: #272822\">                                                 </span>  \n",
       "  <span style=\"color: #f8f8f2; text-decoration-color: #f8f8f2; background-color: #272822\">match </span><span style=\"color: #ff4689; text-decoration-color: #ff4689; background-color: #272822\">=</span><span style=\"color: #f8f8f2; text-decoration-color: #f8f8f2; background-color: #272822\"> re</span><span style=\"color: #ff4689; text-decoration-color: #ff4689; background-color: #272822\">.</span><span style=\"color: #f8f8f2; text-decoration-color: #f8f8f2; background-color: #272822\">search(pattern, content, re</span><span style=\"color: #ff4689; text-decoration-color: #ff4689; background-color: #272822\">.</span><span style=\"color: #f8f8f2; text-decoration-color: #f8f8f2; background-color: #272822\">IGNORECASE)</span><span style=\"background-color: #272822\">                                                             </span>  \n",
       "  <span style=\"background-color: #272822\">                                                                                                               </span>  \n",
       "  <span style=\"color: #66d9ef; text-decoration-color: #66d9ef; background-color: #272822\">if</span><span style=\"color: #f8f8f2; text-decoration-color: #f8f8f2; background-color: #272822\"> match:</span><span style=\"background-color: #272822\">                                                                                                      </span>  \n",
       "  <span style=\"color: #f8f8f2; text-decoration-color: #f8f8f2; background-color: #272822\">    current_prime_minister </span><span style=\"color: #ff4689; text-decoration-color: #ff4689; background-color: #272822\">=</span><span style=\"color: #f8f8f2; text-decoration-color: #f8f8f2; background-color: #272822\"> match</span><span style=\"color: #ff4689; text-decoration-color: #ff4689; background-color: #272822\">.</span><span style=\"color: #f8f8f2; text-decoration-color: #f8f8f2; background-color: #272822\">group(</span><span style=\"color: #ae81ff; text-decoration-color: #ae81ff; background-color: #272822\">1</span><span style=\"color: #f8f8f2; text-decoration-color: #f8f8f2; background-color: #272822\">)</span><span style=\"background-color: #272822\">                                                                    </span>  \n",
       "  <span style=\"color: #f8f8f2; text-decoration-color: #f8f8f2; background-color: #272822\">    print(</span><span style=\"color: #e6db74; text-decoration-color: #e6db74; background-color: #272822\">f\"The current Prime Minister of France is: {</span><span style=\"color: #f8f8f2; text-decoration-color: #f8f8f2; background-color: #272822\">current_prime_minister</span><span style=\"color: #e6db74; text-decoration-color: #e6db74; background-color: #272822\">}\"</span><span style=\"color: #f8f8f2; text-decoration-color: #f8f8f2; background-color: #272822\">)</span><span style=\"background-color: #272822\">                                </span>  \n",
       "  <span style=\"color: #66d9ef; text-decoration-color: #66d9ef; background-color: #272822\">else</span><span style=\"color: #f8f8f2; text-decoration-color: #f8f8f2; background-color: #272822\">:</span><span style=\"background-color: #272822\">                                                                                                          </span>  \n",
       "  <span style=\"color: #f8f8f2; text-decoration-color: #f8f8f2; background-color: #272822\">    print(</span><span style=\"color: #e6db74; text-decoration-color: #e6db74; background-color: #272822\">\"Current Prime Minister information not found.\"</span><span style=\"color: #f8f8f2; text-decoration-color: #f8f8f2; background-color: #272822\">)</span><span style=\"background-color: #272822\">                                                     </span>  \n",
       " ───────────────────────────────────────────────────────────────────────────────────────────────────────────────── \n",
       "</pre>\n"
      ],
      "text/plain": [
       " ─ \u001b[1mExecuting this code:\u001b[0m ────────────────────────────────────────────────────────────────────────────────────────── \n",
       "  \u001b[38;2;149;144;119;48;2;39;40;34m# Searching for the name of the Prime Minister within the content.\u001b[0m\u001b[48;2;39;40;34m                                             \u001b[0m  \n",
       "  \u001b[38;2;255;70;137;48;2;39;40;34mimport\u001b[0m\u001b[38;2;248;248;242;48;2;39;40;34m \u001b[0m\u001b[38;2;248;248;242;48;2;39;40;34mre\u001b[0m\u001b[48;2;39;40;34m                                                                                                      \u001b[0m  \n",
       "  \u001b[48;2;39;40;34m                                                                                                               \u001b[0m  \n",
       "  \u001b[38;2;149;144;119;48;2;39;40;34m# Use a regular expression to find the name of the current Prime Minister\u001b[0m\u001b[48;2;39;40;34m                                      \u001b[0m  \n",
       "  \u001b[38;2;248;248;242;48;2;39;40;34mpattern\u001b[0m\u001b[38;2;248;248;242;48;2;39;40;34m \u001b[0m\u001b[38;2;255;70;137;48;2;39;40;34m=\u001b[0m\u001b[38;2;248;248;242;48;2;39;40;34m \u001b[0m\u001b[38;2;230;219;116;48;2;39;40;34mr\u001b[0m\u001b[38;2;230;219;116;48;2;39;40;34m\"\u001b[0m\u001b[38;2;230;219;116;48;2;39;40;34mcurrent prime minister of France is ([A-Za-z\u001b[0m\u001b[38;2;230;219;116;48;2;39;40;34m\\\u001b[0m\u001b[38;2;230;219;116;48;2;39;40;34ms]+)\u001b[0m\u001b[38;2;230;219;116;48;2;39;40;34m\"\u001b[0m\u001b[48;2;39;40;34m                                                 \u001b[0m  \n",
       "  \u001b[38;2;248;248;242;48;2;39;40;34mmatch\u001b[0m\u001b[38;2;248;248;242;48;2;39;40;34m \u001b[0m\u001b[38;2;255;70;137;48;2;39;40;34m=\u001b[0m\u001b[38;2;248;248;242;48;2;39;40;34m \u001b[0m\u001b[38;2;248;248;242;48;2;39;40;34mre\u001b[0m\u001b[38;2;255;70;137;48;2;39;40;34m.\u001b[0m\u001b[38;2;248;248;242;48;2;39;40;34msearch\u001b[0m\u001b[38;2;248;248;242;48;2;39;40;34m(\u001b[0m\u001b[38;2;248;248;242;48;2;39;40;34mpattern\u001b[0m\u001b[38;2;248;248;242;48;2;39;40;34m,\u001b[0m\u001b[38;2;248;248;242;48;2;39;40;34m \u001b[0m\u001b[38;2;248;248;242;48;2;39;40;34mcontent\u001b[0m\u001b[38;2;248;248;242;48;2;39;40;34m,\u001b[0m\u001b[38;2;248;248;242;48;2;39;40;34m \u001b[0m\u001b[38;2;248;248;242;48;2;39;40;34mre\u001b[0m\u001b[38;2;255;70;137;48;2;39;40;34m.\u001b[0m\u001b[38;2;248;248;242;48;2;39;40;34mIGNORECASE\u001b[0m\u001b[38;2;248;248;242;48;2;39;40;34m)\u001b[0m\u001b[48;2;39;40;34m                                                             \u001b[0m  \n",
       "  \u001b[48;2;39;40;34m                                                                                                               \u001b[0m  \n",
       "  \u001b[38;2;102;217;239;48;2;39;40;34mif\u001b[0m\u001b[38;2;248;248;242;48;2;39;40;34m \u001b[0m\u001b[38;2;248;248;242;48;2;39;40;34mmatch\u001b[0m\u001b[38;2;248;248;242;48;2;39;40;34m:\u001b[0m\u001b[48;2;39;40;34m                                                                                                      \u001b[0m  \n",
       "  \u001b[38;2;248;248;242;48;2;39;40;34m    \u001b[0m\u001b[38;2;248;248;242;48;2;39;40;34mcurrent_prime_minister\u001b[0m\u001b[38;2;248;248;242;48;2;39;40;34m \u001b[0m\u001b[38;2;255;70;137;48;2;39;40;34m=\u001b[0m\u001b[38;2;248;248;242;48;2;39;40;34m \u001b[0m\u001b[38;2;248;248;242;48;2;39;40;34mmatch\u001b[0m\u001b[38;2;255;70;137;48;2;39;40;34m.\u001b[0m\u001b[38;2;248;248;242;48;2;39;40;34mgroup\u001b[0m\u001b[38;2;248;248;242;48;2;39;40;34m(\u001b[0m\u001b[38;2;174;129;255;48;2;39;40;34m1\u001b[0m\u001b[38;2;248;248;242;48;2;39;40;34m)\u001b[0m\u001b[48;2;39;40;34m                                                                    \u001b[0m  \n",
       "  \u001b[38;2;248;248;242;48;2;39;40;34m    \u001b[0m\u001b[38;2;248;248;242;48;2;39;40;34mprint\u001b[0m\u001b[38;2;248;248;242;48;2;39;40;34m(\u001b[0m\u001b[38;2;230;219;116;48;2;39;40;34mf\u001b[0m\u001b[38;2;230;219;116;48;2;39;40;34m\"\u001b[0m\u001b[38;2;230;219;116;48;2;39;40;34mThe current Prime Minister of France is: \u001b[0m\u001b[38;2;230;219;116;48;2;39;40;34m{\u001b[0m\u001b[38;2;248;248;242;48;2;39;40;34mcurrent_prime_minister\u001b[0m\u001b[38;2;230;219;116;48;2;39;40;34m}\u001b[0m\u001b[38;2;230;219;116;48;2;39;40;34m\"\u001b[0m\u001b[38;2;248;248;242;48;2;39;40;34m)\u001b[0m\u001b[48;2;39;40;34m                                \u001b[0m  \n",
       "  \u001b[38;2;102;217;239;48;2;39;40;34melse\u001b[0m\u001b[38;2;248;248;242;48;2;39;40;34m:\u001b[0m\u001b[48;2;39;40;34m                                                                                                          \u001b[0m  \n",
       "  \u001b[38;2;248;248;242;48;2;39;40;34m    \u001b[0m\u001b[38;2;248;248;242;48;2;39;40;34mprint\u001b[0m\u001b[38;2;248;248;242;48;2;39;40;34m(\u001b[0m\u001b[38;2;230;219;116;48;2;39;40;34m\"\u001b[0m\u001b[38;2;230;219;116;48;2;39;40;34mCurrent Prime Minister information not found.\u001b[0m\u001b[38;2;230;219;116;48;2;39;40;34m\"\u001b[0m\u001b[38;2;248;248;242;48;2;39;40;34m)\u001b[0m\u001b[48;2;39;40;34m                                                     \u001b[0m  \n",
       " ───────────────────────────────────────────────────────────────────────────────────────────────────────────────── \n"
      ]
     },
     "metadata": {},
     "output_type": "display_data"
    },
    {
     "data": {
      "text/html": [
       "<pre style=\"white-space:pre;overflow-x:auto;line-height:normal;font-family:Menlo,'DejaVu Sans Mono',consolas,'Courier New',monospace\"><span style=\"font-weight: bold\">Execution logs:</span>\n",
       "Current Prime Minister information not found.\n",
       "\n",
       "Out: None\n",
       "</pre>\n"
      ],
      "text/plain": [
       "\u001b[1mExecution logs:\u001b[0m\n",
       "Current Prime Minister information not found.\n",
       "\n",
       "Out: None\n"
      ]
     },
     "metadata": {},
     "output_type": "display_data"
    },
    {
     "data": {
      "text/html": [
       "<pre style=\"white-space:pre;overflow-x:auto;line-height:normal;font-family:Menlo,'DejaVu Sans Mono',consolas,'Courier New',monospace\"><span style=\"color: #7f7f7f; text-decoration-color: #7f7f7f\">[Step 3: Duration 4.26 seconds| Input tokens: 21,765 | Output tokens: 481]</span>\n",
       "</pre>\n"
      ],
      "text/plain": [
       "\u001b[2m[Step 3: Duration 4.26 seconds| Input tokens: 21,765 | Output tokens: 481]\u001b[0m\n"
      ]
     },
     "metadata": {},
     "output_type": "display_data"
    },
    {
     "data": {
      "text/html": [
       "<pre style=\"white-space:pre;overflow-x:auto;line-height:normal;font-family:Menlo,'DejaVu Sans Mono',consolas,'Courier New',monospace\"><span style=\"color: #d4b702; text-decoration-color: #d4b702\">━━━━━━━━━━━━━━━━━━━━━━━━━━━━━━━━━━━━━━━━━━━━━━━━━━━━━ </span><span style=\"font-weight: bold\">Step </span><span style=\"color: #008080; text-decoration-color: #008080; font-weight: bold\">4</span><span style=\"color: #d4b702; text-decoration-color: #d4b702\"> ━━━━━━━━━━━━━━━━━━━━━━━━━━━━━━━━━━━━━━━━━━━━━━━━━━━━━━</span>\n",
       "</pre>\n"
      ],
      "text/plain": [
       "\u001b[38;2;212;183;2m━━━━━━━━━━━━━━━━━━━━━━━━━━━━━━━━━━━━━━━━━━━━━━━━━━━━━ \u001b[0m\u001b[1mStep \u001b[0m\u001b[1;36m4\u001b[0m\u001b[38;2;212;183;2m ━━━━━━━━━━━━━━━━━━━━━━━━━━━━━━━━━━━━━━━━━━━━━━━━━━━━━━\u001b[0m\n"
      ]
     },
     "metadata": {},
     "output_type": "display_data"
    },
    {
     "data": {
      "text/html": [
       "<pre style=\"white-space:pre;overflow-x:auto;line-height:normal;font-family:Menlo,'DejaVu Sans Mono',consolas,'Courier New',monospace\"> ─ <span style=\"font-weight: bold\">Executing this code:</span> ────────────────────────────────────────────────────────────────────────────────────────── \n",
       "  <span style=\"color: #959077; text-decoration-color: #959077; background-color: #272822\"># Manually searching for 'Prime Minister' and 'is' phrases to find the name</span><span style=\"background-color: #272822\">                                    </span>  \n",
       "  <span style=\"color: #f8f8f2; text-decoration-color: #f8f8f2; background-color: #272822\">lines </span><span style=\"color: #ff4689; text-decoration-color: #ff4689; background-color: #272822\">=</span><span style=\"color: #f8f8f2; text-decoration-color: #f8f8f2; background-color: #272822\"> content</span><span style=\"color: #ff4689; text-decoration-color: #ff4689; background-color: #272822\">.</span><span style=\"color: #f8f8f2; text-decoration-color: #f8f8f2; background-color: #272822\">split(</span><span style=\"color: #e6db74; text-decoration-color: #e6db74; background-color: #272822\">'</span><span style=\"color: #ae81ff; text-decoration-color: #ae81ff; background-color: #272822\">\\n</span><span style=\"color: #e6db74; text-decoration-color: #e6db74; background-color: #272822\">'</span><span style=\"color: #f8f8f2; text-decoration-color: #f8f8f2; background-color: #272822\">)</span><span style=\"background-color: #272822\">                                                                                    </span>  \n",
       "  <span style=\"color: #66d9ef; text-decoration-color: #66d9ef; background-color: #272822\">for</span><span style=\"color: #f8f8f2; text-decoration-color: #f8f8f2; background-color: #272822\"> line </span><span style=\"color: #ff4689; text-decoration-color: #ff4689; background-color: #272822\">in</span><span style=\"color: #f8f8f2; text-decoration-color: #f8f8f2; background-color: #272822\"> lines:</span><span style=\"background-color: #272822\">                                                                                             </span>  \n",
       "  <span style=\"color: #f8f8f2; text-decoration-color: #f8f8f2; background-color: #272822\">    </span><span style=\"color: #66d9ef; text-decoration-color: #66d9ef; background-color: #272822\">if</span><span style=\"color: #f8f8f2; text-decoration-color: #f8f8f2; background-color: #272822\"> </span><span style=\"color: #e6db74; text-decoration-color: #e6db74; background-color: #272822\">'Prime Minister'</span><span style=\"color: #f8f8f2; text-decoration-color: #f8f8f2; background-color: #272822\"> </span><span style=\"color: #ff4689; text-decoration-color: #ff4689; background-color: #272822\">in</span><span style=\"color: #f8f8f2; text-decoration-color: #f8f8f2; background-color: #272822\"> line </span><span style=\"color: #ff4689; text-decoration-color: #ff4689; background-color: #272822\">and</span><span style=\"color: #f8f8f2; text-decoration-color: #f8f8f2; background-color: #272822\"> </span><span style=\"color: #e6db74; text-decoration-color: #e6db74; background-color: #272822\">'is'</span><span style=\"color: #f8f8f2; text-decoration-color: #f8f8f2; background-color: #272822\"> </span><span style=\"color: #ff4689; text-decoration-color: #ff4689; background-color: #272822\">in</span><span style=\"color: #f8f8f2; text-decoration-color: #f8f8f2; background-color: #272822\"> line:</span><span style=\"background-color: #272822\">                                                              </span>  \n",
       "  <span style=\"color: #f8f8f2; text-decoration-color: #f8f8f2; background-color: #272822\">        print(line</span><span style=\"color: #ff4689; text-decoration-color: #ff4689; background-color: #272822\">.</span><span style=\"color: #f8f8f2; text-decoration-color: #f8f8f2; background-color: #272822\">strip())  </span><span style=\"color: #959077; text-decoration-color: #959077; background-color: #272822\"># Print the line containing the information</span><span style=\"background-color: #272822\">                                       </span>  \n",
       " ───────────────────────────────────────────────────────────────────────────────────────────────────────────────── \n",
       "</pre>\n"
      ],
      "text/plain": [
       " ─ \u001b[1mExecuting this code:\u001b[0m ────────────────────────────────────────────────────────────────────────────────────────── \n",
       "  \u001b[38;2;149;144;119;48;2;39;40;34m# Manually searching for 'Prime Minister' and 'is' phrases to find the name\u001b[0m\u001b[48;2;39;40;34m                                    \u001b[0m  \n",
       "  \u001b[38;2;248;248;242;48;2;39;40;34mlines\u001b[0m\u001b[38;2;248;248;242;48;2;39;40;34m \u001b[0m\u001b[38;2;255;70;137;48;2;39;40;34m=\u001b[0m\u001b[38;2;248;248;242;48;2;39;40;34m \u001b[0m\u001b[38;2;248;248;242;48;2;39;40;34mcontent\u001b[0m\u001b[38;2;255;70;137;48;2;39;40;34m.\u001b[0m\u001b[38;2;248;248;242;48;2;39;40;34msplit\u001b[0m\u001b[38;2;248;248;242;48;2;39;40;34m(\u001b[0m\u001b[38;2;230;219;116;48;2;39;40;34m'\u001b[0m\u001b[38;2;174;129;255;48;2;39;40;34m\\n\u001b[0m\u001b[38;2;230;219;116;48;2;39;40;34m'\u001b[0m\u001b[38;2;248;248;242;48;2;39;40;34m)\u001b[0m\u001b[48;2;39;40;34m                                                                                    \u001b[0m  \n",
       "  \u001b[38;2;102;217;239;48;2;39;40;34mfor\u001b[0m\u001b[38;2;248;248;242;48;2;39;40;34m \u001b[0m\u001b[38;2;248;248;242;48;2;39;40;34mline\u001b[0m\u001b[38;2;248;248;242;48;2;39;40;34m \u001b[0m\u001b[38;2;255;70;137;48;2;39;40;34min\u001b[0m\u001b[38;2;248;248;242;48;2;39;40;34m \u001b[0m\u001b[38;2;248;248;242;48;2;39;40;34mlines\u001b[0m\u001b[38;2;248;248;242;48;2;39;40;34m:\u001b[0m\u001b[48;2;39;40;34m                                                                                             \u001b[0m  \n",
       "  \u001b[38;2;248;248;242;48;2;39;40;34m    \u001b[0m\u001b[38;2;102;217;239;48;2;39;40;34mif\u001b[0m\u001b[38;2;248;248;242;48;2;39;40;34m \u001b[0m\u001b[38;2;230;219;116;48;2;39;40;34m'\u001b[0m\u001b[38;2;230;219;116;48;2;39;40;34mPrime Minister\u001b[0m\u001b[38;2;230;219;116;48;2;39;40;34m'\u001b[0m\u001b[38;2;248;248;242;48;2;39;40;34m \u001b[0m\u001b[38;2;255;70;137;48;2;39;40;34min\u001b[0m\u001b[38;2;248;248;242;48;2;39;40;34m \u001b[0m\u001b[38;2;248;248;242;48;2;39;40;34mline\u001b[0m\u001b[38;2;248;248;242;48;2;39;40;34m \u001b[0m\u001b[38;2;255;70;137;48;2;39;40;34mand\u001b[0m\u001b[38;2;248;248;242;48;2;39;40;34m \u001b[0m\u001b[38;2;230;219;116;48;2;39;40;34m'\u001b[0m\u001b[38;2;230;219;116;48;2;39;40;34mis\u001b[0m\u001b[38;2;230;219;116;48;2;39;40;34m'\u001b[0m\u001b[38;2;248;248;242;48;2;39;40;34m \u001b[0m\u001b[38;2;255;70;137;48;2;39;40;34min\u001b[0m\u001b[38;2;248;248;242;48;2;39;40;34m \u001b[0m\u001b[38;2;248;248;242;48;2;39;40;34mline\u001b[0m\u001b[38;2;248;248;242;48;2;39;40;34m:\u001b[0m\u001b[48;2;39;40;34m                                                              \u001b[0m  \n",
       "  \u001b[38;2;248;248;242;48;2;39;40;34m        \u001b[0m\u001b[38;2;248;248;242;48;2;39;40;34mprint\u001b[0m\u001b[38;2;248;248;242;48;2;39;40;34m(\u001b[0m\u001b[38;2;248;248;242;48;2;39;40;34mline\u001b[0m\u001b[38;2;255;70;137;48;2;39;40;34m.\u001b[0m\u001b[38;2;248;248;242;48;2;39;40;34mstrip\u001b[0m\u001b[38;2;248;248;242;48;2;39;40;34m(\u001b[0m\u001b[38;2;248;248;242;48;2;39;40;34m)\u001b[0m\u001b[38;2;248;248;242;48;2;39;40;34m)\u001b[0m\u001b[38;2;248;248;242;48;2;39;40;34m  \u001b[0m\u001b[38;2;149;144;119;48;2;39;40;34m# Print the line containing the information\u001b[0m\u001b[48;2;39;40;34m                                       \u001b[0m  \n",
       " ───────────────────────────────────────────────────────────────────────────────────────────────────────────────── \n"
      ]
     },
     "metadata": {},
     "output_type": "display_data"
    },
    {
     "data": {
      "text/html": [
       "<pre style=\"white-space:pre;overflow-x:auto;line-height:normal;font-family:Menlo,'DejaVu Sans Mono',consolas,'Courier New',monospace\"><span style=\"font-weight: bold\">Execution logs:</span>\n",
       "Prime Minister of France - Wikipedia\n",
       "Prime Minister of France\n",
       "bakh Republic\") * [Nigeria](/wiki/Prime_Minister_of_Nigeria \"Prime Minister of Nigeria\") * \n",
       "[Philippines](/wiki/Prime_Minister_of_the_Philippines \"Prime Minister of the Philippines\") * \n",
       "[Seychelles](/wiki/Prime_Minister_of_Seychelles \"Prime Minister of Seychelles\") * [South \n",
       "Africa](/wiki/Prime_Minister_of_South_Africa \"Prime Minister of South Africa\") * \n",
       "[Turkey](/wiki/Prime_Minister_of_Turkey \"Prime Minister of Turkey\") * \n",
       "[Turkmenistan](/wiki/Prime_Minister_of_Turkmenistan \"Prime Minister of Turkmenistan\") * \n",
       "[Zambia](/wiki/Prime_Minister_of_Zambia \"Prime Minister of Zambia\") * [Zimbabwe](/wiki/Prime_Minister_of_Zimbabwe \n",
       "\"Prime Minister of Zimbabwe\") |\n",
       "Prime Minister of France\n",
       "\n",
       "Out: None\n",
       "</pre>\n"
      ],
      "text/plain": [
       "\u001b[1mExecution logs:\u001b[0m\n",
       "Prime Minister of France - Wikipedia\n",
       "Prime Minister of France\n",
       "bakh Republic\") * [Nigeria](/wiki/Prime_Minister_of_Nigeria \"Prime Minister of Nigeria\") * \n",
       "[Philippines](/wiki/Prime_Minister_of_the_Philippines \"Prime Minister of the Philippines\") * \n",
       "[Seychelles](/wiki/Prime_Minister_of_Seychelles \"Prime Minister of Seychelles\") * [South \n",
       "Africa](/wiki/Prime_Minister_of_South_Africa \"Prime Minister of South Africa\") * \n",
       "[Turkey](/wiki/Prime_Minister_of_Turkey \"Prime Minister of Turkey\") * \n",
       "[Turkmenistan](/wiki/Prime_Minister_of_Turkmenistan \"Prime Minister of Turkmenistan\") * \n",
       "[Zambia](/wiki/Prime_Minister_of_Zambia \"Prime Minister of Zambia\") * [Zimbabwe](/wiki/Prime_Minister_of_Zimbabwe \n",
       "\"Prime Minister of Zimbabwe\") |\n",
       "Prime Minister of France\n",
       "\n",
       "Out: None\n"
      ]
     },
     "metadata": {},
     "output_type": "display_data"
    },
    {
     "data": {
      "text/html": [
       "<pre style=\"white-space:pre;overflow-x:auto;line-height:normal;font-family:Menlo,'DejaVu Sans Mono',consolas,'Courier New',monospace\"><span style=\"color: #7f7f7f; text-decoration-color: #7f7f7f\">[Step 4: Duration 2.85 seconds| Input tokens: 34,117 | Output tokens: 611]</span>\n",
       "</pre>\n"
      ],
      "text/plain": [
       "\u001b[2m[Step 4: Duration 2.85 seconds| Input tokens: 34,117 | Output tokens: 611]\u001b[0m\n"
      ]
     },
     "metadata": {},
     "output_type": "display_data"
    },
    {
     "data": {
      "text/html": [
       "<pre style=\"white-space:pre;overflow-x:auto;line-height:normal;font-family:Menlo,'DejaVu Sans Mono',consolas,'Courier New',monospace\"><span style=\"color: #d4b702; text-decoration-color: #d4b702\">━━━━━━━━━━━━━━━━━━━━━━━━━━━━━━━━━━━━━━━━━━━━━━━━━━━━━ </span><span style=\"font-weight: bold\">Step </span><span style=\"color: #008080; text-decoration-color: #008080; font-weight: bold\">5</span><span style=\"color: #d4b702; text-decoration-color: #d4b702\"> ━━━━━━━━━━━━━━━━━━━━━━━━━━━━━━━━━━━━━━━━━━━━━━━━━━━━━━</span>\n",
       "</pre>\n"
      ],
      "text/plain": [
       "\u001b[38;2;212;183;2m━━━━━━━━━━━━━━━━━━━━━━━━━━━━━━━━━━━━━━━━━━━━━━━━━━━━━ \u001b[0m\u001b[1mStep \u001b[0m\u001b[1;36m5\u001b[0m\u001b[38;2;212;183;2m ━━━━━━━━━━━━━━━━━━━━━━━━━━━━━━━━━━━━━━━━━━━━━━━━━━━━━━\u001b[0m\n"
      ]
     },
     "metadata": {},
     "output_type": "display_data"
    },
    {
     "data": {
      "text/html": [
       "<pre style=\"white-space:pre;overflow-x:auto;line-height:normal;font-family:Menlo,'DejaVu Sans Mono',consolas,'Courier New',monospace\"> ─ <span style=\"font-weight: bold\">Executing this code:</span> ────────────────────────────────────────────────────────────────────────────────────────── \n",
       "  <span style=\"color: #959077; text-decoration-color: #959077; background-color: #272822\"># Let's print the beginning part of the content to locate the current Prime Minister's name.</span><span style=\"background-color: #272822\">                   </span>  \n",
       "  <span style=\"color: #f8f8f2; text-decoration-color: #f8f8f2; background-color: #272822\">print(content[:</span><span style=\"color: #ae81ff; text-decoration-color: #ae81ff; background-color: #272822\">2000</span><span style=\"color: #f8f8f2; text-decoration-color: #f8f8f2; background-color: #272822\">])  </span><span style=\"color: #959077; text-decoration-color: #959077; background-color: #272822\"># Print the first 2000 characters to analyze the introduction section.</span><span style=\"background-color: #272822\">                  </span>  \n",
       " ───────────────────────────────────────────────────────────────────────────────────────────────────────────────── \n",
       "</pre>\n"
      ],
      "text/plain": [
       " ─ \u001b[1mExecuting this code:\u001b[0m ────────────────────────────────────────────────────────────────────────────────────────── \n",
       "  \u001b[38;2;149;144;119;48;2;39;40;34m# Let's print the beginning part of the content to locate the current Prime Minister's name.\u001b[0m\u001b[48;2;39;40;34m                   \u001b[0m  \n",
       "  \u001b[38;2;248;248;242;48;2;39;40;34mprint\u001b[0m\u001b[38;2;248;248;242;48;2;39;40;34m(\u001b[0m\u001b[38;2;248;248;242;48;2;39;40;34mcontent\u001b[0m\u001b[38;2;248;248;242;48;2;39;40;34m[\u001b[0m\u001b[38;2;248;248;242;48;2;39;40;34m:\u001b[0m\u001b[38;2;174;129;255;48;2;39;40;34m2000\u001b[0m\u001b[38;2;248;248;242;48;2;39;40;34m]\u001b[0m\u001b[38;2;248;248;242;48;2;39;40;34m)\u001b[0m\u001b[38;2;248;248;242;48;2;39;40;34m  \u001b[0m\u001b[38;2;149;144;119;48;2;39;40;34m# Print the first 2000 characters to analyze the introduction section.\u001b[0m\u001b[48;2;39;40;34m                  \u001b[0m  \n",
       " ───────────────────────────────────────────────────────────────────────────────────────────────────────────────── \n"
      ]
     },
     "metadata": {},
     "output_type": "display_data"
    },
    {
     "data": {
      "text/html": [
       "<pre style=\"white-space:pre;overflow-x:auto;line-height:normal;font-family:Menlo,'DejaVu Sans Mono',consolas,'Courier New',monospace\"><span style=\"font-weight: bold\">Execution logs:</span>\n",
       "Prime Minister of France - Wikipedia\n",
       "\n",
       "[Jump to content](#bodyContent)\n",
       "\n",
       "Main menu\n",
       "\n",
       "Main menu\n",
       "move to sidebar\n",
       "hide\n",
       "\n",
       "Navigation\n",
       "\n",
       "* [Main page](/wiki/Main_Page \"Visit the main page [z]\")\n",
       "* [Contents](/wiki/Wikipedia:Contents \"Guides to browsing Wikipedia\")\n",
       "* [Current events](/wiki/Portal:Current_events \"Articles related to current events\")\n",
       "* [Random article](/wiki/Special:Random \"Visit a randomly selected article [x]\")\n",
       "* [About Wikipedia](/wiki/Wikipedia:About \"Learn about Wikipedia and how it works\")\n",
       "* [Contact us](//en.wikipedia.org/wiki/Wikipedia:Contact_us \"How to contact Wikipedia\")\n",
       "\n",
       "Contribute\n",
       "\n",
       "* [Help](/wiki/Help:Contents \"Guidance on how to use and edit Wikipedia\")\n",
       "* [Learn to edit](/wiki/Help:Introduction \"Learn how to edit Wikipedia\")\n",
       "* [Community portal](/wiki/Wikipedia:Community_portal \"The hub for editors\")\n",
       "* [Recent changes](/wiki/Special:RecentChanges \"A list of recent changes to Wikipedia [r]\")\n",
       "* [Upload file](/wiki/Wikipedia:File_upload_wizard \"Add images or other media for use on Wikipedia\")\n",
       "\n",
       "[![](/static/images/icons/wikipedia.png)\n",
       "![Wikipedia](/static/images/mobile/copyright/wikipedia-wordmark-en.svg)\n",
       "![The Free Encyclopedia](/static/images/mobile/copyright/wikipedia-tagline-en.svg)](/wiki/Main_Page)\n",
       "\n",
       "[Search](/wiki/Special:Search \"Search Wikipedia [f]\")\n",
       "\n",
       "Search\n",
       "\n",
       "Appearance\n",
       "\n",
       "* \n",
       "[Donate](https://donate.wikimedia.org/?wmf_source=donate&amp;wmf_medium=sidebar&amp;wmf_campaign=en.wikipedia.org&amp;uselang=e\n",
       "n)\n",
       "* [Create account](/w/index.php?title=Special:CreateAccount&amp;returnto=Prime+Minister+of+France \"You are encouraged \n",
       "to create an account and log in; however, it is not mandatory\")\n",
       "* [Log in](/w/index.php?title=Special:UserLogin&amp;returnto=Prime+Minister+of+France \"You're encouraged to log in; \n",
       "however, it's not mandatory. [o]\")\n",
       "\n",
       "Personal tools\n",
       "\n",
       "* \n",
       "[Donate](https://donate.wikimedia.org/?wmf_source=donate&amp;wmf_medium=sidebar&amp;wmf_campaign=en.wikipedia.org&amp;uselang=e\n",
       "n)\n",
       "* [Create account](/w/index.php?title=Special:CreateAccount&amp;returnto=Prime+Minister+of+France \"You are enc\n",
       "\n",
       "Out: None\n",
       "</pre>\n"
      ],
      "text/plain": [
       "\u001b[1mExecution logs:\u001b[0m\n",
       "Prime Minister of France - Wikipedia\n",
       "\n",
       "[Jump to content](#bodyContent)\n",
       "\n",
       "Main menu\n",
       "\n",
       "Main menu\n",
       "move to sidebar\n",
       "hide\n",
       "\n",
       "Navigation\n",
       "\n",
       "* [Main page](/wiki/Main_Page \"Visit the main page [z]\")\n",
       "* [Contents](/wiki/Wikipedia:Contents \"Guides to browsing Wikipedia\")\n",
       "* [Current events](/wiki/Portal:Current_events \"Articles related to current events\")\n",
       "* [Random article](/wiki/Special:Random \"Visit a randomly selected article [x]\")\n",
       "* [About Wikipedia](/wiki/Wikipedia:About \"Learn about Wikipedia and how it works\")\n",
       "* [Contact us](//en.wikipedia.org/wiki/Wikipedia:Contact_us \"How to contact Wikipedia\")\n",
       "\n",
       "Contribute\n",
       "\n",
       "* [Help](/wiki/Help:Contents \"Guidance on how to use and edit Wikipedia\")\n",
       "* [Learn to edit](/wiki/Help:Introduction \"Learn how to edit Wikipedia\")\n",
       "* [Community portal](/wiki/Wikipedia:Community_portal \"The hub for editors\")\n",
       "* [Recent changes](/wiki/Special:RecentChanges \"A list of recent changes to Wikipedia [r]\")\n",
       "* [Upload file](/wiki/Wikipedia:File_upload_wizard \"Add images or other media for use on Wikipedia\")\n",
       "\n",
       "[![](/static/images/icons/wikipedia.png)\n",
       "![Wikipedia](/static/images/mobile/copyright/wikipedia-wordmark-en.svg)\n",
       "![The Free Encyclopedia](/static/images/mobile/copyright/wikipedia-tagline-en.svg)](/wiki/Main_Page)\n",
       "\n",
       "[Search](/wiki/Special:Search \"Search Wikipedia [f]\")\n",
       "\n",
       "Search\n",
       "\n",
       "Appearance\n",
       "\n",
       "* \n",
       "[Donate](https://donate.wikimedia.org/?wmf_source=donate&wmf_medium=sidebar&wmf_campaign=en.wikipedia.org&uselang=e\n",
       "n)\n",
       "* [Create account](/w/index.php?title=Special:CreateAccount&returnto=Prime+Minister+of+France \"You are encouraged \n",
       "to create an account and log in; however, it is not mandatory\")\n",
       "* [Log in](/w/index.php?title=Special:UserLogin&returnto=Prime+Minister+of+France \"You're encouraged to log in; \n",
       "however, it's not mandatory. [o]\")\n",
       "\n",
       "Personal tools\n",
       "\n",
       "* \n",
       "[Donate](https://donate.wikimedia.org/?wmf_source=donate&wmf_medium=sidebar&wmf_campaign=en.wikipedia.org&uselang=e\n",
       "n)\n",
       "* [Create account](/w/index.php?title=Special:CreateAccount&returnto=Prime+Minister+of+France \"You are enc\n",
       "\n",
       "Out: None\n"
      ]
     },
     "metadata": {},
     "output_type": "display_data"
    },
    {
     "data": {
      "text/html": [
       "<pre style=\"white-space:pre;overflow-x:auto;line-height:normal;font-family:Menlo,'DejaVu Sans Mono',consolas,'Courier New',monospace\"><span style=\"color: #7f7f7f; text-decoration-color: #7f7f7f\">[Step 5: Duration 3.16 seconds| Input tokens: 46,913 | Output tokens: 732]</span>\n",
       "</pre>\n"
      ],
      "text/plain": [
       "\u001b[2m[Step 5: Duration 3.16 seconds| Input tokens: 46,913 | Output tokens: 732]\u001b[0m\n"
      ]
     },
     "metadata": {},
     "output_type": "display_data"
    },
    {
     "data": {
      "text/html": [
       "<pre style=\"white-space:pre;overflow-x:auto;line-height:normal;font-family:Menlo,'DejaVu Sans Mono',consolas,'Courier New',monospace\"><span style=\"color: #800000; text-decoration-color: #800000; font-weight: bold\">Reached max steps.</span>\n",
       "</pre>\n"
      ],
      "text/plain": [
       "\u001b[1;31mReached max steps.\u001b[0m\n"
      ]
     },
     "metadata": {},
     "output_type": "display_data"
    },
    {
     "data": {
      "text/html": [
       "<pre style=\"white-space:pre;overflow-x:auto;line-height:normal;font-family:Menlo,'DejaVu Sans Mono',consolas,'Courier New',monospace\">Final answer: L'actuel Premier ministre de France est Élisabeth Borne. Elle occupe ce poste depuis le 16 mai 2022.\n",
       "</pre>\n"
      ],
      "text/plain": [
       "Final answer: L'actuel Premier ministre de France est Élisabeth Borne. Elle occupe ce poste depuis le 16 mai 2022.\n"
      ]
     },
     "metadata": {},
     "output_type": "display_data"
    },
    {
     "data": {
      "text/html": [
       "<pre style=\"white-space:pre;overflow-x:auto;line-height:normal;font-family:Menlo,'DejaVu Sans Mono',consolas,'Courier New',monospace\"><span style=\"color: #7f7f7f; text-decoration-color: #7f7f7f\">[Step 6: Duration 3.16 seconds| Input tokens: 69,321 | Output tokens: 761]</span>\n",
       "</pre>\n"
      ],
      "text/plain": [
       "\u001b[2m[Step 6: Duration 3.16 seconds| Input tokens: 69,321 | Output tokens: 761]\u001b[0m\n"
      ]
     },
     "metadata": {},
     "output_type": "display_data"
    },
    {
     "data": {
      "text/plain": [
       "\"L'actuel Premier ministre de France est Élisabeth Borne. Elle occupe ce poste depuis le 16 mai 2022.\""
      ]
     },
     "execution_count": 10,
     "metadata": {},
     "output_type": "execute_result"
    }
   ],
   "source": [
    "agent = CodeAgent(\n",
    "    tools=[VisitWebpageTool()],\n",
    "    model=llm,\n",
    "    additional_authorized_imports=[\"requests\", \"markdownify\", \"bs4\"],\n",
    "    #use_e2b_executor=True,\n",
    ")\n",
    "\n",
    "agent.run(\"Qui est l'actuel premier ministre en France ?\")"
   ]
  },
  {
   "cell_type": "markdown",
   "metadata": {},
   "source": [
    "### Self Correcting Text to SQL with `smolagents 🤗`"
   ]
  },
  {
   "cell_type": "code",
   "execution_count": 11,
   "metadata": {},
   "outputs": [],
   "source": [
    "from sqlalchemy import (\n",
    "    Column,\n",
    "    Float,\n",
    "    Integer,\n",
    "    MetaData,\n",
    "    String,\n",
    "    Table,\n",
    "    create_engine,\n",
    "    insert,\n",
    "    inspect,\n",
    "    text,\n",
    ")\n",
    "\n",
    "engine = create_engine(\"sqlite:///:memory:\")\n",
    "metadata_obj = MetaData()\n",
    "\n",
    "table_name = \"receipts\"\n",
    "receipts = Table(\n",
    "    table_name,\n",
    "    metadata_obj,\n",
    "    Column(\"receipt_id\", Integer, primary_key=True),\n",
    "    Column(\"customer_name\", String(16), primary_key=True),\n",
    "    Column(\"price\", Float),\n",
    "    Column(\"tip\", Float),\n",
    ")\n",
    "metadata_obj.create_all(engine)\n",
    "\n",
    "rows = [\n",
    "    {\"receipt_id\": 1, \"customer_name\": \"Alan Payne\", \"price\": 12.06, \"tip\": 1.20},\n",
    "    {\"receipt_id\": 2, \"customer_name\": \"Alex Mason\", \"price\": 23.86, \"tip\": 0.24},\n",
    "    {\"receipt_id\": 3, \"customer_name\": \"Woodrow Wilson\", \"price\": 53.43, \"tip\": 5.43},\n",
    "    {\"receipt_id\": 4, \"customer_name\": \"Margaret James\", \"price\": 21.11, \"tip\": 1.00},\n",
    "    {\"receipt_id\": 5, \"customer_name\": \"John Doe\", \"price\": 100.00, \"tip\": 10.00},\n",
    "]\n",
    "for row in rows:\n",
    "    stmt = insert(receipts).values(**row)\n",
    "    with engine.begin() as connection:\n",
    "        cursor = connection.execute(stmt)\n",
    "\n",
    "table_name = \"waiters\"\n",
    "receipts = Table(\n",
    "    table_name,\n",
    "    metadata_obj,\n",
    "    Column(\"receipt_id\", Integer, primary_key=True),\n",
    "    Column(\"waiter_name\", String(16), primary_key=True),\n",
    ")\n",
    "metadata_obj.create_all(engine)\n",
    "\n",
    "rows = [\n",
    "    {\"receipt_id\": 1, \"waiter_name\": \"Corey Johnson\"},\n",
    "    {\"receipt_id\": 2, \"waiter_name\": \"Michael Watts\"},\n",
    "    {\"receipt_id\": 3, \"waiter_name\": \"Michael Watts\"},\n",
    "    {\"receipt_id\": 4, \"waiter_name\": \"Margaret James\"},\n",
    "]\n",
    "for row in rows:\n",
    "    stmt = insert(receipts).values(**row)\n",
    "    with engine.begin() as connection:\n",
    "        cursor = connection.execute(stmt)"
   ]
  },
  {
   "cell_type": "code",
   "execution_count": 12,
   "metadata": {},
   "outputs": [
    {
     "name": "stdout",
     "output_type": "stream",
     "text": [
      "Allows you to perform SQL queries on the table. Beware that this tool's output is a string representation of the execution output.\n",
      "It can use the following tables:\n",
      "\n",
      "Table 'receipts':\n",
      "Columns:\n",
      "  - receipt_id: INTEGER\n",
      "  - customer_name: VARCHAR(16)\n",
      "  - price: FLOAT\n",
      "  - tip: FLOAT\n",
      "\n",
      "Table 'waiters':\n",
      "Columns:\n",
      "  - receipt_id: INTEGER\n",
      "  - waiter_name: VARCHAR(16)\n"
     ]
    }
   ],
   "source": [
    "updated_description = \"\"\"Allows you to perform SQL queries on the table. Beware that this tool's output is a string representation of the execution output.\n",
    "It can use the following tables:\"\"\"\n",
    "\n",
    "inspector = inspect(engine)\n",
    "for table in [\"receipts\", \"waiters\"]:\n",
    "    columns_info = [(col[\"name\"], col[\"type\"]) for col in inspector.get_columns(table)]\n",
    "\n",
    "    table_description = f\"Table '{table}':\\n\"\n",
    "\n",
    "    table_description += \"Columns:\\n\" + \"\\n\".join([f\"  - {name}: {col_type}\" for name, col_type in columns_info])\n",
    "    updated_description += \"\\n\\n\" + table_description\n",
    "\n",
    "print(updated_description)"
   ]
  },
  {
   "cell_type": "code",
   "execution_count": 13,
   "metadata": {},
   "outputs": [],
   "source": [
    "from smolagents import tool\n",
    "\n",
    "\n",
    "@tool\n",
    "def sql_engine(query: str) -> str:\n",
    "    \"\"\"Allows you to perform SQL queries.\n",
    "\n",
    "    Args:\n",
    "        query: The query to perform. This should be correct SQL.\n",
    "    \"\"\"\n",
    "    output = \"\"\n",
    "    with engine.connect() as con:\n",
    "        rows = con.execute(text(query))\n",
    "        for row in rows:\n",
    "            output += \"\\n\" + str(row)\n",
    "    return output\n",
    "\n",
    "\n",
    "sql_engine.description = updated_description"
   ]
  },
  {
   "cell_type": "code",
   "execution_count": 15,
   "metadata": {},
   "outputs": [
    {
     "data": {
      "text/html": [
       "<pre style=\"white-space:pre;overflow-x:auto;line-height:normal;font-family:Menlo,'DejaVu Sans Mono',consolas,'Courier New',monospace\"><span style=\"color: #d4b702; text-decoration-color: #d4b702\">╭──────────────────────────────────────────────────── </span><span style=\"color: #d4b702; text-decoration-color: #d4b702; font-weight: bold\">New run</span><span style=\"color: #d4b702; text-decoration-color: #d4b702\"> ────────────────────────────────────────────────────╮</span>\n",
       "<span style=\"color: #d4b702; text-decoration-color: #d4b702\">│</span>                                                                                                                 <span style=\"color: #d4b702; text-decoration-color: #d4b702\">│</span>\n",
       "<span style=\"color: #d4b702; text-decoration-color: #d4b702\">│</span> <span style=\"font-weight: bold\">Can you give me the name of the client who got the most expensive receipt?</span>                                      <span style=\"color: #d4b702; text-decoration-color: #d4b702\">│</span>\n",
       "<span style=\"color: #d4b702; text-decoration-color: #d4b702\">│</span>                                                                                                                 <span style=\"color: #d4b702; text-decoration-color: #d4b702\">│</span>\n",
       "<span style=\"color: #d4b702; text-decoration-color: #d4b702\">╰─ LiteLLMModel - gpt-4o-mini ────────────────────────────────────────────────────────────────────────────────────╯</span>\n",
       "</pre>\n"
      ],
      "text/plain": [
       "\u001b[38;2;212;183;2m╭─\u001b[0m\u001b[38;2;212;183;2m───────────────────────────────────────────────────\u001b[0m\u001b[38;2;212;183;2m \u001b[0m\u001b[1;38;2;212;183;2mNew run\u001b[0m\u001b[38;2;212;183;2m \u001b[0m\u001b[38;2;212;183;2m───────────────────────────────────────────────────\u001b[0m\u001b[38;2;212;183;2m─╮\u001b[0m\n",
       "\u001b[38;2;212;183;2m│\u001b[0m                                                                                                                 \u001b[38;2;212;183;2m│\u001b[0m\n",
       "\u001b[38;2;212;183;2m│\u001b[0m \u001b[1mCan you give me the name of the client who got the most expensive receipt?\u001b[0m                                      \u001b[38;2;212;183;2m│\u001b[0m\n",
       "\u001b[38;2;212;183;2m│\u001b[0m                                                                                                                 \u001b[38;2;212;183;2m│\u001b[0m\n",
       "\u001b[38;2;212;183;2m╰─\u001b[0m\u001b[38;2;212;183;2m LiteLLMModel - gpt-4o-mini \u001b[0m\u001b[38;2;212;183;2m───────────────────────────────────────────────────────────────────────────────────\u001b[0m\u001b[38;2;212;183;2m─╯\u001b[0m\n"
      ]
     },
     "metadata": {},
     "output_type": "display_data"
    },
    {
     "data": {
      "text/html": [
       "<pre style=\"white-space:pre;overflow-x:auto;line-height:normal;font-family:Menlo,'DejaVu Sans Mono',consolas,'Courier New',monospace\"><span style=\"color: #d4b702; text-decoration-color: #d4b702\">━━━━━━━━━━━━━━━━━━━━━━━━━━━━━━━━━━━━━━━━━━━━━━━━━━━━━ </span><span style=\"font-weight: bold\">Step </span><span style=\"color: #008080; text-decoration-color: #008080; font-weight: bold\">0</span><span style=\"color: #d4b702; text-decoration-color: #d4b702\"> ━━━━━━━━━━━━━━━━━━━━━━━━━━━━━━━━━━━━━━━━━━━━━━━━━━━━━━</span>\n",
       "</pre>\n"
      ],
      "text/plain": [
       "\u001b[38;2;212;183;2m━━━━━━━━━━━━━━━━━━━━━━━━━━━━━━━━━━━━━━━━━━━━━━━━━━━━━ \u001b[0m\u001b[1mStep \u001b[0m\u001b[1;36m0\u001b[0m\u001b[38;2;212;183;2m ━━━━━━━━━━━━━━━━━━━━━━━━━━━━━━━━━━━━━━━━━━━━━━━━━━━━━━\u001b[0m\n"
      ]
     },
     "metadata": {},
     "output_type": "display_data"
    },
    {
     "data": {
      "text/html": [
       "<pre style=\"white-space:pre;overflow-x:auto;line-height:normal;font-family:Menlo,'DejaVu Sans Mono',consolas,'Courier New',monospace\"> ─ <span style=\"font-weight: bold\">Executing this code:</span> ────────────────────────────────────────────────────────────────────────────────────────── \n",
       "  <span style=\"color: #f8f8f2; text-decoration-color: #f8f8f2; background-color: #272822\">query </span><span style=\"color: #ff4689; text-decoration-color: #ff4689; background-color: #272822\">=</span><span style=\"color: #f8f8f2; text-decoration-color: #f8f8f2; background-color: #272822\"> </span><span style=\"color: #e6db74; text-decoration-color: #e6db74; background-color: #272822\">\"SELECT customer_name FROM receipts ORDER BY price DESC LIMIT 1;\"</span><span style=\"background-color: #272822\">                                      </span>  \n",
       "  <span style=\"color: #f8f8f2; text-decoration-color: #f8f8f2; background-color: #272822\">most_expensive_client </span><span style=\"color: #ff4689; text-decoration-color: #ff4689; background-color: #272822\">=</span><span style=\"color: #f8f8f2; text-decoration-color: #f8f8f2; background-color: #272822\"> sql_engine(query</span><span style=\"color: #ff4689; text-decoration-color: #ff4689; background-color: #272822\">=</span><span style=\"color: #f8f8f2; text-decoration-color: #f8f8f2; background-color: #272822\">query)</span><span style=\"background-color: #272822\">                                                                </span>  \n",
       "  <span style=\"color: #f8f8f2; text-decoration-color: #f8f8f2; background-color: #272822\">print(most_expensive_client)</span><span style=\"background-color: #272822\">                                                                                   </span>  \n",
       " ───────────────────────────────────────────────────────────────────────────────────────────────────────────────── \n",
       "</pre>\n"
      ],
      "text/plain": [
       " ─ \u001b[1mExecuting this code:\u001b[0m ────────────────────────────────────────────────────────────────────────────────────────── \n",
       "  \u001b[38;2;248;248;242;48;2;39;40;34mquery\u001b[0m\u001b[38;2;248;248;242;48;2;39;40;34m \u001b[0m\u001b[38;2;255;70;137;48;2;39;40;34m=\u001b[0m\u001b[38;2;248;248;242;48;2;39;40;34m \u001b[0m\u001b[38;2;230;219;116;48;2;39;40;34m\"\u001b[0m\u001b[38;2;230;219;116;48;2;39;40;34mSELECT customer_name FROM receipts ORDER BY price DESC LIMIT 1;\u001b[0m\u001b[38;2;230;219;116;48;2;39;40;34m\"\u001b[0m\u001b[48;2;39;40;34m                                      \u001b[0m  \n",
       "  \u001b[38;2;248;248;242;48;2;39;40;34mmost_expensive_client\u001b[0m\u001b[38;2;248;248;242;48;2;39;40;34m \u001b[0m\u001b[38;2;255;70;137;48;2;39;40;34m=\u001b[0m\u001b[38;2;248;248;242;48;2;39;40;34m \u001b[0m\u001b[38;2;248;248;242;48;2;39;40;34msql_engine\u001b[0m\u001b[38;2;248;248;242;48;2;39;40;34m(\u001b[0m\u001b[38;2;248;248;242;48;2;39;40;34mquery\u001b[0m\u001b[38;2;255;70;137;48;2;39;40;34m=\u001b[0m\u001b[38;2;248;248;242;48;2;39;40;34mquery\u001b[0m\u001b[38;2;248;248;242;48;2;39;40;34m)\u001b[0m\u001b[48;2;39;40;34m                                                                \u001b[0m  \n",
       "  \u001b[38;2;248;248;242;48;2;39;40;34mprint\u001b[0m\u001b[38;2;248;248;242;48;2;39;40;34m(\u001b[0m\u001b[38;2;248;248;242;48;2;39;40;34mmost_expensive_client\u001b[0m\u001b[38;2;248;248;242;48;2;39;40;34m)\u001b[0m\u001b[48;2;39;40;34m                                                                                   \u001b[0m  \n",
       " ───────────────────────────────────────────────────────────────────────────────────────────────────────────────── \n"
      ]
     },
     "metadata": {},
     "output_type": "display_data"
    },
    {
     "data": {
      "text/html": [
       "<pre style=\"white-space:pre;overflow-x:auto;line-height:normal;font-family:Menlo,'DejaVu Sans Mono',consolas,'Courier New',monospace\"><span style=\"font-weight: bold\">Execution logs:</span>\n",
       "\n",
       "('John Doe',)\n",
       "\n",
       "Out: None\n",
       "</pre>\n"
      ],
      "text/plain": [
       "\u001b[1mExecution logs:\u001b[0m\n",
       "\n",
       "('John Doe',)\n",
       "\n",
       "Out: None\n"
      ]
     },
     "metadata": {},
     "output_type": "display_data"
    },
    {
     "data": {
      "text/html": [
       "<pre style=\"white-space:pre;overflow-x:auto;line-height:normal;font-family:Menlo,'DejaVu Sans Mono',consolas,'Courier New',monospace\"><span style=\"color: #7f7f7f; text-decoration-color: #7f7f7f\">[Step 0: Duration 3.19 seconds| Input tokens: 2,095 | Output tokens: 103]</span>\n",
       "</pre>\n"
      ],
      "text/plain": [
       "\u001b[2m[Step 0: Duration 3.19 seconds| Input tokens: 2,095 | Output tokens: 103]\u001b[0m\n"
      ]
     },
     "metadata": {},
     "output_type": "display_data"
    },
    {
     "data": {
      "text/html": [
       "<pre style=\"white-space:pre;overflow-x:auto;line-height:normal;font-family:Menlo,'DejaVu Sans Mono',consolas,'Courier New',monospace\"><span style=\"color: #d4b702; text-decoration-color: #d4b702\">━━━━━━━━━━━━━━━━━━━━━━━━━━━━━━━━━━━━━━━━━━━━━━━━━━━━━ </span><span style=\"font-weight: bold\">Step </span><span style=\"color: #008080; text-decoration-color: #008080; font-weight: bold\">1</span><span style=\"color: #d4b702; text-decoration-color: #d4b702\"> ━━━━━━━━━━━━━━━━━━━━━━━━━━━━━━━━━━━━━━━━━━━━━━━━━━━━━━</span>\n",
       "</pre>\n"
      ],
      "text/plain": [
       "\u001b[38;2;212;183;2m━━━━━━━━━━━━━━━━━━━━━━━━━━━━━━━━━━━━━━━━━━━━━━━━━━━━━ \u001b[0m\u001b[1mStep \u001b[0m\u001b[1;36m1\u001b[0m\u001b[38;2;212;183;2m ━━━━━━━━━━━━━━━━━━━━━━━━━━━━━━━━━━━━━━━━━━━━━━━━━━━━━━\u001b[0m\n"
      ]
     },
     "metadata": {},
     "output_type": "display_data"
    },
    {
     "data": {
      "text/html": [
       "<pre style=\"white-space:pre;overflow-x:auto;line-height:normal;font-family:Menlo,'DejaVu Sans Mono',consolas,'Courier New',monospace\"> ─ <span style=\"font-weight: bold\">Executing this code:</span> ────────────────────────────────────────────────────────────────────────────────────────── \n",
       "  <span style=\"color: #f8f8f2; text-decoration-color: #f8f8f2; background-color: #272822\">final_answer(</span><span style=\"color: #e6db74; text-decoration-color: #e6db74; background-color: #272822\">\"John Doe\"</span><span style=\"color: #f8f8f2; text-decoration-color: #f8f8f2; background-color: #272822\">)</span><span style=\"background-color: #272822\">                                                                                       </span>  \n",
       " ───────────────────────────────────────────────────────────────────────────────────────────────────────────────── \n",
       "</pre>\n"
      ],
      "text/plain": [
       " ─ \u001b[1mExecuting this code:\u001b[0m ────────────────────────────────────────────────────────────────────────────────────────── \n",
       "  \u001b[38;2;248;248;242;48;2;39;40;34mfinal_answer\u001b[0m\u001b[38;2;248;248;242;48;2;39;40;34m(\u001b[0m\u001b[38;2;230;219;116;48;2;39;40;34m\"\u001b[0m\u001b[38;2;230;219;116;48;2;39;40;34mJohn Doe\u001b[0m\u001b[38;2;230;219;116;48;2;39;40;34m\"\u001b[0m\u001b[38;2;248;248;242;48;2;39;40;34m)\u001b[0m\u001b[48;2;39;40;34m                                                                                       \u001b[0m  \n",
       " ───────────────────────────────────────────────────────────────────────────────────────────────────────────────── \n"
      ]
     },
     "metadata": {},
     "output_type": "display_data"
    },
    {
     "data": {
      "text/html": [
       "<pre style=\"white-space:pre;overflow-x:auto;line-height:normal;font-family:Menlo,'DejaVu Sans Mono',consolas,'Courier New',monospace\"><span style=\"color: #d4b702; text-decoration-color: #d4b702; font-weight: bold\">Out - Final answer: John Doe</span>\n",
       "</pre>\n"
      ],
      "text/plain": [
       "\u001b[1;38;2;212;183;2mOut - Final answer: John Doe\u001b[0m\n"
      ]
     },
     "metadata": {},
     "output_type": "display_data"
    },
    {
     "data": {
      "text/html": [
       "<pre style=\"white-space:pre;overflow-x:auto;line-height:normal;font-family:Menlo,'DejaVu Sans Mono',consolas,'Courier New',monospace\"><span style=\"color: #7f7f7f; text-decoration-color: #7f7f7f\">[Step 1: Duration 1.40 seconds| Input tokens: 4,393 | Output tokens: 149]</span>\n",
       "</pre>\n"
      ],
      "text/plain": [
       "\u001b[2m[Step 1: Duration 1.40 seconds| Input tokens: 4,393 | Output tokens: 149]\u001b[0m\n"
      ]
     },
     "metadata": {},
     "output_type": "display_data"
    },
    {
     "data": {
      "text/plain": [
       "'John Doe'"
      ]
     },
     "execution_count": 15,
     "metadata": {},
     "output_type": "execute_result"
    }
   ],
   "source": [
    "agent = CodeAgent(tools=[sql_engine], model=llm)\n",
    "agent.run(\"Can you give me the name of the client who got the most expensive receipt?\")"
   ]
  }
 ],
 "metadata": {
  "kernelspec": {
   "display_name": "genai-blueprint-2X6HL8i2-py3.12",
   "language": "python",
   "name": "python3"
  },
  "language_info": {
   "codemirror_mode": {
    "name": "ipython",
    "version": 3
   },
   "file_extension": ".py",
   "mimetype": "text/x-python",
   "name": "python",
   "nbconvert_exporter": "python",
   "pygments_lexer": "ipython3",
   "version": "3.12.3"
  }
 },
 "nbformat": 4,
 "nbformat_minor": 2
}
