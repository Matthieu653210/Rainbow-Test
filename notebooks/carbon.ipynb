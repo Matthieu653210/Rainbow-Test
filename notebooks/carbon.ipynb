{
 "cells": [
  {
   "cell_type": "code",
   "execution_count": null,
   "id": "c667e8fd",
   "metadata": {},
   "outputs": [],
   "source": [
    "# A default setup cell.\n",
    "# It imports environment variables, define 'devtools.debug\" as a buildins, set PYTHONPATH, and code auto-reload\n",
    "# Copy it in other Notebooks\n",
    "\n",
    "\n",
    "from dotenv import load_dotenv\n",
    "from rich import print\n",
    "\n",
    "load_dotenv(verbose=True)\n",
    "\n",
    "%load_ext autoreload\n",
    "%autoreload 2\n",
    "%reset -f\n"
   ]
  },
  {
   "cell_type": "code",
   "execution_count": null,
   "id": "6ea02f69",
   "metadata": {},
   "outputs": [],
   "source": [
    "import os\n",
    "import tempfile\n",
    "\n",
    "import pandas as pd\n",
    "\n",
    "from smolagents import (\n",
    "    CodeAgent,\n",
    "    LiteLLMModel,\n",
    "    tool,\n",
    ")\n",
    "\n",
    "from src.ai_core.llm import LlmFactory\n",
    "from src.utils.config_mngr import global_config\n",
    "from src.webapp.ui_components.llm_config import llm_config_widget"
   ]
  },
  {
   "cell_type": "code",
   "execution_count": null,
   "id": "5b720329",
   "metadata": {},
   "outputs": [],
   "source": [
    "from src.utils.singleton import once\n",
    "\n",
    "\n",
    "MODEL_ID = None\n",
    "model_name = LlmFactory(llm_id=MODEL_ID).get_litellm_model_name()\n",
    "llm = LiteLLMModel(model_id=model_name)\n",
    "print(model_name)\n",
    "\n",
    "\n",
    "#@st.cache_resource(show_spinner=\"Load data files\")\n",
    "@once\n",
    "def get_data() -> pd.DataFrame:\n",
    "    data_file = global_config().get_path(\"datasets_root\") / \"carbon-monitor-data 1.xlsx\"\n",
    "    assert data_file.exists()\n",
    "\n",
    "    if data_file.name.endswith(\".csv\"):\n",
    "        df = pd.read_csv(data_file, decimal=\",\")\n",
    "    else:\n",
    "        df = pd.read_excel(data_file)\n",
    "    return df\n"
   ]
  },
  {
   "cell_type": "code",
   "execution_count": null,
   "id": "9294ca26",
   "metadata": {},
   "outputs": [],
   "source": [
    "#@st.cache_resource(show_spinner=\"Load data files\")\n",
    "@once\n",
    "def get_data() -> pd.DataFrame:\n",
    "    data_file = global_config().get_path(\"datasets_root\") / \"carbon-monitor-data 1.xlsx\"\n",
    "    assert data_file.exists()\n",
    "\n",
    "    if data_file.name.endswith(\".csv\"):\n",
    "        df = pd.read_csv(data_file, decimal=\",\")\n",
    "    else:\n",
    "        df = pd.read_excel(data_file)\n",
    "    return df\n",
    "\n",
    "@tool\n",
    "def get_data_frame()-> pd.DataFrame:\n",
    "    \"\"\"Return a data frame with  data related on CO2 emissions\"\"\"\n",
    "    return get_data()\n"
   ]
  },
  {
   "cell_type": "code",
   "execution_count": null,
   "id": "11988189",
   "metadata": {},
   "outputs": [],
   "source": [
    "get_data().head()"
   ]
  },
  {
   "cell_type": "code",
   "execution_count": null,
   "id": "a3aad4f5",
   "metadata": {},
   "outputs": [],
   "source": [
    "agent = CodeAgent(\n",
    "    model=llm,\n",
    "    tools=[get_data_frame],\n",
    "    additional_authorized_imports=[\"pandas\", \"matplotlib.pyplot\", \"numpy\", \"json\"],\n",
    ")\n",
    "\n",
    "agent.run(\"what was the CO2 emmissions of Brazil for energy generation in 2023\")"
   ]
  }
 ],
 "metadata": {
  "kernelspec": {
   "display_name": ".venv",
   "language": "python",
   "name": "python3"
  },
  "language_info": {
   "codemirror_mode": {
    "name": "ipython",
    "version": 3
   },
   "file_extension": ".py",
   "mimetype": "text/x-python",
   "name": "python",
   "nbconvert_exporter": "python",
   "pygments_lexer": "ipython3",
   "version": "3.12.3"
  }
 },
 "nbformat": 4,
 "nbformat_minor": 5
}
