{
 "cells": [
  {
   "cell_type": "code",
   "execution_count": null,
   "id": "c667e8fd",
   "metadata": {},
   "outputs": [],
   "source": [
    "# A default setup cell.\n",
    "# It imports environment variables, define 'devtools.debug\" as a buildins, set PYTHONPATH, and code auto-reload\n",
    "# Copy it in other Notebooks\n",
    "\n",
    "\n",
    "from dotenv import load_dotenv\n",
    "from rich import print\n",
    "\n",
    "load_dotenv(verbose=True)\n",
    "\n",
    "%load_ext autoreload\n",
    "%autoreload 2\n",
    "%reset -f\n"
   ]
  },
  {
   "cell_type": "code",
   "execution_count": 1,
   "id": "6ea02f69",
   "metadata": {},
   "outputs": [
    {
     "name": "stderr",
     "output_type": "stream",
     "text": [
      "\u001b[32m2025-04-15 17:49:40.663\u001b[0m | \u001b[1mINFO    \u001b[0m | \u001b[36msrc.utils.config_mngr\u001b[0m:\u001b[36msingleton\u001b[0m:\u001b[36m99\u001b[0m - \u001b[1mselected config=carbon_monitor_local\u001b[0m\n",
      "\u001b[32m2025-04-15 17:49:40.683\u001b[0m | \u001b[1mINFO    \u001b[0m | \u001b[36msrc.ai_core.cache\u001b[0m:\u001b[36mset_method\u001b[0m:\u001b[36m89\u001b[0m - \u001b[1mLLM cache : SQLiteCache\u001b[0m\n"
     ]
    }
   ],
   "source": [
    "import pandas as pd\n",
    "from smolagents import (\n",
    "    CodeAgent,\n",
    "    LiteLLMModel,\n",
    ")\n",
    "\n",
    "from src.ai_core.llm import LlmFactory\n",
    "from src.utils.config_mngr import global_config"
   ]
  },
  {
   "cell_type": "code",
   "execution_count": null,
   "id": "5b720329",
   "metadata": {},
   "outputs": [],
   "source": [
    "MODEL_ID = None\n",
    "model_name = LlmFactory(llm_id=MODEL_ID).get_litellm_model_name()\n",
    "llm = LiteLLMModel(model_id=model_name)\n",
    "print(model_name)\n"
   ]
  },
  {
   "cell_type": "code",
   "execution_count": null,
   "id": "4d72764a",
   "metadata": {},
   "outputs": [],
   "source": []
  },
  {
   "cell_type": "code",
   "execution_count": 7,
   "id": "9294ca26",
   "metadata": {},
   "outputs": [],
   "source": [
    "DATASETS = {\n",
    "    \"country CO2 emissions\": (\n",
    "        \"Country daily CO2 emissions from 2019 to 2024\",\n",
    "        \"carbon_global_dataset/carbon_global.csv\",\n",
    "    ),\n",
    "    \"cities CO2 emissions\": (\n",
    "        \"Major cities daily CO2 emissions from 2019 to 2024\",\n",
    "        \"carbon_global_dataset/carbon_cities.csv\",\n",
    "    ),\n",
    "    \"GDP\": (\"Countries GDP per year\", \"gdp/API_NY.GDP.MKTP.CD_DS2_en_csv_v2_2.csv\"),\n",
    "    \"country population\": (\"Country populatipn from 1960 to 2023\", \"world_population/world_population.csv\"),\n",
    "}\n",
    "\n",
    "\n",
    "def get_data(dataset: str) -> pd.DataFrame:\n",
    "    \"\"\"Load and cache CO2 emissions data from configured dataset.\n",
    "\n",
    "    Returns:\n",
    "        DataFrame containing emissions data by country and sector.\n",
    "    \"\"\"\n",
    "    description, data_set = DATASETS[dataset]\n",
    "    data_file = global_config().get_path(\"datasets_root\") / data_set\n",
    "    print(data_file, description)\n",
    "    assert data_file.exists(), f\"file  not found: {data_file}\"\n",
    "    if data_file.name.endswith(\".csv\"):\n",
    "        df = pd.read_csv(data_file, decimal=\",\")\n",
    "    else:\n",
    "        df = pd.read_excel(data_file)\n",
    "    return df\n"
   ]
  },
  {
   "cell_type": "code",
   "execution_count": 8,
   "id": "11988189",
   "metadata": {},
   "outputs": [
    {
     "name": "stdout",
     "output_type": "stream",
     "text": [
      "/home/tcl/ln_to_onedrive/_ongoing/green_horizon/data/carbon_global_dataset/carbon_global.csv Country daily CO2 emissions from 2019 to 2024\n"
     ]
    },
    {
     "data": {
      "text/html": [
       "<div>\n",
       "<style scoped>\n",
       "    .dataframe tbody tr th:only-of-type {\n",
       "        vertical-align: middle;\n",
       "    }\n",
       "\n",
       "    .dataframe tbody tr th {\n",
       "        vertical-align: top;\n",
       "    }\n",
       "\n",
       "    .dataframe thead th {\n",
       "        text-align: right;\n",
       "    }\n",
       "</style>\n",
       "<table border=\"1\" class=\"dataframe\">\n",
       "  <thead>\n",
       "    <tr style=\"text-align: right;\">\n",
       "      <th></th>\n",
       "      <th>Unnamed: 0</th>\n",
       "      <th>country</th>\n",
       "      <th>date</th>\n",
       "      <th>sector</th>\n",
       "      <th>value</th>\n",
       "    </tr>\n",
       "  </thead>\n",
       "  <tbody>\n",
       "    <tr>\n",
       "      <th>0</th>\n",
       "      <td>0</td>\n",
       "      <td>Brazil</td>\n",
       "      <td>01/01/2019</td>\n",
       "      <td>Domestic Aviation</td>\n",
       "      <td>0.0237501</td>\n",
       "    </tr>\n",
       "    <tr>\n",
       "      <th>1</th>\n",
       "      <td>1</td>\n",
       "      <td>Brazil</td>\n",
       "      <td>01/01/2019</td>\n",
       "      <td>Ground Transport</td>\n",
       "      <td>0.201663</td>\n",
       "    </tr>\n",
       "    <tr>\n",
       "      <th>2</th>\n",
       "      <td>2</td>\n",
       "      <td>Brazil</td>\n",
       "      <td>01/01/2019</td>\n",
       "      <td>Industry</td>\n",
       "      <td>0.240156</td>\n",
       "    </tr>\n",
       "    <tr>\n",
       "      <th>3</th>\n",
       "      <td>3</td>\n",
       "      <td>Brazil</td>\n",
       "      <td>01/01/2019</td>\n",
       "      <td>International Aviation</td>\n",
       "      <td>0.0183979</td>\n",
       "    </tr>\n",
       "    <tr>\n",
       "      <th>4</th>\n",
       "      <td>4</td>\n",
       "      <td>Brazil</td>\n",
       "      <td>01/01/2019</td>\n",
       "      <td>Power</td>\n",
       "      <td>0.107727</td>\n",
       "    </tr>\n",
       "  </tbody>\n",
       "</table>\n",
       "</div>"
      ],
      "text/plain": [
       "   Unnamed: 0 country        date                  sector      value\n",
       "0           0  Brazil  01/01/2019       Domestic Aviation  0.0237501\n",
       "1           1  Brazil  01/01/2019        Ground Transport   0.201663\n",
       "2           2  Brazil  01/01/2019                Industry   0.240156\n",
       "3           3  Brazil  01/01/2019  International Aviation  0.0183979\n",
       "4           4  Brazil  01/01/2019                   Power   0.107727"
      ]
     },
     "execution_count": 8,
     "metadata": {},
     "output_type": "execute_result"
    }
   ],
   "source": [
    "get_data(\"country CO2 emissions\").head()"
   ]
  },
  {
   "cell_type": "code",
   "execution_count": null,
   "id": "a3aad4f5",
   "metadata": {},
   "outputs": [],
   "source": [
    "agent = CodeAgent(\n",
    "    model=llm,\n",
    "    tools=[get_data_frame],\n",
    "    additional_authorized_imports=[\"pandas\", \"matplotlib.pyplot\", \"numpy\", \"json\"],\n",
    ")\n",
    "\n",
    "agent.run(\"what was the CO2 emmissions of Brazil for energy generation in 2023\")"
   ]
  },
  {
   "cell_type": "code",
   "execution_count": 1,
   "id": "ef5d43fd",
   "metadata": {},
   "outputs": [
    {
     "ename": "NameError",
     "evalue": "name 'get_data' is not defined",
     "output_type": "error",
     "traceback": [
      "\u001b[31m---------------------------------------------------------------------------\u001b[39m",
      "\u001b[31mNameError\u001b[39m                                 Traceback (most recent call last)",
      "\u001b[36mCell\u001b[39m\u001b[36m \u001b[39m\u001b[32mIn[1]\u001b[39m\u001b[32m, line 1\u001b[39m\n\u001b[32m----> \u001b[39m\u001b[32m1\u001b[39m \u001b[43mget_data\u001b[49m(\u001b[33m\"\u001b[39m\u001b[33mcountry CO2 emissions\u001b[39m\u001b[33m\"\u001b[39m)\n",
      "\u001b[31mNameError\u001b[39m: name 'get_data' is not defined"
     ]
    }
   ],
   "source": [
    "get_data(\"country CO2 emissions\")"
   ]
  }
 ],
 "metadata": {
  "kernelspec": {
   "display_name": ".venv",
   "language": "python",
   "name": "python3"
  },
  "language_info": {
   "codemirror_mode": {
    "name": "ipython",
    "version": 3
   },
   "file_extension": ".py",
   "mimetype": "text/x-python",
   "name": "python",
   "nbconvert_exporter": "python",
   "pygments_lexer": "ipython3",
   "version": "3.12.3"
  }
 },
 "nbformat": 4,
 "nbformat_minor": 5
}
