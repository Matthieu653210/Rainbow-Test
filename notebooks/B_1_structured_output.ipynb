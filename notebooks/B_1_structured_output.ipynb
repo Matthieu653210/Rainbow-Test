{
 "cells": [
  {
   "cell_type": "markdown",
   "metadata": {},
   "source": [
    "# Structured Output"
   ]
  },
  {
   "cell_type": "code",
   "execution_count": 1,
   "metadata": {},
   "outputs": [
    {
     "data": {
      "text/plain": [
       "True"
      ]
     },
     "execution_count": 1,
     "metadata": {},
     "output_type": "execute_result"
    }
   ],
   "source": [
    "from dotenv import load_dotenv\n",
    "from rich import print\n",
    "\n",
    "load_dotenv(verbose=True)\n",
    "\n"
   ]
  },
  {
   "cell_type": "markdown",
   "metadata": {},
   "source": [
    "### Method 1 : provide instruction in the prompt"
   ]
  },
  {
   "cell_type": "code",
   "execution_count": 2,
   "metadata": {},
   "outputs": [],
   "source": [
    "from langchain.output_parsers import PydanticOutputParser\n",
    "from pydantic import BaseModel, Field"
   ]
  },
  {
   "cell_type": "code",
   "execution_count": 3,
   "metadata": {},
   "outputs": [
    {
     "name": "stderr",
     "output_type": "stream",
     "text": [
      "\u001b[32m2025-04-02 10:47:02.610\u001b[0m | \u001b[1mINFO    \u001b[0m | \u001b[36msrc.utils.config_mngr\u001b[0m:\u001b[36msingleton\u001b[0m:\u001b[36m99\u001b[0m - \u001b[1mselected config=training_edenai\u001b[0m\n",
      "\u001b[32m2025-04-02 10:47:02.617\u001b[0m | \u001b[1mINFO    \u001b[0m | \u001b[36msrc.ai_core.cache\u001b[0m:\u001b[36mset_method\u001b[0m:\u001b[36m89\u001b[0m - \u001b[1mLLM cache : InMemoryCache\u001b[0m\n",
      "\u001b[32m2025-04-02 10:47:02.795\u001b[0m | \u001b[1mINFO    \u001b[0m | \u001b[36msrc.ai_core.llm\u001b[0m:\u001b[36mget_llm\u001b[0m:\u001b[36m497\u001b[0m - \u001b[1mget LLM:'gpt_4omini_edenai'\u001b[0m\n"
     ]
    },
    {
     "data": {
      "text/html": [
       "<pre style=\"white-space:pre;overflow-x:auto;line-height:normal;font-family:Menlo,'DejaVu Sans Mono',consolas,'Courier New',monospace\"><span style=\"color: #800080; text-decoration-color: #800080; font-weight: bold\">Joke</span><span style=\"font-weight: bold\">(</span>\n",
       "    <span style=\"color: #808000; text-decoration-color: #808000\">the_joke</span>=<span style=\"color: #008000; text-decoration-color: #008000\">'Why was the cat sitting on the computer? Because it wanted to keep an eye on the mouse!'</span>,\n",
       "    <span style=\"color: #808000; text-decoration-color: #808000\">explanation</span>=<span style=\"color: #008000; text-decoration-color: #008000\">\"It's funny because it plays on the double meaning of 'mouse'—the computer mouse and the animal </span>\n",
       "<span style=\"color: #008000; text-decoration-color: #008000\">mouse, which cats typically chase.\"</span>,\n",
       "    <span style=\"color: #808000; text-decoration-color: #808000\">rate</span>=<span style=\"color: #008080; text-decoration-color: #008080; font-weight: bold\">4.0</span>\n",
       "<span style=\"font-weight: bold\">)</span>\n",
       "</pre>\n"
      ],
      "text/plain": [
       "\u001b[1;35mJoke\u001b[0m\u001b[1m(\u001b[0m\n",
       "    \u001b[33mthe_joke\u001b[0m=\u001b[32m'Why was the cat sitting on the computer? Because it wanted to keep an eye on the mouse!'\u001b[0m,\n",
       "    \u001b[33mexplanation\u001b[0m=\u001b[32m\"It\u001b[0m\u001b[32m's funny because it plays on the double meaning of 'mouse'—the computer mouse and the animal \u001b[0m\n",
       "\u001b[32mmouse, which cats typically chase.\"\u001b[0m,\n",
       "    \u001b[33mrate\u001b[0m=\u001b[1;36m4\u001b[0m\u001b[1;36m.0\u001b[0m\n",
       "\u001b[1m)\u001b[0m\n"
      ]
     },
     "metadata": {},
     "output_type": "display_data"
    }
   ],
   "source": [
    "\"\"\"\n",
    "The usual \"tell me a joke\" LLM call.\n",
    "\"\"\"\n",
    "\n",
    "from src.ai_core.llm import get_llm\n",
    "from src.ai_core.prompts import def_prompt\n",
    "\n",
    "\n",
    "class Joke(BaseModel):\n",
    "    the_joke: str = Field(description=\"a good joke\")\n",
    "    explanation: str = Field(description=\"explain why it's funny\")\n",
    "    rate: float = Field(description=\"rate how the joke is funny between 0 and 5\")\n",
    "\n",
    "\n",
    "parser = PydanticOutputParser(pydantic_object=Joke)\n",
    "\n",
    "prompt_with_format = \"\"\"\n",
    "    tell me  a joke on {topic}\n",
    "    ---\n",
    "    {format_instructions}\"\"\"\n",
    "\n",
    "structured_prompt = def_prompt(user=prompt_with_format).partial(\n",
    "    format_instructions=parser.get_format_instructions(),\n",
    ")\n",
    "\n",
    "LLM_ID = None\n",
    "structured_joke = structured_prompt | get_llm(llm_id=LLM_ID) | parser\n",
    "\n",
    "r = structured_joke.invoke({\"topic\": \"cat\"})\n",
    "print(r)"
   ]
  },
  {
   "cell_type": "code",
   "execution_count": 4,
   "metadata": {},
   "outputs": [
    {
     "data": {
      "text/html": [
       "<pre style=\"white-space:pre;overflow-x:auto;line-height:normal;font-family:Menlo,'DejaVu Sans Mono',consolas,'Courier New',monospace\"><span style=\"color: #800080; text-decoration-color: #800080; font-weight: bold\">ChatPromptTemplate</span><span style=\"font-weight: bold\">(</span>\n",
       "    <span style=\"color: #808000; text-decoration-color: #808000\">input_variables</span>=<span style=\"font-weight: bold\">[</span><span style=\"color: #008000; text-decoration-color: #008000\">'topic'</span><span style=\"font-weight: bold\">]</span>,\n",
       "    <span style=\"color: #808000; text-decoration-color: #808000\">input_types</span>=<span style=\"font-weight: bold\">{}</span>,\n",
       "    <span style=\"color: #808000; text-decoration-color: #808000\">partial_variables</span>=<span style=\"font-weight: bold\">{</span>\n",
       "        <span style=\"color: #008000; text-decoration-color: #008000\">'format_instructions'</span>: <span style=\"color: #008000; text-decoration-color: #008000\">'The output should be formatted as a JSON instance that conforms to the JSON schema </span>\n",
       "<span style=\"color: #008000; text-decoration-color: #008000\">below.\\n\\nAs an example, for the schema {\"properties\": {\"foo\": {\"title\": \"Foo\", \"description\": \"a list of strings\",</span>\n",
       "<span style=\"color: #008000; text-decoration-color: #008000\">\"type\": \"array\", \"items\": {\"type\": \"string\"}}}, \"required\": [\"foo\"]}\\nthe object {\"foo\": [\"bar\", \"baz\"]} is a </span>\n",
       "<span style=\"color: #008000; text-decoration-color: #008000\">well-formatted instance of the schema. The object {\"properties\": {\"foo\": [\"bar\", \"baz\"]}} is not </span>\n",
       "<span style=\"color: #008000; text-decoration-color: #008000\">well-formatted.\\n\\nHere is the output schema:\\n```\\n{\"properties\": {\"the_joke\": {\"description\": \"a good joke\", </span>\n",
       "<span style=\"color: #008000; text-decoration-color: #008000\">\"title\": \"The Joke\", \"type\": \"string\"}, \"explanation\": {\"description\": \"explain why it\\'s funny\", \"title\": </span>\n",
       "<span style=\"color: #008000; text-decoration-color: #008000\">\"Explanation\", \"type\": \"string\"}, \"rate\": {\"description\": \"rate how the joke is funny between 0 and 5\", \"title\": </span>\n",
       "<span style=\"color: #008000; text-decoration-color: #008000\">\"Rate\", \"type\": \"number\"}}, \"required\": [\"the_joke\", \"explanation\", \"rate\"]}\\n```'</span>\n",
       "    <span style=\"font-weight: bold\">}</span>,\n",
       "    <span style=\"color: #808000; text-decoration-color: #808000\">messages</span>=<span style=\"font-weight: bold\">[</span>\n",
       "        <span style=\"color: #800080; text-decoration-color: #800080; font-weight: bold\">HumanMessagePromptTemplate</span><span style=\"font-weight: bold\">(</span>\n",
       "            <span style=\"color: #808000; text-decoration-color: #808000\">prompt</span>=<span style=\"color: #800080; text-decoration-color: #800080; font-weight: bold\">PromptTemplate</span><span style=\"font-weight: bold\">(</span>\n",
       "                <span style=\"color: #808000; text-decoration-color: #808000\">input_variables</span>=<span style=\"font-weight: bold\">[</span><span style=\"color: #008000; text-decoration-color: #008000\">'format_instructions'</span>, <span style=\"color: #008000; text-decoration-color: #008000\">'topic'</span><span style=\"font-weight: bold\">]</span>,\n",
       "                <span style=\"color: #808000; text-decoration-color: #808000\">input_types</span>=<span style=\"font-weight: bold\">{}</span>,\n",
       "                <span style=\"color: #808000; text-decoration-color: #808000\">partial_variables</span>=<span style=\"font-weight: bold\">{}</span>,\n",
       "                <span style=\"color: #808000; text-decoration-color: #808000\">template</span>=<span style=\"color: #008000; text-decoration-color: #008000\">'tell me  a joke on {topic}\\n---\\n{format_instructions}'</span>\n",
       "            <span style=\"font-weight: bold\">)</span>,\n",
       "            <span style=\"color: #808000; text-decoration-color: #808000\">additional_kwargs</span>=<span style=\"font-weight: bold\">{}</span>\n",
       "        <span style=\"font-weight: bold\">)</span>\n",
       "    <span style=\"font-weight: bold\">]</span>\n",
       "<span style=\"font-weight: bold\">)</span>\n",
       "</pre>\n"
      ],
      "text/plain": [
       "\u001b[1;35mChatPromptTemplate\u001b[0m\u001b[1m(\u001b[0m\n",
       "    \u001b[33minput_variables\u001b[0m=\u001b[1m[\u001b[0m\u001b[32m'topic'\u001b[0m\u001b[1m]\u001b[0m,\n",
       "    \u001b[33minput_types\u001b[0m=\u001b[1m{\u001b[0m\u001b[1m}\u001b[0m,\n",
       "    \u001b[33mpartial_variables\u001b[0m=\u001b[1m{\u001b[0m\n",
       "        \u001b[32m'format_instructions'\u001b[0m: \u001b[32m'The output should be formatted as a JSON instance that conforms to the JSON schema \u001b[0m\n",
       "\u001b[32mbelow.\\n\\nAs an example, for the schema \u001b[0m\u001b[32m{\u001b[0m\u001b[32m\"properties\": \u001b[0m\u001b[32m{\u001b[0m\u001b[32m\"foo\": \u001b[0m\u001b[32m{\u001b[0m\u001b[32m\"title\": \"Foo\", \"description\": \"a list of strings\",\u001b[0m\n",
       "\u001b[32m\"type\": \"array\", \"items\": \u001b[0m\u001b[32m{\u001b[0m\u001b[32m\"type\": \"string\"\u001b[0m\u001b[32m}\u001b[0m\u001b[32m}\u001b[0m\u001b[32m}\u001b[0m\u001b[32m, \"required\": \u001b[0m\u001b[32m[\u001b[0m\u001b[32m\"foo\"\u001b[0m\u001b[32m]\u001b[0m\u001b[32m}\u001b[0m\u001b[32m\\nthe object \u001b[0m\u001b[32m{\u001b[0m\u001b[32m\"foo\": \u001b[0m\u001b[32m[\u001b[0m\u001b[32m\"bar\", \"baz\"\u001b[0m\u001b[32m]\u001b[0m\u001b[32m}\u001b[0m\u001b[32m is a \u001b[0m\n",
       "\u001b[32mwell-formatted instance of the schema. The object \u001b[0m\u001b[32m{\u001b[0m\u001b[32m\"properties\": \u001b[0m\u001b[32m{\u001b[0m\u001b[32m\"foo\": \u001b[0m\u001b[32m[\u001b[0m\u001b[32m\"bar\", \"baz\"\u001b[0m\u001b[32m]\u001b[0m\u001b[32m}\u001b[0m\u001b[32m}\u001b[0m\u001b[32m is not \u001b[0m\n",
       "\u001b[32mwell-formatted.\\n\\nHere is the output schema:\\n```\\n\u001b[0m\u001b[32m{\u001b[0m\u001b[32m\"properties\": \u001b[0m\u001b[32m{\u001b[0m\u001b[32m\"the_joke\": \u001b[0m\u001b[32m{\u001b[0m\u001b[32m\"description\": \"a good joke\", \u001b[0m\n",
       "\u001b[32m\"title\": \"The Joke\", \"type\": \"string\"\u001b[0m\u001b[32m}\u001b[0m\u001b[32m, \"explanation\": \u001b[0m\u001b[32m{\u001b[0m\u001b[32m\"description\": \"explain why it\\'s funny\", \"title\": \u001b[0m\n",
       "\u001b[32m\"Explanation\", \"type\": \"string\"\u001b[0m\u001b[32m}\u001b[0m\u001b[32m, \"rate\": \u001b[0m\u001b[32m{\u001b[0m\u001b[32m\"description\": \"rate how the joke is funny between 0 and 5\", \"title\": \u001b[0m\n",
       "\u001b[32m\"Rate\", \"type\": \"number\"\u001b[0m\u001b[32m}\u001b[0m\u001b[32m}\u001b[0m\u001b[32m, \"required\": \u001b[0m\u001b[32m[\u001b[0m\u001b[32m\"the_joke\", \"explanation\", \"rate\"\u001b[0m\u001b[32m]\u001b[0m\u001b[32m}\u001b[0m\u001b[32m\\n```'\u001b[0m\n",
       "    \u001b[1m}\u001b[0m,\n",
       "    \u001b[33mmessages\u001b[0m=\u001b[1m[\u001b[0m\n",
       "        \u001b[1;35mHumanMessagePromptTemplate\u001b[0m\u001b[1m(\u001b[0m\n",
       "            \u001b[33mprompt\u001b[0m=\u001b[1;35mPromptTemplate\u001b[0m\u001b[1m(\u001b[0m\n",
       "                \u001b[33minput_variables\u001b[0m=\u001b[1m[\u001b[0m\u001b[32m'format_instructions'\u001b[0m, \u001b[32m'topic'\u001b[0m\u001b[1m]\u001b[0m,\n",
       "                \u001b[33minput_types\u001b[0m=\u001b[1m{\u001b[0m\u001b[1m}\u001b[0m,\n",
       "                \u001b[33mpartial_variables\u001b[0m=\u001b[1m{\u001b[0m\u001b[1m}\u001b[0m,\n",
       "                \u001b[33mtemplate\u001b[0m=\u001b[32m'tell me  a joke on \u001b[0m\u001b[32m{\u001b[0m\u001b[32mtopic\u001b[0m\u001b[32m}\u001b[0m\u001b[32m\\n---\\n\u001b[0m\u001b[32m{\u001b[0m\u001b[32mformat_instructions\u001b[0m\u001b[32m}\u001b[0m\u001b[32m'\u001b[0m\n",
       "            \u001b[1m)\u001b[0m,\n",
       "            \u001b[33madditional_kwargs\u001b[0m=\u001b[1m{\u001b[0m\u001b[1m}\u001b[0m\n",
       "        \u001b[1m)\u001b[0m\n",
       "    \u001b[1m]\u001b[0m\n",
       "\u001b[1m)\u001b[0m\n"
      ]
     },
     "metadata": {},
     "output_type": "display_data"
    }
   ],
   "source": [
    "print(structured_prompt)"
   ]
  },
  {
   "cell_type": "code",
   "execution_count": 5,
   "metadata": {},
   "outputs": [
    {
     "data": {
      "text/html": [
       "<pre style=\"white-space:pre;overflow-x:auto;line-height:normal;font-family:Menlo,'DejaVu Sans Mono',consolas,'Courier New',monospace\">tell me  a joke on cat\n",
       "---\n",
       "The output should be formatted as a JSON instance that conforms to the JSON schema below.\n",
       "\n",
       "As an example, for the schema <span style=\"font-weight: bold\">{</span><span style=\"color: #008000; text-decoration-color: #008000\">\"properties\"</span>: <span style=\"font-weight: bold\">{</span><span style=\"color: #008000; text-decoration-color: #008000\">\"foo\"</span>: <span style=\"font-weight: bold\">{</span><span style=\"color: #008000; text-decoration-color: #008000\">\"title\"</span>: <span style=\"color: #008000; text-decoration-color: #008000\">\"Foo\"</span>, <span style=\"color: #008000; text-decoration-color: #008000\">\"description\"</span>: <span style=\"color: #008000; text-decoration-color: #008000\">\"a list of strings\"</span>, <span style=\"color: #008000; text-decoration-color: #008000\">\"type\"</span>: \n",
       "<span style=\"color: #008000; text-decoration-color: #008000\">\"array\"</span>, <span style=\"color: #008000; text-decoration-color: #008000\">\"items\"</span>: <span style=\"font-weight: bold\">{</span><span style=\"color: #008000; text-decoration-color: #008000\">\"type\"</span>: <span style=\"color: #008000; text-decoration-color: #008000\">\"string\"</span><span style=\"font-weight: bold\">}}}</span>, <span style=\"color: #008000; text-decoration-color: #008000\">\"required\"</span>: <span style=\"font-weight: bold\">[</span><span style=\"color: #008000; text-decoration-color: #008000\">\"foo\"</span><span style=\"font-weight: bold\">]}</span>\n",
       "the object <span style=\"font-weight: bold\">{</span><span style=\"color: #008000; text-decoration-color: #008000\">\"foo\"</span>: <span style=\"font-weight: bold\">[</span><span style=\"color: #008000; text-decoration-color: #008000\">\"bar\"</span>, <span style=\"color: #008000; text-decoration-color: #008000\">\"baz\"</span><span style=\"font-weight: bold\">]}</span> is a well-formatted instance of the schema. The object <span style=\"font-weight: bold\">{</span><span style=\"color: #008000; text-decoration-color: #008000\">\"properties\"</span>: <span style=\"font-weight: bold\">{</span><span style=\"color: #008000; text-decoration-color: #008000\">\"foo\"</span>: \n",
       "<span style=\"font-weight: bold\">[</span><span style=\"color: #008000; text-decoration-color: #008000\">\"bar\"</span>, <span style=\"color: #008000; text-decoration-color: #008000\">\"baz\"</span><span style=\"font-weight: bold\">]}}</span> is not well-formatted.\n",
       "\n",
       "Here is the output schema:\n",
       "```\n",
       "<span style=\"font-weight: bold\">{</span><span style=\"color: #008000; text-decoration-color: #008000\">\"properties\"</span>: <span style=\"font-weight: bold\">{</span><span style=\"color: #008000; text-decoration-color: #008000\">\"the_joke\"</span>: <span style=\"font-weight: bold\">{</span><span style=\"color: #008000; text-decoration-color: #008000\">\"description\"</span>: <span style=\"color: #008000; text-decoration-color: #008000\">\"a good joke\"</span>, <span style=\"color: #008000; text-decoration-color: #008000\">\"title\"</span>: <span style=\"color: #008000; text-decoration-color: #008000\">\"The Joke\"</span>, <span style=\"color: #008000; text-decoration-color: #008000\">\"type\"</span>: <span style=\"color: #008000; text-decoration-color: #008000\">\"string\"</span><span style=\"font-weight: bold\">}</span>, <span style=\"color: #008000; text-decoration-color: #008000\">\"explanation\"</span>: \n",
       "<span style=\"font-weight: bold\">{</span><span style=\"color: #008000; text-decoration-color: #008000\">\"description\"</span>: <span style=\"color: #008000; text-decoration-color: #008000\">\"explain why it's funny\"</span>, <span style=\"color: #008000; text-decoration-color: #008000\">\"title\"</span>: <span style=\"color: #008000; text-decoration-color: #008000\">\"Explanation\"</span>, <span style=\"color: #008000; text-decoration-color: #008000\">\"type\"</span>: <span style=\"color: #008000; text-decoration-color: #008000\">\"string\"</span><span style=\"font-weight: bold\">}</span>, <span style=\"color: #008000; text-decoration-color: #008000\">\"rate\"</span>: <span style=\"font-weight: bold\">{</span><span style=\"color: #008000; text-decoration-color: #008000\">\"description\"</span>: <span style=\"color: #008000; text-decoration-color: #008000\">\"rate </span>\n",
       "<span style=\"color: #008000; text-decoration-color: #008000\">how the joke is funny between 0 and 5\"</span>, <span style=\"color: #008000; text-decoration-color: #008000\">\"title\"</span>: <span style=\"color: #008000; text-decoration-color: #008000\">\"Rate\"</span>, <span style=\"color: #008000; text-decoration-color: #008000\">\"type\"</span>: <span style=\"color: #008000; text-decoration-color: #008000\">\"number\"</span><span style=\"font-weight: bold\">}}</span>, <span style=\"color: #008000; text-decoration-color: #008000\">\"required\"</span>: <span style=\"font-weight: bold\">[</span><span style=\"color: #008000; text-decoration-color: #008000\">\"the_joke\"</span>, \n",
       "<span style=\"color: #008000; text-decoration-color: #008000\">\"explanation\"</span>, <span style=\"color: #008000; text-decoration-color: #008000\">\"rate\"</span><span style=\"font-weight: bold\">]}</span>\n",
       "```\n",
       "</pre>\n"
      ],
      "text/plain": [
       "tell me  a joke on cat\n",
       "---\n",
       "The output should be formatted as a JSON instance that conforms to the JSON schema below.\n",
       "\n",
       "As an example, for the schema \u001b[1m{\u001b[0m\u001b[32m\"properties\"\u001b[0m: \u001b[1m{\u001b[0m\u001b[32m\"foo\"\u001b[0m: \u001b[1m{\u001b[0m\u001b[32m\"title\"\u001b[0m: \u001b[32m\"Foo\"\u001b[0m, \u001b[32m\"description\"\u001b[0m: \u001b[32m\"a list of strings\"\u001b[0m, \u001b[32m\"type\"\u001b[0m: \n",
       "\u001b[32m\"array\"\u001b[0m, \u001b[32m\"items\"\u001b[0m: \u001b[1m{\u001b[0m\u001b[32m\"type\"\u001b[0m: \u001b[32m\"string\"\u001b[0m\u001b[1m}\u001b[0m\u001b[1m}\u001b[0m\u001b[1m}\u001b[0m, \u001b[32m\"required\"\u001b[0m: \u001b[1m[\u001b[0m\u001b[32m\"foo\"\u001b[0m\u001b[1m]\u001b[0m\u001b[1m}\u001b[0m\n",
       "the object \u001b[1m{\u001b[0m\u001b[32m\"foo\"\u001b[0m: \u001b[1m[\u001b[0m\u001b[32m\"bar\"\u001b[0m, \u001b[32m\"baz\"\u001b[0m\u001b[1m]\u001b[0m\u001b[1m}\u001b[0m is a well-formatted instance of the schema. The object \u001b[1m{\u001b[0m\u001b[32m\"properties\"\u001b[0m: \u001b[1m{\u001b[0m\u001b[32m\"foo\"\u001b[0m: \n",
       "\u001b[1m[\u001b[0m\u001b[32m\"bar\"\u001b[0m, \u001b[32m\"baz\"\u001b[0m\u001b[1m]\u001b[0m\u001b[1m}\u001b[0m\u001b[1m}\u001b[0m is not well-formatted.\n",
       "\n",
       "Here is the output schema:\n",
       "```\n",
       "\u001b[1m{\u001b[0m\u001b[32m\"properties\"\u001b[0m: \u001b[1m{\u001b[0m\u001b[32m\"the_joke\"\u001b[0m: \u001b[1m{\u001b[0m\u001b[32m\"description\"\u001b[0m: \u001b[32m\"a good joke\"\u001b[0m, \u001b[32m\"title\"\u001b[0m: \u001b[32m\"The Joke\"\u001b[0m, \u001b[32m\"type\"\u001b[0m: \u001b[32m\"string\"\u001b[0m\u001b[1m}\u001b[0m, \u001b[32m\"explanation\"\u001b[0m: \n",
       "\u001b[1m{\u001b[0m\u001b[32m\"description\"\u001b[0m: \u001b[32m\"explain why it's funny\"\u001b[0m, \u001b[32m\"title\"\u001b[0m: \u001b[32m\"Explanation\"\u001b[0m, \u001b[32m\"type\"\u001b[0m: \u001b[32m\"string\"\u001b[0m\u001b[1m}\u001b[0m, \u001b[32m\"rate\"\u001b[0m: \u001b[1m{\u001b[0m\u001b[32m\"description\"\u001b[0m: \u001b[32m\"rate \u001b[0m\n",
       "\u001b[32mhow the joke is funny between 0 and 5\"\u001b[0m, \u001b[32m\"title\"\u001b[0m: \u001b[32m\"Rate\"\u001b[0m, \u001b[32m\"type\"\u001b[0m: \u001b[32m\"number\"\u001b[0m\u001b[1m}\u001b[0m\u001b[1m}\u001b[0m, \u001b[32m\"required\"\u001b[0m: \u001b[1m[\u001b[0m\u001b[32m\"the_joke\"\u001b[0m, \n",
       "\u001b[32m\"explanation\"\u001b[0m, \u001b[32m\"rate\"\u001b[0m\u001b[1m]\u001b[0m\u001b[1m}\u001b[0m\n",
       "```\n"
      ]
     },
     "metadata": {},
     "output_type": "display_data"
    }
   ],
   "source": [
    "# You can have a look at the generated prompt:\n",
    "print(structured_prompt.invoke({\"topic\": \"cat\"}).messages[0].content)"
   ]
  },
  {
   "cell_type": "markdown",
   "metadata": {},
   "source": [
    "### Method #2 : Use \"with_structured_output\"  (bases on function calls)"
   ]
  },
  {
   "cell_type": "code",
   "execution_count": 6,
   "metadata": {},
   "outputs": [
    {
     "name": "stderr",
     "output_type": "stream",
     "text": [
      "\u001b[32m2025-04-02 10:51:44.695\u001b[0m | \u001b[1mINFO    \u001b[0m | \u001b[36msrc.ai_core.llm\u001b[0m:\u001b[36mget_llm\u001b[0m:\u001b[36m497\u001b[0m - \u001b[1mget LLM:'gpt_4omini_edenai'\u001b[0m\n"
     ]
    },
    {
     "data": {
      "text/html": [
       "<pre style=\"white-space:pre;overflow-x:auto;line-height:normal;font-family:Menlo,'DejaVu Sans Mono',consolas,'Courier New',monospace\"><span style=\"color: #800080; text-decoration-color: #800080; font-weight: bold\">Joke</span><span style=\"font-weight: bold\">(</span>\n",
       "    <span style=\"color: #808000; text-decoration-color: #808000\">the_joke</span>=<span style=\"color: #008000; text-decoration-color: #008000\">'Why was the cat sitting on the computer?'</span>,\n",
       "    <span style=\"color: #808000; text-decoration-color: #808000\">explanation</span>=<span style=\"color: #008000; text-decoration-color: #008000\">'Because it wanted to keep an eye on the mouse!'</span>,\n",
       "    <span style=\"color: #808000; text-decoration-color: #808000\">rate</span>=<span style=\"color: #008080; text-decoration-color: #008080; font-weight: bold\">4.0</span>\n",
       "<span style=\"font-weight: bold\">)</span>\n",
       "</pre>\n"
      ],
      "text/plain": [
       "\u001b[1;35mJoke\u001b[0m\u001b[1m(\u001b[0m\n",
       "    \u001b[33mthe_joke\u001b[0m=\u001b[32m'Why was the cat sitting on the computer?'\u001b[0m,\n",
       "    \u001b[33mexplanation\u001b[0m=\u001b[32m'Because it wanted to keep an eye on the mouse!'\u001b[0m,\n",
       "    \u001b[33mrate\u001b[0m=\u001b[1;36m4\u001b[0m\u001b[1;36m.0\u001b[0m\n",
       "\u001b[1m)\u001b[0m\n"
      ]
     },
     "metadata": {},
     "output_type": "display_data"
    }
   ],
   "source": [
    "prompt = \"tell me  a joke on {topic}\"\n",
    "\n",
    "# MODEL = None\n",
    "MODEL = \"gpt_4omini_edenai\"  # better with Azure\n",
    "chain = def_prompt(prompt) | get_llm(llm_id=MODEL).with_structured_output(Joke)\n",
    "print(chain.invoke({\"topic\": \"cat\"}))"
   ]
  },
  {
   "cell_type": "markdown",
   "metadata": {},
   "source": [
    "##  Assignement (Optional)\n",
    "Rate the above joke.\n",
    "Use https://python.langchain.com/v0.1/docs/modules/model_io/output_parsers/types/enum/ \n"
   ]
  },
  {
   "cell_type": "code",
   "execution_count": null,
   "metadata": {},
   "outputs": [],
   "source": [
    "from enum import Enum\n",
    "\n",
    "\n",
    "class JokeRater(Enum):\n",
    "    NOT_SO_GOOD = 0\n",
    "    GOOD = 1\n",
    "    VERY_GOOD = 2"
   ]
  },
  {
   "cell_type": "code",
   "execution_count": null,
   "metadata": {},
   "outputs": [],
   "source": []
  }
 ],
 "metadata": {
  "kernelspec": {
   "display_name": ".venv",
   "language": "python",
   "name": "python3"
  },
  "language_info": {
   "codemirror_mode": {
    "name": "ipython",
    "version": 3
   },
   "file_extension": ".py",
   "mimetype": "text/x-python",
   "name": "python",
   "nbconvert_exporter": "python",
   "pygments_lexer": "ipython3",
   "version": "3.12.3"
  }
 },
 "nbformat": 4,
 "nbformat_minor": 2
}
